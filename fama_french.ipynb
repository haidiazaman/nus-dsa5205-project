{
 "cells": [
  {
   "cell_type": "code",
   "execution_count": 20,
   "metadata": {},
   "outputs": [],
   "source": [
    "import pandas_datareader.data as reader\n",
    "import numpy as np\n",
    "import pandas as pd\n",
    "import seaborn as sns\n",
    "import matplotlib.pyplot as plt\n",
    "import statsmodels.tsa.stattools as ts\n",
    "import statistics\n",
    "import yfinance as yf\n",
    "import datetime as dt"
   ]
  },
  {
   "cell_type": "code",
   "execution_count": 21,
   "metadata": {},
   "outputs": [
    {
     "name": "stderr",
     "output_type": "stream",
     "text": [
      "[*********************100%%**********************]  1 of 1 completed\n"
     ]
    }
   ],
   "source": [
    "# df = pd.read_csv('Data/AAPL.csv')\n",
    "# df = pd.read_csv('Data/DIS.csv')\n",
    "# start_date = dt.date(2023,1,1)\n",
    "# end_date = dt.date(2024,7,1)\n",
    "start_date = \"2023-01-01\"\n",
    "end_date = \"2024-07-01\"\n",
    "df = yf.download('AAPL', interval='1d', start=start_date, end=end_date)['Close']\n",
    "df = pd.DataFrame(df)\n",
    "# df.index =df.index.astype(str)\n",
    "# df = df.set_index('Date')\n",
    "# risk_free_rate = pd.read_csv('data/^TNX.csv')\n",
    "# risk_free_rate = pd.read_csv('data/^TNX.csv')\n",
    "# risk_free_rate = risk_free_rate.set_index('Date')\n",
    "\n",
    "ff_factors = pd.read_csv('data/famafrench_daily_factor.csv')\n",
    "# ff_factors = reader.DataReader('Data/famafrench_monthly_factor.csv', start_date, end_date)\n",
    "# ff_factors = pd.read_csv('Data/famafrench_monthly_factor.csv')\n",
    "ff_factors.drop(['Date_str'], axis=1, inplace=True)\n",
    "ff_factors = ff_factors.set_index('Date')\n",
    "ff_factors.index = pd.to_datetime(ff_factors.index)\n"
   ]
  },
  {
   "cell_type": "code",
   "execution_count": 22,
   "metadata": {},
   "outputs": [],
   "source": [
    "# df = df.join(risk_free_rate['Adj Close'], rsuffix=' Risk Free')"
   ]
  },
  {
   "cell_type": "code",
   "execution_count": 23,
   "metadata": {},
   "outputs": [
    {
     "data": {
      "text/html": [
       "<div>\n",
       "<style scoped>\n",
       "    .dataframe tbody tr th:only-of-type {\n",
       "        vertical-align: middle;\n",
       "    }\n",
       "\n",
       "    .dataframe tbody tr th {\n",
       "        vertical-align: top;\n",
       "    }\n",
       "\n",
       "    .dataframe thead th {\n",
       "        text-align: right;\n",
       "    }\n",
       "</style>\n",
       "<table border=\"1\" class=\"dataframe\">\n",
       "  <thead>\n",
       "    <tr style=\"text-align: right;\">\n",
       "      <th></th>\n",
       "      <th>Close</th>\n",
       "    </tr>\n",
       "    <tr>\n",
       "      <th>Date</th>\n",
       "      <th></th>\n",
       "    </tr>\n",
       "  </thead>\n",
       "  <tbody>\n",
       "    <tr>\n",
       "      <th>2023-01-03</th>\n",
       "      <td>125.070000</td>\n",
       "    </tr>\n",
       "    <tr>\n",
       "      <th>2023-01-04</th>\n",
       "      <td>126.360001</td>\n",
       "    </tr>\n",
       "    <tr>\n",
       "      <th>2023-01-05</th>\n",
       "      <td>125.019997</td>\n",
       "    </tr>\n",
       "    <tr>\n",
       "      <th>2023-01-06</th>\n",
       "      <td>129.619995</td>\n",
       "    </tr>\n",
       "    <tr>\n",
       "      <th>2023-01-09</th>\n",
       "      <td>130.149994</td>\n",
       "    </tr>\n",
       "  </tbody>\n",
       "</table>\n",
       "</div>"
      ],
      "text/plain": [
       "                 Close\n",
       "Date                  \n",
       "2023-01-03  125.070000\n",
       "2023-01-04  126.360001\n",
       "2023-01-05  125.019997\n",
       "2023-01-06  129.619995\n",
       "2023-01-09  130.149994"
      ]
     },
     "execution_count": 23,
     "metadata": {},
     "output_type": "execute_result"
    }
   ],
   "source": [
    "df.head()"
   ]
  },
  {
   "cell_type": "code",
   "execution_count": 24,
   "metadata": {},
   "outputs": [],
   "source": [
    "# YEAR_DAYS = 252\n",
    "# df['Daily_return'] = np.log(df['Adj Close']/df['Adj Close'].shift(1))\n",
    "# df['Daily_return'].fillna(0, inplace=True)\n",
    "# df['Excess_return'] = ((df['Daily_return'].rolling(window=YEAR_DAYS).mean() * YEAR_DAYS).apply(lambda x: np.exp(x)) - 1) - df['Adj Close Risk Free']/100"
   ]
  },
  {
   "cell_type": "code",
   "execution_count": 25,
   "metadata": {},
   "outputs": [],
   "source": [
    "YEAR_DAYS = 250\n",
    "daily_returns = df['Close'].pct_change().dropna()\n",
    "yearly_returns = df['Close'].pct_change(periods=1) # daily\n",
    "# monthly_returns = df['Adj Close'].pct_change(periods=1) # monthly\n",
    "# monthly_returns = monthly_returns.resample('M').agg(lambda x: (x+1).prod() - 1)\n",
    "# df['Excess_return'] = ((daily_returns.diff(window=YEAR_DAYS).mean() + 1) ** YEAR_DAYS - 1) - df['Adj Close Risk Free']/100\n",
    "# df['Excess_return'] = yearly_returns -  df['Adj Close Risk Free']/100"
   ]
  },
  {
   "cell_type": "code",
   "execution_count": 26,
   "metadata": {},
   "outputs": [],
   "source": [
    "\n",
    "# monthly_returns = df['Close'].pct_change(periods=1) # monthly return\n",
    "# monthly_returns = monthly_returns.resample('M').agg(lambda x: (x+1).prod() - 1)\n",
    "# # df['Monthly_return'] = monthly_returns\n",
    "# monthly_returns = monthly_returns[1:]"
   ]
  },
  {
   "cell_type": "code",
   "execution_count": 27,
   "metadata": {},
   "outputs": [],
   "source": [
    "# data = pd.DataFrame().join(ff_factors).dropna()"
   ]
  },
  {
   "cell_type": "code",
   "execution_count": 28,
   "metadata": {},
   "outputs": [],
   "source": [
    "df = df.join(ff_factors)\n",
    "\n",
    "# monthly_returns.index = ff_factors.index"
   ]
  },
  {
   "cell_type": "code",
   "execution_count": 29,
   "metadata": {},
   "outputs": [],
   "source": [
    "df['Excess_return'] = yearly_returns - df['RF']\n",
    "df.dropna(inplace=True)"
   ]
  },
  {
   "cell_type": "code",
   "execution_count": 30,
   "metadata": {},
   "outputs": [
    {
     "data": {
      "text/plain": [
       "0.45138306660591143"
      ]
     },
     "execution_count": 30,
     "metadata": {},
     "output_type": "execute_result"
    }
   ],
   "source": [
    "from sklearn.linear_model import LinearRegression\n",
    "start_date = '2023-01-03'\n",
    "end_date = '2024-01-01'\n",
    "# X = df.loc[start_date:end_date][['Mkt-RF', 'SMB', 'HML']]/100\n",
    "# y = df.loc[start_date:end_date]['Excess_return']\n",
    "X = df[['Mkt-RF', 'SMB', 'HML']].dropna()\n",
    "y = df['Excess_return']\n",
    "ff_three_factors_model = LinearRegression().fit(X, y)\n",
    "ff_three_factors_model.score(X, y)"
   ]
  },
  {
   "cell_type": "code",
   "execution_count": 31,
   "metadata": {},
   "outputs": [],
   "source": [
    "# test_start = '2023-01-04'\n",
    "# test_end = '2024-03-01'\n",
    "# X_test = df.loc[test_start : test_end][['Mkt-RF', 'SMB', 'HML']]/100\n",
    "# y_test = df.loc[test_start : test_end]['Excess_return']\n",
    "# print('R^2 score: {}'.format(ff_three_factors_model.score(X_test, y_test)))"
   ]
  },
  {
   "cell_type": "code",
   "execution_count": 32,
   "metadata": {},
   "outputs": [
    {
     "data": {
      "image/png": "[encoded data removed]",
      "text/plain": [
       "<Figure size 900x300 with 3 Axes>"
      ]
     },
     "metadata": {},
     "output_type": "display_data"
    }
   ],
   "source": [
    "fig, axes = plt.subplots(nrows=1, ncols=3, figsize=(9, 3))\n",
    "for i, feature in enumerate(list(X.columns)):\n",
    "    axes[i].scatter(X[feature], y)\n",
    "fig.tight_layout()"
   ]
  },
  {
   "cell_type": "code",
   "execution_count": 33,
   "metadata": {},
   "outputs": [
    {
     "data": {
      "text/plain": [
       "Index(['Mkt-RF', 'SMB', 'HML'], dtype='object')"
      ]
     },
     "execution_count": 33,
     "metadata": {},
     "output_type": "execute_result"
    }
   ],
   "source": [
    "X.columns"
   ]
  },
  {
   "cell_type": "code",
   "execution_count": 34,
   "metadata": {},
   "outputs": [
    {
     "data": {
      "text/html": [
       "<table class=\"simpletable\">\n",
       "<caption>OLS Regression Results</caption>\n",
       "<tr>\n",
       "  <th>Dep. Variable:</th>      <td>Excess_return</td>  <th>  R-squared:         </th> <td>   0.451</td>\n",
       "</tr>\n",
       "<tr>\n",
       "  <th>Model:</th>                   <td>OLS</td>       <th>  Adj. R-squared:    </th> <td>   0.447</td>\n",
       "</tr>\n",
       "<tr>\n",
       "  <th>Method:</th>             <td>Least Squares</td>  <th>  F-statistic:       </th> <td>   95.99</td>\n",
       "</tr>\n",
       "<tr>\n",
       "  <th>Date:</th>             <td>Sun, 28 Jul 2024</td> <th>  Prob (F-statistic):</th> <td>2.38e-45</td>\n",
       "</tr>\n",
       "<tr>\n",
       "  <th>Time:</th>                 <td>15:28:39</td>     <th>  Log-Likelihood:    </th> <td>  1128.4</td>\n",
       "</tr>\n",
       "<tr>\n",
       "  <th>No. Observations:</th>      <td>   354</td>      <th>  AIC:               </th> <td>  -2249.</td>\n",
       "</tr>\n",
       "<tr>\n",
       "  <th>Df Residuals:</th>          <td>   350</td>      <th>  BIC:               </th> <td>  -2233.</td>\n",
       "</tr>\n",
       "<tr>\n",
       "  <th>Df Model:</th>              <td>     3</td>      <th>                     </th>     <td> </td>   \n",
       "</tr>\n",
       "<tr>\n",
       "  <th>Covariance Type:</th>      <td>nonrobust</td>    <th>                     </th>     <td> </td>   \n",
       "</tr>\n",
       "</table>\n",
       "<table class=\"simpletable\">\n",
       "<tr>\n",
       "     <td></td>       <th>coef</th>     <th>std err</th>      <th>t</th>      <th>P>|t|</th>  <th>[0.025</th>    <th>0.975]</th>  \n",
       "</tr>\n",
       "<tr>\n",
       "  <th>const</th>  <td>   -0.0194</td> <td>    0.001</td> <td>  -36.046</td> <td> 0.000</td> <td>   -0.020</td> <td>   -0.018</td>\n",
       "</tr>\n",
       "<tr>\n",
       "  <th>Mkt-RF</th> <td>    0.0101</td> <td>    0.001</td> <td>   14.495</td> <td> 0.000</td> <td>    0.009</td> <td>    0.011</td>\n",
       "</tr>\n",
       "<tr>\n",
       "  <th>SMB</th>    <td>   -0.0007</td> <td>    0.001</td> <td>   -0.866</td> <td> 0.387</td> <td>   -0.002</td> <td>    0.001</td>\n",
       "</tr>\n",
       "<tr>\n",
       "  <th>HML</th>    <td>   -0.0044</td> <td>    0.001</td> <td>   -5.828</td> <td> 0.000</td> <td>   -0.006</td> <td>   -0.003</td>\n",
       "</tr>\n",
       "</table>\n",
       "<table class=\"simpletable\">\n",
       "<tr>\n",
       "  <th>Omnibus:</th>       <td>34.875</td> <th>  Durbin-Watson:     </th> <td>   1.695</td>\n",
       "</tr>\n",
       "<tr>\n",
       "  <th>Prob(Omnibus):</th> <td> 0.000</td> <th>  Jarque-Bera (JB):  </th> <td> 181.898</td>\n",
       "</tr>\n",
       "<tr>\n",
       "  <th>Skew:</th>          <td>-0.037</td> <th>  Prob(JB):          </th> <td>3.17e-40</td>\n",
       "</tr>\n",
       "<tr>\n",
       "  <th>Kurtosis:</th>      <td> 6.511</td> <th>  Cond. No.          </th> <td>    1.81</td>\n",
       "</tr>\n",
       "</table><br/><br/>Notes:<br/>[1] Standard Errors assume that the covariance matrix of the errors is correctly specified."
      ],
      "text/latex": [
       "\\begin{center}\n",
       "\\begin{tabular}{lclc}\n",
       "\\toprule\n",
       "\\textbf{Dep. Variable:}    &  Excess\\_return  & \\textbf{  R-squared:         } &     0.451   \\\\\n",
       "\\textbf{Model:}            &       OLS        & \\textbf{  Adj. R-squared:    } &     0.447   \\\\\n",
       "\\textbf{Method:}           &  Least Squares   & \\textbf{  F-statistic:       } &     95.99   \\\\\n",
       "\\textbf{Date:}             & Sun, 28 Jul 2024 & \\textbf{  Prob (F-statistic):} &  2.38e-45   \\\\\n",
       "\\textbf{Time:}             &     15:28:39     & \\textbf{  Log-Likelihood:    } &    1128.4   \\\\\n",
       "\\textbf{No. Observations:} &         354      & \\textbf{  AIC:               } &    -2249.   \\\\\n",
       "\\textbf{Df Residuals:}     &         350      & \\textbf{  BIC:               } &    -2233.   \\\\\n",
       "\\textbf{Df Model:}         &           3      & \\textbf{                     } &             \\\\\n",
       "\\textbf{Covariance Type:}  &    nonrobust     & \\textbf{                     } &             \\\\\n",
       "\\bottomrule\n",
       "\\end{tabular}\n",
       "\\begin{tabular}{lcccccc}\n",
       "                & \\textbf{coef} & \\textbf{std err} & \\textbf{t} & \\textbf{P$> |$t$|$} & \\textbf{[0.025} & \\textbf{0.975]}  \\\\\n",
       "\\midrule\n",
       "\\textbf{const}  &      -0.0194  &        0.001     &   -36.046  &         0.000        &       -0.020    &       -0.018     \\\\\n",
       "\\textbf{Mkt-RF} &       0.0101  &        0.001     &    14.495  &         0.000        &        0.009    &        0.011     \\\\\n",
       "\\textbf{SMB}    &      -0.0007  &        0.001     &    -0.866  &         0.387        &       -0.002    &        0.001     \\\\\n",
       "\\textbf{HML}    &      -0.0044  &        0.001     &    -5.828  &         0.000        &       -0.006    &       -0.003     \\\\\n",
       "\\bottomrule\n",
       "\\end{tabular}\n",
       "\\begin{tabular}{lclc}\n",
       "\\textbf{Omnibus:}       & 34.875 & \\textbf{  Durbin-Watson:     } &    1.695  \\\\\n",
       "\\textbf{Prob(Omnibus):} &  0.000 & \\textbf{  Jarque-Bera (JB):  } &  181.898  \\\\\n",
       "\\textbf{Skew:}          & -0.037 & \\textbf{  Prob(JB):          } & 3.17e-40  \\\\\n",
       "\\textbf{Kurtosis:}      &  6.511 & \\textbf{  Cond. No.          } &     1.81  \\\\\n",
       "\\bottomrule\n",
       "\\end{tabular}\n",
       "%\\caption{OLS Regression Results}\n",
       "\\end{center}\n",
       "\n",
       "Notes: \\newline\n",
       " [1] Standard Errors assume that the covariance matrix of the errors is correctly specified."
      ],
      "text/plain": [
       "<class 'statsmodels.iolib.summary.Summary'>\n",
       "\"\"\"\n",
       "                            OLS Regression Results                            \n",
       "==============================================================================\n",
       "Dep. Variable:          Excess_return   R-squared:                       0.451\n",
       "Model:                            OLS   Adj. R-squared:                  0.447\n",
       "Method:                 Least Squares   F-statistic:                     95.99\n",
       "Date:                Sun, 28 Jul 2024   Prob (F-statistic):           2.38e-45\n",
       "Time:                        15:28:39   Log-Likelihood:                 1128.4\n",
       "No. Observations:                 354   AIC:                            -2249.\n",
       "Df Residuals:                     350   BIC:                            -2233.\n",
       "Df Model:                           3                                         \n",
       "Covariance Type:            nonrobust                                         \n",
       "==============================================================================\n",
       "                 coef    std err          t      P>|t|      [0.025      0.975]\n",
       "------------------------------------------------------------------------------\n",
       "const         -0.0194      0.001    -36.046      0.000      -0.020      -0.018\n",
       "Mkt-RF         0.0101      0.001     14.495      0.000       0.009       0.011\n",
       "SMB           -0.0007      0.001     -0.866      0.387      -0.002       0.001\n",
       "HML           -0.0044      0.001     -5.828      0.000      -0.006      -0.003\n",
       "==============================================================================\n",
       "Omnibus:                       34.875   Durbin-Watson:                   1.695\n",
       "Prob(Omnibus):                  0.000   Jarque-Bera (JB):              181.898\n",
       "Skew:                          -0.037   Prob(JB):                     3.17e-40\n",
       "Kurtosis:                       6.511   Cond. No.                         1.81\n",
       "==============================================================================\n",
       "\n",
       "Notes:\n",
       "[1] Standard Errors assume that the covariance matrix of the errors is correctly specified.\n",
       "\"\"\""
      ]
     },
     "execution_count": 34,
     "metadata": {},
     "output_type": "execute_result"
    }
   ],
   "source": [
    "import statsmodels.api as sm\n",
    "X_sm = sm.add_constant(X)\n",
    "model = sm.OLS(y, X_sm)\n",
    "results = model.fit()\n",
    "results.summary()"
   ]
  }
 ],
 "metadata": {
  "kernelspec": {
   "display_name": "Python 3",
   "language": "python",
   "name": "python3"
  },
  "language_info": {
   "codemirror_mode": {
    "name": "ipython",
    "version": 3
   },
   "file_extension": ".py",
   "mimetype": "text/x-python",
   "name": "python",
   "nbconvert_exporter": "python",
   "pygments_lexer": "ipython3",
   "version": "3.11.9"
  }
 },
 "nbformat": 4,
 "nbformat_minor": 2
}
