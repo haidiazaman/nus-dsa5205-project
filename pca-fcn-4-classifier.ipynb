{
 "cells": [
  {
   "cell_type": "markdown",
   "id": "e26e6c0d-5898-4084-a17c-836440b1300e",
   "metadata": {
    "jp-MarkdownHeadingCollapsed": true
   },
   "source": [
    "# generate dataset"
   ]
  },
  {
   "cell_type": "code",
   "execution_count": 2,
   "id": "4748733c-85ea-44cc-ad69-2bb1ba07a50b",
   "metadata": {
    "tags": []
   },
   "outputs": [
    {
     "name": "stderr",
     "output_type": "stream",
     "text": [
      "/Users/I748920/Library/Python/3.9/lib/python/site-packages/urllib3/__init__.py:35: NotOpenSSLWarning: urllib3 v2 only supports OpenSSL 1.1.1+, currently the 'ssl' module is compiled with 'LibreSSL 2.8.3'. See: https://github.com/urllib3/urllib3/issues/3020\n",
      "  warnings.warn(\n"
     ]
    },
    {
     "name": "stdout",
     "output_type": "stream",
     "text": [
      "\n",
      "Results saved to 'top_30_stocks_long_only.csv' and 'top_30_stocks_long_short.csv'\n",
      "\n",
      "Detailed metrics for top stock (Long-Only Strategy) SMCI:\n",
      "Final Close Price: 284.26\n",
      "60-day Return: 250.61%\n",
      "Average Hourly Volatility: 0.6678\n",
      "Average Sharpe Ratio: 1.6242\n",
      "Average Hourly Volume: 355714\n",
      "\n",
      "num common_top_stocks:  35\n"
     ]
    }
   ],
   "source": [
    "from scripts.get_top_stocks import *\n",
    "\n",
    "\n",
    "top_stocks_long, top_stocks_long_short = generate_top_stocks_df()\n",
    "common_top_stocks = get_common_top_stocks(top_stocks_long, top_stocks_long_short)"
   ]
  },
  {
   "cell_type": "code",
   "execution_count": 3,
   "id": "98e9c7c0-2345-4836-a2c5-f02810aa374a",
   "metadata": {
    "tags": []
   },
   "outputs": [],
   "source": [
    "# specify variables for dataset generation\n",
    "\n",
    "start_date = '2023-01-01'\n",
    "end_date = '2024-08-01'\n",
    "interval = \"1h\"\n",
    "trading_days_per_year = 252\n",
    "hours_per_day = 6.5"
   ]
  },
  {
   "cell_type": "code",
   "execution_count": 4,
   "id": "2051d0f7-d486-4dee-96c4-eb9a87619089",
   "metadata": {
    "tags": []
   },
   "outputs": [
    {
     "name": "stderr",
     "output_type": "stream",
     "text": [
      "[*********************100%%**********************]  1 of 1 completed\n",
      "[*********************100%%**********************]  1 of 1 completed\n",
      "[*********************100%%**********************]  1 of 1 completed\n",
      "[*********************100%%**********************]  1 of 1 completed\n",
      "[*********************100%%**********************]  1 of 1 completed\n",
      "[*********************100%%**********************]  1 of 1 completed\n",
      "[*********************100%%**********************]  1 of 1 completed\n",
      "[*********************100%%**********************]  1 of 1 completed\n",
      "[*********************100%%**********************]  1 of 1 completed\n",
      "[*********************100%%**********************]  1 of 1 completed\n",
      "[*********************100%%**********************]  1 of 1 completed\n",
      "[*********************100%%**********************]  1 of 1 completed\n",
      "[*********************100%%**********************]  1 of 1 completed\n",
      "[*********************100%%**********************]  1 of 1 completed\n",
      "[*********************100%%**********************]  1 of 1 completed\n",
      "[*********************100%%**********************]  1 of 1 completed\n",
      "[*********************100%%**********************]  1 of 1 completed\n",
      "[*********************100%%**********************]  1 of 1 completed\n",
      "[*********************100%%**********************]  1 of 1 completed\n",
      "[*********************100%%**********************]  1 of 1 completed\n",
      "[*********************100%%**********************]  1 of 1 completed\n",
      "[*********************100%%**********************]  1 of 1 completed\n",
      "[*********************100%%**********************]  1 of 1 completed\n",
      "[*********************100%%**********************]  1 of 1 completed\n",
      "[*********************100%%**********************]  1 of 1 completed\n",
      "[*********************100%%**********************]  1 of 1 completed\n",
      "[*********************100%%**********************]  1 of 1 completed\n",
      "[*********************100%%**********************]  1 of 1 completed\n",
      "[*********************100%%**********************]  1 of 1 completed\n",
      "[*********************100%%**********************]  1 of 1 completed\n",
      "[*********************100%%**********************]  1 of 1 completed\n",
      "[*********************100%%**********************]  1 of 1 completed\n",
      "[*********************100%%**********************]  1 of 1 completed\n",
      "[*********************100%%**********************]  1 of 1 completed\n",
      "[*********************100%%**********************]  1 of 1 completed\n"
     ]
    }
   ],
   "source": [
    "from scripts.generate_dataset_features import *\n",
    "\n",
    "\n",
    "df = get_all_stock_features_df(\n",
    "    stocks_list=common_top_stocks,\n",
    "    start_date=start_date,\n",
    "    end_date=end_date,\n",
    "    interval=interval,\n",
    "    trading_days_per_year=trading_days_per_year, \n",
    "    hours_per_day=hours_per_day\n",
    ")"
   ]
  },
  {
   "cell_type": "code",
   "execution_count": 5,
   "id": "c3b959a9-57e8-4575-b394-ae08e117efa3",
   "metadata": {},
   "outputs": [
    {
     "data": {
      "text/html": [
       "<div>\n",
       "<style scoped>\n",
       "    .dataframe tbody tr th:only-of-type {\n",
       "        vertical-align: middle;\n",
       "    }\n",
       "\n",
       "    .dataframe tbody tr th {\n",
       "        vertical-align: top;\n",
       "    }\n",
       "\n",
       "    .dataframe thead th {\n",
       "        text-align: right;\n",
       "    }\n",
       "</style>\n",
       "<table border=\"1\" class=\"dataframe\">\n",
       "  <thead>\n",
       "    <tr style=\"text-align: right;\">\n",
       "      <th></th>\n",
       "      <th>Datetime</th>\n",
       "      <th>Open</th>\n",
       "      <th>High</th>\n",
       "      <th>Low</th>\n",
       "      <th>Close</th>\n",
       "      <th>Adj Close</th>\n",
       "      <th>Volume</th>\n",
       "      <th>Log_Return</th>\n",
       "      <th>EMAVolumeDiff2</th>\n",
       "      <th>SMAVolumeDiff2</th>\n",
       "      <th>...</th>\n",
       "      <th>MACD16</th>\n",
       "      <th>MACD32</th>\n",
       "      <th>MACD64</th>\n",
       "      <th>MACD128</th>\n",
       "      <th>MACD256</th>\n",
       "      <th>FamaFrenchMktReturns</th>\n",
       "      <th>Log_Return_shift</th>\n",
       "      <th>stock_name</th>\n",
       "      <th>Stock_Position</th>\n",
       "      <th>Target</th>\n",
       "    </tr>\n",
       "  </thead>\n",
       "  <tbody>\n",
       "    <tr>\n",
       "      <th>0</th>\n",
       "      <td>2023-02-24 13:30:00-05:00</td>\n",
       "      <td>23.172001</td>\n",
       "      <td>23.287991</td>\n",
       "      <td>23.094000</td>\n",
       "      <td>23.245630</td>\n",
       "      <td>23.245630</td>\n",
       "      <td>4964241</td>\n",
       "      <td>0.003172</td>\n",
       "      <td>-0.107443</td>\n",
       "      <td>-0.065472</td>\n",
       "      <td>...</td>\n",
       "      <td>-221.537122</td>\n",
       "      <td>8.672161</td>\n",
       "      <td>0.896885</td>\n",
       "      <td>1.039518</td>\n",
       "      <td>2.040895</td>\n",
       "      <td>-1.09</td>\n",
       "      <td>-0.000780</td>\n",
       "      <td>NVDA</td>\n",
       "      <td>hold</td>\n",
       "      <td>2</td>\n",
       "    </tr>\n",
       "    <tr>\n",
       "      <th>1</th>\n",
       "      <td>2023-02-24 14:30:00-05:00</td>\n",
       "      <td>23.247000</td>\n",
       "      <td>23.433001</td>\n",
       "      <td>23.188000</td>\n",
       "      <td>23.227499</td>\n",
       "      <td>23.227499</td>\n",
       "      <td>6355151</td>\n",
       "      <td>-0.000780</td>\n",
       "      <td>0.043417</td>\n",
       "      <td>0.122879</td>\n",
       "      <td>...</td>\n",
       "      <td>-27.539646</td>\n",
       "      <td>16.607237</td>\n",
       "      <td>1.104278</td>\n",
       "      <td>1.136709</td>\n",
       "      <td>2.133428</td>\n",
       "      <td>-1.09</td>\n",
       "      <td>0.002472</td>\n",
       "      <td>NVDA</td>\n",
       "      <td>buy</td>\n",
       "      <td>3</td>\n",
       "    </tr>\n",
       "    <tr>\n",
       "      <th>2</th>\n",
       "      <td>2023-02-24 15:30:00-05:00</td>\n",
       "      <td>23.228001</td>\n",
       "      <td>23.316000</td>\n",
       "      <td>23.184080</td>\n",
       "      <td>23.285000</td>\n",
       "      <td>23.285000</td>\n",
       "      <td>4473700</td>\n",
       "      <td>0.002472</td>\n",
       "      <td>-0.107527</td>\n",
       "      <td>-0.173744</td>\n",
       "      <td>...</td>\n",
       "      <td>10.874594</td>\n",
       "      <td>6.867217</td>\n",
       "      <td>1.117392</td>\n",
       "      <td>1.137623</td>\n",
       "      <td>2.098521</td>\n",
       "      <td>-1.09</td>\n",
       "      <td>0.011699</td>\n",
       "      <td>NVDA</td>\n",
       "      <td>strong buy</td>\n",
       "      <td>4</td>\n",
       "    </tr>\n",
       "    <tr>\n",
       "      <th>3</th>\n",
       "      <td>2023-02-27 09:30:00-05:00</td>\n",
       "      <td>23.670000</td>\n",
       "      <td>23.879940</td>\n",
       "      <td>23.534500</td>\n",
       "      <td>23.559000</td>\n",
       "      <td>23.559000</td>\n",
       "      <td>15253767</td>\n",
       "      <td>0.011699</td>\n",
       "      <td>0.288316</td>\n",
       "      <td>0.546450</td>\n",
       "      <td>...</td>\n",
       "      <td>1.670052</td>\n",
       "      <td>1.772545</td>\n",
       "      <td>0.764772</td>\n",
       "      <td>0.920301</td>\n",
       "      <td>1.773396</td>\n",
       "      <td>0.31</td>\n",
       "      <td>0.003517</td>\n",
       "      <td>NVDA</td>\n",
       "      <td>buy</td>\n",
       "      <td>3</td>\n",
       "    </tr>\n",
       "    <tr>\n",
       "      <th>4</th>\n",
       "      <td>2023-02-27 10:30:00-05:00</td>\n",
       "      <td>23.561001</td>\n",
       "      <td>23.707001</td>\n",
       "      <td>23.453999</td>\n",
       "      <td>23.642000</td>\n",
       "      <td>23.642000</td>\n",
       "      <td>7302079</td>\n",
       "      <td>0.003517</td>\n",
       "      <td>-0.171606</td>\n",
       "      <td>-0.352533</td>\n",
       "      <td>...</td>\n",
       "      <td>1.922120</td>\n",
       "      <td>1.773940</td>\n",
       "      <td>0.794802</td>\n",
       "      <td>0.918059</td>\n",
       "      <td>1.732984</td>\n",
       "      <td>0.31</td>\n",
       "      <td>-0.003135</td>\n",
       "      <td>NVDA</td>\n",
       "      <td>sell</td>\n",
       "      <td>1</td>\n",
       "    </tr>\n",
       "    <tr>\n",
       "      <th>...</th>\n",
       "      <td>...</td>\n",
       "      <td>...</td>\n",
       "      <td>...</td>\n",
       "      <td>...</td>\n",
       "      <td>...</td>\n",
       "      <td>...</td>\n",
       "      <td>...</td>\n",
       "      <td>...</td>\n",
       "      <td>...</td>\n",
       "      <td>...</td>\n",
       "      <td>...</td>\n",
       "      <td>...</td>\n",
       "      <td>...</td>\n",
       "      <td>...</td>\n",
       "      <td>...</td>\n",
       "      <td>...</td>\n",
       "      <td>...</td>\n",
       "      <td>...</td>\n",
       "      <td>...</td>\n",
       "      <td>...</td>\n",
       "      <td>...</td>\n",
       "    </tr>\n",
       "    <tr>\n",
       "      <th>2491</th>\n",
       "      <td>2024-07-30 10:30:00-04:00</td>\n",
       "      <td>542.359985</td>\n",
       "      <td>542.830017</td>\n",
       "      <td>536.010010</td>\n",
       "      <td>537.309998</td>\n",
       "      <td>537.309998</td>\n",
       "      <td>117746</td>\n",
       "      <td>-0.009097</td>\n",
       "      <td>-0.205348</td>\n",
       "      <td>-0.271500</td>\n",
       "      <td>...</td>\n",
       "      <td>0.427564</td>\n",
       "      <td>1.802676</td>\n",
       "      <td>2.948211</td>\n",
       "      <td>0.158709</td>\n",
       "      <td>-1.407738</td>\n",
       "      <td>0.68</td>\n",
       "      <td>-0.004262</td>\n",
       "      <td>ADBE</td>\n",
       "      <td>strong sell</td>\n",
       "      <td>0</td>\n",
       "    </tr>\n",
       "    <tr>\n",
       "      <th>2492</th>\n",
       "      <td>2024-07-30 11:30:00-04:00</td>\n",
       "      <td>537.315002</td>\n",
       "      <td>537.500000</td>\n",
       "      <td>534.090027</td>\n",
       "      <td>535.025024</td>\n",
       "      <td>535.025024</td>\n",
       "      <td>158915</td>\n",
       "      <td>-0.004262</td>\n",
       "      <td>0.023051</td>\n",
       "      <td>0.148807</td>\n",
       "      <td>...</td>\n",
       "      <td>0.367540</td>\n",
       "      <td>0.774850</td>\n",
       "      <td>1.330110</td>\n",
       "      <td>0.127913</td>\n",
       "      <td>-1.106407</td>\n",
       "      <td>0.68</td>\n",
       "      <td>-0.002953</td>\n",
       "      <td>ADBE</td>\n",
       "      <td>sell</td>\n",
       "      <td>1</td>\n",
       "    </tr>\n",
       "    <tr>\n",
       "      <th>2493</th>\n",
       "      <td>2024-07-30 12:30:00-04:00</td>\n",
       "      <td>535.000000</td>\n",
       "      <td>535.075012</td>\n",
       "      <td>530.950073</td>\n",
       "      <td>533.447510</td>\n",
       "      <td>533.447510</td>\n",
       "      <td>103838</td>\n",
       "      <td>-0.002953</td>\n",
       "      <td>-0.141859</td>\n",
       "      <td>-0.209615</td>\n",
       "      <td>...</td>\n",
       "      <td>0.503084</td>\n",
       "      <td>0.666744</td>\n",
       "      <td>1.036731</td>\n",
       "      <td>0.129455</td>\n",
       "      <td>-0.965861</td>\n",
       "      <td>0.68</td>\n",
       "      <td>0.005016</td>\n",
       "      <td>ADBE</td>\n",
       "      <td>strong buy</td>\n",
       "      <td>4</td>\n",
       "    </tr>\n",
       "    <tr>\n",
       "      <th>2494</th>\n",
       "      <td>2024-07-30 13:30:00-04:00</td>\n",
       "      <td>533.460022</td>\n",
       "      <td>537.239990</td>\n",
       "      <td>533.119995</td>\n",
       "      <td>536.130005</td>\n",
       "      <td>536.130005</td>\n",
       "      <td>108120</td>\n",
       "      <td>0.005016</td>\n",
       "      <td>-0.038202</td>\n",
       "      <td>0.020202</td>\n",
       "      <td>...</td>\n",
       "      <td>-3.047771</td>\n",
       "      <td>4.789196</td>\n",
       "      <td>3.074578</td>\n",
       "      <td>0.265889</td>\n",
       "      <td>-1.299145</td>\n",
       "      <td>0.68</td>\n",
       "      <td>-0.000354</td>\n",
       "      <td>ADBE</td>\n",
       "      <td>hold</td>\n",
       "      <td>2</td>\n",
       "    </tr>\n",
       "    <tr>\n",
       "      <th>2495</th>\n",
       "      <td>2024-07-30 14:30:00-04:00</td>\n",
       "      <td>536.559998</td>\n",
       "      <td>536.809998</td>\n",
       "      <td>534.659973</td>\n",
       "      <td>535.940002</td>\n",
       "      <td>535.940002</td>\n",
       "      <td>124264</td>\n",
       "      <td>-0.000354</td>\n",
       "      <td>0.032829</td>\n",
       "      <td>0.069471</td>\n",
       "      <td>...</td>\n",
       "      <td>-11.276266</td>\n",
       "      <td>4.251215</td>\n",
       "      <td>3.066382</td>\n",
       "      <td>0.299647</td>\n",
       "      <td>-1.290229</td>\n",
       "      <td>0.68</td>\n",
       "      <td>0.005155</td>\n",
       "      <td>ADBE</td>\n",
       "      <td>strong buy</td>\n",
       "      <td>4</td>\n",
       "    </tr>\n",
       "  </tbody>\n",
       "</table>\n",
       "<p>89816 rows × 84 columns</p>\n",
       "</div>"
      ],
      "text/plain": [
       "                       Datetime        Open        High         Low  \\\n",
       "0     2023-02-24 13:30:00-05:00   23.172001   23.287991   23.094000   \n",
       "1     2023-02-24 14:30:00-05:00   23.247000   23.433001   23.188000   \n",
       "2     2023-02-24 15:30:00-05:00   23.228001   23.316000   23.184080   \n",
       "3     2023-02-27 09:30:00-05:00   23.670000   23.879940   23.534500   \n",
       "4     2023-02-27 10:30:00-05:00   23.561001   23.707001   23.453999   \n",
       "...                         ...         ...         ...         ...   \n",
       "2491  2024-07-30 10:30:00-04:00  542.359985  542.830017  536.010010   \n",
       "2492  2024-07-30 11:30:00-04:00  537.315002  537.500000  534.090027   \n",
       "2493  2024-07-30 12:30:00-04:00  535.000000  535.075012  530.950073   \n",
       "2494  2024-07-30 13:30:00-04:00  533.460022  537.239990  533.119995   \n",
       "2495  2024-07-30 14:30:00-04:00  536.559998  536.809998  534.659973   \n",
       "\n",
       "           Close   Adj Close    Volume  Log_Return  EMAVolumeDiff2  \\\n",
       "0      23.245630   23.245630   4964241    0.003172       -0.107443   \n",
       "1      23.227499   23.227499   6355151   -0.000780        0.043417   \n",
       "2      23.285000   23.285000   4473700    0.002472       -0.107527   \n",
       "3      23.559000   23.559000  15253767    0.011699        0.288316   \n",
       "4      23.642000   23.642000   7302079    0.003517       -0.171606   \n",
       "...          ...         ...       ...         ...             ...   \n",
       "2491  537.309998  537.309998    117746   -0.009097       -0.205348   \n",
       "2492  535.025024  535.025024    158915   -0.004262        0.023051   \n",
       "2493  533.447510  533.447510    103838   -0.002953       -0.141859   \n",
       "2494  536.130005  536.130005    108120    0.005016       -0.038202   \n",
       "2495  535.940002  535.940002    124264   -0.000354        0.032829   \n",
       "\n",
       "      SMAVolumeDiff2  ...      MACD16     MACD32    MACD64   MACD128  \\\n",
       "0          -0.065472  ... -221.537122   8.672161  0.896885  1.039518   \n",
       "1           0.122879  ...  -27.539646  16.607237  1.104278  1.136709   \n",
       "2          -0.173744  ...   10.874594   6.867217  1.117392  1.137623   \n",
       "3           0.546450  ...    1.670052   1.772545  0.764772  0.920301   \n",
       "4          -0.352533  ...    1.922120   1.773940  0.794802  0.918059   \n",
       "...              ...  ...         ...        ...       ...       ...   \n",
       "2491       -0.271500  ...    0.427564   1.802676  2.948211  0.158709   \n",
       "2492        0.148807  ...    0.367540   0.774850  1.330110  0.127913   \n",
       "2493       -0.209615  ...    0.503084   0.666744  1.036731  0.129455   \n",
       "2494        0.020202  ...   -3.047771   4.789196  3.074578  0.265889   \n",
       "2495        0.069471  ...  -11.276266   4.251215  3.066382  0.299647   \n",
       "\n",
       "       MACD256  FamaFrenchMktReturns  Log_Return_shift  stock_name  \\\n",
       "0     2.040895                 -1.09         -0.000780        NVDA   \n",
       "1     2.133428                 -1.09          0.002472        NVDA   \n",
       "2     2.098521                 -1.09          0.011699        NVDA   \n",
       "3     1.773396                  0.31          0.003517        NVDA   \n",
       "4     1.732984                  0.31         -0.003135        NVDA   \n",
       "...        ...                   ...               ...         ...   \n",
       "2491 -1.407738                  0.68         -0.004262        ADBE   \n",
       "2492 -1.106407                  0.68         -0.002953        ADBE   \n",
       "2493 -0.965861                  0.68          0.005016        ADBE   \n",
       "2494 -1.299145                  0.68         -0.000354        ADBE   \n",
       "2495 -1.290229                  0.68          0.005155        ADBE   \n",
       "\n",
       "      Stock_Position  Target  \n",
       "0               hold       2  \n",
       "1                buy       3  \n",
       "2         strong buy       4  \n",
       "3                buy       3  \n",
       "4               sell       1  \n",
       "...              ...     ...  \n",
       "2491     strong sell       0  \n",
       "2492            sell       1  \n",
       "2493      strong buy       4  \n",
       "2494            hold       2  \n",
       "2495      strong buy       4  \n",
       "\n",
       "[89816 rows x 84 columns]"
      ]
     },
     "execution_count": 5,
     "metadata": {},
     "output_type": "execute_result"
    }
   ],
   "source": [
    "df"
   ]
  },
  {
   "cell_type": "code",
   "execution_count": 17,
   "id": "cb790925-b282-4e61-81f6-097e886b334f",
   "metadata": {},
   "outputs": [
    {
     "name": "stdout",
     "output_type": "stream",
     "text": [
      "0\n",
      "0\n",
      "0\n",
      "0\n"
     ]
    }
   ],
   "source": [
    "# additional logic to ensure buy remains +ve and sell remainvs -ve\n",
    "\n",
    "print(len(df[(df.Log_Return_shift < 0) & (df.Stock_Position == 'buy')]))\n",
    "print(len(df[(df.Log_Return_shift < 0) & (df.Stock_Position == 'strong buy')]))\n",
    "\n",
    "print(len(df[(df.Log_Return_shift > 0) & (df.Stock_Position == 'sell')]))\n",
    "print(len(df[(df.Log_Return_shift > 0) & (df.Stock_Position == 'strong sell')]))\n",
    "\n",
    "# all good"
   ]
  },
  {
   "cell_type": "markdown",
   "id": "b665686a-86ac-4113-a06a-6a07a8d87963",
   "metadata": {
    "jp-MarkdownHeadingCollapsed": true
   },
   "source": [
    "# preprocess dataset"
   ]
  },
  {
   "cell_type": "markdown",
   "id": "6c03b638-ab88-4a8e-b729-031be8e2a033",
   "metadata": {},
   "source": [
    "- set targets correctly (try 3 targets first)\n",
    "    - plot the distribution pdf of the target values\n",
    "      \n",
    "- split train val test on time\n",
    "    - within each split can shuffle\n",
    "    - split directly on the df\n",
    "\n",
    "- shortlist the target and features\n",
    "** keep the df unchanged so dont need to run above code again"
   ]
  },
  {
   "cell_type": "code",
   "execution_count": 25,
   "id": "0ac8aef4-218b-4cc2-8ba8-9d0a2020f619",
   "metadata": {},
   "outputs": [
    {
     "data": {
      "text/plain": [
       "((71852, 84), (8981, 84), (8983, 84))"
      ]
     },
     "execution_count": 25,
     "metadata": {},
     "output_type": "execute_result"
    }
   ],
   "source": [
    "# sort df according to date\n",
    "df1 = df.sort_values(\"Datetime\").reset_index(drop=True)\n",
    "\n",
    "# train test split on index\n",
    "train_size, val_size, test_size = 0.8, 0.1, 0.1\n",
    "train_size, val_size, test_size = int(len(df1) * train_size), int(len(df1) * val_size), int(len(df1) * test_size)\n",
    "train_df = df1.iloc[:train_size]\n",
    "val_df = df1.iloc[train_size:train_size + val_size]\n",
    "test_df = df1.iloc[train_size + val_size:]\n",
    "\n",
    "train_df.shape,val_df.shape,test_df.shape"
   ]
  },
  {
   "cell_type": "code",
   "execution_count": 27,
   "id": "1371bffa-b6ed-4639-bf4e-4e4c6b0816a4",
   "metadata": {},
   "outputs": [
    {
     "data": {
      "text/html": [
       "<div>\n",
       "<style scoped>\n",
       "    .dataframe tbody tr th:only-of-type {\n",
       "        vertical-align: middle;\n",
       "    }\n",
       "\n",
       "    .dataframe tbody tr th {\n",
       "        vertical-align: top;\n",
       "    }\n",
       "\n",
       "    .dataframe thead th {\n",
       "        text-align: right;\n",
       "    }\n",
       "</style>\n",
       "<table border=\"1\" class=\"dataframe\">\n",
       "  <thead>\n",
       "    <tr style=\"text-align: right;\">\n",
       "      <th></th>\n",
       "      <th>Datetime</th>\n",
       "      <th>Open</th>\n",
       "      <th>High</th>\n",
       "      <th>Low</th>\n",
       "      <th>Close</th>\n",
       "      <th>Adj Close</th>\n",
       "      <th>Volume</th>\n",
       "      <th>Log_Return</th>\n",
       "      <th>EMAVolumeDiff2</th>\n",
       "      <th>SMAVolumeDiff2</th>\n",
       "      <th>...</th>\n",
       "      <th>MACD16</th>\n",
       "      <th>MACD32</th>\n",
       "      <th>MACD64</th>\n",
       "      <th>MACD128</th>\n",
       "      <th>MACD256</th>\n",
       "      <th>FamaFrenchMktReturns</th>\n",
       "      <th>Log_Return_shift</th>\n",
       "      <th>stock_name</th>\n",
       "      <th>Stock_Position</th>\n",
       "      <th>Target</th>\n",
       "    </tr>\n",
       "  </thead>\n",
       "  <tbody>\n",
       "    <tr>\n",
       "      <th>0</th>\n",
       "      <td>2023-02-10 12:00:00+00:00</td>\n",
       "      <td>1619.500000</td>\n",
       "      <td>1625.500000</td>\n",
       "      <td>1615.000000</td>\n",
       "      <td>1625.000000</td>\n",
       "      <td>1625.000000</td>\n",
       "      <td>38967</td>\n",
       "      <td>0.003390</td>\n",
       "      <td>-0.156986</td>\n",
       "      <td>-0.213034</td>\n",
       "      <td>...</td>\n",
       "      <td>29.033343</td>\n",
       "      <td>-0.033365</td>\n",
       "      <td>-1.200842</td>\n",
       "      <td>-4.101547</td>\n",
       "      <td>45.477088</td>\n",
       "      <td>0.11</td>\n",
       "      <td>0.001537</td>\n",
       "      <td>III.L</td>\n",
       "      <td>buy</td>\n",
       "      <td>3</td>\n",
       "    </tr>\n",
       "    <tr>\n",
       "      <th>1</th>\n",
       "      <td>2023-02-10 12:00:00+00:00</td>\n",
       "      <td>106.360001</td>\n",
       "      <td>106.639999</td>\n",
       "      <td>106.199997</td>\n",
       "      <td>106.269997</td>\n",
       "      <td>106.269997</td>\n",
       "      <td>1318353</td>\n",
       "      <td>-0.000658</td>\n",
       "      <td>-0.007519</td>\n",
       "      <td>0.045017</td>\n",
       "      <td>...</td>\n",
       "      <td>1.028772</td>\n",
       "      <td>0.136904</td>\n",
       "      <td>-0.029851</td>\n",
       "      <td>-0.186527</td>\n",
       "      <td>-0.638538</td>\n",
       "      <td>0.11</td>\n",
       "      <td>0.004600</td>\n",
       "      <td>RR.L</td>\n",
       "      <td>strong buy</td>\n",
       "      <td>4</td>\n",
       "    </tr>\n",
       "    <tr>\n",
       "      <th>2</th>\n",
       "      <td>2023-02-10 12:00:00+00:00</td>\n",
       "      <td>153.437500</td>\n",
       "      <td>153.699997</td>\n",
       "      <td>153.000000</td>\n",
       "      <td>153.085007</td>\n",
       "      <td>153.085007</td>\n",
       "      <td>210932</td>\n",
       "      <td>-0.003243</td>\n",
       "      <td>-0.317099</td>\n",
       "      <td>-0.373950</td>\n",
       "      <td>...</td>\n",
       "      <td>1.165333</td>\n",
       "      <td>0.300798</td>\n",
       "      <td>-0.237521</td>\n",
       "      <td>-0.690568</td>\n",
       "      <td>-1.679347</td>\n",
       "      <td>0.11</td>\n",
       "      <td>0.001730</td>\n",
       "      <td>MKS.L</td>\n",
       "      <td>buy</td>\n",
       "      <td>3</td>\n",
       "    </tr>\n",
       "    <tr>\n",
       "      <th>3</th>\n",
       "      <td>2023-02-10 13:00:00+00:00</td>\n",
       "      <td>1625.500000</td>\n",
       "      <td>1631.000000</td>\n",
       "      <td>1617.982788</td>\n",
       "      <td>1627.500000</td>\n",
       "      <td>1627.500000</td>\n",
       "      <td>49544</td>\n",
       "      <td>0.001537</td>\n",
       "      <td>0.022851</td>\n",
       "      <td>0.119499</td>\n",
       "      <td>...</td>\n",
       "      <td>-2.899139</td>\n",
       "      <td>0.099350</td>\n",
       "      <td>-1.730039</td>\n",
       "      <td>-5.791475</td>\n",
       "      <td>21.748935</td>\n",
       "      <td>0.11</td>\n",
       "      <td>-0.001537</td>\n",
       "      <td>III.L</td>\n",
       "      <td>sell</td>\n",
       "      <td>1</td>\n",
       "    </tr>\n",
       "    <tr>\n",
       "      <th>4</th>\n",
       "      <td>2023-02-10 13:00:00+00:00</td>\n",
       "      <td>153.250000</td>\n",
       "      <td>153.899994</td>\n",
       "      <td>153.149994</td>\n",
       "      <td>153.350006</td>\n",
       "      <td>153.350006</td>\n",
       "      <td>206337</td>\n",
       "      <td>0.001730</td>\n",
       "      <td>-0.142110</td>\n",
       "      <td>-0.011012</td>\n",
       "      <td>...</td>\n",
       "      <td>2.664017</td>\n",
       "      <td>0.520411</td>\n",
       "      <td>-0.240000</td>\n",
       "      <td>-0.754125</td>\n",
       "      <td>-1.849107</td>\n",
       "      <td>0.11</td>\n",
       "      <td>0.000326</td>\n",
       "      <td>MKS.L</td>\n",
       "      <td>hold</td>\n",
       "      <td>2</td>\n",
       "    </tr>\n",
       "  </tbody>\n",
       "</table>\n",
       "<p>5 rows × 84 columns</p>\n",
       "</div>"
      ],
      "text/plain": [
       "                    Datetime         Open         High          Low  \\\n",
       "0  2023-02-10 12:00:00+00:00  1619.500000  1625.500000  1615.000000   \n",
       "1  2023-02-10 12:00:00+00:00   106.360001   106.639999   106.199997   \n",
       "2  2023-02-10 12:00:00+00:00   153.437500   153.699997   153.000000   \n",
       "3  2023-02-10 13:00:00+00:00  1625.500000  1631.000000  1617.982788   \n",
       "4  2023-02-10 13:00:00+00:00   153.250000   153.899994   153.149994   \n",
       "\n",
       "         Close    Adj Close   Volume  Log_Return  EMAVolumeDiff2  \\\n",
       "0  1625.000000  1625.000000    38967    0.003390       -0.156986   \n",
       "1   106.269997   106.269997  1318353   -0.000658       -0.007519   \n",
       "2   153.085007   153.085007   210932   -0.003243       -0.317099   \n",
       "3  1627.500000  1627.500000    49544    0.001537        0.022851   \n",
       "4   153.350006   153.350006   206337    0.001730       -0.142110   \n",
       "\n",
       "   SMAVolumeDiff2  ...     MACD16    MACD32    MACD64   MACD128    MACD256  \\\n",
       "0       -0.213034  ...  29.033343 -0.033365 -1.200842 -4.101547  45.477088   \n",
       "1        0.045017  ...   1.028772  0.136904 -0.029851 -0.186527  -0.638538   \n",
       "2       -0.373950  ...   1.165333  0.300798 -0.237521 -0.690568  -1.679347   \n",
       "3        0.119499  ...  -2.899139  0.099350 -1.730039 -5.791475  21.748935   \n",
       "4       -0.011012  ...   2.664017  0.520411 -0.240000 -0.754125  -1.849107   \n",
       "\n",
       "   FamaFrenchMktReturns  Log_Return_shift  stock_name  Stock_Position  Target  \n",
       "0                  0.11          0.001537       III.L             buy       3  \n",
       "1                  0.11          0.004600        RR.L      strong buy       4  \n",
       "2                  0.11          0.001730       MKS.L             buy       3  \n",
       "3                  0.11         -0.001537       III.L            sell       1  \n",
       "4                  0.11          0.000326       MKS.L            hold       2  \n",
       "\n",
       "[5 rows x 84 columns]"
      ]
     },
     "execution_count": 27,
     "metadata": {},
     "output_type": "execute_result"
    }
   ],
   "source": [
    "train_df.head()"
   ]
  },
  {
   "cell_type": "code",
   "execution_count": 36,
   "id": "b972d4aa-48a1-4e2e-b76b-d929b9687021",
   "metadata": {},
   "outputs": [
    {
     "data": {
      "text/plain": [
       "(Index(['Datetime', 'Open', 'High', 'Low', 'Close', 'Adj Close', 'Volume',\n",
       "        'Log_Return', 'EMAVolumeDiff2', 'SMAVolumeDiff2', 'EMACloseDiff2',\n",
       "        'SMACloseDiff2', 'VWAP2', 'VolatilityStdDev2', 'Volatility2',\n",
       "        'Momentum2', 'EMAVolumeDiff4', 'SMAVolumeDiff4', 'EMACloseDiff4',\n",
       "        'SMACloseDiff4', 'VWAP4', 'VolatilityStdDev4', 'Volatility4',\n",
       "        'Momentum4', 'EMAVolumeDiff8', 'SMAVolumeDiff8', 'EMACloseDiff8',\n",
       "        'SMACloseDiff8', 'VWAP8', 'VolatilityStdDev8', 'Volatility8',\n",
       "        'Momentum8', 'EMAVolumeDiff16', 'SMAVolumeDiff16', 'EMACloseDiff16',\n",
       "        'SMACloseDiff16', 'VWAP16', 'VolatilityStdDev16', 'Volatility16',\n",
       "        'Momentum16', 'EMAVolumeDiff32', 'SMAVolumeDiff32', 'EMACloseDiff32',\n",
       "        'SMACloseDiff32', 'VWAP32', 'VolatilityStdDev32', 'Volatility32',\n",
       "        'Momentum32', 'EMAVolumeDiff64', 'SMAVolumeDiff64', 'EMACloseDiff64',\n",
       "        'SMACloseDiff64', 'VWAP64', 'VolatilityStdDev64', 'Volatility64',\n",
       "        'Momentum64', 'EMAVolumeDiff128', 'SMAVolumeDiff128', 'EMACloseDiff128',\n",
       "        'SMACloseDiff128', 'VWAP128', 'VolatilityStdDev128', 'Volatility128',\n",
       "        'Momentum128', 'EMAVolumeDiff256', 'SMAVolumeDiff256',\n",
       "        'EMACloseDiff256', 'SMACloseDiff256', 'VWAP256', 'VolatilityStdDev256',\n",
       "        'Volatility256', 'Momentum256', 'PriceVolatilityHourly', 'MACD8',\n",
       "        'MACD16', 'MACD32', 'MACD64', 'MACD128', 'MACD256',\n",
       "        'FamaFrenchMktReturns', 'Log_Return_shift', 'stock_name',\n",
       "        'Stock_Position', 'Target'],\n",
       "       dtype='object'),\n",
       " Index(['EMAVolumeDiff2', 'SMAVolumeDiff2', 'EMACloseDiff2', 'SMACloseDiff2',\n",
       "        'VWAP2', 'VolatilityStdDev2', 'Volatility2', 'Momentum2',\n",
       "        'EMAVolumeDiff4', 'SMAVolumeDiff4', 'EMACloseDiff4', 'SMACloseDiff4',\n",
       "        'VWAP4', 'VolatilityStdDev4', 'Volatility4', 'Momentum4',\n",
       "        'EMAVolumeDiff8', 'SMAVolumeDiff8', 'EMACloseDiff8', 'SMACloseDiff8',\n",
       "        'VWAP8', 'VolatilityStdDev8', 'Volatility8', 'Momentum8',\n",
       "        'EMAVolumeDiff16', 'SMAVolumeDiff16', 'EMACloseDiff16',\n",
       "        'SMACloseDiff16', 'VWAP16', 'VolatilityStdDev16', 'Volatility16',\n",
       "        'Momentum16', 'EMAVolumeDiff32', 'SMAVolumeDiff32', 'EMACloseDiff32',\n",
       "        'SMACloseDiff32', 'VWAP32', 'VolatilityStdDev32', 'Volatility32',\n",
       "        'Momentum32', 'EMAVolumeDiff64', 'SMAVolumeDiff64', 'EMACloseDiff64',\n",
       "        'SMACloseDiff64', 'VWAP64', 'VolatilityStdDev64', 'Volatility64',\n",
       "        'Momentum64', 'EMAVolumeDiff128', 'SMAVolumeDiff128', 'EMACloseDiff128',\n",
       "        'SMACloseDiff128', 'VWAP128', 'VolatilityStdDev128', 'Volatility128',\n",
       "        'Momentum128', 'EMAVolumeDiff256', 'SMAVolumeDiff256',\n",
       "        'EMACloseDiff256', 'SMACloseDiff256', 'VWAP256', 'VolatilityStdDev256',\n",
       "        'Volatility256', 'Momentum256', 'PriceVolatilityHourly', 'MACD8',\n",
       "        'MACD16', 'MACD32', 'MACD64', 'MACD128', 'MACD256',\n",
       "        'FamaFrenchMktReturns'],\n",
       "       dtype='object'))"
      ]
     },
     "execution_count": 36,
     "metadata": {},
     "output_type": "execute_result"
    }
   ],
   "source": [
    "df.columns, df.columns[8:-4]"
   ]
  },
  {
   "cell_type": "markdown",
   "id": "693732ac-27ed-43df-810e-226084d76e79",
   "metadata": {},
   "source": [
    "# training mtd 1 - using all features"
   ]
  },
  {
   "cell_type": "code",
   "execution_count": 229,
   "id": "241a4ea8-7f56-45f2-abc0-0ab2ebd2390c",
   "metadata": {},
   "outputs": [
    {
     "name": "stdout",
     "output_type": "stream",
     "text": [
      "72\n",
      "(71852, 72) (71852,)\n",
      "(8981, 72) (8981,)\n",
      "(8983, 72) (8983,)\n"
     ]
    }
   ],
   "source": [
    "features = df.columns[8:-4]\n",
    "print(len(features))\n",
    "target = \"Target\"\n",
    "\n",
    "X_train = train_df[features].to_numpy()\n",
    "y_train = train_df[target].to_numpy()\n",
    "print(X_train.shape,y_train.shape)\n",
    "\n",
    "X_val = val_df[features].to_numpy()\n",
    "y_val = val_df[target].to_numpy()\n",
    "print(X_val.shape,y_val.shape)\n",
    "\n",
    "X_test = test_df[features].to_numpy()\n",
    "y_test = test_df[target].to_numpy()\n",
    "print(X_test.shape,y_test.shape)"
   ]
  },
  {
   "cell_type": "code",
   "execution_count": 230,
   "id": "066a11a7-77e0-482c-8a90-f9d1dedb1891",
   "metadata": {},
   "outputs": [
    {
     "data": {
      "text/plain": [
       "((71852, 72), (71852,), (8981, 72), (8981,), (8983, 72), (8983,))"
      ]
     },
     "execution_count": 230,
     "metadata": {},
     "output_type": "execute_result"
    }
   ],
   "source": [
    "from scripts.train_predict import *\n",
    "\n",
    "# standardise the values\n",
    "\n",
    "scaler = StandardScaler()\n",
    "\n",
    "# Fit the scaler on the training data and transform the training data\n",
    "X_train = scaler.fit_transform(X_train)\n",
    "\n",
    "# Transform the validation data\n",
    "X_val = scaler.transform(X_val)\n",
    "\n",
    "# Transform the test data\n",
    "X_test = scaler.transform(X_test)\n",
    "\n",
    "X_train.shape,y_train.shape,X_val.shape,y_val.shape,X_test.shape,y_test.shape"
   ]
  },
  {
   "cell_type": "code",
   "execution_count": 231,
   "id": "4f35ba22-6590-4d1c-bc1d-5f0a7a13af64",
   "metadata": {},
   "outputs": [
    {
     "data": {
      "text/plain": [
       "(array([-5.74043325e-01, -7.23242375e-01,  2.37412256e-01,  3.16314387e-01,\n",
       "         4.94065456e-01,  7.63689480e-01, -4.90083518e-01,  4.71400432e-01,\n",
       "        -4.81693520e-01, -6.28762022e-01, -6.53440852e-02,  1.70299071e-01,\n",
       "         2.97824140e-01,  2.81117253e-01, -3.48128262e-01, -6.88987797e-02,\n",
       "        -6.64477587e-01, -7.50330609e-02, -3.61173015e-01, -4.40398957e-01,\n",
       "        -4.08145463e-01,  1.98268919e+00, -6.22011384e-01, -7.56438042e-01,\n",
       "        -8.50069343e-01, -1.07574996e+00, -4.41404950e-01, -4.90255228e-01,\n",
       "        -7.69872301e-01,  1.26767107e+00, -7.12088594e-01,  1.33034803e-01,\n",
       "        -9.38276476e-01, -7.82503043e-01, -3.82997992e-01, -3.54205066e-01,\n",
       "        -4.86780271e-01,  4.59382302e-01, -9.47831049e-01,  3.38914940e-01,\n",
       "        -1.05549373e+00, -1.16871560e+00, -1.92333497e-01, -3.21307184e-01,\n",
       "        -2.45765201e-01,  3.43324373e-01, -9.12482889e-01,  5.39964666e-01,\n",
       "        -1.11610884e+00, -1.19990939e+00,  1.45102149e-01,  9.48100806e-02,\n",
       "         1.21809844e-01,  2.60737885e+00, -6.12052250e-01,  5.05179836e-01,\n",
       "        -1.10567396e+00, -1.08818584e+00,  6.19803486e-01,  5.06398142e-01,\n",
       "         4.89686772e-01,  3.23009621e+00, -9.26747793e-01,  4.42522907e-01,\n",
       "         9.82369259e-01, -5.07732329e-03,  1.38356500e-01, -8.29452568e-03,\n",
       "        -1.51750068e-03, -2.54590708e-02,  1.36206154e-01,  5.44621440e-02]),\n",
       " 3)"
      ]
     },
     "execution_count": 231,
     "metadata": {},
     "output_type": "execute_result"
    }
   ],
   "source": [
    "X_train[0],y_train[0]"
   ]
  },
  {
   "cell_type": "code",
   "execution_count": 232,
   "id": "ab4ae2e6-02cb-49c8-a129-0da3653768a7",
   "metadata": {},
   "outputs": [],
   "source": [
    "from sklearn.metrics import accuracy_score\n",
    "\n",
    "def train():\n",
    "    # initialise training params\n",
    "    best_score = float('inf')\n",
    "    best_params = None\n",
    "    best_model = None\n",
    "    \n",
    "\n",
    "    # Define the parameter grid\n",
    "    param_grid = {\n",
    "        # 'hidden_layer_sizes': [(8,), (16,), (32,), (64,), (64,8), (64,16,), (32,8), (16,8), (8,16,), (8,64,)], # Different architectures\n",
    "        # 'activation': ['relu', 'tanh'], # Different activation functions\n",
    "        # 'solver': ['adam', 'sgd'], # Different solvers\n",
    "        # 'alpha': [0.0001, 0.001], # Different regularization terms\n",
    "        # 'learning_rate': ['constant', 'adaptive'], # Different learning rates\n",
    "        # 'hidden_layer_sizes': [(8,64), (8,4), (8,2), (4,2),(2),(1),(4)], # Different architectures\n",
    "        'hidden_layer_sizes': [(32)], # Different architectures\n",
    "        # 'hidden_layer_sizes': [(6, 8, 64, 1), (64, 1)], # Different architectures\n",
    "        # 'hidden_layer_sizes': [(8,64), (16,64), (32,64), (32, 128)], # Different architectures\n",
    "        'activation': ['relu'], # Different activation functions\n",
    "        'solver': ['adam'], # Different solvers\n",
    "        'alpha': [0.0005], # Different regularization terms\n",
    "        'learning_rate': ['adaptive'], # Different learning rates\n",
    "    }\n",
    "\n",
    "    for params in alive_it(ParameterGrid(param_grid)):\n",
    "        model = MLPClassifier(max_iter=1000, **params) # initialise new model before each run\n",
    "        model.fit(X_train, y_train)\n",
    "        y_pred = model.predict(X_val)\n",
    "        # score = model.score(y_val, y_pred)\n",
    "        score,y_pred = predict(model,X_val,y_val)\n",
    "        \n",
    "        if score < best_score:\n",
    "            best_score = score\n",
    "            best_params = params\n",
    "            best_model = model\n",
    "            print(f\"score: {round(best_score,7)}\")\n",
    "            # print(f\"score: {round(best_score,7)}, params: {best_params}\")\n",
    "\n",
    "    print(f\"Best parameters found: {best_params}\")\n",
    "    print(f\"Best validation score: {round(best_score,5)}\")\n",
    "\n",
    "    return best_model, best_params, best_score, X_test, y_test\n",
    "\n",
    "def predict(best_model, X_test, y_test):\n",
    "    y_pred = best_model.predict(X_test)\n",
    "    acc = accuracy_score(y_test, y_pred)\n",
    "    \n",
    "    return acc,y_pred\n",
    "\n",
    "def train_predict():\n",
    "    best_model, best_params, best_score, X_test, y_test = train()\n",
    "    acc,y_pred = predict(best_model, X_test, y_test)\n",
    "    \n",
    "    return best_model, best_params, best_score, acc, y_pred"
   ]
  },
  {
   "cell_type": "code",
   "execution_count": 233,
   "id": "7bef166e-c0ab-4b3a-951b-9eff64bac5b0",
   "metadata": {},
   "outputs": [
    {
     "name": "stdout",
     "output_type": "stream",
     "text": [
      "on 0: score: 0.2538693\n",
      "|████████████████████████████████████████| 1/1 [100%] in 51.8s (0.02/s) \n",
      "Best parameters found: {'activation': 'relu', 'alpha': 0.0005, 'hidden_layer_sizes': 32, 'learning_rate': 'adaptive', 'solver': 'adam'}\n",
      "Best validation score: 0.25387\n"
     ]
    }
   ],
   "source": [
    "best_model, best_params, best_score, acc, y_pred = train_predict()"
   ]
  },
  {
   "cell_type": "code",
   "execution_count": 234,
   "id": "f9658a0a-5abb-488b-94bd-43864e420682",
   "metadata": {},
   "outputs": [
    {
     "name": "stdout",
     "output_type": "stream",
     "text": [
      "accuracy: 23.83\n"
     ]
    },
    {
     "data": {
      "image/png": "[encoded data removed]",
      "text/plain": [
       "<Figure size 640x480 with 2 Axes>"
      ]
     },
     "metadata": {},
     "output_type": "display_data"
    }
   ],
   "source": [
    "from sklearn.metrics import confusion_matrix, ConfusionMatrixDisplay\n",
    "\n",
    "print(f\"accuracy: {round(acc*100,2)}\")\n",
    "labels = ['strong sell', 'sell', 'hold', 'buy', 'strong buy']\n",
    "cm = confusion_matrix(y_test, y_pred)\n",
    "disp = ConfusionMatrixDisplay(confusion_matrix=cm,\n",
    "                              display_labels=labels)\n",
    "disp.plot()\n",
    "plt.show()"
   ]
  },
  {
   "cell_type": "markdown",
   "id": "c133d691-de69-4807-8e55-2650c52172b0",
   "metadata": {},
   "source": [
    "# training mtd 2 - using SelectKBest(10)"
   ]
  },
  {
   "cell_type": "code",
   "execution_count": 236,
   "id": "1114285c-2191-4339-98c3-14ba9c296915",
   "metadata": {},
   "outputs": [
    {
     "name": "stdout",
     "output_type": "stream",
     "text": [
      "72\n",
      "(71852, 72) (71852,)\n",
      "(8981, 72) (8981,)\n",
      "(8983, 72) (8983,)\n"
     ]
    }
   ],
   "source": [
    "features = df.columns[8:-4]\n",
    "print(len(features))\n",
    "target = \"Target\"\n",
    "\n",
    "X_train = train_df[features].to_numpy()\n",
    "y_train = train_df[target].to_numpy()\n",
    "print(X_train.shape,y_train.shape)\n",
    "\n",
    "X_val = val_df[features].to_numpy()\n",
    "y_val = val_df[target].to_numpy()\n",
    "print(X_val.shape,y_val.shape)\n",
    "\n",
    "X_test = test_df[features].to_numpy()\n",
    "y_test = test_df[target].to_numpy()\n",
    "print(X_test.shape,y_test.shape)"
   ]
  },
  {
   "cell_type": "code",
   "execution_count": 237,
   "id": "76b7c153-86dd-4d37-8227-e4dfc87f1fd9",
   "metadata": {},
   "outputs": [
    {
     "data": {
      "text/plain": [
       "((71852, 10), (71852,), (8981, 10), (8981,), (8983, 10), (8983,))"
      ]
     },
     "execution_count": 237,
     "metadata": {},
     "output_type": "execute_result"
    }
   ],
   "source": [
    "from scripts.train_predict import *\n",
    "\n",
    "# standardise the values and selectKbest\n",
    "scaler = StandardScaler()\n",
    "selector = SelectKBest(f_regression, k=10)\n",
    "\n",
    "# Fit the scaler on the training data and transform the training data\n",
    "X_train = scaler.fit_transform(X_train)\n",
    "X_train = selector.fit_transform(X_train, y_train)\n",
    "\n",
    "# Transform the validation data\n",
    "X_val = scaler.transform(X_val)\n",
    "X_val = selector.transform(X_val)\n",
    "\n",
    "# Transform the test data\n",
    "X_test = scaler.transform(X_test)\n",
    "X_test = selector.transform(X_test)\n",
    "\n",
    "X_train.shape,y_train.shape,X_val.shape,y_val.shape,X_test.shape,y_test.shape"
   ]
  },
  {
   "cell_type": "code",
   "execution_count": 238,
   "id": "903914ee-c6ea-4ee1-a26f-6e6d25e424d0",
   "metadata": {},
   "outputs": [
    {
     "data": {
      "text/plain": [
       "(array([-0.07503306, -0.85006934, -0.93827648, -0.78250304, -1.05549373,\n",
       "        -1.11610884, -1.19990939, -1.10567396, -1.08818584,  0.05446214]),\n",
       " 3)"
      ]
     },
     "execution_count": 238,
     "metadata": {},
     "output_type": "execute_result"
    }
   ],
   "source": [
    "X_train[0],y_train[0]"
   ]
  },
  {
   "cell_type": "code",
   "execution_count": 239,
   "id": "8fa604bb-fda8-4a05-83cb-608c4c273825",
   "metadata": {},
   "outputs": [],
   "source": [
    "from sklearn.metrics import accuracy_score\n",
    "\n",
    "def train():\n",
    "    # initialise training params\n",
    "    best_score = float('inf')\n",
    "    best_params = None\n",
    "    best_model = None\n",
    "    \n",
    "\n",
    "    # Define the parameter grid\n",
    "    param_grid = {\n",
    "        # 'hidden_layer_sizes': [(8,), (16,), (32,), (64,), (64,8), (64,16,), (32,8), (16,8), (8,16,), (8,64,)], # Different architectures\n",
    "        # 'activation': ['relu', 'tanh'], # Different activation functions\n",
    "        # 'solver': ['adam', 'sgd'], # Different solvers\n",
    "        # 'alpha': [0.0001, 0.001], # Different regularization terms\n",
    "        # 'learning_rate': ['constant', 'adaptive'], # Different learning rates\n",
    "        # 'hidden_layer_sizes': [(8,64), (8,4), (8,2), (4,2),(2),(1),(4)], # Different architectures\n",
    "        'hidden_layer_sizes': [(32)], # Different architectures\n",
    "        # 'hidden_layer_sizes': [(6, 8, 64, 1), (64, 1)], # Different architectures\n",
    "        # 'hidden_layer_sizes': [(8,64), (16,64), (32,64), (32, 128)], # Different architectures\n",
    "        'activation': ['relu'], # Different activation functions\n",
    "        'solver': ['adam'], # Different solvers\n",
    "        'alpha': [0.0005], # Different regularization terms\n",
    "        'learning_rate': ['adaptive'], # Different learning rates\n",
    "    }\n",
    "\n",
    "    for params in alive_it(ParameterGrid(param_grid)):\n",
    "        model = MLPClassifier(max_iter=1000, **params) # initialise new model before each run\n",
    "        model.fit(X_train, y_train)\n",
    "        y_pred = model.predict(X_val)\n",
    "        # score = model.score(y_val, y_pred)\n",
    "        score,y_pred = predict(model,X_val,y_val)\n",
    "        \n",
    "        if score < best_score:\n",
    "            best_score = score\n",
    "            best_params = params\n",
    "            best_model = model\n",
    "            print(f\"score: {round(best_score,7)}\")\n",
    "            # print(f\"score: {round(best_score,7)}, params: {best_params}\")\n",
    "\n",
    "    print(f\"Best parameters found: {best_params}\")\n",
    "    print(f\"Best validation score: {round(best_score,5)}\")\n",
    "\n",
    "    return best_model, best_params, best_score, X_test, y_test\n",
    "\n",
    "def predict(best_model, X_test, y_test):\n",
    "    y_pred = best_model.predict(X_test)\n",
    "    acc = accuracy_score(y_test, y_pred)\n",
    "    \n",
    "    return acc,y_pred\n",
    "\n",
    "def train_predict():\n",
    "    best_model, best_params, best_score, X_test, y_test = train()\n",
    "    acc,y_pred = predict(best_model, X_test, y_test)\n",
    "    \n",
    "    return best_model, best_params, best_score, acc, y_pred"
   ]
  },
  {
   "cell_type": "code",
   "execution_count": 240,
   "id": "e3ca534e-e664-448e-bddc-3a9edd42f8ca",
   "metadata": {},
   "outputs": [
    {
     "name": "stdout",
     "output_type": "stream",
     "text": [
      "on 0: score: 0.2640018\n",
      "|████████████████████████████████████████| 1/1 [100%] in 2.4s (0.42/s) \n",
      "Best parameters found: {'activation': 'relu', 'alpha': 0.0005, 'hidden_layer_sizes': 32, 'learning_rate': 'adaptive', 'solver': 'adam'}\n",
      "Best validation score: 0.264\n"
     ]
    }
   ],
   "source": [
    "best_model, best_params, best_score, acc, y_pred = train_predict()"
   ]
  },
  {
   "cell_type": "code",
   "execution_count": 241,
   "id": "c375bd2c-a59d-4d5a-a4ce-6b6404e64b33",
   "metadata": {},
   "outputs": [
    {
     "name": "stdout",
     "output_type": "stream",
     "text": [
      "accuracy: 23.89\n"
     ]
    },
    {
     "data": {
      "image/png": "[encoded data removed]",
      "text/plain": [
       "<Figure size 640x480 with 2 Axes>"
      ]
     },
     "metadata": {},
     "output_type": "display_data"
    }
   ],
   "source": [
    "from sklearn.metrics import confusion_matrix, ConfusionMatrixDisplay\n",
    "\n",
    "print(f\"accuracy: {round(acc*100,2)}\")\n",
    "labels = ['strong sell', 'sell', 'hold', 'buy', 'strong buy']\n",
    "cm = confusion_matrix(y_test, y_pred)\n",
    "disp = ConfusionMatrixDisplay(confusion_matrix=cm,\n",
    "                              display_labels=labels)\n",
    "disp.plot()\n",
    "plt.show()"
   ]
  },
  {
   "cell_type": "markdown",
   "id": "3d46b45f-c23f-4c02-afc5-a89ae398bbf4",
   "metadata": {},
   "source": [
    "# training mtd 3 - using PCA(0.95)"
   ]
  },
  {
   "cell_type": "code",
   "execution_count": 243,
   "id": "e7bc468a-b706-428c-b46d-2dc051519357",
   "metadata": {},
   "outputs": [
    {
     "name": "stdout",
     "output_type": "stream",
     "text": [
      "72\n",
      "(71852, 72) (71852,)\n",
      "(8981, 72) (8981,)\n",
      "(8983, 72) (8983,)\n"
     ]
    }
   ],
   "source": [
    "features = df.columns[8:-4]\n",
    "print(len(features))\n",
    "target = \"Target\"\n",
    "\n",
    "X_train = train_df[features].to_numpy()\n",
    "y_train = train_df[target].to_numpy()\n",
    "print(X_train.shape,y_train.shape)\n",
    "\n",
    "X_val = val_df[features].to_numpy()\n",
    "y_val = val_df[target].to_numpy()\n",
    "print(X_val.shape,y_val.shape)\n",
    "\n",
    "X_test = test_df[features].to_numpy()\n",
    "y_test = test_df[target].to_numpy()\n",
    "print(X_test.shape,y_test.shape)"
   ]
  },
  {
   "cell_type": "code",
   "execution_count": 244,
   "id": "78c35858-c02c-4dd8-961c-c46ace5e6b1a",
   "metadata": {},
   "outputs": [
    {
     "data": {
      "text/plain": [
       "((71852, 26), (71852,), (8981, 26), (8981,), (8983, 26), (8983,))"
      ]
     },
     "execution_count": 244,
     "metadata": {},
     "output_type": "execute_result"
    }
   ],
   "source": [
    "from scripts.train_predict import *\n",
    "\n",
    "# standardise the values and selectKbest\n",
    "scaler = StandardScaler()\n",
    "pca = PCA(n_components = 0.95)\n",
    "\n",
    "# Fit the scaler on the training data and transform the training data\n",
    "X_train = scaler.fit_transform(X_train)\n",
    "X_train = pca.fit_transform(X_train)\n",
    "\n",
    "# Transform the validation data\n",
    "X_val = scaler.transform(X_val)\n",
    "X_val = pca.transform(X_val)\n",
    "\n",
    "# Transform the test data\n",
    "X_test = scaler.transform(X_test)\n",
    "X_test = pca.transform(X_test)\n",
    "\n",
    "X_train.shape,y_train.shape,X_val.shape,y_val.shape,X_test.shape,y_test.shape"
   ]
  },
  {
   "cell_type": "code",
   "execution_count": 245,
   "id": "2e37f036-a962-40de-9cda-c1dd0426b73e",
   "metadata": {},
   "outputs": [
    {
     "data": {
      "text/plain": [
       "(array([ 0.50103448, -3.35891189,  2.21708243,  0.66362839,  4.19561454,\n",
       "        -1.33811295,  1.12029027,  0.55073111, -0.53759099,  0.2729766 ,\n",
       "        -0.10803044,  0.16458386,  0.0350417 , -0.10898628, -0.12027081,\n",
       "        -0.05076259,  0.5119862 , -0.5065824 , -0.60758812, -0.97351383,\n",
       "        -0.34448012,  0.33122605,  0.53407541, -0.50152965, -0.28701309,\n",
       "        -0.42560391]),\n",
       " 3)"
      ]
     },
     "execution_count": 245,
     "metadata": {},
     "output_type": "execute_result"
    }
   ],
   "source": [
    "X_train[0],y_train[0]"
   ]
  },
  {
   "cell_type": "code",
   "execution_count": 246,
   "id": "986ca20d-1bb2-4f1b-a64f-03c65d69a901",
   "metadata": {},
   "outputs": [],
   "source": [
    "from sklearn.metrics import accuracy_score\n",
    "\n",
    "def train():\n",
    "    # initialise training params\n",
    "    best_score = float('inf')\n",
    "    best_params = None\n",
    "    best_model = None\n",
    "    \n",
    "\n",
    "    # Define the parameter grid\n",
    "    param_grid = {\n",
    "        # 'hidden_layer_sizes': [(8,), (16,), (32,), (64,), (64,8), (64,16,), (32,8), (16,8), (8,16,), (8,64,)], # Different architectures\n",
    "        # 'activation': ['relu', 'tanh'], # Different activation functions\n",
    "        # 'solver': ['adam', 'sgd'], # Different solvers\n",
    "        # 'alpha': [0.0001, 0.001], # Different regularization terms\n",
    "        # 'learning_rate': ['constant', 'adaptive'], # Different learning rates\n",
    "        # 'hidden_layer_sizes': [(8,64), (8,4), (8,2), (4,2),(2),(1),(4)], # Different architectures\n",
    "        'hidden_layer_sizes': [(32)], # Different architectures\n",
    "        # 'hidden_layer_sizes': [(6, 8, 64, 1), (64, 1)], # Different architectures\n",
    "        # 'hidden_layer_sizes': [(8,64), (16,64), (32,64), (32, 128)], # Different architectures\n",
    "        'activation': ['relu'], # Different activation functions\n",
    "        'solver': ['adam'], # Different solvers\n",
    "        'alpha': [0.0005], # Different regularization terms\n",
    "        'learning_rate': ['adaptive'], # Different learning rates\n",
    "    }\n",
    "\n",
    "    for params in alive_it(ParameterGrid(param_grid)):\n",
    "        model = MLPClassifier(max_iter=1000, **params) # initialise new model before each run\n",
    "        model.fit(X_train, y_train)\n",
    "        y_pred = model.predict(X_val)\n",
    "        # score = model.score(y_val, y_pred)\n",
    "        score,y_pred = predict(model,X_val,y_val)\n",
    "        \n",
    "        if score < best_score:\n",
    "            best_score = score\n",
    "            best_params = params\n",
    "            best_model = model\n",
    "            print(f\"score: {round(best_score,7)}\")\n",
    "            # print(f\"score: {round(best_score,7)}, params: {best_params}\")\n",
    "\n",
    "    print(f\"Best parameters found: {best_params}\")\n",
    "    print(f\"Best validation score: {round(best_score,5)}\")\n",
    "\n",
    "    return best_model, best_params, best_score, X_test, y_test\n",
    "\n",
    "def predict(best_model, X_test, y_test):\n",
    "    y_pred = best_model.predict(X_test)\n",
    "    acc = accuracy_score(y_test, y_pred)\n",
    "    \n",
    "    return acc,y_pred\n",
    "\n",
    "def train_predict():\n",
    "    best_model, best_params, best_score, X_test, y_test = train()\n",
    "    acc,y_pred = predict(best_model, X_test, y_test)\n",
    "    \n",
    "    return best_model, best_params, best_score, acc, y_pred"
   ]
  },
  {
   "cell_type": "code",
   "execution_count": 247,
   "id": "66de31bd-6ca8-47ea-96f2-4fbc45efeb60",
   "metadata": {},
   "outputs": [
    {
     "name": "stdout",
     "output_type": "stream",
     "text": [
      "on 0: score: 0.2549827\n",
      "|████████████████████████████████████████| 1/1 [100%] in 7.9s (0.13/s) \n",
      "Best parameters found: {'activation': 'relu', 'alpha': 0.0005, 'hidden_layer_sizes': 32, 'learning_rate': 'adaptive', 'solver': 'adam'}\n",
      "Best validation score: 0.25498\n"
     ]
    }
   ],
   "source": [
    "best_model, best_params, best_score, acc, y_pred = train_predict()"
   ]
  },
  {
   "cell_type": "code",
   "execution_count": 248,
   "id": "340be202-79c4-42ea-9be5-8596b76c8b47",
   "metadata": {},
   "outputs": [
    {
     "name": "stdout",
     "output_type": "stream",
     "text": [
      "accuracy: 23.24\n"
     ]
    },
    {
     "data": {
      "image/png": "[encoded data removed]",
      "text/plain": [
       "<Figure size 640x480 with 2 Axes>"
      ]
     },
     "metadata": {},
     "output_type": "display_data"
    }
   ],
   "source": [
    "from sklearn.metrics import confusion_matrix, ConfusionMatrixDisplay\n",
    "\n",
    "print(f\"accuracy: {round(acc*100,2)}\")\n",
    "labels = ['strong sell', 'sell', 'hold', 'buy', 'strong buy']\n",
    "cm = confusion_matrix(y_test, y_pred)\n",
    "disp = ConfusionMatrixDisplay(confusion_matrix=cm,\n",
    "                              display_labels=labels)\n",
    "disp.plot()\n",
    "plt.show()"
   ]
  },
  {
   "cell_type": "code",
   "execution_count": null,
   "id": "6bc07990-f11a-4ee3-9ef8-80f29116147a",
   "metadata": {},
   "outputs": [],
   "source": []
  }
 ],
 "metadata": {
  "kernelspec": {
   "display_name": "dsa5205-env",
   "language": "python",
   "name": "dsa5205-env"
  },
  "language_info": {
   "codemirror_mode": {
    "name": "ipython",
    "version": 3
   },
   "file_extension": ".py",
   "mimetype": "text/x-python",
   "name": "python",
   "nbconvert_exporter": "python",
   "pygments_lexer": "ipython3",
   "version": "3.9.6"
  }
 },
 "nbformat": 4,
 "nbformat_minor": 5
}
