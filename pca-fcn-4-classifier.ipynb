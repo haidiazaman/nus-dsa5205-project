{
 "cells": [
  {
   "cell_type": "markdown",
   "id": "e26e6c0d-5898-4084-a17c-836440b1300e",
   "metadata": {},
   "source": [
    "# generate dataset"
   ]
  },
  {
   "cell_type": "code",
   "execution_count": 3,
   "id": "4748733c-85ea-44cc-ad69-2bb1ba07a50b",
   "metadata": {
    "tags": []
   },
   "outputs": [
    {
     "name": "stderr",
     "output_type": "stream",
     "text": [
      "/Users/I748920/Library/Python/3.9/lib/python/site-packages/urllib3/__init__.py:35: NotOpenSSLWarning: urllib3 v2 only supports OpenSSL 1.1.1+, currently the 'ssl' module is compiled with 'LibreSSL 2.8.3'. See: https://github.com/urllib3/urllib3/issues/3020\n",
      "  warnings.warn(\n"
     ]
    },
    {
     "name": "stdout",
     "output_type": "stream",
     "text": [
      "\n",
      "Results saved to 'top_30_stocks_long_only.csv' and 'top_30_stocks_long_short.csv'\n",
      "\n",
      "Detailed metrics for top stock (Long-Only Strategy) SMCI:\n",
      "Final Close Price: 284.26\n",
      "60-day Return: 250.61%\n",
      "Average Hourly Volatility: 0.6678\n",
      "Average Sharpe Ratio: 1.6242\n",
      "Average Hourly Volume: 355714\n",
      "\n",
      "num common_top_stocks:  35\n"
     ]
    }
   ],
   "source": [
    "from scripts.get_top_stocks import *\n",
    "\n",
    "\n",
    "top_stocks_long, top_stocks_long_short = generate_top_stocks_df()\n",
    "common_top_stocks = get_common_top_stocks(top_stocks_long, top_stocks_long_short)"
   ]
  },
  {
   "cell_type": "code",
   "execution_count": 4,
   "id": "98e9c7c0-2345-4836-a2c5-f02810aa374a",
   "metadata": {
    "tags": []
   },
   "outputs": [],
   "source": [
    "# specify variables for dataset generation\n",
    "\n",
    "start_date = '2023-01-01'\n",
    "end_date = '2024-08-01'\n",
    "interval = \"1h\"\n",
    "trading_days_per_year = 252\n",
    "hours_per_day = 6.5"
   ]
  },
  {
   "cell_type": "code",
   "execution_count": 5,
   "id": "2051d0f7-d486-4dee-96c4-eb9a87619089",
   "metadata": {
    "tags": []
   },
   "outputs": [
    {
     "name": "stderr",
     "output_type": "stream",
     "text": [
      "[*********************100%%**********************]  1 of 1 completed\n",
      "[*********************100%%**********************]  1 of 1 completed\n",
      "[*********************100%%**********************]  1 of 1 completed\n",
      "[*********************100%%**********************]  1 of 1 completed\n",
      "[*********************100%%**********************]  1 of 1 completed\n",
      "[*********************100%%**********************]  1 of 1 completed\n",
      "[*********************100%%**********************]  1 of 1 completed\n",
      "[*********************100%%**********************]  1 of 1 completed\n",
      "[*********************100%%**********************]  1 of 1 completed\n",
      "[*********************100%%**********************]  1 of 1 completed\n",
      "[*********************100%%**********************]  1 of 1 completed\n",
      "[*********************100%%**********************]  1 of 1 completed\n",
      "[*********************100%%**********************]  1 of 1 completed\n",
      "[*********************100%%**********************]  1 of 1 completed\n",
      "[*********************100%%**********************]  1 of 1 completed\n",
      "[*********************100%%**********************]  1 of 1 completed\n",
      "[*********************100%%**********************]  1 of 1 completed\n",
      "[*********************100%%**********************]  1 of 1 completed\n",
      "[*********************100%%**********************]  1 of 1 completed\n",
      "[*********************100%%**********************]  1 of 1 completed\n",
      "[*********************100%%**********************]  1 of 1 completed\n",
      "[*********************100%%**********************]  1 of 1 completed\n",
      "[*********************100%%**********************]  1 of 1 completed\n",
      "[*********************100%%**********************]  1 of 1 completed\n",
      "[*********************100%%**********************]  1 of 1 completed\n",
      "[*********************100%%**********************]  1 of 1 completed\n",
      "[*********************100%%**********************]  1 of 1 completed\n",
      "[*********************100%%**********************]  1 of 1 completed\n",
      "[*********************100%%**********************]  1 of 1 completed\n",
      "[*********************100%%**********************]  1 of 1 completed\n",
      "[*********************100%%**********************]  1 of 1 completed\n",
      "[*********************100%%**********************]  1 of 1 completed\n",
      "[*********************100%%**********************]  1 of 1 completed\n",
      "[*********************100%%**********************]  1 of 1 completed\n",
      "[*********************100%%**********************]  1 of 1 completed\n"
     ]
    }
   ],
   "source": [
    "from scripts.generate_dataset_features import *\n",
    "\n",
    "\n",
    "df = get_all_stock_features_df(\n",
    "    stocks_list=common_top_stocks,\n",
    "    start_date=start_date,\n",
    "    end_date=end_date,\n",
    "    interval=interval,\n",
    "    trading_days_per_year=trading_days_per_year, \n",
    "    hours_per_day=hours_per_day\n",
    ")"
   ]
  },
  {
   "cell_type": "code",
   "execution_count": 6,
   "id": "c3b959a9-57e8-4575-b394-ae08e117efa3",
   "metadata": {},
   "outputs": [
    {
     "data": {
      "text/html": [
       "<div>\n",
       "<style scoped>\n",
       "    .dataframe tbody tr th:only-of-type {\n",
       "        vertical-align: middle;\n",
       "    }\n",
       "\n",
       "    .dataframe tbody tr th {\n",
       "        vertical-align: top;\n",
       "    }\n",
       "\n",
       "    .dataframe thead th {\n",
       "        text-align: right;\n",
       "    }\n",
       "</style>\n",
       "<table border=\"1\" class=\"dataframe\">\n",
       "  <thead>\n",
       "    <tr style=\"text-align: right;\">\n",
       "      <th></th>\n",
       "      <th>Datetime</th>\n",
       "      <th>Open</th>\n",
       "      <th>High</th>\n",
       "      <th>Low</th>\n",
       "      <th>Close</th>\n",
       "      <th>Adj Close</th>\n",
       "      <th>Volume</th>\n",
       "      <th>Log_Return</th>\n",
       "      <th>EMAVolumeDiff2</th>\n",
       "      <th>SMAVolumeDiff2</th>\n",
       "      <th>...</th>\n",
       "      <th>MACD16</th>\n",
       "      <th>MACD32</th>\n",
       "      <th>MACD64</th>\n",
       "      <th>MACD128</th>\n",
       "      <th>MACD256</th>\n",
       "      <th>FamaFrenchMktReturns</th>\n",
       "      <th>Log_Return_shift</th>\n",
       "      <th>stock_name</th>\n",
       "      <th>Stock_Position</th>\n",
       "      <th>Target</th>\n",
       "    </tr>\n",
       "  </thead>\n",
       "  <tbody>\n",
       "    <tr>\n",
       "      <th>0</th>\n",
       "      <td>2023-02-24 13:30:00-05:00</td>\n",
       "      <td>34.439999</td>\n",
       "      <td>34.537498</td>\n",
       "      <td>34.380001</td>\n",
       "      <td>34.455002</td>\n",
       "      <td>34.455002</td>\n",
       "      <td>430096</td>\n",
       "      <td>0.000363</td>\n",
       "      <td>0.237227</td>\n",
       "      <td>0.377802</td>\n",
       "      <td>...</td>\n",
       "      <td>2.959740</td>\n",
       "      <td>-0.088659</td>\n",
       "      <td>-0.726666</td>\n",
       "      <td>-3.268206</td>\n",
       "      <td>-37.998322</td>\n",
       "      <td>-1.09</td>\n",
       "      <td>0.004199</td>\n",
       "      <td>CPRT</td>\n",
       "      <td>strong buy</td>\n",
       "      <td>4</td>\n",
       "    </tr>\n",
       "    <tr>\n",
       "      <th>1</th>\n",
       "      <td>2023-02-24 14:30:00-05:00</td>\n",
       "      <td>34.450001</td>\n",
       "      <td>34.634998</td>\n",
       "      <td>34.410000</td>\n",
       "      <td>34.599998</td>\n",
       "      <td>34.599998</td>\n",
       "      <td>694483</td>\n",
       "      <td>0.004199</td>\n",
       "      <td>0.199732</td>\n",
       "      <td>0.235099</td>\n",
       "      <td>...</td>\n",
       "      <td>-0.570454</td>\n",
       "      <td>0.152135</td>\n",
       "      <td>21.164271</td>\n",
       "      <td>35.817040</td>\n",
       "      <td>10.515641</td>\n",
       "      <td>-1.09</td>\n",
       "      <td>0.000434</td>\n",
       "      <td>CPRT</td>\n",
       "      <td>hold</td>\n",
       "      <td>2</td>\n",
       "    </tr>\n",
       "    <tr>\n",
       "      <th>2</th>\n",
       "      <td>2023-02-24 15:30:00-05:00</td>\n",
       "      <td>34.610001</td>\n",
       "      <td>34.634998</td>\n",
       "      <td>34.455002</td>\n",
       "      <td>34.615002</td>\n",
       "      <td>34.615002</td>\n",
       "      <td>456536</td>\n",
       "      <td>0.000434</td>\n",
       "      <td>-0.081993</td>\n",
       "      <td>-0.206727</td>\n",
       "      <td>...</td>\n",
       "      <td>-0.579874</td>\n",
       "      <td>0.162966</td>\n",
       "      <td>5.581055</td>\n",
       "      <td>16.741564</td>\n",
       "      <td>9.517186</td>\n",
       "      <td>-1.09</td>\n",
       "      <td>0.009417</td>\n",
       "      <td>CPRT</td>\n",
       "      <td>strong buy</td>\n",
       "      <td>4</td>\n",
       "    </tr>\n",
       "    <tr>\n",
       "      <th>3</th>\n",
       "      <td>2023-02-27 09:30:00-05:00</td>\n",
       "      <td>34.895000</td>\n",
       "      <td>35.020000</td>\n",
       "      <td>34.740002</td>\n",
       "      <td>34.942501</td>\n",
       "      <td>34.942501</td>\n",
       "      <td>181650</td>\n",
       "      <td>0.009417</td>\n",
       "      <td>-0.366788</td>\n",
       "      <td>-0.430730</td>\n",
       "      <td>...</td>\n",
       "      <td>0.050891</td>\n",
       "      <td>0.093693</td>\n",
       "      <td>0.346850</td>\n",
       "      <td>1.293227</td>\n",
       "      <td>2.683604</td>\n",
       "      <td>0.31</td>\n",
       "      <td>-0.006244</td>\n",
       "      <td>CPRT</td>\n",
       "      <td>strong sell</td>\n",
       "      <td>0</td>\n",
       "    </tr>\n",
       "    <tr>\n",
       "      <th>4</th>\n",
       "      <td>2023-02-27 10:30:00-05:00</td>\n",
       "      <td>34.930000</td>\n",
       "      <td>34.930000</td>\n",
       "      <td>34.695000</td>\n",
       "      <td>34.724998</td>\n",
       "      <td>34.724998</td>\n",
       "      <td>108775</td>\n",
       "      <td>-0.006244</td>\n",
       "      <td>-0.353070</td>\n",
       "      <td>-0.250925</td>\n",
       "      <td>...</td>\n",
       "      <td>2.594881</td>\n",
       "      <td>0.522353</td>\n",
       "      <td>1.372016</td>\n",
       "      <td>3.948259</td>\n",
       "      <td>5.474724</td>\n",
       "      <td>0.31</td>\n",
       "      <td>0.003019</td>\n",
       "      <td>CPRT</td>\n",
       "      <td>strong buy</td>\n",
       "      <td>4</td>\n",
       "    </tr>\n",
       "    <tr>\n",
       "      <th>...</th>\n",
       "      <td>...</td>\n",
       "      <td>...</td>\n",
       "      <td>...</td>\n",
       "      <td>...</td>\n",
       "      <td>...</td>\n",
       "      <td>...</td>\n",
       "      <td>...</td>\n",
       "      <td>...</td>\n",
       "      <td>...</td>\n",
       "      <td>...</td>\n",
       "      <td>...</td>\n",
       "      <td>...</td>\n",
       "      <td>...</td>\n",
       "      <td>...</td>\n",
       "      <td>...</td>\n",
       "      <td>...</td>\n",
       "      <td>...</td>\n",
       "      <td>...</td>\n",
       "      <td>...</td>\n",
       "      <td>...</td>\n",
       "      <td>...</td>\n",
       "    </tr>\n",
       "    <tr>\n",
       "      <th>2491</th>\n",
       "      <td>2024-07-30 10:30:00-04:00</td>\n",
       "      <td>122.129997</td>\n",
       "      <td>122.639900</td>\n",
       "      <td>118.863098</td>\n",
       "      <td>120.775002</td>\n",
       "      <td>120.775002</td>\n",
       "      <td>407666</td>\n",
       "      <td>-0.011075</td>\n",
       "      <td>-0.096448</td>\n",
       "      <td>-0.242671</td>\n",
       "      <td>...</td>\n",
       "      <td>-0.224391</td>\n",
       "      <td>-0.256961</td>\n",
       "      <td>0.098352</td>\n",
       "      <td>4.001104</td>\n",
       "      <td>7.139022</td>\n",
       "      <td>0.68</td>\n",
       "      <td>-0.006938</td>\n",
       "      <td>MRNA</td>\n",
       "      <td>strong sell</td>\n",
       "      <td>0</td>\n",
       "    </tr>\n",
       "    <tr>\n",
       "      <th>2492</th>\n",
       "      <td>2024-07-30 11:30:00-04:00</td>\n",
       "      <td>120.775002</td>\n",
       "      <td>121.230003</td>\n",
       "      <td>119.529999</td>\n",
       "      <td>119.940002</td>\n",
       "      <td>119.940002</td>\n",
       "      <td>203445</td>\n",
       "      <td>-0.006938</td>\n",
       "      <td>-0.288713</td>\n",
       "      <td>-0.334180</td>\n",
       "      <td>...</td>\n",
       "      <td>0.033447</td>\n",
       "      <td>-0.065615</td>\n",
       "      <td>0.068682</td>\n",
       "      <td>1.175484</td>\n",
       "      <td>2.242714</td>\n",
       "      <td>0.68</td>\n",
       "      <td>-0.007448</td>\n",
       "      <td>MRNA</td>\n",
       "      <td>strong sell</td>\n",
       "      <td>0</td>\n",
       "    </tr>\n",
       "    <tr>\n",
       "      <th>2493</th>\n",
       "      <td>2024-07-30 12:30:00-04:00</td>\n",
       "      <td>119.940002</td>\n",
       "      <td>120.324997</td>\n",
       "      <td>118.720001</td>\n",
       "      <td>119.050003</td>\n",
       "      <td>119.050003</td>\n",
       "      <td>163283</td>\n",
       "      <td>-0.007448</td>\n",
       "      <td>-0.200364</td>\n",
       "      <td>-0.109514</td>\n",
       "      <td>...</td>\n",
       "      <td>0.220412</td>\n",
       "      <td>0.029109</td>\n",
       "      <td>0.074413</td>\n",
       "      <td>0.688681</td>\n",
       "      <td>1.305677</td>\n",
       "      <td>0.68</td>\n",
       "      <td>0.001343</td>\n",
       "      <td>MRNA</td>\n",
       "      <td>hold</td>\n",
       "      <td>2</td>\n",
       "    </tr>\n",
       "    <tr>\n",
       "      <th>2494</th>\n",
       "      <td>2024-07-30 13:30:00-04:00</td>\n",
       "      <td>119.059998</td>\n",
       "      <td>119.680000</td>\n",
       "      <td>119.029999</td>\n",
       "      <td>119.209999</td>\n",
       "      <td>119.209999</td>\n",
       "      <td>175393</td>\n",
       "      <td>0.001343</td>\n",
       "      <td>-0.051900</td>\n",
       "      <td>0.035757</td>\n",
       "      <td>...</td>\n",
       "      <td>0.652930</td>\n",
       "      <td>0.123472</td>\n",
       "      <td>0.123977</td>\n",
       "      <td>0.807956</td>\n",
       "      <td>1.468536</td>\n",
       "      <td>0.68</td>\n",
       "      <td>-0.003361</td>\n",
       "      <td>MRNA</td>\n",
       "      <td>sell</td>\n",
       "      <td>1</td>\n",
       "    </tr>\n",
       "    <tr>\n",
       "      <th>2495</th>\n",
       "      <td>2024-07-30 14:30:00-04:00</td>\n",
       "      <td>119.199997</td>\n",
       "      <td>119.260002</td>\n",
       "      <td>118.508400</td>\n",
       "      <td>118.809998</td>\n",
       "      <td>118.809998</td>\n",
       "      <td>228746</td>\n",
       "      <td>-0.003361</td>\n",
       "      <td>0.068098</td>\n",
       "      <td>0.132016</td>\n",
       "      <td>...</td>\n",
       "      <td>0.823050</td>\n",
       "      <td>0.198031</td>\n",
       "      <td>0.142077</td>\n",
       "      <td>0.691842</td>\n",
       "      <td>1.235483</td>\n",
       "      <td>0.68</td>\n",
       "      <td>0.000252</td>\n",
       "      <td>MRNA</td>\n",
       "      <td>hold</td>\n",
       "      <td>2</td>\n",
       "    </tr>\n",
       "  </tbody>\n",
       "</table>\n",
       "<p>89816 rows × 84 columns</p>\n",
       "</div>"
      ],
      "text/plain": [
       "                       Datetime        Open        High         Low  \\\n",
       "0     2023-02-24 13:30:00-05:00   34.439999   34.537498   34.380001   \n",
       "1     2023-02-24 14:30:00-05:00   34.450001   34.634998   34.410000   \n",
       "2     2023-02-24 15:30:00-05:00   34.610001   34.634998   34.455002   \n",
       "3     2023-02-27 09:30:00-05:00   34.895000   35.020000   34.740002   \n",
       "4     2023-02-27 10:30:00-05:00   34.930000   34.930000   34.695000   \n",
       "...                         ...         ...         ...         ...   \n",
       "2491  2024-07-30 10:30:00-04:00  122.129997  122.639900  118.863098   \n",
       "2492  2024-07-30 11:30:00-04:00  120.775002  121.230003  119.529999   \n",
       "2493  2024-07-30 12:30:00-04:00  119.940002  120.324997  118.720001   \n",
       "2494  2024-07-30 13:30:00-04:00  119.059998  119.680000  119.029999   \n",
       "2495  2024-07-30 14:30:00-04:00  119.199997  119.260002  118.508400   \n",
       "\n",
       "           Close   Adj Close  Volume  Log_Return  EMAVolumeDiff2  \\\n",
       "0      34.455002   34.455002  430096    0.000363        0.237227   \n",
       "1      34.599998   34.599998  694483    0.004199        0.199732   \n",
       "2      34.615002   34.615002  456536    0.000434       -0.081993   \n",
       "3      34.942501   34.942501  181650    0.009417       -0.366788   \n",
       "4      34.724998   34.724998  108775   -0.006244       -0.353070   \n",
       "...          ...         ...     ...         ...             ...   \n",
       "2491  120.775002  120.775002  407666   -0.011075       -0.096448   \n",
       "2492  119.940002  119.940002  203445   -0.006938       -0.288713   \n",
       "2493  119.050003  119.050003  163283   -0.007448       -0.200364   \n",
       "2494  119.209999  119.209999  175393    0.001343       -0.051900   \n",
       "2495  118.809998  118.809998  228746   -0.003361        0.068098   \n",
       "\n",
       "      SMAVolumeDiff2  ...    MACD16    MACD32     MACD64    MACD128  \\\n",
       "0           0.377802  ...  2.959740 -0.088659  -0.726666  -3.268206   \n",
       "1           0.235099  ... -0.570454  0.152135  21.164271  35.817040   \n",
       "2          -0.206727  ... -0.579874  0.162966   5.581055  16.741564   \n",
       "3          -0.430730  ...  0.050891  0.093693   0.346850   1.293227   \n",
       "4          -0.250925  ...  2.594881  0.522353   1.372016   3.948259   \n",
       "...              ...  ...       ...       ...        ...        ...   \n",
       "2491       -0.242671  ... -0.224391 -0.256961   0.098352   4.001104   \n",
       "2492       -0.334180  ...  0.033447 -0.065615   0.068682   1.175484   \n",
       "2493       -0.109514  ...  0.220412  0.029109   0.074413   0.688681   \n",
       "2494        0.035757  ...  0.652930  0.123472   0.123977   0.807956   \n",
       "2495        0.132016  ...  0.823050  0.198031   0.142077   0.691842   \n",
       "\n",
       "        MACD256  FamaFrenchMktReturns  Log_Return_shift  stock_name  \\\n",
       "0    -37.998322                 -1.09          0.004199        CPRT   \n",
       "1     10.515641                 -1.09          0.000434        CPRT   \n",
       "2      9.517186                 -1.09          0.009417        CPRT   \n",
       "3      2.683604                  0.31         -0.006244        CPRT   \n",
       "4      5.474724                  0.31          0.003019        CPRT   \n",
       "...         ...                   ...               ...         ...   \n",
       "2491   7.139022                  0.68         -0.006938        MRNA   \n",
       "2492   2.242714                  0.68         -0.007448        MRNA   \n",
       "2493   1.305677                  0.68          0.001343        MRNA   \n",
       "2494   1.468536                  0.68         -0.003361        MRNA   \n",
       "2495   1.235483                  0.68          0.000252        MRNA   \n",
       "\n",
       "      Stock_Position  Target  \n",
       "0         strong buy       4  \n",
       "1               hold       2  \n",
       "2         strong buy       4  \n",
       "3        strong sell       0  \n",
       "4         strong buy       4  \n",
       "...              ...     ...  \n",
       "2491     strong sell       0  \n",
       "2492     strong sell       0  \n",
       "2493            hold       2  \n",
       "2494            sell       1  \n",
       "2495            hold       2  \n",
       "\n",
       "[89816 rows x 84 columns]"
      ]
     },
     "execution_count": 6,
     "metadata": {},
     "output_type": "execute_result"
    }
   ],
   "source": [
    "df"
   ]
  },
  {
   "cell_type": "code",
   "execution_count": 7,
   "id": "cb790925-b282-4e61-81f6-097e886b334f",
   "metadata": {},
   "outputs": [
    {
     "name": "stdout",
     "output_type": "stream",
     "text": [
      "0\n",
      "0\n",
      "0\n",
      "0\n"
     ]
    }
   ],
   "source": [
    "# additional logic to ensure buy remains +ve and sell remainvs -ve\n",
    "\n",
    "print(len(df[(df.Log_Return_shift < 0) & (df.Stock_Position == 'buy')]))\n",
    "print(len(df[(df.Log_Return_shift < 0) & (df.Stock_Position == 'strong buy')]))\n",
    "\n",
    "print(len(df[(df.Log_Return_shift > 0) & (df.Stock_Position == 'sell')]))\n",
    "print(len(df[(df.Log_Return_shift > 0) & (df.Stock_Position == 'strong sell')]))\n",
    "\n",
    "# all good"
   ]
  },
  {
   "cell_type": "markdown",
   "id": "b665686a-86ac-4113-a06a-6a07a8d87963",
   "metadata": {},
   "source": [
    "# preprocess dataset"
   ]
  },
  {
   "cell_type": "markdown",
   "id": "6c03b638-ab88-4a8e-b729-031be8e2a033",
   "metadata": {},
   "source": [
    "- set targets correctly (try 3 targets first)\n",
    "    - plot the distribution pdf of the target values\n",
    "      \n",
    "- split train val test on time\n",
    "    - within each split can shuffle\n",
    "    - split directly on the df\n",
    "\n",
    "- shortlist the target and features\n",
    "** keep the df unchanged so dont need to run above code again"
   ]
  },
  {
   "cell_type": "code",
   "execution_count": 10,
   "id": "0ac8aef4-218b-4cc2-8ba8-9d0a2020f619",
   "metadata": {},
   "outputs": [
    {
     "data": {
      "text/plain": [
       "((71852, 84), (8981, 84), (8983, 84))"
      ]
     },
     "execution_count": 10,
     "metadata": {},
     "output_type": "execute_result"
    }
   ],
   "source": [
    "# sort df according to date\n",
    "df1 = df.sort_values(\"Datetime\").reset_index(drop=True)\n",
    "\n",
    "# train test split on index\n",
    "train_size, val_size, test_size = 0.8, 0.1, 0.1\n",
    "train_size, val_size, test_size = int(len(df1) * train_size), int(len(df1) * val_size), int(len(df1) * test_size)\n",
    "train_df = df1.iloc[:train_size]\n",
    "val_df = df1.iloc[train_size:train_size + val_size]\n",
    "test_df = df1.iloc[train_size + val_size:]\n",
    "\n",
    "train_df.shape,val_df.shape,test_df.shape"
   ]
  },
  {
   "cell_type": "code",
   "execution_count": 11,
   "id": "1371bffa-b6ed-4639-bf4e-4e4c6b0816a4",
   "metadata": {},
   "outputs": [
    {
     "data": {
      "text/html": [
       "<div>\n",
       "<style scoped>\n",
       "    .dataframe tbody tr th:only-of-type {\n",
       "        vertical-align: middle;\n",
       "    }\n",
       "\n",
       "    .dataframe tbody tr th {\n",
       "        vertical-align: top;\n",
       "    }\n",
       "\n",
       "    .dataframe thead th {\n",
       "        text-align: right;\n",
       "    }\n",
       "</style>\n",
       "<table border=\"1\" class=\"dataframe\">\n",
       "  <thead>\n",
       "    <tr style=\"text-align: right;\">\n",
       "      <th></th>\n",
       "      <th>Datetime</th>\n",
       "      <th>Open</th>\n",
       "      <th>High</th>\n",
       "      <th>Low</th>\n",
       "      <th>Close</th>\n",
       "      <th>Adj Close</th>\n",
       "      <th>Volume</th>\n",
       "      <th>Log_Return</th>\n",
       "      <th>EMAVolumeDiff2</th>\n",
       "      <th>SMAVolumeDiff2</th>\n",
       "      <th>...</th>\n",
       "      <th>MACD16</th>\n",
       "      <th>MACD32</th>\n",
       "      <th>MACD64</th>\n",
       "      <th>MACD128</th>\n",
       "      <th>MACD256</th>\n",
       "      <th>FamaFrenchMktReturns</th>\n",
       "      <th>Log_Return_shift</th>\n",
       "      <th>stock_name</th>\n",
       "      <th>Stock_Position</th>\n",
       "      <th>Target</th>\n",
       "    </tr>\n",
       "  </thead>\n",
       "  <tbody>\n",
       "    <tr>\n",
       "      <th>0</th>\n",
       "      <td>2023-02-10 12:00:00+00:00</td>\n",
       "      <td>1619.500000</td>\n",
       "      <td>1625.500000</td>\n",
       "      <td>1615.000000</td>\n",
       "      <td>1625.000000</td>\n",
       "      <td>1625.000000</td>\n",
       "      <td>38967</td>\n",
       "      <td>0.003390</td>\n",
       "      <td>-0.156986</td>\n",
       "      <td>-0.213034</td>\n",
       "      <td>...</td>\n",
       "      <td>29.033343</td>\n",
       "      <td>-0.033365</td>\n",
       "      <td>-1.200842</td>\n",
       "      <td>-4.101547</td>\n",
       "      <td>45.477088</td>\n",
       "      <td>0.11</td>\n",
       "      <td>0.001537</td>\n",
       "      <td>III.L</td>\n",
       "      <td>buy</td>\n",
       "      <td>3</td>\n",
       "    </tr>\n",
       "    <tr>\n",
       "      <th>1</th>\n",
       "      <td>2023-02-10 12:00:00+00:00</td>\n",
       "      <td>153.437500</td>\n",
       "      <td>153.699997</td>\n",
       "      <td>153.000000</td>\n",
       "      <td>153.085007</td>\n",
       "      <td>153.085007</td>\n",
       "      <td>210932</td>\n",
       "      <td>-0.003243</td>\n",
       "      <td>-0.317099</td>\n",
       "      <td>-0.373950</td>\n",
       "      <td>...</td>\n",
       "      <td>1.165333</td>\n",
       "      <td>0.300798</td>\n",
       "      <td>-0.237521</td>\n",
       "      <td>-0.690568</td>\n",
       "      <td>-1.679347</td>\n",
       "      <td>0.11</td>\n",
       "      <td>0.001730</td>\n",
       "      <td>MKS.L</td>\n",
       "      <td>buy</td>\n",
       "      <td>3</td>\n",
       "    </tr>\n",
       "    <tr>\n",
       "      <th>2</th>\n",
       "      <td>2023-02-10 12:00:00+00:00</td>\n",
       "      <td>106.360001</td>\n",
       "      <td>106.639999</td>\n",
       "      <td>106.199997</td>\n",
       "      <td>106.269997</td>\n",
       "      <td>106.269997</td>\n",
       "      <td>1318353</td>\n",
       "      <td>-0.000658</td>\n",
       "      <td>-0.007519</td>\n",
       "      <td>0.045017</td>\n",
       "      <td>...</td>\n",
       "      <td>1.028772</td>\n",
       "      <td>0.136904</td>\n",
       "      <td>-0.029851</td>\n",
       "      <td>-0.186527</td>\n",
       "      <td>-0.638538</td>\n",
       "      <td>0.11</td>\n",
       "      <td>0.004600</td>\n",
       "      <td>RR.L</td>\n",
       "      <td>strong buy</td>\n",
       "      <td>4</td>\n",
       "    </tr>\n",
       "    <tr>\n",
       "      <th>3</th>\n",
       "      <td>2023-02-10 13:00:00+00:00</td>\n",
       "      <td>1625.500000</td>\n",
       "      <td>1631.000000</td>\n",
       "      <td>1617.982788</td>\n",
       "      <td>1627.500000</td>\n",
       "      <td>1627.500000</td>\n",
       "      <td>49544</td>\n",
       "      <td>0.001537</td>\n",
       "      <td>0.022851</td>\n",
       "      <td>0.119499</td>\n",
       "      <td>...</td>\n",
       "      <td>-2.899139</td>\n",
       "      <td>0.099350</td>\n",
       "      <td>-1.730039</td>\n",
       "      <td>-5.791475</td>\n",
       "      <td>21.748935</td>\n",
       "      <td>0.11</td>\n",
       "      <td>-0.001537</td>\n",
       "      <td>III.L</td>\n",
       "      <td>sell</td>\n",
       "      <td>1</td>\n",
       "    </tr>\n",
       "    <tr>\n",
       "      <th>4</th>\n",
       "      <td>2023-02-10 13:00:00+00:00</td>\n",
       "      <td>153.250000</td>\n",
       "      <td>153.899994</td>\n",
       "      <td>153.149994</td>\n",
       "      <td>153.350006</td>\n",
       "      <td>153.350006</td>\n",
       "      <td>206337</td>\n",
       "      <td>0.001730</td>\n",
       "      <td>-0.142110</td>\n",
       "      <td>-0.011012</td>\n",
       "      <td>...</td>\n",
       "      <td>2.664017</td>\n",
       "      <td>0.520411</td>\n",
       "      <td>-0.240000</td>\n",
       "      <td>-0.754125</td>\n",
       "      <td>-1.849107</td>\n",
       "      <td>0.11</td>\n",
       "      <td>0.000326</td>\n",
       "      <td>MKS.L</td>\n",
       "      <td>hold</td>\n",
       "      <td>2</td>\n",
       "    </tr>\n",
       "  </tbody>\n",
       "</table>\n",
       "<p>5 rows × 84 columns</p>\n",
       "</div>"
      ],
      "text/plain": [
       "                    Datetime         Open         High          Low  \\\n",
       "0  2023-02-10 12:00:00+00:00  1619.500000  1625.500000  1615.000000   \n",
       "1  2023-02-10 12:00:00+00:00   153.437500   153.699997   153.000000   \n",
       "2  2023-02-10 12:00:00+00:00   106.360001   106.639999   106.199997   \n",
       "3  2023-02-10 13:00:00+00:00  1625.500000  1631.000000  1617.982788   \n",
       "4  2023-02-10 13:00:00+00:00   153.250000   153.899994   153.149994   \n",
       "\n",
       "         Close    Adj Close   Volume  Log_Return  EMAVolumeDiff2  \\\n",
       "0  1625.000000  1625.000000    38967    0.003390       -0.156986   \n",
       "1   153.085007   153.085007   210932   -0.003243       -0.317099   \n",
       "2   106.269997   106.269997  1318353   -0.000658       -0.007519   \n",
       "3  1627.500000  1627.500000    49544    0.001537        0.022851   \n",
       "4   153.350006   153.350006   206337    0.001730       -0.142110   \n",
       "\n",
       "   SMAVolumeDiff2  ...     MACD16    MACD32    MACD64   MACD128    MACD256  \\\n",
       "0       -0.213034  ...  29.033343 -0.033365 -1.200842 -4.101547  45.477088   \n",
       "1       -0.373950  ...   1.165333  0.300798 -0.237521 -0.690568  -1.679347   \n",
       "2        0.045017  ...   1.028772  0.136904 -0.029851 -0.186527  -0.638538   \n",
       "3        0.119499  ...  -2.899139  0.099350 -1.730039 -5.791475  21.748935   \n",
       "4       -0.011012  ...   2.664017  0.520411 -0.240000 -0.754125  -1.849107   \n",
       "\n",
       "   FamaFrenchMktReturns  Log_Return_shift  stock_name  Stock_Position  Target  \n",
       "0                  0.11          0.001537       III.L             buy       3  \n",
       "1                  0.11          0.001730       MKS.L             buy       3  \n",
       "2                  0.11          0.004600        RR.L      strong buy       4  \n",
       "3                  0.11         -0.001537       III.L            sell       1  \n",
       "4                  0.11          0.000326       MKS.L            hold       2  \n",
       "\n",
       "[5 rows x 84 columns]"
      ]
     },
     "execution_count": 11,
     "metadata": {},
     "output_type": "execute_result"
    }
   ],
   "source": [
    "train_df.head()"
   ]
  },
  {
   "cell_type": "code",
   "execution_count": 12,
   "id": "b972d4aa-48a1-4e2e-b76b-d929b9687021",
   "metadata": {},
   "outputs": [
    {
     "data": {
      "text/plain": [
       "(Index(['Datetime', 'Open', 'High', 'Low', 'Close', 'Adj Close', 'Volume',\n",
       "        'Log_Return', 'EMAVolumeDiff2', 'SMAVolumeDiff2', 'EMACloseDiff2',\n",
       "        'SMACloseDiff2', 'VWAP2', 'VolatilityStdDev2', 'Volatility2',\n",
       "        'Momentum2', 'EMAVolumeDiff4', 'SMAVolumeDiff4', 'EMACloseDiff4',\n",
       "        'SMACloseDiff4', 'VWAP4', 'VolatilityStdDev4', 'Volatility4',\n",
       "        'Momentum4', 'EMAVolumeDiff8', 'SMAVolumeDiff8', 'EMACloseDiff8',\n",
       "        'SMACloseDiff8', 'VWAP8', 'VolatilityStdDev8', 'Volatility8',\n",
       "        'Momentum8', 'EMAVolumeDiff16', 'SMAVolumeDiff16', 'EMACloseDiff16',\n",
       "        'SMACloseDiff16', 'VWAP16', 'VolatilityStdDev16', 'Volatility16',\n",
       "        'Momentum16', 'EMAVolumeDiff32', 'SMAVolumeDiff32', 'EMACloseDiff32',\n",
       "        'SMACloseDiff32', 'VWAP32', 'VolatilityStdDev32', 'Volatility32',\n",
       "        'Momentum32', 'EMAVolumeDiff64', 'SMAVolumeDiff64', 'EMACloseDiff64',\n",
       "        'SMACloseDiff64', 'VWAP64', 'VolatilityStdDev64', 'Volatility64',\n",
       "        'Momentum64', 'EMAVolumeDiff128', 'SMAVolumeDiff128', 'EMACloseDiff128',\n",
       "        'SMACloseDiff128', 'VWAP128', 'VolatilityStdDev128', 'Volatility128',\n",
       "        'Momentum128', 'EMAVolumeDiff256', 'SMAVolumeDiff256',\n",
       "        'EMACloseDiff256', 'SMACloseDiff256', 'VWAP256', 'VolatilityStdDev256',\n",
       "        'Volatility256', 'Momentum256', 'PriceVolatilityHourly', 'MACD8',\n",
       "        'MACD16', 'MACD32', 'MACD64', 'MACD128', 'MACD256',\n",
       "        'FamaFrenchMktReturns', 'Log_Return_shift', 'stock_name',\n",
       "        'Stock_Position', 'Target'],\n",
       "       dtype='object'),\n",
       " Index(['EMAVolumeDiff2', 'SMAVolumeDiff2', 'EMACloseDiff2', 'SMACloseDiff2',\n",
       "        'VWAP2', 'VolatilityStdDev2', 'Volatility2', 'Momentum2',\n",
       "        'EMAVolumeDiff4', 'SMAVolumeDiff4', 'EMACloseDiff4', 'SMACloseDiff4',\n",
       "        'VWAP4', 'VolatilityStdDev4', 'Volatility4', 'Momentum4',\n",
       "        'EMAVolumeDiff8', 'SMAVolumeDiff8', 'EMACloseDiff8', 'SMACloseDiff8',\n",
       "        'VWAP8', 'VolatilityStdDev8', 'Volatility8', 'Momentum8',\n",
       "        'EMAVolumeDiff16', 'SMAVolumeDiff16', 'EMACloseDiff16',\n",
       "        'SMACloseDiff16', 'VWAP16', 'VolatilityStdDev16', 'Volatility16',\n",
       "        'Momentum16', 'EMAVolumeDiff32', 'SMAVolumeDiff32', 'EMACloseDiff32',\n",
       "        'SMACloseDiff32', 'VWAP32', 'VolatilityStdDev32', 'Volatility32',\n",
       "        'Momentum32', 'EMAVolumeDiff64', 'SMAVolumeDiff64', 'EMACloseDiff64',\n",
       "        'SMACloseDiff64', 'VWAP64', 'VolatilityStdDev64', 'Volatility64',\n",
       "        'Momentum64', 'EMAVolumeDiff128', 'SMAVolumeDiff128', 'EMACloseDiff128',\n",
       "        'SMACloseDiff128', 'VWAP128', 'VolatilityStdDev128', 'Volatility128',\n",
       "        'Momentum128', 'EMAVolumeDiff256', 'SMAVolumeDiff256',\n",
       "        'EMACloseDiff256', 'SMACloseDiff256', 'VWAP256', 'VolatilityStdDev256',\n",
       "        'Volatility256', 'Momentum256', 'PriceVolatilityHourly', 'MACD8',\n",
       "        'MACD16', 'MACD32', 'MACD64', 'MACD128', 'MACD256',\n",
       "        'FamaFrenchMktReturns'],\n",
       "       dtype='object'))"
      ]
     },
     "execution_count": 12,
     "metadata": {},
     "output_type": "execute_result"
    }
   ],
   "source": [
    "df.columns, df.columns[8:-4]"
   ]
  },
  {
   "cell_type": "markdown",
   "id": "693732ac-27ed-43df-810e-226084d76e79",
   "metadata": {},
   "source": [
    "# training mtd 1 - using all features"
   ]
  },
  {
   "cell_type": "code",
   "execution_count": 14,
   "id": "241a4ea8-7f56-45f2-abc0-0ab2ebd2390c",
   "metadata": {},
   "outputs": [
    {
     "name": "stdout",
     "output_type": "stream",
     "text": [
      "72\n",
      "(71852, 72) (71852,)\n",
      "(8981, 72) (8981,)\n",
      "(8983, 72) (8983,)\n"
     ]
    }
   ],
   "source": [
    "features = df.columns[8:-4]\n",
    "print(len(features))\n",
    "target = \"Target\"\n",
    "\n",
    "X_train = train_df[features].to_numpy()\n",
    "y_train = train_df[target].to_numpy()\n",
    "print(X_train.shape,y_train.shape)\n",
    "\n",
    "X_val = val_df[features].to_numpy()\n",
    "y_val = val_df[target].to_numpy()\n",
    "print(X_val.shape,y_val.shape)\n",
    "\n",
    "X_test = test_df[features].to_numpy()\n",
    "y_test = test_df[target].to_numpy()\n",
    "print(X_test.shape,y_test.shape)"
   ]
  },
  {
   "cell_type": "code",
   "execution_count": 15,
   "id": "066a11a7-77e0-482c-8a90-f9d1dedb1891",
   "metadata": {},
   "outputs": [
    {
     "data": {
      "text/plain": [
       "((71852, 72), (71852,), (8981, 72), (8981,), (8983, 72), (8983,))"
      ]
     },
     "execution_count": 15,
     "metadata": {},
     "output_type": "execute_result"
    }
   ],
   "source": [
    "from scripts.train_predict import *\n",
    "\n",
    "# standardise the values\n",
    "\n",
    "scaler = StandardScaler()\n",
    "\n",
    "# Fit the scaler on the training data and transform the training data\n",
    "X_train = scaler.fit_transform(X_train)\n",
    "\n",
    "# Transform the validation data\n",
    "X_val = scaler.transform(X_val)\n",
    "\n",
    "# Transform the test data\n",
    "X_test = scaler.transform(X_test)\n",
    "\n",
    "X_train.shape,y_train.shape,X_val.shape,y_val.shape,X_test.shape,y_test.shape"
   ]
  },
  {
   "cell_type": "code",
   "execution_count": 16,
   "id": "4f35ba22-6590-4d1c-bc1d-5f0a7a13af64",
   "metadata": {},
   "outputs": [
    {
     "data": {
      "text/plain": [
       "(array([-5.74052314e-01, -7.23252717e-01,  2.37412272e-01,  3.16309546e-01,\n",
       "         4.94060447e-01,  7.63688226e-01, -4.90079007e-01,  4.71404761e-01,\n",
       "        -4.81699659e-01, -6.28769488e-01, -6.53379427e-02,  1.70302388e-01,\n",
       "         2.97827357e-01,  2.81122029e-01, -3.48122929e-01, -6.88820638e-02,\n",
       "        -6.64486348e-01, -7.50169976e-02, -3.61161374e-01, -4.40387746e-01,\n",
       "        -4.08131299e-01,  1.98270583e+00, -6.21991243e-01, -7.56436838e-01,\n",
       "        -8.50085426e-01, -1.07577227e+00, -4.41388395e-01, -4.90240257e-01,\n",
       "        -7.69849818e-01,  1.26767866e+00, -7.12064062e-01,  1.33057685e-01,\n",
       "        -9.38295585e-01, -7.82515048e-01, -3.82977995e-01, -3.54185563e-01,\n",
       "        -4.86755458e-01,  4.59382752e-01, -9.47807040e-01,  3.38950943e-01,\n",
       "        -1.05551290e+00, -1.16872897e+00, -1.92316833e-01, -3.21285799e-01,\n",
       "        -2.45739492e-01,  3.43324740e-01, -9.12469003e-01,  5.39975999e-01,\n",
       "        -1.11612682e+00, -1.19992965e+00,  1.45111365e-01,  9.48167525e-02,\n",
       "         1.21817853e-01,  2.60737757e+00, -6.12035791e-01,  5.05189213e-01,\n",
       "        -1.10568528e+00, -1.08818170e+00,  6.19809160e-01,  5.06401093e-01,\n",
       "         4.89689099e-01,  3.23010093e+00, -9.26732619e-01,  4.42513855e-01,\n",
       "         9.82343451e-01, -5.07705654e-03,  1.38357996e-01, -8.29601919e-03,\n",
       "        -1.51748826e-03, -2.54589567e-02,  1.36205340e-01,  5.44621440e-02]),\n",
       " 3)"
      ]
     },
     "execution_count": 16,
     "metadata": {},
     "output_type": "execute_result"
    }
   ],
   "source": [
    "X_train[0],y_train[0]"
   ]
  },
  {
   "cell_type": "code",
   "execution_count": 17,
   "id": "ab4ae2e6-02cb-49c8-a129-0da3653768a7",
   "metadata": {},
   "outputs": [],
   "source": [
    "from sklearn.metrics import accuracy_score\n",
    "\n",
    "def train():\n",
    "    # initialise training params\n",
    "    best_score = float('inf')\n",
    "    best_params = None\n",
    "    best_model = None\n",
    "    \n",
    "\n",
    "    # Define the parameter grid\n",
    "    param_grid = {\n",
    "        # 'hidden_layer_sizes': [(8,), (16,), (32,), (64,), (64,8), (64,16,), (32,8), (16,8), (8,16,), (8,64,)], # Different architectures\n",
    "        # 'activation': ['relu', 'tanh'], # Different activation functions\n",
    "        # 'solver': ['adam', 'sgd'], # Different solvers\n",
    "        # 'alpha': [0.0001, 0.001], # Different regularization terms\n",
    "        # 'learning_rate': ['constant', 'adaptive'], # Different learning rates\n",
    "        # 'hidden_layer_sizes': [(8,64), (8,4), (8,2), (4,2),(2),(1),(4)], # Different architectures\n",
    "        'hidden_layer_sizes': [(32)], # Different architectures\n",
    "        # 'hidden_layer_sizes': [(6, 8, 64, 1), (64, 1)], # Different architectures\n",
    "        # 'hidden_layer_sizes': [(8,64), (16,64), (32,64), (32, 128)], # Different architectures\n",
    "        'activation': ['relu'], # Different activation functions\n",
    "        'solver': ['adam'], # Different solvers\n",
    "        'alpha': [0.0005], # Different regularization terms\n",
    "        'learning_rate': ['adaptive'], # Different learning rates\n",
    "    }\n",
    "\n",
    "    for params in alive_it(ParameterGrid(param_grid)):\n",
    "        model = MLPClassifier(max_iter=1000, **params) # initialise new model before each run\n",
    "        model.fit(X_train, y_train)\n",
    "        y_pred = model.predict(X_val)\n",
    "        # score = model.score(y_val, y_pred)\n",
    "        score,y_pred = predict(model,X_val,y_val)\n",
    "        \n",
    "        if score < best_score:\n",
    "            best_score = score\n",
    "            best_params = params\n",
    "            best_model = model\n",
    "            print(f\"score: {round(best_score,7)}\")\n",
    "            # print(f\"score: {round(best_score,7)}, params: {best_params}\")\n",
    "\n",
    "    print(f\"Best parameters found: {best_params}\")\n",
    "    print(f\"Best validation score: {round(best_score,5)}\")\n",
    "\n",
    "    return best_model, best_params, best_score, X_test, y_test\n",
    "\n",
    "def predict(best_model, X_test, y_test):\n",
    "    y_pred = best_model.predict(X_test)\n",
    "    acc = accuracy_score(y_test, y_pred)\n",
    "    \n",
    "    return acc,y_pred\n",
    "\n",
    "def train_predict():\n",
    "    best_model, best_params, best_score, X_test, y_test = train()\n",
    "    acc,y_pred = predict(best_model, X_test, y_test)\n",
    "    \n",
    "    return best_model, best_params, best_score, acc, y_pred"
   ]
  },
  {
   "cell_type": "code",
   "execution_count": 18,
   "id": "7bef166e-c0ab-4b3a-951b-9eff64bac5b0",
   "metadata": {},
   "outputs": [
    {
     "name": "stdout",
     "output_type": "stream",
     "text": [
      "on 0: score: 0.2575437\n",
      "|████████████████████████████████████████| 1/1 [100%] in 47.4s (0.02/s) \n",
      "Best parameters found: {'activation': 'relu', 'alpha': 0.0005, 'hidden_layer_sizes': 32, 'learning_rate': 'adaptive', 'solver': 'adam'}\n",
      "Best validation score: 0.25754\n"
     ]
    }
   ],
   "source": [
    "best_model, best_params, best_score, acc, y_pred = train_predict()"
   ]
  },
  {
   "cell_type": "code",
   "execution_count": 19,
   "id": "f9658a0a-5abb-488b-94bd-43864e420682",
   "metadata": {},
   "outputs": [
    {
     "name": "stdout",
     "output_type": "stream",
     "text": [
      "accuracy: 23.38\n"
     ]
    },
    {
     "data": {
      "image/png": "[encoded data removed]",
      "text/plain": [
       "<Figure size 640x480 with 2 Axes>"
      ]
     },
     "metadata": {},
     "output_type": "display_data"
    }
   ],
   "source": [
    "from sklearn.metrics import confusion_matrix, ConfusionMatrixDisplay\n",
    "\n",
    "print(f\"accuracy: {round(acc*100,2)}\")\n",
    "labels = ['strong sell', 'sell', 'hold', 'buy', 'strong buy']\n",
    "cm = confusion_matrix(y_test, y_pred)\n",
    "disp = ConfusionMatrixDisplay(confusion_matrix=cm,\n",
    "                              display_labels=labels)\n",
    "disp.plot()\n",
    "plt.show()"
   ]
  },
  {
   "cell_type": "markdown",
   "id": "c133d691-de69-4807-8e55-2650c52172b0",
   "metadata": {},
   "source": [
    "# training mtd 2 - using SelectKBest(10)"
   ]
  },
  {
   "cell_type": "code",
   "execution_count": 21,
   "id": "1114285c-2191-4339-98c3-14ba9c296915",
   "metadata": {},
   "outputs": [
    {
     "name": "stdout",
     "output_type": "stream",
     "text": [
      "72\n",
      "(71852, 72) (71852,)\n",
      "(8981, 72) (8981,)\n",
      "(8983, 72) (8983,)\n"
     ]
    }
   ],
   "source": [
    "features = df.columns[8:-4]\n",
    "print(len(features))\n",
    "target = \"Target\"\n",
    "\n",
    "X_train = train_df[features].to_numpy()\n",
    "y_train = train_df[target].to_numpy()\n",
    "print(X_train.shape,y_train.shape)\n",
    "\n",
    "X_val = val_df[features].to_numpy()\n",
    "y_val = val_df[target].to_numpy()\n",
    "print(X_val.shape,y_val.shape)\n",
    "\n",
    "X_test = test_df[features].to_numpy()\n",
    "y_test = test_df[target].to_numpy()\n",
    "print(X_test.shape,y_test.shape)"
   ]
  },
  {
   "cell_type": "code",
   "execution_count": 22,
   "id": "76b7c153-86dd-4d37-8227-e4dfc87f1fd9",
   "metadata": {},
   "outputs": [
    {
     "data": {
      "text/plain": [
       "((71852, 10), (71852,), (8981, 10), (8981,), (8983, 10), (8983,))"
      ]
     },
     "execution_count": 22,
     "metadata": {},
     "output_type": "execute_result"
    }
   ],
   "source": [
    "from scripts.train_predict import *\n",
    "\n",
    "# standardise the values and selectKbest\n",
    "scaler = StandardScaler()\n",
    "selector = SelectKBest(f_regression, k=10)\n",
    "\n",
    "# Fit the scaler on the training data and transform the training data\n",
    "X_train = scaler.fit_transform(X_train)\n",
    "X_train = selector.fit_transform(X_train, y_train)\n",
    "\n",
    "# Transform the validation data\n",
    "X_val = scaler.transform(X_val)\n",
    "X_val = selector.transform(X_val)\n",
    "\n",
    "# Transform the test data\n",
    "X_test = scaler.transform(X_test)\n",
    "X_test = selector.transform(X_test)\n",
    "\n",
    "X_train.shape,y_train.shape,X_val.shape,y_val.shape,X_test.shape,y_test.shape"
   ]
  },
  {
   "cell_type": "code",
   "execution_count": 23,
   "id": "903914ee-c6ea-4ee1-a26f-6e6d25e424d0",
   "metadata": {},
   "outputs": [
    {
     "data": {
      "text/plain": [
       "(array([-0.075017  , -0.85008543, -0.93829559, -0.78251505, -1.0555129 ,\n",
       "        -1.11612682, -1.19992965, -1.10568528, -1.0881817 ,  0.05446214]),\n",
       " 3)"
      ]
     },
     "execution_count": 23,
     "metadata": {},
     "output_type": "execute_result"
    }
   ],
   "source": [
    "X_train[0],y_train[0]"
   ]
  },
  {
   "cell_type": "code",
   "execution_count": 24,
   "id": "8fa604bb-fda8-4a05-83cb-608c4c273825",
   "metadata": {},
   "outputs": [],
   "source": [
    "from sklearn.metrics import accuracy_score\n",
    "\n",
    "def train():\n",
    "    # initialise training params\n",
    "    best_score = float('inf')\n",
    "    best_params = None\n",
    "    best_model = None\n",
    "    \n",
    "\n",
    "    # Define the parameter grid\n",
    "    param_grid = {\n",
    "        # 'hidden_layer_sizes': [(8,), (16,), (32,), (64,), (64,8), (64,16,), (32,8), (16,8), (8,16,), (8,64,)], # Different architectures\n",
    "        # 'activation': ['relu', 'tanh'], # Different activation functions\n",
    "        # 'solver': ['adam', 'sgd'], # Different solvers\n",
    "        # 'alpha': [0.0001, 0.001], # Different regularization terms\n",
    "        # 'learning_rate': ['constant', 'adaptive'], # Different learning rates\n",
    "        # 'hidden_layer_sizes': [(8,64), (8,4), (8,2), (4,2),(2),(1),(4)], # Different architectures\n",
    "        'hidden_layer_sizes': [(32)], # Different architectures\n",
    "        # 'hidden_layer_sizes': [(6, 8, 64, 1), (64, 1)], # Different architectures\n",
    "        # 'hidden_layer_sizes': [(8,64), (16,64), (32,64), (32, 128)], # Different architectures\n",
    "        'activation': ['relu'], # Different activation functions\n",
    "        'solver': ['adam'], # Different solvers\n",
    "        'alpha': [0.0005], # Different regularization terms\n",
    "        'learning_rate': ['adaptive'], # Different learning rates\n",
    "    }\n",
    "\n",
    "    for params in alive_it(ParameterGrid(param_grid)):\n",
    "        model = MLPClassifier(max_iter=1000, **params) # initialise new model before each run\n",
    "        model.fit(X_train, y_train)\n",
    "        y_pred = model.predict(X_val)\n",
    "        # score = model.score(y_val, y_pred)\n",
    "        score,y_pred = predict(model,X_val,y_val)\n",
    "        \n",
    "        if score < best_score:\n",
    "            best_score = score\n",
    "            best_params = params\n",
    "            best_model = model\n",
    "            print(f\"score: {round(best_score,7)}\")\n",
    "            # print(f\"score: {round(best_score,7)}, params: {best_params}\")\n",
    "\n",
    "    print(f\"Best parameters found: {best_params}\")\n",
    "    print(f\"Best validation score: {round(best_score,5)}\")\n",
    "\n",
    "    return best_model, best_params, best_score, X_test, y_test\n",
    "\n",
    "def predict(best_model, X_test, y_test):\n",
    "    y_pred = best_model.predict(X_test)\n",
    "    acc = accuracy_score(y_test, y_pred)\n",
    "    \n",
    "    return acc,y_pred\n",
    "\n",
    "def train_predict():\n",
    "    best_model, best_params, best_score, X_test, y_test = train()\n",
    "    acc,y_pred = predict(best_model, X_test, y_test)\n",
    "    \n",
    "    return best_model, best_params, best_score, acc, y_pred"
   ]
  },
  {
   "cell_type": "code",
   "execution_count": 25,
   "id": "e3ca534e-e664-448e-bddc-3a9edd42f8ca",
   "metadata": {},
   "outputs": [
    {
     "name": "stdout",
     "output_type": "stream",
     "text": [
      "on 0: score: 0.2613295\n",
      "|████████████████████████████████████████| 1/1 [100%] in 4.5s (0.22/s) \n",
      "Best parameters found: {'activation': 'relu', 'alpha': 0.0005, 'hidden_layer_sizes': 32, 'learning_rate': 'adaptive', 'solver': 'adam'}\n",
      "Best validation score: 0.26133\n"
     ]
    }
   ],
   "source": [
    "best_model, best_params, best_score, acc, y_pred = train_predict()"
   ]
  },
  {
   "cell_type": "code",
   "execution_count": 26,
   "id": "c375bd2c-a59d-4d5a-a4ce-6b6404e64b33",
   "metadata": {},
   "outputs": [
    {
     "name": "stdout",
     "output_type": "stream",
     "text": [
      "accuracy: 24.32\n"
     ]
    },
    {
     "data": {
      "image/png": "[encoded data removed]",
      "text/plain": [
       "<Figure size 640x480 with 2 Axes>"
      ]
     },
     "metadata": {},
     "output_type": "display_data"
    }
   ],
   "source": [
    "from sklearn.metrics import confusion_matrix, ConfusionMatrixDisplay\n",
    "\n",
    "print(f\"accuracy: {round(acc*100,2)}\")\n",
    "labels = ['strong sell', 'sell', 'hold', 'buy', 'strong buy']\n",
    "cm = confusion_matrix(y_test, y_pred)\n",
    "disp = ConfusionMatrixDisplay(confusion_matrix=cm,\n",
    "                              display_labels=labels)\n",
    "disp.plot()\n",
    "plt.show()"
   ]
  },
  {
   "cell_type": "markdown",
   "id": "3d46b45f-c23f-4c02-afc5-a89ae398bbf4",
   "metadata": {},
   "source": [
    "# training mtd 3 - using PCA(0.95)"
   ]
  },
  {
   "cell_type": "code",
   "execution_count": 28,
   "id": "e7bc468a-b706-428c-b46d-2dc051519357",
   "metadata": {},
   "outputs": [
    {
     "name": "stdout",
     "output_type": "stream",
     "text": [
      "72\n",
      "(71852, 72) (71852,)\n",
      "(8981, 72) (8981,)\n",
      "(8983, 72) (8983,)\n"
     ]
    }
   ],
   "source": [
    "features = df.columns[8:-4]\n",
    "print(len(features))\n",
    "target = \"Target\"\n",
    "\n",
    "X_train = train_df[features].to_numpy()\n",
    "y_train = train_df[target].to_numpy()\n",
    "print(X_train.shape,y_train.shape)\n",
    "\n",
    "X_val = val_df[features].to_numpy()\n",
    "y_val = val_df[target].to_numpy()\n",
    "print(X_val.shape,y_val.shape)\n",
    "\n",
    "X_test = test_df[features].to_numpy()\n",
    "y_test = test_df[target].to_numpy()\n",
    "print(X_test.shape,y_test.shape)"
   ]
  },
  {
   "cell_type": "code",
   "execution_count": 29,
   "id": "78c35858-c02c-4dd8-961c-c46ace5e6b1a",
   "metadata": {},
   "outputs": [
    {
     "data": {
      "text/plain": [
       "((71852, 26), (71852,), (8981, 26), (8981,), (8983, 26), (8983,))"
      ]
     },
     "execution_count": 29,
     "metadata": {},
     "output_type": "execute_result"
    }
   ],
   "source": [
    "from scripts.train_predict import *\n",
    "\n",
    "# standardise the values and selectKbest\n",
    "scaler = StandardScaler()\n",
    "pca = PCA(n_components = 0.95)\n",
    "\n",
    "# Fit the scaler on the training data and transform the training data\n",
    "X_train = scaler.fit_transform(X_train)\n",
    "X_train = pca.fit_transform(X_train)\n",
    "\n",
    "# Transform the validation data\n",
    "X_val = scaler.transform(X_val)\n",
    "X_val = pca.transform(X_val)\n",
    "\n",
    "# Transform the test data\n",
    "X_test = scaler.transform(X_test)\n",
    "X_test = pca.transform(X_test)\n",
    "\n",
    "X_train.shape,y_train.shape,X_val.shape,y_val.shape,X_test.shape,y_test.shape"
   ]
  },
  {
   "cell_type": "code",
   "execution_count": 30,
   "id": "2e37f036-a962-40de-9cda-c1dd0426b73e",
   "metadata": {},
   "outputs": [
    {
     "data": {
      "text/plain": [
       "(array([ 0.50101547, -3.3590372 ,  2.2171865 ,  0.66360472,  4.1954773 ,\n",
       "        -1.33764247,  1.1207416 ,  0.55085032, -0.53758124,  0.27298256,\n",
       "        -0.10801943,  0.1646194 ,  0.03496398, -0.10894149, -0.12028841,\n",
       "        -0.05072757,  0.51203029, -0.50651409, -0.60721825, -0.97385105,\n",
       "        -0.34416458,  0.33127435,  0.53405286, -0.50156649, -0.28700535,\n",
       "        -0.42570986]),\n",
       " 3)"
      ]
     },
     "execution_count": 30,
     "metadata": {},
     "output_type": "execute_result"
    }
   ],
   "source": [
    "X_train[0],y_train[0]"
   ]
  },
  {
   "cell_type": "code",
   "execution_count": 31,
   "id": "986ca20d-1bb2-4f1b-a64f-03c65d69a901",
   "metadata": {},
   "outputs": [],
   "source": [
    "from sklearn.metrics import accuracy_score\n",
    "\n",
    "def train():\n",
    "    # initialise training params\n",
    "    best_score = float('inf')\n",
    "    best_params = None\n",
    "    best_model = None\n",
    "    \n",
    "\n",
    "    # Define the parameter grid\n",
    "    param_grid = {\n",
    "        # 'hidden_layer_sizes': [(8,), (16,), (32,), (64,), (64,8), (64,16,), (32,8), (16,8), (8,16,), (8,64,)], # Different architectures\n",
    "        # 'activation': ['relu', 'tanh'], # Different activation functions\n",
    "        # 'solver': ['adam', 'sgd'], # Different solvers\n",
    "        # 'alpha': [0.0001, 0.001], # Different regularization terms\n",
    "        # 'learning_rate': ['constant', 'adaptive'], # Different learning rates\n",
    "        # 'hidden_layer_sizes': [(8,64), (8,4), (8,2), (4,2),(2),(1),(4)], # Different architectures\n",
    "        'hidden_layer_sizes': [(32)], # Different architectures\n",
    "        # 'hidden_layer_sizes': [(6, 8, 64, 1), (64, 1)], # Different architectures\n",
    "        # 'hidden_layer_sizes': [(8,64), (16,64), (32,64), (32, 128)], # Different architectures\n",
    "        'activation': ['relu'], # Different activation functions\n",
    "        'solver': ['adam'], # Different solvers\n",
    "        'alpha': [0.0005], # Different regularization terms\n",
    "        'learning_rate': ['adaptive'], # Different learning rates\n",
    "    }\n",
    "\n",
    "    for params in alive_it(ParameterGrid(param_grid)):\n",
    "        model = MLPClassifier(max_iter=1000, **params) # initialise new model before each run\n",
    "        model.fit(X_train, y_train)\n",
    "        y_pred = model.predict(X_val)\n",
    "        # score = model.score(y_val, y_pred)\n",
    "        score,y_pred = predict(model,X_val,y_val)\n",
    "        \n",
    "        if score < best_score:\n",
    "            best_score = score\n",
    "            best_params = params\n",
    "            best_model = model\n",
    "            print(f\"score: {round(best_score,7)}\")\n",
    "            # print(f\"score: {round(best_score,7)}, params: {best_params}\")\n",
    "\n",
    "    print(f\"Best parameters found: {best_params}\")\n",
    "    print(f\"Best validation score: {round(best_score,5)}\")\n",
    "\n",
    "    return best_model, best_params, best_score, X_test, y_test\n",
    "\n",
    "def predict(best_model, X_test, y_test):\n",
    "    y_pred = best_model.predict(X_test)\n",
    "    acc = accuracy_score(y_test, y_pred)\n",
    "    \n",
    "    return acc,y_pred\n",
    "\n",
    "def train_predict():\n",
    "    best_model, best_params, best_score, X_test, y_test = train()\n",
    "    acc,y_pred = predict(best_model, X_test, y_test)\n",
    "    \n",
    "    return best_model, best_params, best_score, acc, y_pred"
   ]
  },
  {
   "cell_type": "code",
   "execution_count": 32,
   "id": "66de31bd-6ca8-47ea-96f2-4fbc45efeb60",
   "metadata": {},
   "outputs": [
    {
     "name": "stdout",
     "output_type": "stream",
     "text": [
      "on 0: score: 0.2666741\n",
      "|████████████████████████████████████████| 1/1 [100%] in 6.2s (0.16/s) \n",
      "Best parameters found: {'activation': 'relu', 'alpha': 0.0005, 'hidden_layer_sizes': 32, 'learning_rate': 'adaptive', 'solver': 'adam'}\n",
      "Best validation score: 0.26667\n"
     ]
    }
   ],
   "source": [
    "best_model, best_params, best_score, acc, y_pred = train_predict()"
   ]
  },
  {
   "cell_type": "code",
   "execution_count": 33,
   "id": "340be202-79c4-42ea-9be5-8596b76c8b47",
   "metadata": {},
   "outputs": [
    {
     "name": "stdout",
     "output_type": "stream",
     "text": [
      "accuracy: 23.62\n"
     ]
    },
    {
     "data": {
      "image/png": "[encoded data removed]",
      "text/plain": [
       "<Figure size 640x480 with 2 Axes>"
      ]
     },
     "metadata": {},
     "output_type": "display_data"
    }
   ],
   "source": [
    "from sklearn.metrics import confusion_matrix, ConfusionMatrixDisplay\n",
    "\n",
    "print(f\"accuracy: {round(acc*100,2)}\")\n",
    "labels = ['strong sell', 'sell', 'hold', 'buy', 'strong buy']\n",
    "cm = confusion_matrix(y_test, y_pred)\n",
    "disp = ConfusionMatrixDisplay(confusion_matrix=cm,\n",
    "                              display_labels=labels)\n",
    "disp.plot()\n",
    "plt.show()"
   ]
  },
  {
   "cell_type": "markdown",
   "id": "761ca42c-c7ca-47a2-b97f-938df58685c5",
   "metadata": {},
   "source": [
    "# use model to predict on individual stocks"
   ]
  },
  {
   "cell_type": "code",
   "execution_count": 62,
   "id": "10352a12-e8c0-4d6f-a3c4-68e9eaea21c8",
   "metadata": {},
   "outputs": [
    {
     "data": {
      "text/html": [
       "<style>#sk-container-id-1 {color: black;}#sk-container-id-1 pre{padding: 0;}#sk-container-id-1 div.sk-toggleable {background-color: white;}#sk-container-id-1 label.sk-toggleable__label {cursor: pointer;display: block;width: 100%;margin-bottom: 0;padding: 0.3em;box-sizing: border-box;text-align: center;}#sk-container-id-1 label.sk-toggleable__label-arrow:before {content: \"▸\";float: left;margin-right: 0.25em;color: #696969;}#sk-container-id-1 label.sk-toggleable__label-arrow:hover:before {color: black;}#sk-container-id-1 div.sk-estimator:hover label.sk-toggleable__label-arrow:before {color: black;}#sk-container-id-1 div.sk-toggleable__content {max-height: 0;max-width: 0;overflow: hidden;text-align: left;background-color: #f0f8ff;}#sk-container-id-1 div.sk-toggleable__content pre {margin: 0.2em;color: black;border-radius: 0.25em;background-color: #f0f8ff;}#sk-container-id-1 input.sk-toggleable__control:checked~div.sk-toggleable__content {max-height: 200px;max-width: 100%;overflow: auto;}#sk-container-id-1 input.sk-toggleable__control:checked~label.sk-toggleable__label-arrow:before {content: \"▾\";}#sk-container-id-1 div.sk-estimator input.sk-toggleable__control:checked~label.sk-toggleable__label {background-color: #d4ebff;}#sk-container-id-1 div.sk-label input.sk-toggleable__control:checked~label.sk-toggleable__label {background-color: #d4ebff;}#sk-container-id-1 input.sk-hidden--visually {border: 0;clip: rect(1px 1px 1px 1px);clip: rect(1px, 1px, 1px, 1px);height: 1px;margin: -1px;overflow: hidden;padding: 0;position: absolute;width: 1px;}#sk-container-id-1 div.sk-estimator {font-family: monospace;background-color: #f0f8ff;border: 1px dotted black;border-radius: 0.25em;box-sizing: border-box;margin-bottom: 0.5em;}#sk-container-id-1 div.sk-estimator:hover {background-color: #d4ebff;}#sk-container-id-1 div.sk-parallel-item::after {content: \"\";width: 100%;border-bottom: 1px solid gray;flex-grow: 1;}#sk-container-id-1 div.sk-label:hover label.sk-toggleable__label {background-color: #d4ebff;}#sk-container-id-1 div.sk-serial::before {content: \"\";position: absolute;border-left: 1px solid gray;box-sizing: border-box;top: 0;bottom: 0;left: 50%;z-index: 0;}#sk-container-id-1 div.sk-serial {display: flex;flex-direction: column;align-items: center;background-color: white;padding-right: 0.2em;padding-left: 0.2em;position: relative;}#sk-container-id-1 div.sk-item {position: relative;z-index: 1;}#sk-container-id-1 div.sk-parallel {display: flex;align-items: stretch;justify-content: center;background-color: white;position: relative;}#sk-container-id-1 div.sk-item::before, #sk-container-id-1 div.sk-parallel-item::before {content: \"\";position: absolute;border-left: 1px solid gray;box-sizing: border-box;top: 0;bottom: 0;left: 50%;z-index: -1;}#sk-container-id-1 div.sk-parallel-item {display: flex;flex-direction: column;z-index: 1;position: relative;background-color: white;}#sk-container-id-1 div.sk-parallel-item:first-child::after {align-self: flex-end;width: 50%;}#sk-container-id-1 div.sk-parallel-item:last-child::after {align-self: flex-start;width: 50%;}#sk-container-id-1 div.sk-parallel-item:only-child::after {width: 0;}#sk-container-id-1 div.sk-dashed-wrapped {border: 1px dashed gray;margin: 0 0.4em 0.5em 0.4em;box-sizing: border-box;padding-bottom: 0.4em;background-color: white;}#sk-container-id-1 div.sk-label label {font-family: monospace;font-weight: bold;display: inline-block;line-height: 1.2em;}#sk-container-id-1 div.sk-label-container {text-align: center;}#sk-container-id-1 div.sk-container {/* jupyter's `normalize.less` sets `[hidden] { display: none; }` but bootstrap.min.css set `[hidden] { display: none !important; }` so we also need the `!important` here to be able to override the default hidden behavior on the sphinx rendered scikit-learn.org. See: https://github.com/scikit-learn/scikit-learn/issues/21755 */display: inline-block !important;position: relative;}#sk-container-id-1 div.sk-text-repr-fallback {display: none;}</style><div id=\"sk-container-id-1\" class=\"sk-top-container\"><div class=\"sk-text-repr-fallback\"><pre>MLPClassifier(alpha=0.0005, hidden_layer_sizes=32, learning_rate=&#x27;adaptive&#x27;,\n",
       "              max_iter=1000)</pre><b>In a Jupyter environment, please rerun this cell to show the HTML representation or trust the notebook. <br />On GitHub, the HTML representation is unable to render, please try loading this page with nbviewer.org.</b></div><div class=\"sk-container\" hidden><div class=\"sk-item\"><div class=\"sk-estimator sk-toggleable\"><input class=\"sk-toggleable__control sk-hidden--visually\" id=\"sk-estimator-id-1\" type=\"checkbox\" checked><label for=\"sk-estimator-id-1\" class=\"sk-toggleable__label sk-toggleable__label-arrow\">MLPClassifier</label><div class=\"sk-toggleable__content\"><pre>MLPClassifier(alpha=0.0005, hidden_layer_sizes=32, learning_rate=&#x27;adaptive&#x27;,\n",
       "              max_iter=1000)</pre></div></div></div></div></div>"
      ],
      "text/plain": [
       "MLPClassifier(alpha=0.0005, hidden_layer_sizes=32, learning_rate='adaptive',\n",
       "              max_iter=1000)"
      ]
     },
     "execution_count": 62,
     "metadata": {},
     "output_type": "execute_result"
    }
   ],
   "source": [
    "best_model"
   ]
  },
  {
   "cell_type": "code",
   "execution_count": 97,
   "id": "041ba8b2-f29a-4ea1-9ba3-2a310f6d4848",
   "metadata": {},
   "outputs": [
    {
     "name": "stdout",
     "output_type": "stream",
     "text": [
      "MSFT: 18.88\n",
      "BKNG: 20.48\n",
      "TEAM: 26.1\n",
      "INTU: 23.69\n",
      "META: 22.49\n",
      "PANW: 19.28\n",
      "MELI: 19.28\n",
      "MU: 21.29\n",
      "DDOG: 18.47\n",
      "TTD: 18.88\n",
      "MRNA: 27.31\n",
      "INTC: 24.9\n",
      "CPRT: 18.47\n",
      "SNPS: 18.07\n",
      "WDAY: 22.89\n",
      "ADBE: 23.69\n",
      "MDB: 23.29\n",
      "AMD: 20.88\n",
      "CDNS: 17.67\n",
      "ZS: 16.87\n",
      "MRVL: 22.49\n",
      "SMCI: 21.69\n",
      "DASH: 14.46\n",
      "PDD: 23.29\n",
      "AVGO: 20.97\n",
      "AMAT: 17.34\n",
      "ABNB: 22.18\n",
      "CRWD: 22.98\n",
      "AMZN: 17.34\n",
      "LRCX: 17.34\n",
      "NVDA: 18.55\n",
      "TSLA: 16.13\n",
      "MKS.L: 21.7\n",
      "RR.L: 19.65\n",
      "III.L: 21.41\n"
     ]
    }
   ],
   "source": [
    "for stock_name in test_df.stock_name.unique():\n",
    "    stock_df = test_df[test_df['stock_name']==stock_name]\n",
    "    stock_X_test = stock_df[features].to_numpy()\n",
    "    stock_y_test = stock_df[target].to_numpy()\n",
    "    # print(stock_X_test.shape,stock_y_test.shape)\n",
    "\n",
    "    stock_X_test = pca.transform(stock_X_test)\n",
    "    # print(stock_X_test.shape,stock_y_test.shape)\n",
    "\n",
    "    stock_preds = best_model.predict(stock_X_test)\n",
    "    acc = accuracy_score(stock_y_test, stock_preds)\n",
    "\n",
    "    print(f\"{stock_name}: {round(acc*100,2)}\")"
   ]
  },
  {
   "cell_type": "code",
   "execution_count": null,
   "id": "8fd0034f-615f-40d1-8dfa-7a55e66394ae",
   "metadata": {},
   "outputs": [],
   "source": []
  }
 ],
 "metadata": {
  "kernelspec": {
   "display_name": "dsa5205-env",
   "language": "python",
   "name": "dsa5205-env"
  },
  "language_info": {
   "codemirror_mode": {
    "name": "ipython",
    "version": 3
   },
   "file_extension": ".py",
   "mimetype": "text/x-python",
   "name": "python",
   "nbconvert_exporter": "python",
   "pygments_lexer": "ipython3",
   "version": "3.9.6"
  }
 },
 "nbformat": 4,
 "nbformat_minor": 5
}
