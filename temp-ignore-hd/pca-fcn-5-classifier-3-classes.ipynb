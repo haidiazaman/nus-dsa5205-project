{
 "cells": [
  {
   "cell_type": "markdown",
   "id": "e26e6c0d-5898-4084-a17c-836440b1300e",
   "metadata": {
    "jp-MarkdownHeadingCollapsed": true
   },
   "source": [
    "# generate dataset"
   ]
  },
  {
   "cell_type": "code",
   "execution_count": 4,
   "id": "4748733c-85ea-44cc-ad69-2bb1ba07a50b",
   "metadata": {
    "tags": []
   },
   "outputs": [
    {
     "name": "stderr",
     "output_type": "stream",
     "text": [
      "/Users/I748920/Library/Python/3.9/lib/python/site-packages/urllib3/__init__.py:35: NotOpenSSLWarning: urllib3 v2 only supports OpenSSL 1.1.1+, currently the 'ssl' module is compiled with 'LibreSSL 2.8.3'. See: https://github.com/urllib3/urllib3/issues/3020\n",
      "  warnings.warn(\n"
     ]
    },
    {
     "name": "stdout",
     "output_type": "stream",
     "text": [
      "\n",
      "Results saved to 'top_30_stocks_long_only.csv' and 'top_30_stocks_long_short.csv'\n",
      "\n",
      "Detailed metrics for top stock (Long-Only Strategy) SMCI:\n",
      "Final Close Price: 284.26\n",
      "60-day Return: 250.61%\n",
      "Average Hourly Volatility: 0.6678\n",
      "Average Sharpe Ratio: 1.6242\n",
      "Average Hourly Volume: 355714\n",
      "\n",
      "num common_top_stocks:  35\n"
     ]
    }
   ],
   "source": [
    "from scripts.get_top_stocks import *\n",
    "\n",
    "\n",
    "top_stocks_long, top_stocks_long_short = generate_top_stocks_df()\n",
    "common_top_stocks = get_common_top_stocks(top_stocks_long, top_stocks_long_short)"
   ]
  },
  {
   "cell_type": "code",
   "execution_count": 6,
   "id": "98e9c7c0-2345-4836-a2c5-f02810aa374a",
   "metadata": {
    "tags": []
   },
   "outputs": [],
   "source": [
    "# specify variables for dataset generation\n",
    "\n",
    "start_date = '2023-01-01'\n",
    "end_date = '2024-08-01'\n",
    "interval = \"1h\"\n",
    "trading_days_per_year = 252\n",
    "hours_per_day = 6.5"
   ]
  },
  {
   "cell_type": "code",
   "execution_count": 8,
   "id": "2051d0f7-d486-4dee-96c4-eb9a87619089",
   "metadata": {
    "tags": []
   },
   "outputs": [
    {
     "name": "stderr",
     "output_type": "stream",
     "text": [
      "[*********************100%%**********************]  1 of 1 completed\n",
      "[*********************100%%**********************]  1 of 1 completed\n",
      "[*********************100%%**********************]  1 of 1 completed\n",
      "[*********************100%%**********************]  1 of 1 completed\n",
      "[*********************100%%**********************]  1 of 1 completed\n",
      "[*********************100%%**********************]  1 of 1 completed\n",
      "[*********************100%%**********************]  1 of 1 completed\n",
      "[*********************100%%**********************]  1 of 1 completed\n",
      "[*********************100%%**********************]  1 of 1 completed\n",
      "[*********************100%%**********************]  1 of 1 completed\n",
      "[*********************100%%**********************]  1 of 1 completed\n",
      "[*********************100%%**********************]  1 of 1 completed\n",
      "[*********************100%%**********************]  1 of 1 completed\n",
      "[*********************100%%**********************]  1 of 1 completed\n",
      "[*********************100%%**********************]  1 of 1 completed\n",
      "[*********************100%%**********************]  1 of 1 completed\n",
      "[*********************100%%**********************]  1 of 1 completed\n",
      "[*********************100%%**********************]  1 of 1 completed\n",
      "[*********************100%%**********************]  1 of 1 completed\n",
      "[*********************100%%**********************]  1 of 1 completed\n",
      "[*********************100%%**********************]  1 of 1 completed\n",
      "[*********************100%%**********************]  1 of 1 completed\n",
      "[*********************100%%**********************]  1 of 1 completed\n",
      "[*********************100%%**********************]  1 of 1 completed\n",
      "[*********************100%%**********************]  1 of 1 completed\n",
      "[*********************100%%**********************]  1 of 1 completed\n",
      "[*********************100%%**********************]  1 of 1 completed\n",
      "[*********************100%%**********************]  1 of 1 completed\n",
      "[*********************100%%**********************]  1 of 1 completed\n",
      "[*********************100%%**********************]  1 of 1 completed\n",
      "[*********************100%%**********************]  1 of 1 completed\n",
      "[*********************100%%**********************]  1 of 1 completed\n",
      "[*********************100%%**********************]  1 of 1 completed\n",
      "[*********************100%%**********************]  1 of 1 completed\n",
      "[*********************100%%**********************]  1 of 1 completed\n"
     ]
    }
   ],
   "source": [
    "from scripts.generate_dataset_features import *\n",
    "\n",
    "\n",
    "df = get_all_stock_features_df(\n",
    "    stocks_list=common_top_stocks,\n",
    "    start_date=start_date,\n",
    "    end_date=end_date,\n",
    "    interval=interval,\n",
    "    trading_days_per_year=trading_days_per_year, \n",
    "    hours_per_day=hours_per_day\n",
    ")"
   ]
  },
  {
   "cell_type": "code",
   "execution_count": 9,
   "id": "c3b959a9-57e8-4575-b394-ae08e117efa3",
   "metadata": {},
   "outputs": [
    {
     "data": {
      "text/html": [
       "<div>\n",
       "<style scoped>\n",
       "    .dataframe tbody tr th:only-of-type {\n",
       "        vertical-align: middle;\n",
       "    }\n",
       "\n",
       "    .dataframe tbody tr th {\n",
       "        vertical-align: top;\n",
       "    }\n",
       "\n",
       "    .dataframe thead th {\n",
       "        text-align: right;\n",
       "    }\n",
       "</style>\n",
       "<table border=\"1\" class=\"dataframe\">\n",
       "  <thead>\n",
       "    <tr style=\"text-align: right;\">\n",
       "      <th></th>\n",
       "      <th>Datetime</th>\n",
       "      <th>Open</th>\n",
       "      <th>High</th>\n",
       "      <th>Low</th>\n",
       "      <th>Close</th>\n",
       "      <th>Adj Close</th>\n",
       "      <th>Volume</th>\n",
       "      <th>Log_Return</th>\n",
       "      <th>EMAVolumeDiff2</th>\n",
       "      <th>SMAVolumeDiff2</th>\n",
       "      <th>...</th>\n",
       "      <th>MACD16</th>\n",
       "      <th>MACD32</th>\n",
       "      <th>MACD64</th>\n",
       "      <th>MACD128</th>\n",
       "      <th>MACD256</th>\n",
       "      <th>FamaFrenchMktReturns</th>\n",
       "      <th>Log_Return_shift</th>\n",
       "      <th>stock_name</th>\n",
       "      <th>Stock_Position</th>\n",
       "      <th>Target</th>\n",
       "    </tr>\n",
       "  </thead>\n",
       "  <tbody>\n",
       "    <tr>\n",
       "      <th>0</th>\n",
       "      <td>2023-02-24 13:30:00-05:00</td>\n",
       "      <td>186.990005</td>\n",
       "      <td>187.070007</td>\n",
       "      <td>185.940002</td>\n",
       "      <td>186.110001</td>\n",
       "      <td>186.110001</td>\n",
       "      <td>409633</td>\n",
       "      <td>-0.004610</td>\n",
       "      <td>-0.355076</td>\n",
       "      <td>-0.504838</td>\n",
       "      <td>...</td>\n",
       "      <td>-3.367155</td>\n",
       "      <td>-12.099235</td>\n",
       "      <td>4.178819</td>\n",
       "      <td>1.687700</td>\n",
       "      <td>1.648920</td>\n",
       "      <td>-1.09</td>\n",
       "      <td>0.001503</td>\n",
       "      <td>PANW</td>\n",
       "      <td>hold</td>\n",
       "      <td>1</td>\n",
       "    </tr>\n",
       "    <tr>\n",
       "      <th>1</th>\n",
       "      <td>2023-02-24 14:30:00-05:00</td>\n",
       "      <td>186.115005</td>\n",
       "      <td>186.960007</td>\n",
       "      <td>185.729996</td>\n",
       "      <td>186.389999</td>\n",
       "      <td>186.389999</td>\n",
       "      <td>604019</td>\n",
       "      <td>0.001503</td>\n",
       "      <td>-0.016897</td>\n",
       "      <td>0.191768</td>\n",
       "      <td>...</td>\n",
       "      <td>-11.538592</td>\n",
       "      <td>-128.664653</td>\n",
       "      <td>3.902855</td>\n",
       "      <td>1.711171</td>\n",
       "      <td>1.659901</td>\n",
       "      <td>-1.09</td>\n",
       "      <td>0.001662</td>\n",
       "      <td>PANW</td>\n",
       "      <td>hold</td>\n",
       "      <td>1</td>\n",
       "    </tr>\n",
       "    <tr>\n",
       "      <th>2</th>\n",
       "      <td>2023-02-24 15:30:00-05:00</td>\n",
       "      <td>186.410004</td>\n",
       "      <td>186.789993</td>\n",
       "      <td>185.600006</td>\n",
       "      <td>186.699997</td>\n",
       "      <td>186.699997</td>\n",
       "      <td>664367</td>\n",
       "      <td>0.001662</td>\n",
       "      <td>0.025714</td>\n",
       "      <td>0.047579</td>\n",
       "      <td>...</td>\n",
       "      <td>11.852290</td>\n",
       "      <td>16.298923</td>\n",
       "      <td>3.623581</td>\n",
       "      <td>1.724394</td>\n",
       "      <td>1.666195</td>\n",
       "      <td>-1.09</td>\n",
       "      <td>0.025385</td>\n",
       "      <td>PANW</td>\n",
       "      <td>buy</td>\n",
       "      <td>2</td>\n",
       "    </tr>\n",
       "    <tr>\n",
       "      <th>3</th>\n",
       "      <td>2023-02-27 09:30:00-05:00</td>\n",
       "      <td>187.889999</td>\n",
       "      <td>192.470001</td>\n",
       "      <td>187.779999</td>\n",
       "      <td>191.500000</td>\n",
       "      <td>191.500000</td>\n",
       "      <td>1296269</td>\n",
       "      <td>0.025385</td>\n",
       "      <td>0.200157</td>\n",
       "      <td>0.322294</td>\n",
       "      <td>...</td>\n",
       "      <td>0.587152</td>\n",
       "      <td>0.976965</td>\n",
       "      <td>1.036696</td>\n",
       "      <td>0.969970</td>\n",
       "      <td>1.198784</td>\n",
       "      <td>0.31</td>\n",
       "      <td>-0.007758</td>\n",
       "      <td>PANW</td>\n",
       "      <td>sell</td>\n",
       "      <td>0</td>\n",
       "    </tr>\n",
       "    <tr>\n",
       "      <th>4</th>\n",
       "      <td>2023-02-27 10:30:00-05:00</td>\n",
       "      <td>191.511597</td>\n",
       "      <td>192.250000</td>\n",
       "      <td>189.429993</td>\n",
       "      <td>190.020004</td>\n",
       "      <td>190.020004</td>\n",
       "      <td>529751</td>\n",
       "      <td>-0.007758</td>\n",
       "      <td>-0.257214</td>\n",
       "      <td>-0.419775</td>\n",
       "      <td>...</td>\n",
       "      <td>2.012722</td>\n",
       "      <td>2.011583</td>\n",
       "      <td>1.604369</td>\n",
       "      <td>1.232340</td>\n",
       "      <td>1.371384</td>\n",
       "      <td>0.31</td>\n",
       "      <td>0.001052</td>\n",
       "      <td>PANW</td>\n",
       "      <td>hold</td>\n",
       "      <td>1</td>\n",
       "    </tr>\n",
       "    <tr>\n",
       "      <th>...</th>\n",
       "      <td>...</td>\n",
       "      <td>...</td>\n",
       "      <td>...</td>\n",
       "      <td>...</td>\n",
       "      <td>...</td>\n",
       "      <td>...</td>\n",
       "      <td>...</td>\n",
       "      <td>...</td>\n",
       "      <td>...</td>\n",
       "      <td>...</td>\n",
       "      <td>...</td>\n",
       "      <td>...</td>\n",
       "      <td>...</td>\n",
       "      <td>...</td>\n",
       "      <td>...</td>\n",
       "      <td>...</td>\n",
       "      <td>...</td>\n",
       "      <td>...</td>\n",
       "      <td>...</td>\n",
       "      <td>...</td>\n",
       "      <td>...</td>\n",
       "    </tr>\n",
       "    <tr>\n",
       "      <th>2491</th>\n",
       "      <td>2024-07-30 10:30:00-04:00</td>\n",
       "      <td>180.440002</td>\n",
       "      <td>180.485001</td>\n",
       "      <td>177.009995</td>\n",
       "      <td>177.419998</td>\n",
       "      <td>177.419998</td>\n",
       "      <td>181576</td>\n",
       "      <td>-0.016657</td>\n",
       "      <td>0.057265</td>\n",
       "      <td>0.047943</td>\n",
       "      <td>...</td>\n",
       "      <td>0.429920</td>\n",
       "      <td>0.570901</td>\n",
       "      <td>0.749298</td>\n",
       "      <td>0.361043</td>\n",
       "      <td>-0.097075</td>\n",
       "      <td>0.68</td>\n",
       "      <td>-0.008803</td>\n",
       "      <td>ZS</td>\n",
       "      <td>sell</td>\n",
       "      <td>0</td>\n",
       "    </tr>\n",
       "    <tr>\n",
       "      <th>2492</th>\n",
       "      <td>2024-07-30 11:30:00-04:00</td>\n",
       "      <td>177.259995</td>\n",
       "      <td>177.644104</td>\n",
       "      <td>175.070007</td>\n",
       "      <td>175.865005</td>\n",
       "      <td>175.865005</td>\n",
       "      <td>150396</td>\n",
       "      <td>-0.008803</td>\n",
       "      <td>-0.045172</td>\n",
       "      <td>-0.093924</td>\n",
       "      <td>...</td>\n",
       "      <td>0.574795</td>\n",
       "      <td>0.538933</td>\n",
       "      <td>0.631277</td>\n",
       "      <td>0.317899</td>\n",
       "      <td>-0.075128</td>\n",
       "      <td>0.68</td>\n",
       "      <td>-0.003703</td>\n",
       "      <td>ZS</td>\n",
       "      <td>hold</td>\n",
       "      <td>1</td>\n",
       "    </tr>\n",
       "    <tr>\n",
       "      <th>2493</th>\n",
       "      <td>2024-07-30 12:30:00-04:00</td>\n",
       "      <td>175.779999</td>\n",
       "      <td>176.470001</td>\n",
       "      <td>173.649994</td>\n",
       "      <td>175.214996</td>\n",
       "      <td>175.214996</td>\n",
       "      <td>108531</td>\n",
       "      <td>-0.003703</td>\n",
       "      <td>-0.130762</td>\n",
       "      <td>-0.161686</td>\n",
       "      <td>...</td>\n",
       "      <td>0.902059</td>\n",
       "      <td>0.641585</td>\n",
       "      <td>0.653863</td>\n",
       "      <td>0.325060</td>\n",
       "      <td>-0.063107</td>\n",
       "      <td>0.68</td>\n",
       "      <td>0.008892</td>\n",
       "      <td>ZS</td>\n",
       "      <td>buy</td>\n",
       "      <td>2</td>\n",
       "    </tr>\n",
       "    <tr>\n",
       "      <th>2494</th>\n",
       "      <td>2024-07-30 13:30:00-04:00</td>\n",
       "      <td>175.279999</td>\n",
       "      <td>177.169998</td>\n",
       "      <td>175.210098</td>\n",
       "      <td>176.779999</td>\n",
       "      <td>176.779999</td>\n",
       "      <td>81983</td>\n",
       "      <td>0.008892</td>\n",
       "      <td>-0.148446</td>\n",
       "      <td>-0.139349</td>\n",
       "      <td>...</td>\n",
       "      <td>16.098107</td>\n",
       "      <td>1.621258</td>\n",
       "      <td>1.116058</td>\n",
       "      <td>0.464363</td>\n",
       "      <td>-0.066953</td>\n",
       "      <td>0.68</td>\n",
       "      <td>-0.000566</td>\n",
       "      <td>ZS</td>\n",
       "      <td>hold</td>\n",
       "      <td>1</td>\n",
       "    </tr>\n",
       "    <tr>\n",
       "      <th>2495</th>\n",
       "      <td>2024-07-30 14:30:00-04:00</td>\n",
       "      <td>176.802002</td>\n",
       "      <td>177.110001</td>\n",
       "      <td>176.050003</td>\n",
       "      <td>176.679993</td>\n",
       "      <td>176.679993</td>\n",
       "      <td>70669</td>\n",
       "      <td>-0.000566</td>\n",
       "      <td>-0.107762</td>\n",
       "      <td>-0.074116</td>\n",
       "      <td>...</td>\n",
       "      <td>12.985567</td>\n",
       "      <td>1.975095</td>\n",
       "      <td>1.242360</td>\n",
       "      <td>0.502424</td>\n",
       "      <td>-0.058120</td>\n",
       "      <td>0.68</td>\n",
       "      <td>0.000396</td>\n",
       "      <td>ZS</td>\n",
       "      <td>hold</td>\n",
       "      <td>1</td>\n",
       "    </tr>\n",
       "  </tbody>\n",
       "</table>\n",
       "<p>89822 rows × 84 columns</p>\n",
       "</div>"
      ],
      "text/plain": [
       "                       Datetime        Open        High         Low  \\\n",
       "0     2023-02-24 13:30:00-05:00  186.990005  187.070007  185.940002   \n",
       "1     2023-02-24 14:30:00-05:00  186.115005  186.960007  185.729996   \n",
       "2     2023-02-24 15:30:00-05:00  186.410004  186.789993  185.600006   \n",
       "3     2023-02-27 09:30:00-05:00  187.889999  192.470001  187.779999   \n",
       "4     2023-02-27 10:30:00-05:00  191.511597  192.250000  189.429993   \n",
       "...                         ...         ...         ...         ...   \n",
       "2491  2024-07-30 10:30:00-04:00  180.440002  180.485001  177.009995   \n",
       "2492  2024-07-30 11:30:00-04:00  177.259995  177.644104  175.070007   \n",
       "2493  2024-07-30 12:30:00-04:00  175.779999  176.470001  173.649994   \n",
       "2494  2024-07-30 13:30:00-04:00  175.279999  177.169998  175.210098   \n",
       "2495  2024-07-30 14:30:00-04:00  176.802002  177.110001  176.050003   \n",
       "\n",
       "           Close   Adj Close   Volume  Log_Return  EMAVolumeDiff2  \\\n",
       "0     186.110001  186.110001   409633   -0.004610       -0.355076   \n",
       "1     186.389999  186.389999   604019    0.001503       -0.016897   \n",
       "2     186.699997  186.699997   664367    0.001662        0.025714   \n",
       "3     191.500000  191.500000  1296269    0.025385        0.200157   \n",
       "4     190.020004  190.020004   529751   -0.007758       -0.257214   \n",
       "...          ...         ...      ...         ...             ...   \n",
       "2491  177.419998  177.419998   181576   -0.016657        0.057265   \n",
       "2492  175.865005  175.865005   150396   -0.008803       -0.045172   \n",
       "2493  175.214996  175.214996   108531   -0.003703       -0.130762   \n",
       "2494  176.779999  176.779999    81983    0.008892       -0.148446   \n",
       "2495  176.679993  176.679993    70669   -0.000566       -0.107762   \n",
       "\n",
       "      SMAVolumeDiff2  ...     MACD16      MACD32    MACD64   MACD128  \\\n",
       "0          -0.504838  ...  -3.367155  -12.099235  4.178819  1.687700   \n",
       "1           0.191768  ... -11.538592 -128.664653  3.902855  1.711171   \n",
       "2           0.047579  ...  11.852290   16.298923  3.623581  1.724394   \n",
       "3           0.322294  ...   0.587152    0.976965  1.036696  0.969970   \n",
       "4          -0.419775  ...   2.012722    2.011583  1.604369  1.232340   \n",
       "...              ...  ...        ...         ...       ...       ...   \n",
       "2491        0.047943  ...   0.429920    0.570901  0.749298  0.361043   \n",
       "2492       -0.093924  ...   0.574795    0.538933  0.631277  0.317899   \n",
       "2493       -0.161686  ...   0.902059    0.641585  0.653863  0.325060   \n",
       "2494       -0.139349  ...  16.098107    1.621258  1.116058  0.464363   \n",
       "2495       -0.074116  ...  12.985567    1.975095  1.242360  0.502424   \n",
       "\n",
       "       MACD256  FamaFrenchMktReturns  Log_Return_shift  stock_name  \\\n",
       "0     1.648920                 -1.09          0.001503        PANW   \n",
       "1     1.659901                 -1.09          0.001662        PANW   \n",
       "2     1.666195                 -1.09          0.025385        PANW   \n",
       "3     1.198784                  0.31         -0.007758        PANW   \n",
       "4     1.371384                  0.31          0.001052        PANW   \n",
       "...        ...                   ...               ...         ...   \n",
       "2491 -0.097075                  0.68         -0.008803          ZS   \n",
       "2492 -0.075128                  0.68         -0.003703          ZS   \n",
       "2493 -0.063107                  0.68          0.008892          ZS   \n",
       "2494 -0.066953                  0.68         -0.000566          ZS   \n",
       "2495 -0.058120                  0.68          0.000396          ZS   \n",
       "\n",
       "      Stock_Position  Target  \n",
       "0               hold       1  \n",
       "1               hold       1  \n",
       "2                buy       2  \n",
       "3               sell       0  \n",
       "4               hold       1  \n",
       "...              ...     ...  \n",
       "2491            sell       0  \n",
       "2492            hold       1  \n",
       "2493             buy       2  \n",
       "2494            hold       1  \n",
       "2495            hold       1  \n",
       "\n",
       "[89822 rows x 84 columns]"
      ]
     },
     "execution_count": 9,
     "metadata": {},
     "output_type": "execute_result"
    }
   ],
   "source": [
    "df"
   ]
  },
  {
   "cell_type": "code",
   "execution_count": 10,
   "id": "cb790925-b282-4e61-81f6-097e886b334f",
   "metadata": {},
   "outputs": [
    {
     "name": "stdout",
     "output_type": "stream",
     "text": [
      "0\n",
      "0\n"
     ]
    }
   ],
   "source": [
    "# additional logic to ensure buy remains +ve and sell remainvs -ve\n",
    "\n",
    "print(len(df[(df.Log_Return_shift < 0) & (df.Stock_Position == 'buy')]))\n",
    "# print(len(df[(df.Log_Return_shift < 0) & (df.Stock_Position == 'strong buy')]))\n",
    "\n",
    "print(len(df[(df.Log_Return_shift > 0) & (df.Stock_Position == 'sell')]))\n",
    "# print(len(df[(df.Log_Return_shift > 0) & (df.Stock_Position == 'strong sell')]))\n",
    "\n",
    "# all good"
   ]
  },
  {
   "cell_type": "markdown",
   "id": "b665686a-86ac-4113-a06a-6a07a8d87963",
   "metadata": {
    "jp-MarkdownHeadingCollapsed": true
   },
   "source": [
    "# preprocess dataset"
   ]
  },
  {
   "cell_type": "markdown",
   "id": "6c03b638-ab88-4a8e-b729-031be8e2a033",
   "metadata": {},
   "source": [
    "- set targets correctly (try 3 targets first)\n",
    "    - plot the distribution pdf of the target values\n",
    "      \n",
    "- split train val test on time\n",
    "    - within each split can shuffle\n",
    "    - split directly on the df\n",
    "\n",
    "- shortlist the target and features\n",
    "** keep the df unchanged so dont need to run above code again"
   ]
  },
  {
   "cell_type": "code",
   "execution_count": 10,
   "id": "0ac8aef4-218b-4cc2-8ba8-9d0a2020f619",
   "metadata": {},
   "outputs": [
    {
     "data": {
      "text/plain": [
       "((71852, 84), (8981, 84), (8983, 84))"
      ]
     },
     "execution_count": 10,
     "metadata": {},
     "output_type": "execute_result"
    }
   ],
   "source": [
    "# sort df according to date\n",
    "df1 = df.sort_values(\"Datetime\").reset_index(drop=True)\n",
    "\n",
    "# train test split on index\n",
    "train_size, val_size, test_size = 0.8, 0.1, 0.1\n",
    "train_size, val_size, test_size = int(len(df1) * train_size), int(len(df1) * val_size), int(len(df1) * test_size)\n",
    "train_df = df1.iloc[:train_size]\n",
    "val_df = df1.iloc[train_size:train_size + val_size]\n",
    "test_df = df1.iloc[train_size + val_size:]\n",
    "\n",
    "train_df.shape,val_df.shape,test_df.shape"
   ]
  },
  {
   "cell_type": "code",
   "execution_count": 11,
   "id": "1371bffa-b6ed-4639-bf4e-4e4c6b0816a4",
   "metadata": {},
   "outputs": [
    {
     "data": {
      "text/html": [
       "<div>\n",
       "<style scoped>\n",
       "    .dataframe tbody tr th:only-of-type {\n",
       "        vertical-align: middle;\n",
       "    }\n",
       "\n",
       "    .dataframe tbody tr th {\n",
       "        vertical-align: top;\n",
       "    }\n",
       "\n",
       "    .dataframe thead th {\n",
       "        text-align: right;\n",
       "    }\n",
       "</style>\n",
       "<table border=\"1\" class=\"dataframe\">\n",
       "  <thead>\n",
       "    <tr style=\"text-align: right;\">\n",
       "      <th></th>\n",
       "      <th>Datetime</th>\n",
       "      <th>Open</th>\n",
       "      <th>High</th>\n",
       "      <th>Low</th>\n",
       "      <th>Close</th>\n",
       "      <th>Adj Close</th>\n",
       "      <th>Volume</th>\n",
       "      <th>Log_Return</th>\n",
       "      <th>EMAVolumeDiff2</th>\n",
       "      <th>SMAVolumeDiff2</th>\n",
       "      <th>...</th>\n",
       "      <th>MACD16</th>\n",
       "      <th>MACD32</th>\n",
       "      <th>MACD64</th>\n",
       "      <th>MACD128</th>\n",
       "      <th>MACD256</th>\n",
       "      <th>FamaFrenchMktReturns</th>\n",
       "      <th>Log_Return_shift</th>\n",
       "      <th>stock_name</th>\n",
       "      <th>Stock_Position</th>\n",
       "      <th>Target</th>\n",
       "    </tr>\n",
       "  </thead>\n",
       "  <tbody>\n",
       "    <tr>\n",
       "      <th>0</th>\n",
       "      <td>2023-02-10 12:00:00+00:00</td>\n",
       "      <td>106.360001</td>\n",
       "      <td>106.639999</td>\n",
       "      <td>106.199997</td>\n",
       "      <td>106.269997</td>\n",
       "      <td>106.269997</td>\n",
       "      <td>1318353</td>\n",
       "      <td>-0.000658</td>\n",
       "      <td>-0.007519</td>\n",
       "      <td>0.045017</td>\n",
       "      <td>...</td>\n",
       "      <td>1.028772</td>\n",
       "      <td>0.136904</td>\n",
       "      <td>-0.029851</td>\n",
       "      <td>-0.186527</td>\n",
       "      <td>-0.638538</td>\n",
       "      <td>0.11</td>\n",
       "      <td>0.004600</td>\n",
       "      <td>RR.L</td>\n",
       "      <td>hold</td>\n",
       "      <td>1</td>\n",
       "    </tr>\n",
       "    <tr>\n",
       "      <th>1</th>\n",
       "      <td>2023-02-10 12:00:00+00:00</td>\n",
       "      <td>153.437500</td>\n",
       "      <td>153.699997</td>\n",
       "      <td>153.000000</td>\n",
       "      <td>153.085007</td>\n",
       "      <td>153.085007</td>\n",
       "      <td>210932</td>\n",
       "      <td>-0.003243</td>\n",
       "      <td>-0.317099</td>\n",
       "      <td>-0.373950</td>\n",
       "      <td>...</td>\n",
       "      <td>1.165333</td>\n",
       "      <td>0.300798</td>\n",
       "      <td>-0.237521</td>\n",
       "      <td>-0.690568</td>\n",
       "      <td>-1.679347</td>\n",
       "      <td>0.11</td>\n",
       "      <td>0.001730</td>\n",
       "      <td>MKS.L</td>\n",
       "      <td>hold</td>\n",
       "      <td>1</td>\n",
       "    </tr>\n",
       "    <tr>\n",
       "      <th>2</th>\n",
       "      <td>2023-02-10 12:00:00+00:00</td>\n",
       "      <td>1619.500000</td>\n",
       "      <td>1625.500000</td>\n",
       "      <td>1615.000000</td>\n",
       "      <td>1625.000000</td>\n",
       "      <td>1625.000000</td>\n",
       "      <td>38967</td>\n",
       "      <td>0.003390</td>\n",
       "      <td>-0.156986</td>\n",
       "      <td>-0.213034</td>\n",
       "      <td>...</td>\n",
       "      <td>29.033343</td>\n",
       "      <td>-0.033365</td>\n",
       "      <td>-1.200842</td>\n",
       "      <td>-4.101547</td>\n",
       "      <td>45.477088</td>\n",
       "      <td>0.11</td>\n",
       "      <td>0.001537</td>\n",
       "      <td>III.L</td>\n",
       "      <td>hold</td>\n",
       "      <td>1</td>\n",
       "    </tr>\n",
       "    <tr>\n",
       "      <th>3</th>\n",
       "      <td>2023-02-10 13:00:00+00:00</td>\n",
       "      <td>1625.500000</td>\n",
       "      <td>1631.000000</td>\n",
       "      <td>1617.982788</td>\n",
       "      <td>1627.500000</td>\n",
       "      <td>1627.500000</td>\n",
       "      <td>49544</td>\n",
       "      <td>0.001537</td>\n",
       "      <td>0.022851</td>\n",
       "      <td>0.119499</td>\n",
       "      <td>...</td>\n",
       "      <td>-2.899139</td>\n",
       "      <td>0.099350</td>\n",
       "      <td>-1.730039</td>\n",
       "      <td>-5.791475</td>\n",
       "      <td>21.748935</td>\n",
       "      <td>0.11</td>\n",
       "      <td>-0.001537</td>\n",
       "      <td>III.L</td>\n",
       "      <td>hold</td>\n",
       "      <td>1</td>\n",
       "    </tr>\n",
       "    <tr>\n",
       "      <th>4</th>\n",
       "      <td>2023-02-10 13:00:00+00:00</td>\n",
       "      <td>106.260002</td>\n",
       "      <td>106.980003</td>\n",
       "      <td>106.129997</td>\n",
       "      <td>106.760002</td>\n",
       "      <td>106.760002</td>\n",
       "      <td>859007</td>\n",
       "      <td>0.004600</td>\n",
       "      <td>-0.154064</td>\n",
       "      <td>-0.210965</td>\n",
       "      <td>...</td>\n",
       "      <td>11.923219</td>\n",
       "      <td>0.395658</td>\n",
       "      <td>-0.006902</td>\n",
       "      <td>-0.241713</td>\n",
       "      <td>-0.861859</td>\n",
       "      <td>0.11</td>\n",
       "      <td>0.005232</td>\n",
       "      <td>RR.L</td>\n",
       "      <td>hold</td>\n",
       "      <td>1</td>\n",
       "    </tr>\n",
       "  </tbody>\n",
       "</table>\n",
       "<p>5 rows × 84 columns</p>\n",
       "</div>"
      ],
      "text/plain": [
       "                    Datetime         Open         High          Low  \\\n",
       "0  2023-02-10 12:00:00+00:00   106.360001   106.639999   106.199997   \n",
       "1  2023-02-10 12:00:00+00:00   153.437500   153.699997   153.000000   \n",
       "2  2023-02-10 12:00:00+00:00  1619.500000  1625.500000  1615.000000   \n",
       "3  2023-02-10 13:00:00+00:00  1625.500000  1631.000000  1617.982788   \n",
       "4  2023-02-10 13:00:00+00:00   106.260002   106.980003   106.129997   \n",
       "\n",
       "         Close    Adj Close   Volume  Log_Return  EMAVolumeDiff2  \\\n",
       "0   106.269997   106.269997  1318353   -0.000658       -0.007519   \n",
       "1   153.085007   153.085007   210932   -0.003243       -0.317099   \n",
       "2  1625.000000  1625.000000    38967    0.003390       -0.156986   \n",
       "3  1627.500000  1627.500000    49544    0.001537        0.022851   \n",
       "4   106.760002   106.760002   859007    0.004600       -0.154064   \n",
       "\n",
       "   SMAVolumeDiff2  ...     MACD16    MACD32    MACD64   MACD128    MACD256  \\\n",
       "0        0.045017  ...   1.028772  0.136904 -0.029851 -0.186527  -0.638538   \n",
       "1       -0.373950  ...   1.165333  0.300798 -0.237521 -0.690568  -1.679347   \n",
       "2       -0.213034  ...  29.033343 -0.033365 -1.200842 -4.101547  45.477088   \n",
       "3        0.119499  ...  -2.899139  0.099350 -1.730039 -5.791475  21.748935   \n",
       "4       -0.210965  ...  11.923219  0.395658 -0.006902 -0.241713  -0.861859   \n",
       "\n",
       "   FamaFrenchMktReturns  Log_Return_shift  stock_name  Stock_Position  Target  \n",
       "0                  0.11          0.004600        RR.L            hold       1  \n",
       "1                  0.11          0.001730       MKS.L            hold       1  \n",
       "2                  0.11          0.001537       III.L            hold       1  \n",
       "3                  0.11         -0.001537       III.L            hold       1  \n",
       "4                  0.11          0.005232        RR.L            hold       1  \n",
       "\n",
       "[5 rows x 84 columns]"
      ]
     },
     "execution_count": 11,
     "metadata": {},
     "output_type": "execute_result"
    }
   ],
   "source": [
    "train_df.head()"
   ]
  },
  {
   "cell_type": "code",
   "execution_count": 12,
   "id": "b972d4aa-48a1-4e2e-b76b-d929b9687021",
   "metadata": {},
   "outputs": [
    {
     "data": {
      "text/plain": [
       "(Index(['Datetime', 'Open', 'High', 'Low', 'Close', 'Adj Close', 'Volume',\n",
       "        'Log_Return', 'EMAVolumeDiff2', 'SMAVolumeDiff2', 'EMACloseDiff2',\n",
       "        'SMACloseDiff2', 'VWAP2', 'VolatilityStdDev2', 'Volatility2',\n",
       "        'Momentum2', 'EMAVolumeDiff4', 'SMAVolumeDiff4', 'EMACloseDiff4',\n",
       "        'SMACloseDiff4', 'VWAP4', 'VolatilityStdDev4', 'Volatility4',\n",
       "        'Momentum4', 'EMAVolumeDiff8', 'SMAVolumeDiff8', 'EMACloseDiff8',\n",
       "        'SMACloseDiff8', 'VWAP8', 'VolatilityStdDev8', 'Volatility8',\n",
       "        'Momentum8', 'EMAVolumeDiff16', 'SMAVolumeDiff16', 'EMACloseDiff16',\n",
       "        'SMACloseDiff16', 'VWAP16', 'VolatilityStdDev16', 'Volatility16',\n",
       "        'Momentum16', 'EMAVolumeDiff32', 'SMAVolumeDiff32', 'EMACloseDiff32',\n",
       "        'SMACloseDiff32', 'VWAP32', 'VolatilityStdDev32', 'Volatility32',\n",
       "        'Momentum32', 'EMAVolumeDiff64', 'SMAVolumeDiff64', 'EMACloseDiff64',\n",
       "        'SMACloseDiff64', 'VWAP64', 'VolatilityStdDev64', 'Volatility64',\n",
       "        'Momentum64', 'EMAVolumeDiff128', 'SMAVolumeDiff128', 'EMACloseDiff128',\n",
       "        'SMACloseDiff128', 'VWAP128', 'VolatilityStdDev128', 'Volatility128',\n",
       "        'Momentum128', 'EMAVolumeDiff256', 'SMAVolumeDiff256',\n",
       "        'EMACloseDiff256', 'SMACloseDiff256', 'VWAP256', 'VolatilityStdDev256',\n",
       "        'Volatility256', 'Momentum256', 'PriceVolatilityHourly', 'MACD8',\n",
       "        'MACD16', 'MACD32', 'MACD64', 'MACD128', 'MACD256',\n",
       "        'FamaFrenchMktReturns', 'Log_Return_shift', 'stock_name',\n",
       "        'Stock_Position', 'Target'],\n",
       "       dtype='object'),\n",
       " Index(['EMAVolumeDiff2', 'SMAVolumeDiff2', 'EMACloseDiff2', 'SMACloseDiff2',\n",
       "        'VWAP2', 'VolatilityStdDev2', 'Volatility2', 'Momentum2',\n",
       "        'EMAVolumeDiff4', 'SMAVolumeDiff4', 'EMACloseDiff4', 'SMACloseDiff4',\n",
       "        'VWAP4', 'VolatilityStdDev4', 'Volatility4', 'Momentum4',\n",
       "        'EMAVolumeDiff8', 'SMAVolumeDiff8', 'EMACloseDiff8', 'SMACloseDiff8',\n",
       "        'VWAP8', 'VolatilityStdDev8', 'Volatility8', 'Momentum8',\n",
       "        'EMAVolumeDiff16', 'SMAVolumeDiff16', 'EMACloseDiff16',\n",
       "        'SMACloseDiff16', 'VWAP16', 'VolatilityStdDev16', 'Volatility16',\n",
       "        'Momentum16', 'EMAVolumeDiff32', 'SMAVolumeDiff32', 'EMACloseDiff32',\n",
       "        'SMACloseDiff32', 'VWAP32', 'VolatilityStdDev32', 'Volatility32',\n",
       "        'Momentum32', 'EMAVolumeDiff64', 'SMAVolumeDiff64', 'EMACloseDiff64',\n",
       "        'SMACloseDiff64', 'VWAP64', 'VolatilityStdDev64', 'Volatility64',\n",
       "        'Momentum64', 'EMAVolumeDiff128', 'SMAVolumeDiff128', 'EMACloseDiff128',\n",
       "        'SMACloseDiff128', 'VWAP128', 'VolatilityStdDev128', 'Volatility128',\n",
       "        'Momentum128', 'EMAVolumeDiff256', 'SMAVolumeDiff256',\n",
       "        'EMACloseDiff256', 'SMACloseDiff256', 'VWAP256', 'VolatilityStdDev256',\n",
       "        'Volatility256', 'Momentum256', 'PriceVolatilityHourly', 'MACD8',\n",
       "        'MACD16', 'MACD32', 'MACD64', 'MACD128', 'MACD256',\n",
       "        'FamaFrenchMktReturns'],\n",
       "       dtype='object'))"
      ]
     },
     "execution_count": 12,
     "metadata": {},
     "output_type": "execute_result"
    }
   ],
   "source": [
    "df.columns, df.columns[8:-4]"
   ]
  },
  {
   "cell_type": "markdown",
   "id": "693732ac-27ed-43df-810e-226084d76e79",
   "metadata": {
    "jp-MarkdownHeadingCollapsed": true
   },
   "source": [
    "# training mtd 1 - using all features"
   ]
  },
  {
   "cell_type": "code",
   "execution_count": 14,
   "id": "241a4ea8-7f56-45f2-abc0-0ab2ebd2390c",
   "metadata": {},
   "outputs": [
    {
     "name": "stdout",
     "output_type": "stream",
     "text": [
      "72\n",
      "(71852, 72) (71852,)\n",
      "(8981, 72) (8981,)\n",
      "(8983, 72) (8983,)\n"
     ]
    }
   ],
   "source": [
    "features = df.columns[8:-4]\n",
    "print(len(features))\n",
    "target = \"Target\"\n",
    "\n",
    "X_train = train_df[features].to_numpy()\n",
    "y_train = train_df[target].to_numpy()\n",
    "print(X_train.shape,y_train.shape)\n",
    "\n",
    "X_val = val_df[features].to_numpy()\n",
    "y_val = val_df[target].to_numpy()\n",
    "print(X_val.shape,y_val.shape)\n",
    "\n",
    "X_test = test_df[features].to_numpy()\n",
    "y_test = test_df[target].to_numpy()\n",
    "print(X_test.shape,y_test.shape)"
   ]
  },
  {
   "cell_type": "code",
   "execution_count": 15,
   "id": "e5c3f252-940a-40c6-964f-aafab937cae7",
   "metadata": {},
   "outputs": [
    {
     "data": {
      "text/plain": [
       "({0, 1, 2}, {0, 1, 2}, {0, 1, 2})"
      ]
     },
     "execution_count": 15,
     "metadata": {},
     "output_type": "execute_result"
    }
   ],
   "source": [
    "set(y_train),set(y_val),set(y_test)"
   ]
  },
  {
   "cell_type": "code",
   "execution_count": 16,
   "id": "066a11a7-77e0-482c-8a90-f9d1dedb1891",
   "metadata": {},
   "outputs": [
    {
     "data": {
      "text/plain": [
       "((71852, 72), (71852,), (8981, 72), (8981,), (8983, 72), (8983,))"
      ]
     },
     "execution_count": 16,
     "metadata": {},
     "output_type": "execute_result"
    }
   ],
   "source": [
    "from scripts.train_predict import *\n",
    "\n",
    "# standardise the values\n",
    "\n",
    "scaler = StandardScaler()\n",
    "\n",
    "# Fit the scaler on the training data and transform the training data\n",
    "X_train = scaler.fit_transform(X_train)\n",
    "\n",
    "# Transform the validation data\n",
    "X_val = scaler.transform(X_val)\n",
    "\n",
    "# Transform the test data\n",
    "X_test = scaler.transform(X_test)\n",
    "\n",
    "X_train.shape,y_train.shape,X_val.shape,y_val.shape,X_test.shape,y_test.shape"
   ]
  },
  {
   "cell_type": "code",
   "execution_count": 17,
   "id": "4f35ba22-6590-4d1c-bc1d-5f0a7a13af64",
   "metadata": {},
   "outputs": [
    {
     "data": {
      "text/plain": [
       "(array([ 0.16196657,  0.15657875, -0.3766863 , -0.0950475 , -0.11257569,\n",
       "        -0.37063436, -0.41087999, -0.13943336,  0.1919551 , -0.09555786,\n",
       "        -0.78017082, -0.63930476, -0.7157543 , -0.28544134, -0.34297922,\n",
       "        -1.21288707,  0.28347045,  0.20787738, -1.05400475, -1.09409578,\n",
       "        -1.3413338 , -0.30491055, -0.69522583, -1.58249893,  0.08492642,\n",
       "         0.52954691, -1.05958081, -1.11320275, -1.24959068, -0.40915208,\n",
       "        -0.58798545, -0.75246818, -0.27398626, -0.72217051, -0.8753729 ,\n",
       "        -0.84053726, -0.77921525, -0.50256557, -0.63150696,  0.08698842,\n",
       "        -0.49954135, -0.35899152, -0.71533723, -0.54832413, -0.57315474,\n",
       "        -0.5439592 , -0.83144724,  0.53995064, -0.6643408 , -0.76756302,\n",
       "        -0.6076214 , -0.66217423, -0.71627525, -0.54616022, -0.73343616,\n",
       "         0.16451308, -0.81797078, -0.80745986, -0.53185082, -0.45857067,\n",
       "        -0.43626693, -0.53937845, -0.75924148,  0.44250653, -1.43251387,\n",
       "         0.00854863,  0.00456125, -0.00718936,  0.00381735, -0.00215959,\n",
       "        -0.00686792,  0.05446214]),\n",
       " 1)"
      ]
     },
     "execution_count": 17,
     "metadata": {},
     "output_type": "execute_result"
    }
   ],
   "source": [
    "X_train[0],y_train[0]"
   ]
  },
  {
   "cell_type": "code",
   "execution_count": 18,
   "id": "ab4ae2e6-02cb-49c8-a129-0da3653768a7",
   "metadata": {},
   "outputs": [],
   "source": [
    "from sklearn.metrics import accuracy_score\n",
    "\n",
    "def train():\n",
    "    # initialise training params\n",
    "    best_score = float('inf')\n",
    "    best_params = None\n",
    "    best_model = None\n",
    "    \n",
    "\n",
    "    # Define the parameter grid\n",
    "    param_grid = {\n",
    "        # 'hidden_layer_sizes': [(8,), (16,), (32,), (64,), (64,8), (64,16,), (32,8), (16,8), (8,16,), (8,64,)], # Different architectures\n",
    "        # 'activation': ['relu', 'tanh'], # Different activation functions\n",
    "        # 'solver': ['adam', 'sgd'], # Different solvers\n",
    "        # 'alpha': [0.0001, 0.001], # Different regularization terms\n",
    "        # 'learning_rate': ['constant', 'adaptive'], # Different learning rates\n",
    "        # 'hidden_layer_sizes': [(8,64), (8,4), (8,2), (4,2),(2),(1),(4)], # Different architectures\n",
    "        'hidden_layer_sizes': [(32)], # Different architectures\n",
    "        # 'hidden_layer_sizes': [(6, 8, 64, 1), (64, 1)], # Different architectures\n",
    "        # 'hidden_layer_sizes': [(8,64), (16,64), (32,64), (32, 128)], # Different architectures\n",
    "        'activation': ['relu'], # Different activation functions\n",
    "        'solver': ['adam'], # Different solvers\n",
    "        'alpha': [0.0005], # Different regularization terms\n",
    "        'learning_rate': ['adaptive'], # Different learning rates\n",
    "    }\n",
    "\n",
    "    for params in alive_it(ParameterGrid(param_grid)):\n",
    "        model = MLPClassifier(max_iter=1000, **params) # initialise new model before each run\n",
    "        model.fit(X_train, y_train)\n",
    "        y_pred = model.predict(X_val)\n",
    "        # score = model.score(y_val, y_pred)\n",
    "        score,y_pred = predict(model,X_val,y_val)\n",
    "        \n",
    "        if score < best_score:\n",
    "            best_score = score\n",
    "            best_params = params\n",
    "            best_model = model\n",
    "            print(f\"score: {round(best_score,7)}\")\n",
    "            # print(f\"score: {round(best_score,7)}, params: {best_params}\")\n",
    "\n",
    "    print(f\"Best parameters found: {best_params}\")\n",
    "    print(f\"Best validation score: {round(best_score,5)}\")\n",
    "\n",
    "    return best_model, best_params, best_score, X_test, y_test\n",
    "\n",
    "def predict(best_model, X_test, y_test):\n",
    "    y_pred = best_model.predict(X_test)\n",
    "    acc = accuracy_score(y_test, y_pred)\n",
    "    \n",
    "    return acc,y_pred\n",
    "\n",
    "def train_predict():\n",
    "    best_model, best_params, best_score, X_test, y_test = train()\n",
    "    acc,y_pred = predict(best_model, X_test, y_test)\n",
    "    \n",
    "    return best_model, best_params, best_score, acc, y_pred"
   ]
  },
  {
   "cell_type": "code",
   "execution_count": 19,
   "id": "7bef166e-c0ab-4b3a-951b-9eff64bac5b0",
   "metadata": {},
   "outputs": [
    {
     "name": "stdout",
     "output_type": "stream",
     "text": [
      "on 0: score: 0.8051442\n",
      "|████████████████████████████████████████| 1/1 [100%] in 52.1s (0.02/s) \n",
      "Best parameters found: {'activation': 'relu', 'alpha': 0.0005, 'hidden_layer_sizes': 32, 'learning_rate': 'adaptive', 'solver': 'adam'}\n",
      "Best validation score: 0.80514\n"
     ]
    }
   ],
   "source": [
    "best_model, best_params, best_score, acc, y_pred = train_predict()"
   ]
  },
  {
   "cell_type": "code",
   "execution_count": 20,
   "id": "f9658a0a-5abb-488b-94bd-43864e420682",
   "metadata": {},
   "outputs": [
    {
     "name": "stdout",
     "output_type": "stream",
     "text": [
      "accuracy: 79.06\n"
     ]
    },
    {
     "data": {
      "image/png": "[encoded data removed]",
      "text/plain": [
       "<Figure size 640x480 with 2 Axes>"
      ]
     },
     "metadata": {},
     "output_type": "display_data"
    }
   ],
   "source": [
    "from sklearn.metrics import confusion_matrix, ConfusionMatrixDisplay\n",
    "\n",
    "print(f\"accuracy: {round(acc*100,2)}\")\n",
    "labels = ['sell', 'hold', 'buy']\n",
    "cm = confusion_matrix(y_test, y_pred)\n",
    "disp = ConfusionMatrixDisplay(confusion_matrix=cm,\n",
    "                              display_labels=labels)\n",
    "disp.plot()\n",
    "plt.show()"
   ]
  },
  {
   "cell_type": "markdown",
   "id": "c133d691-de69-4807-8e55-2650c52172b0",
   "metadata": {
    "jp-MarkdownHeadingCollapsed": true
   },
   "source": [
    "# training mtd 2 - using SelectKBest(10)"
   ]
  },
  {
   "cell_type": "code",
   "execution_count": 22,
   "id": "1114285c-2191-4339-98c3-14ba9c296915",
   "metadata": {},
   "outputs": [
    {
     "name": "stdout",
     "output_type": "stream",
     "text": [
      "72\n",
      "(71852, 72) (71852,)\n",
      "(8981, 72) (8981,)\n",
      "(8983, 72) (8983,)\n"
     ]
    }
   ],
   "source": [
    "features = df.columns[8:-4]\n",
    "print(len(features))\n",
    "target = \"Target\"\n",
    "\n",
    "X_train = train_df[features].to_numpy()\n",
    "y_train = train_df[target].to_numpy()\n",
    "print(X_train.shape,y_train.shape)\n",
    "\n",
    "X_val = val_df[features].to_numpy()\n",
    "y_val = val_df[target].to_numpy()\n",
    "print(X_val.shape,y_val.shape)\n",
    "\n",
    "X_test = test_df[features].to_numpy()\n",
    "y_test = test_df[target].to_numpy()\n",
    "print(X_test.shape,y_test.shape)"
   ]
  },
  {
   "cell_type": "code",
   "execution_count": 23,
   "id": "76b7c153-86dd-4d37-8227-e4dfc87f1fd9",
   "metadata": {},
   "outputs": [
    {
     "data": {
      "text/plain": [
       "((71852, 10), (71852,), (8981, 10), (8981,), (8983, 10), (8983,))"
      ]
     },
     "execution_count": 23,
     "metadata": {},
     "output_type": "execute_result"
    }
   ],
   "source": [
    "from scripts.train_predict import *\n",
    "\n",
    "# standardise the values and selectKbest\n",
    "scaler = StandardScaler()\n",
    "selector = SelectKBest(f_regression, k=10)\n",
    "\n",
    "# Fit the scaler on the training data and transform the training data\n",
    "X_train = scaler.fit_transform(X_train)\n",
    "X_train = selector.fit_transform(X_train, y_train)\n",
    "\n",
    "# Transform the validation data\n",
    "X_val = scaler.transform(X_val)\n",
    "X_val = selector.transform(X_val)\n",
    "\n",
    "# Transform the test data\n",
    "X_test = scaler.transform(X_test)\n",
    "X_test = selector.transform(X_test)\n",
    "\n",
    "X_train.shape,y_train.shape,X_val.shape,y_val.shape,X_test.shape,y_test.shape"
   ]
  },
  {
   "cell_type": "code",
   "execution_count": 24,
   "id": "903914ee-c6ea-4ee1-a26f-6e6d25e424d0",
   "metadata": {},
   "outputs": [
    {
     "data": {
      "text/plain": [
       "(array([ 0.28347045,  0.08492642, -0.27398626, -0.72217051, -0.49954135,\n",
       "        -0.6643408 , -0.76756302, -0.81797078, -0.80745986,  0.05446214]),\n",
       " 1)"
      ]
     },
     "execution_count": 24,
     "metadata": {},
     "output_type": "execute_result"
    }
   ],
   "source": [
    "X_train[0],y_train[0]"
   ]
  },
  {
   "cell_type": "code",
   "execution_count": 25,
   "id": "8fa604bb-fda8-4a05-83cb-608c4c273825",
   "metadata": {},
   "outputs": [],
   "source": [
    "from sklearn.metrics import accuracy_score\n",
    "\n",
    "def train():\n",
    "    # initialise training params\n",
    "    best_score = float('inf')\n",
    "    best_params = None\n",
    "    best_model = None\n",
    "    \n",
    "\n",
    "    # Define the parameter grid\n",
    "    param_grid = {\n",
    "        # 'hidden_layer_sizes': [(8,), (16,), (32,), (64,), (64,8), (64,16,), (32,8), (16,8), (8,16,), (8,64,)], # Different architectures\n",
    "        # 'activation': ['relu', 'tanh'], # Different activation functions\n",
    "        # 'solver': ['adam', 'sgd'], # Different solvers\n",
    "        # 'alpha': [0.0001, 0.001], # Different regularization terms\n",
    "        # 'learning_rate': ['constant', 'adaptive'], # Different learning rates\n",
    "        # 'hidden_layer_sizes': [(8,64), (8,4), (8,2), (4,2),(2),(1),(4)], # Different architectures\n",
    "        'hidden_layer_sizes': [(32)], # Different architectures\n",
    "        # 'hidden_layer_sizes': [(6, 8, 64, 1), (64, 1)], # Different architectures\n",
    "        # 'hidden_layer_sizes': [(8,64), (16,64), (32,64), (32, 128)], # Different architectures\n",
    "        'activation': ['relu'], # Different activation functions\n",
    "        'solver': ['adam'], # Different solvers\n",
    "        'alpha': [0.0005], # Different regularization terms\n",
    "        'learning_rate': ['adaptive'], # Different learning rates\n",
    "    }\n",
    "\n",
    "    for params in alive_it(ParameterGrid(param_grid)):\n",
    "        model = MLPClassifier(max_iter=1000, **params) # initialise new model before each run\n",
    "        model.fit(X_train, y_train)\n",
    "        y_pred = model.predict(X_val)\n",
    "        # score = model.score(y_val, y_pred)\n",
    "        score,y_pred = predict(model,X_val,y_val)\n",
    "        \n",
    "        if score < best_score:\n",
    "            best_score = score\n",
    "            best_params = params\n",
    "            best_model = model\n",
    "            print(f\"score: {round(best_score,7)}\")\n",
    "            # print(f\"score: {round(best_score,7)}, params: {best_params}\")\n",
    "\n",
    "    print(f\"Best parameters found: {best_params}\")\n",
    "    print(f\"Best validation score: {round(best_score,5)}\")\n",
    "\n",
    "    return best_model, best_params, best_score, X_test, y_test\n",
    "\n",
    "def predict(best_model, X_test, y_test):\n",
    "    y_pred = best_model.predict(X_test)\n",
    "    acc = accuracy_score(y_test, y_pred)\n",
    "    \n",
    "    return acc,y_pred\n",
    "\n",
    "def train_predict():\n",
    "    best_model, best_params, best_score, X_test, y_test = train()\n",
    "    acc,y_pred = predict(best_model, X_test, y_test)\n",
    "    \n",
    "    return best_model, best_params, best_score, acc, y_pred"
   ]
  },
  {
   "cell_type": "code",
   "execution_count": 26,
   "id": "e3ca534e-e664-448e-bddc-3a9edd42f8ca",
   "metadata": {},
   "outputs": [
    {
     "name": "stdout",
     "output_type": "stream",
     "text": [
      "on 0: score: 0.8113796\n",
      "|████████████████████████████████████████| 1/1 [100%] in 2.4s (0.41/s) \n",
      "Best parameters found: {'activation': 'relu', 'alpha': 0.0005, 'hidden_layer_sizes': 32, 'learning_rate': 'adaptive', 'solver': 'adam'}\n",
      "Best validation score: 0.81138\n"
     ]
    }
   ],
   "source": [
    "best_model, best_params, best_score, acc, y_pred = train_predict()"
   ]
  },
  {
   "cell_type": "code",
   "execution_count": 27,
   "id": "c375bd2c-a59d-4d5a-a4ce-6b6404e64b33",
   "metadata": {},
   "outputs": [
    {
     "name": "stdout",
     "output_type": "stream",
     "text": [
      "accuracy: 79.64\n"
     ]
    },
    {
     "data": {
      "image/png": "[encoded data removed]",
      "text/plain": [
       "<Figure size 640x480 with 2 Axes>"
      ]
     },
     "metadata": {},
     "output_type": "display_data"
    }
   ],
   "source": [
    "from sklearn.metrics import confusion_matrix, ConfusionMatrixDisplay\n",
    "\n",
    "print(f\"accuracy: {round(acc*100,2)}\")\n",
    "labels = ['sell', 'hold', 'buy']\n",
    "cm = confusion_matrix(y_test, y_pred)\n",
    "disp = ConfusionMatrixDisplay(confusion_matrix=cm,\n",
    "                              display_labels=labels)\n",
    "disp.plot()\n",
    "plt.show()"
   ]
  },
  {
   "cell_type": "markdown",
   "id": "3d46b45f-c23f-4c02-afc5-a89ae398bbf4",
   "metadata": {},
   "source": [
    "# training mtd 3 - using PCA(0.95)"
   ]
  },
  {
   "cell_type": "code",
   "execution_count": 29,
   "id": "e7bc468a-b706-428c-b46d-2dc051519357",
   "metadata": {},
   "outputs": [
    {
     "name": "stdout",
     "output_type": "stream",
     "text": [
      "72\n",
      "(71852, 72) (71852,)\n",
      "(8981, 72) (8981,)\n",
      "(8983, 72) (8983,)\n"
     ]
    }
   ],
   "source": [
    "features = df.columns[8:-4]\n",
    "print(len(features))\n",
    "target = \"Target\"\n",
    "\n",
    "X_train = train_df[features].to_numpy()\n",
    "y_train = train_df[target].to_numpy()\n",
    "print(X_train.shape,y_train.shape)\n",
    "\n",
    "X_val = val_df[features].to_numpy()\n",
    "y_val = val_df[target].to_numpy()\n",
    "print(X_val.shape,y_val.shape)\n",
    "\n",
    "X_test = test_df[features].to_numpy()\n",
    "y_test = test_df[target].to_numpy()\n",
    "print(X_test.shape,y_test.shape)"
   ]
  },
  {
   "cell_type": "code",
   "execution_count": 30,
   "id": "78c35858-c02c-4dd8-961c-c46ace5e6b1a",
   "metadata": {},
   "outputs": [
    {
     "data": {
      "text/plain": [
       "((71852, 26), (71852,), (8981, 26), (8981,), (8983, 26), (8983,))"
      ]
     },
     "execution_count": 30,
     "metadata": {},
     "output_type": "execute_result"
    }
   ],
   "source": [
    "from scripts.train_predict import *\n",
    "\n",
    "# standardise the values and selectKbest\n",
    "scaler = StandardScaler()\n",
    "pca = PCA(n_components = 0.95)\n",
    "\n",
    "# Fit the scaler on the training data and transform the training data\n",
    "X_train = scaler.fit_transform(X_train)\n",
    "X_train = pca.fit_transform(X_train)\n",
    "\n",
    "# Transform the validation data\n",
    "X_val = scaler.transform(X_val)\n",
    "X_val = pca.transform(X_val)\n",
    "\n",
    "# Transform the test data\n",
    "X_test = scaler.transform(X_test)\n",
    "X_test = pca.transform(X_test)\n",
    "\n",
    "X_train.shape,y_train.shape,X_val.shape,y_val.shape,X_test.shape,y_test.shape"
   ]
  },
  {
   "cell_type": "code",
   "execution_count": 31,
   "id": "2e37f036-a962-40de-9cda-c1dd0426b73e",
   "metadata": {},
   "outputs": [
    {
     "data": {
      "text/plain": [
       "(array([ 4.06437851, -0.93924102, -1.0004093 , -1.91308759,  0.31886125,\n",
       "        -0.78208201,  1.07155008,  0.96244934, -0.16812404, -1.03498993,\n",
       "         0.10637719, -0.11590096, -0.0431057 ,  0.03599223, -0.0062318 ,\n",
       "         0.66221725,  0.91197256,  0.45912129,  0.22149472, -0.6944986 ,\n",
       "        -0.06879946, -0.55169318,  0.14570435,  0.58660233,  0.11591452,\n",
       "        -0.43853753]),\n",
       " 1)"
      ]
     },
     "execution_count": 31,
     "metadata": {},
     "output_type": "execute_result"
    }
   ],
   "source": [
    "X_train[0],y_train[0]"
   ]
  },
  {
   "cell_type": "code",
   "execution_count": 32,
   "id": "986ca20d-1bb2-4f1b-a64f-03c65d69a901",
   "metadata": {},
   "outputs": [],
   "source": [
    "from sklearn.metrics import accuracy_score\n",
    "\n",
    "def train():\n",
    "    # initialise training params\n",
    "    best_score = float('inf')\n",
    "    best_params = None\n",
    "    best_model = None\n",
    "    \n",
    "\n",
    "    # Define the parameter grid\n",
    "    param_grid = {\n",
    "        # 'hidden_layer_sizes': [(8,), (16,), (32,), (64,), (64,8), (64,16,), (32,8), (16,8), (8,16,), (8,64,)], # Different architectures\n",
    "        # 'activation': ['relu', 'tanh'], # Different activation functions\n",
    "        # 'solver': ['adam', 'sgd'], # Different solvers\n",
    "        # 'alpha': [0.0001, 0.001], # Different regularization terms\n",
    "        # 'learning_rate': ['constant', 'adaptive'], # Different learning rates\n",
    "        # 'hidden_layer_sizes': [(8,64), (8,4), (8,2), (4,2),(2),(1),(4)], # Different architectures\n",
    "        'hidden_layer_sizes': [(32)], # Different architectures\n",
    "        # 'hidden_layer_sizes': [(6, 8, 64, 1), (64, 1)], # Different architectures\n",
    "        # 'hidden_layer_sizes': [(8,64), (16,64), (32,64), (32, 128)], # Different architectures\n",
    "        'activation': ['relu'], # Different activation functions\n",
    "        'solver': ['adam'], # Different solvers\n",
    "        'alpha': [0.0005], # Different regularization terms\n",
    "        'learning_rate': ['adaptive'], # Different learning rates\n",
    "    }\n",
    "\n",
    "    for params in alive_it(ParameterGrid(param_grid)):\n",
    "        model = MLPClassifier(max_iter=1000, **params) # initialise new model before each run\n",
    "        model.fit(X_train, y_train)\n",
    "        y_pred = model.predict(X_val)\n",
    "        # score = model.score(y_val, y_pred)\n",
    "        score,y_pred = predict(model,X_val,y_val)\n",
    "        \n",
    "        if score < best_score:\n",
    "            best_score = score\n",
    "            best_params = params\n",
    "            best_model = model\n",
    "            print(f\"score: {round(best_score,7)}\")\n",
    "            # print(f\"score: {round(best_score,7)}, params: {best_params}\")\n",
    "\n",
    "    print(f\"Best parameters found: {best_params}\")\n",
    "    print(f\"Best validation score: {round(best_score,5)}\")\n",
    "\n",
    "    return best_model, best_params, best_score, X_test, y_test\n",
    "\n",
    "def predict(best_model, X_test, y_test):\n",
    "    y_pred = best_model.predict(X_test)\n",
    "    acc = accuracy_score(y_test, y_pred)\n",
    "    \n",
    "    return acc,y_pred\n",
    "\n",
    "def train_predict():\n",
    "    best_model, best_params, best_score, X_test, y_test = train()\n",
    "    acc,y_pred = predict(best_model, X_test, y_test)\n",
    "    \n",
    "    return best_model, best_params, best_score, acc, y_pred"
   ]
  },
  {
   "cell_type": "code",
   "execution_count": 33,
   "id": "66de31bd-6ca8-47ea-96f2-4fbc45efeb60",
   "metadata": {},
   "outputs": [
    {
     "name": "stdout",
     "output_type": "stream",
     "text": [
      "on 0: score: 0.8101548\n",
      "|████████████████████████████████████████| 1/1 [100%] in 5.0s (0.20/s) \n",
      "Best parameters found: {'activation': 'relu', 'alpha': 0.0005, 'hidden_layer_sizes': 32, 'learning_rate': 'adaptive', 'solver': 'adam'}\n",
      "Best validation score: 0.81015\n"
     ]
    }
   ],
   "source": [
    "best_model, best_params, best_score, acc, y_pred = train_predict()"
   ]
  },
  {
   "cell_type": "code",
   "execution_count": 34,
   "id": "340be202-79c4-42ea-9be5-8596b76c8b47",
   "metadata": {},
   "outputs": [
    {
     "name": "stdout",
     "output_type": "stream",
     "text": [
      "accuracy: 79.56\n"
     ]
    },
    {
     "data": {
      "image/png": "[encoded data removed]",
      "text/plain": [
       "<Figure size 640x480 with 2 Axes>"
      ]
     },
     "metadata": {},
     "output_type": "display_data"
    }
   ],
   "source": [
    "from sklearn.metrics import confusion_matrix, ConfusionMatrixDisplay\n",
    "\n",
    "print(f\"accuracy: {round(acc*100,2)}\")\n",
    "labels = ['sell', 'hold', 'buy']\n",
    "cm = confusion_matrix(y_test, y_pred)\n",
    "disp = ConfusionMatrixDisplay(confusion_matrix=cm,\n",
    "                              display_labels=labels)\n",
    "disp.plot()\n",
    "plt.show()"
   ]
  },
  {
   "cell_type": "code",
   "execution_count": 75,
   "id": "f9ef2cb5-355f-412a-9cf3-fdc2d8e57f13",
   "metadata": {},
   "outputs": [
    {
     "data": {
      "text/plain": [
       "Target\n",
       "1    71824\n",
       "0     8996\n",
       "2     8996\n",
       "Name: count, dtype: int64"
      ]
     },
     "execution_count": 75,
     "metadata": {},
     "output_type": "execute_result"
    }
   ],
   "source": [
    "df.Target.value_counts()"
   ]
  },
  {
   "cell_type": "markdown",
   "id": "761ca42c-c7ca-47a2-b97f-938df58685c5",
   "metadata": {},
   "source": [
    "# use model to predict on individual stocks"
   ]
  },
  {
   "cell_type": "code",
   "execution_count": 36,
   "id": "10352a12-e8c0-4d6f-a3c4-68e9eaea21c8",
   "metadata": {},
   "outputs": [
    {
     "data": {
      "text/html": [
       "<style>#sk-container-id-1 {color: black;}#sk-container-id-1 pre{padding: 0;}#sk-container-id-1 div.sk-toggleable {background-color: white;}#sk-container-id-1 label.sk-toggleable__label {cursor: pointer;display: block;width: 100%;margin-bottom: 0;padding: 0.3em;box-sizing: border-box;text-align: center;}#sk-container-id-1 label.sk-toggleable__label-arrow:before {content: \"▸\";float: left;margin-right: 0.25em;color: #696969;}#sk-container-id-1 label.sk-toggleable__label-arrow:hover:before {color: black;}#sk-container-id-1 div.sk-estimator:hover label.sk-toggleable__label-arrow:before {color: black;}#sk-container-id-1 div.sk-toggleable__content {max-height: 0;max-width: 0;overflow: hidden;text-align: left;background-color: #f0f8ff;}#sk-container-id-1 div.sk-toggleable__content pre {margin: 0.2em;color: black;border-radius: 0.25em;background-color: #f0f8ff;}#sk-container-id-1 input.sk-toggleable__control:checked~div.sk-toggleable__content {max-height: 200px;max-width: 100%;overflow: auto;}#sk-container-id-1 input.sk-toggleable__control:checked~label.sk-toggleable__label-arrow:before {content: \"▾\";}#sk-container-id-1 div.sk-estimator input.sk-toggleable__control:checked~label.sk-toggleable__label {background-color: #d4ebff;}#sk-container-id-1 div.sk-label input.sk-toggleable__control:checked~label.sk-toggleable__label {background-color: #d4ebff;}#sk-container-id-1 input.sk-hidden--visually {border: 0;clip: rect(1px 1px 1px 1px);clip: rect(1px, 1px, 1px, 1px);height: 1px;margin: -1px;overflow: hidden;padding: 0;position: absolute;width: 1px;}#sk-container-id-1 div.sk-estimator {font-family: monospace;background-color: #f0f8ff;border: 1px dotted black;border-radius: 0.25em;box-sizing: border-box;margin-bottom: 0.5em;}#sk-container-id-1 div.sk-estimator:hover {background-color: #d4ebff;}#sk-container-id-1 div.sk-parallel-item::after {content: \"\";width: 100%;border-bottom: 1px solid gray;flex-grow: 1;}#sk-container-id-1 div.sk-label:hover label.sk-toggleable__label {background-color: #d4ebff;}#sk-container-id-1 div.sk-serial::before {content: \"\";position: absolute;border-left: 1px solid gray;box-sizing: border-box;top: 0;bottom: 0;left: 50%;z-index: 0;}#sk-container-id-1 div.sk-serial {display: flex;flex-direction: column;align-items: center;background-color: white;padding-right: 0.2em;padding-left: 0.2em;position: relative;}#sk-container-id-1 div.sk-item {position: relative;z-index: 1;}#sk-container-id-1 div.sk-parallel {display: flex;align-items: stretch;justify-content: center;background-color: white;position: relative;}#sk-container-id-1 div.sk-item::before, #sk-container-id-1 div.sk-parallel-item::before {content: \"\";position: absolute;border-left: 1px solid gray;box-sizing: border-box;top: 0;bottom: 0;left: 50%;z-index: -1;}#sk-container-id-1 div.sk-parallel-item {display: flex;flex-direction: column;z-index: 1;position: relative;background-color: white;}#sk-container-id-1 div.sk-parallel-item:first-child::after {align-self: flex-end;width: 50%;}#sk-container-id-1 div.sk-parallel-item:last-child::after {align-self: flex-start;width: 50%;}#sk-container-id-1 div.sk-parallel-item:only-child::after {width: 0;}#sk-container-id-1 div.sk-dashed-wrapped {border: 1px dashed gray;margin: 0 0.4em 0.5em 0.4em;box-sizing: border-box;padding-bottom: 0.4em;background-color: white;}#sk-container-id-1 div.sk-label label {font-family: monospace;font-weight: bold;display: inline-block;line-height: 1.2em;}#sk-container-id-1 div.sk-label-container {text-align: center;}#sk-container-id-1 div.sk-container {/* jupyter's `normalize.less` sets `[hidden] { display: none; }` but bootstrap.min.css set `[hidden] { display: none !important; }` so we also need the `!important` here to be able to override the default hidden behavior on the sphinx rendered scikit-learn.org. See: https://github.com/scikit-learn/scikit-learn/issues/21755 */display: inline-block !important;position: relative;}#sk-container-id-1 div.sk-text-repr-fallback {display: none;}</style><div id=\"sk-container-id-1\" class=\"sk-top-container\"><div class=\"sk-text-repr-fallback\"><pre>MLPClassifier(alpha=0.0005, hidden_layer_sizes=32, learning_rate=&#x27;adaptive&#x27;,\n",
       "              max_iter=1000)</pre><b>In a Jupyter environment, please rerun this cell to show the HTML representation or trust the notebook. <br />On GitHub, the HTML representation is unable to render, please try loading this page with nbviewer.org.</b></div><div class=\"sk-container\" hidden><div class=\"sk-item\"><div class=\"sk-estimator sk-toggleable\"><input class=\"sk-toggleable__control sk-hidden--visually\" id=\"sk-estimator-id-1\" type=\"checkbox\" checked><label for=\"sk-estimator-id-1\" class=\"sk-toggleable__label sk-toggleable__label-arrow\">MLPClassifier</label><div class=\"sk-toggleable__content\"><pre>MLPClassifier(alpha=0.0005, hidden_layer_sizes=32, learning_rate=&#x27;adaptive&#x27;,\n",
       "              max_iter=1000)</pre></div></div></div></div></div>"
      ],
      "text/plain": [
       "MLPClassifier(alpha=0.0005, hidden_layer_sizes=32, learning_rate='adaptive',\n",
       "              max_iter=1000)"
      ]
     },
     "execution_count": 36,
     "metadata": {},
     "output_type": "execute_result"
    }
   ],
   "source": [
    "best_model"
   ]
  },
  {
   "cell_type": "code",
   "execution_count": 37,
   "id": "041ba8b2-f29a-4ea1-9ba3-2a310f6d4848",
   "metadata": {},
   "outputs": [
    {
     "name": "stdout",
     "output_type": "stream",
     "text": [
      "META: 73.9\n",
      "MRVL: 75.5\n",
      "ABNB: 84.34\n",
      "TTD: 75.9\n",
      "AMAT: 67.47\n",
      "WDAY: 77.11\n",
      "SNPS: 68.67\n",
      "AMZN: 74.7\n",
      "AMD: 70.68\n",
      "PDD: 78.31\n",
      "DASH: 74.7\n",
      "MU: 62.25\n",
      "MDB: 75.9\n",
      "CPRT: 74.3\n",
      "PANW: 75.1\n",
      "DDOG: 75.9\n",
      "BKNG: 81.12\n",
      "AVGO: 63.45\n",
      "CRWD: 66.27\n",
      "TEAM: 80.32\n",
      "CDNS: 73.49\n",
      "ADBE: 73.49\n",
      "TSLA: 73.9\n",
      "ZS: 74.7\n",
      "SMCI: 73.79\n",
      "INTC: 81.85\n",
      "LRCX: 68.95\n",
      "INTU: 72.98\n",
      "MSFT: 73.39\n",
      "NVDA: 66.94\n",
      "MELI: 75.4\n",
      "MRNA: 70.56\n",
      "III.L: 75.66\n",
      "RR.L: 76.54\n",
      "MKS.L: 77.42\n"
     ]
    }
   ],
   "source": [
    "for stock_name in test_df.stock_name.unique():\n",
    "    stock_df = test_df[test_df['stock_name']==stock_name]\n",
    "    stock_X_test = stock_df[features].to_numpy()\n",
    "    stock_y_test = stock_df[target].to_numpy()\n",
    "    # print(stock_X_test.shape,stock_y_test.shape)\n",
    "\n",
    "    stock_X_test = pca.transform(stock_X_test)\n",
    "    # print(stock_X_test.shape,stock_y_test.shape)\n",
    "\n",
    "    stock_preds = best_model.predict(stock_X_test)\n",
    "    acc = accuracy_score(stock_y_test, stock_preds)\n",
    "\n",
    "    print(f\"{stock_name}: {round(acc*100,2)}\")"
   ]
  },
  {
   "cell_type": "code",
   "execution_count": null,
   "id": "8fd0034f-615f-40d1-8dfa-7a55e66394ae",
   "metadata": {},
   "outputs": [],
   "source": []
  }
 ],
 "metadata": {
  "kernelspec": {
   "display_name": "dsa5205-env",
   "language": "python",
   "name": "dsa5205-env"
  },
  "language_info": {
   "codemirror_mode": {
    "name": "ipython",
    "version": 3
   },
   "file_extension": ".py",
   "mimetype": "text/x-python",
   "name": "python",
   "nbconvert_exporter": "python",
   "pygments_lexer": "ipython3",
   "version": "3.9.6"
  }
 },
 "nbformat": 4,
 "nbformat_minor": 5
}
