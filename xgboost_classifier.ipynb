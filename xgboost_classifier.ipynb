{
 "cells": [
  {
   "cell_type": "code",
   "execution_count": 92,
   "metadata": {},
   "outputs": [],
   "source": [
    "# Standard library imports\n",
    "from datetime import datetime, timedelta\n",
    "\n",
    "# Third-party library imports\n",
    "import numpy as np\n",
    "import pandas as pd\n",
    "import matplotlib.pyplot as plt\n",
    "import requests\n",
    "from bs4 import BeautifulSoup\n",
    "import yfinance as yf\n",
    "\n",
    "# Scikit-learn imports\n",
    "from sklearn.model_selection import train_test_split, cross_val_score\n",
    "from sklearn.decomposition import PCA, KernelPCA\n",
    "from sklearn.preprocessing import StandardScaler\n",
    "from sklearn.tree import DecisionTreeClassifier\n",
    "from sklearn.neural_network import MLPClassifier\n",
    "from sklearn.neighbors import KNeighborsClassifier"
   ]
  },
  {
   "cell_type": "code",
   "execution_count": 93,
   "metadata": {},
   "outputs": [
    {
     "name": "stdout",
     "output_type": "stream",
     "text": [
      "\n",
      "Results saved to 'top_30_stocks_long_only.csv' and 'top_30_stocks_long_short.csv'\n",
      "\n",
      "Detailed metrics for top stock (Long-Only Strategy) SMCI:\n",
      "Final Close Price: 284.26\n",
      "60-day Return: 250.61%\n",
      "Average Hourly Volatility: 0.6678\n",
      "Average Sharpe Ratio: 1.6242\n",
      "Average Hourly Volume: 355714\n",
      "\n",
      "num common_top_stocks:  35\n"
     ]
    }
   ],
   "source": [
    "from scripts.get_top_stocks import *\n",
    "top_stocks_long, top_stocks_long_short = generate_top_stocks_df()\n",
    "common_top_stocks = get_common_top_stocks(top_stocks_long, top_stocks_long_short)\n",
    "\n",
    "# specify variables for dataset generation\n",
    "start_date = '2023-01-01'\n",
    "end_date = '2024-08-01'\n",
    "interval = \"1h\"\n",
    "trading_days_per_year = 252\n",
    "hours_per_day = 6.5"
   ]
  },
  {
   "cell_type": "code",
   "execution_count": 94,
   "metadata": {},
   "outputs": [
    {
     "name": "stderr",
     "output_type": "stream",
     "text": [
      "[*********************100%%**********************]  1 of 1 completed\n",
      "[*********************100%%**********************]  1 of 1 completed\n",
      "[*********************100%%**********************]  1 of 1 completed\n",
      "[*********************100%%**********************]  1 of 1 completed\n",
      "[*********************100%%**********************]  1 of 1 completed\n",
      "[*********************100%%**********************]  1 of 1 completed\n",
      "[*********************100%%**********************]  1 of 1 completed\n",
      "[*********************100%%**********************]  1 of 1 completed\n",
      "[*********************100%%**********************]  1 of 1 completed\n",
      "[*********************100%%**********************]  1 of 1 completed\n",
      "[*********************100%%**********************]  1 of 1 completed\n",
      "[*********************100%%**********************]  1 of 1 completed\n",
      "[*********************100%%**********************]  1 of 1 completed\n",
      "[*********************100%%**********************]  1 of 1 completed\n",
      "[*********************100%%**********************]  1 of 1 completed\n",
      "[*********************100%%**********************]  1 of 1 completed\n",
      "[*********************100%%**********************]  1 of 1 completed\n",
      "[*********************100%%**********************]  1 of 1 completed\n",
      "[*********************100%%**********************]  1 of 1 completed\n",
      "[*********************100%%**********************]  1 of 1 completed\n",
      "[*********************100%%**********************]  1 of 1 completed\n",
      "[*********************100%%**********************]  1 of 1 completed\n",
      "[*********************100%%**********************]  1 of 1 completed\n",
      "[*********************100%%**********************]  1 of 1 completed\n",
      "[*********************100%%**********************]  1 of 1 completed\n",
      "[*********************100%%**********************]  1 of 1 completed\n",
      "[*********************100%%**********************]  1 of 1 completed\n",
      "[*********************100%%**********************]  1 of 1 completed\n",
      "[*********************100%%**********************]  1 of 1 completed\n",
      "[*********************100%%**********************]  1 of 1 completed\n",
      "[*********************100%%**********************]  1 of 1 completed\n",
      "[*********************100%%**********************]  1 of 1 completed\n",
      "[*********************100%%**********************]  1 of 1 completed\n",
      "[*********************100%%**********************]  1 of 1 completed\n",
      "[*********************100%%**********************]  1 of 1 completed\n"
     ]
    }
   ],
   "source": [
    "from scripts.generate_dataset_features import *\n",
    "\n",
    "\n",
    "df = get_all_stock_features_df(\n",
    "    stocks_list=common_top_stocks,\n",
    "    start_date=start_date,\n",
    "    end_date=end_date,\n",
    "    interval=interval,\n",
    "    trading_days_per_year=trading_days_per_year, \n",
    "    hours_per_day=hours_per_day)"
   ]
  },
  {
   "cell_type": "code",
   "execution_count": 95,
   "metadata": {},
   "outputs": [
    {
     "data": {
      "text/html": [
       "<div>\n",
       "<style scoped>\n",
       "    .dataframe tbody tr th:only-of-type {\n",
       "        vertical-align: middle;\n",
       "    }\n",
       "\n",
       "    .dataframe tbody tr th {\n",
       "        vertical-align: top;\n",
       "    }\n",
       "\n",
       "    .dataframe thead th {\n",
       "        text-align: right;\n",
       "    }\n",
       "</style>\n",
       "<table border=\"1\" class=\"dataframe\">\n",
       "  <thead>\n",
       "    <tr style=\"text-align: right;\">\n",
       "      <th></th>\n",
       "      <th>Datetime</th>\n",
       "      <th>Open</th>\n",
       "      <th>High</th>\n",
       "      <th>Low</th>\n",
       "      <th>Close</th>\n",
       "      <th>Adj Close</th>\n",
       "      <th>Volume</th>\n",
       "      <th>Log_Return</th>\n",
       "      <th>EMAVolumeDiff2</th>\n",
       "      <th>SMAVolumeDiff2</th>\n",
       "      <th>...</th>\n",
       "      <th>MACD32</th>\n",
       "      <th>MACD64</th>\n",
       "      <th>MACD128</th>\n",
       "      <th>MACD256</th>\n",
       "      <th>FamaFrenchMktReturns</th>\n",
       "      <th>Log_Return_shift</th>\n",
       "      <th>stock_name</th>\n",
       "      <th>Stock_Position</th>\n",
       "      <th>Target</th>\n",
       "      <th>ticker</th>\n",
       "    </tr>\n",
       "  </thead>\n",
       "  <tbody>\n",
       "    <tr>\n",
       "      <th>0</th>\n",
       "      <td>2023-02-24 13:30:00-05:00</td>\n",
       "      <td>169.729996</td>\n",
       "      <td>170.188599</td>\n",
       "      <td>169.139999</td>\n",
       "      <td>170.070007</td>\n",
       "      <td>170.070007</td>\n",
       "      <td>1750690</td>\n",
       "      <td>0.001707</td>\n",
       "      <td>-0.001688</td>\n",
       "      <td>0.116291</td>\n",
       "      <td>...</td>\n",
       "      <td>4.888908</td>\n",
       "      <td>1.510907</td>\n",
       "      <td>-1.967638</td>\n",
       "      <td>-5.354547</td>\n",
       "      <td>-1.09</td>\n",
       "      <td>-0.001000</td>\n",
       "      <td>META</td>\n",
       "      <td>hold</td>\n",
       "      <td>2</td>\n",
       "      <td>META</td>\n",
       "    </tr>\n",
       "    <tr>\n",
       "      <th>1</th>\n",
       "      <td>2023-02-24 14:30:00-05:00</td>\n",
       "      <td>170.089996</td>\n",
       "      <td>170.720001</td>\n",
       "      <td>169.610001</td>\n",
       "      <td>169.899994</td>\n",
       "      <td>169.899994</td>\n",
       "      <td>2058333</td>\n",
       "      <td>-0.001000</td>\n",
       "      <td>0.051902</td>\n",
       "      <td>0.080767</td>\n",
       "      <td>...</td>\n",
       "      <td>3.421159</td>\n",
       "      <td>1.422552</td>\n",
       "      <td>-1.854190</td>\n",
       "      <td>-5.170984</td>\n",
       "      <td>-1.09</td>\n",
       "      <td>0.003056</td>\n",
       "      <td>META</td>\n",
       "      <td>hold</td>\n",
       "      <td>2</td>\n",
       "      <td>META</td>\n",
       "    </tr>\n",
       "    <tr>\n",
       "      <th>2</th>\n",
       "      <td>2023-02-24 15:30:00-05:00</td>\n",
       "      <td>169.910004</td>\n",
       "      <td>170.490005</td>\n",
       "      <td>169.600006</td>\n",
       "      <td>170.419998</td>\n",
       "      <td>170.419998</td>\n",
       "      <td>2002423</td>\n",
       "      <td>0.003056</td>\n",
       "      <td>0.007657</td>\n",
       "      <td>-0.013768</td>\n",
       "      <td>...</td>\n",
       "      <td>-5.473431</td>\n",
       "      <td>4.507666</td>\n",
       "      <td>-2.691358</td>\n",
       "      <td>-6.412185</td>\n",
       "      <td>-1.09</td>\n",
       "      <td>0.006201</td>\n",
       "      <td>META</td>\n",
       "      <td>buy</td>\n",
       "      <td>3</td>\n",
       "      <td>META</td>\n",
       "    </tr>\n",
       "    <tr>\n",
       "      <th>3</th>\n",
       "      <td>2023-02-27 09:30:00-05:00</td>\n",
       "      <td>171.875000</td>\n",
       "      <td>173.119995</td>\n",
       "      <td>170.509995</td>\n",
       "      <td>171.479996</td>\n",
       "      <td>171.479996</td>\n",
       "      <td>4485623</td>\n",
       "      <td>0.006201</td>\n",
       "      <td>0.227990</td>\n",
       "      <td>0.382735</td>\n",
       "      <td>...</td>\n",
       "      <td>-0.901236</td>\n",
       "      <td>-1.610476</td>\n",
       "      <td>-20.280946</td>\n",
       "      <td>-11.763411</td>\n",
       "      <td>0.31</td>\n",
       "      <td>-0.008903</td>\n",
       "      <td>META</td>\n",
       "      <td>sell</td>\n",
       "      <td>1</td>\n",
       "      <td>META</td>\n",
       "    </tr>\n",
       "    <tr>\n",
       "      <th>4</th>\n",
       "      <td>2023-02-27 10:30:00-05:00</td>\n",
       "      <td>171.460007</td>\n",
       "      <td>171.630005</td>\n",
       "      <td>169.690002</td>\n",
       "      <td>169.960007</td>\n",
       "      <td>169.960007</td>\n",
       "      <td>2431726</td>\n",
       "      <td>-0.008903</td>\n",
       "      <td>-0.143383</td>\n",
       "      <td>-0.296920</td>\n",
       "      <td>...</td>\n",
       "      <td>1.963164</td>\n",
       "      <td>1.597071</td>\n",
       "      <td>-1.988151</td>\n",
       "      <td>-5.531112</td>\n",
       "      <td>0.31</td>\n",
       "      <td>-0.002356</td>\n",
       "      <td>META</td>\n",
       "      <td>hold</td>\n",
       "      <td>2</td>\n",
       "      <td>META</td>\n",
       "    </tr>\n",
       "  </tbody>\n",
       "</table>\n",
       "<p>5 rows × 85 columns</p>\n",
       "</div>"
      ],
      "text/plain": [
       "                    Datetime        Open        High         Low       Close  \\\n",
       "0  2023-02-24 13:30:00-05:00  169.729996  170.188599  169.139999  170.070007   \n",
       "1  2023-02-24 14:30:00-05:00  170.089996  170.720001  169.610001  169.899994   \n",
       "2  2023-02-24 15:30:00-05:00  169.910004  170.490005  169.600006  170.419998   \n",
       "3  2023-02-27 09:30:00-05:00  171.875000  173.119995  170.509995  171.479996   \n",
       "4  2023-02-27 10:30:00-05:00  171.460007  171.630005  169.690002  169.960007   \n",
       "\n",
       "    Adj Close   Volume  Log_Return  EMAVolumeDiff2  SMAVolumeDiff2  ...  \\\n",
       "0  170.070007  1750690    0.001707       -0.001688        0.116291  ...   \n",
       "1  169.899994  2058333   -0.001000        0.051902        0.080767  ...   \n",
       "2  170.419998  2002423    0.003056        0.007657       -0.013768  ...   \n",
       "3  171.479996  4485623    0.006201        0.227990        0.382735  ...   \n",
       "4  169.960007  2431726   -0.008903       -0.143383       -0.296920  ...   \n",
       "\n",
       "     MACD32    MACD64    MACD128    MACD256  FamaFrenchMktReturns  \\\n",
       "0  4.888908  1.510907  -1.967638  -5.354547                 -1.09   \n",
       "1  3.421159  1.422552  -1.854190  -5.170984                 -1.09   \n",
       "2 -5.473431  4.507666  -2.691358  -6.412185                 -1.09   \n",
       "3 -0.901236 -1.610476 -20.280946 -11.763411                  0.31   \n",
       "4  1.963164  1.597071  -1.988151  -5.531112                  0.31   \n",
       "\n",
       "   Log_Return_shift  stock_name  Stock_Position  Target  ticker  \n",
       "0         -0.001000        META            hold       2    META  \n",
       "1          0.003056        META            hold       2    META  \n",
       "2          0.006201        META             buy       3    META  \n",
       "3         -0.008903        META            sell       1    META  \n",
       "4         -0.002356        META            hold       2    META  \n",
       "\n",
       "[5 rows x 85 columns]"
      ]
     },
     "execution_count": 95,
     "metadata": {},
     "output_type": "execute_result"
    }
   ],
   "source": [
    "df.head()"
   ]
  },
  {
   "cell_type": "code",
   "execution_count": 96,
   "metadata": {},
   "outputs": [
    {
     "name": "stdout",
     "output_type": "stream",
     "text": [
      "0\n",
      "0\n",
      "0\n",
      "0\n"
     ]
    }
   ],
   "source": [
    "# additional logic to ensure buy remains +ve and sell remainvs -ve\n",
    "\n",
    "print(len(df[(df.Log_Return_shift < 0) & (df.Stock_Position == 'buy')]))\n",
    "print(len(df[(df.Log_Return_shift < 0) & (df.Stock_Position == 'strong buy')]))\n",
    "\n",
    "print(len(df[(df.Log_Return_shift > 0) & (df.Stock_Position == 'sell')]))\n",
    "print(len(df[(df.Log_Return_shift > 0) & (df.Stock_Position == 'strong sell')]))\n",
    "\n",
    "# all good"
   ]
  },
  {
   "cell_type": "code",
   "execution_count": 107,
   "metadata": {},
   "outputs": [],
   "source": [
    "# df[\"Log_Return_shift\"] = df[\"Log_Return\"].shift(-1)\n",
    "df['Target'] = df['Target'].map({1:0, 2:1, 3:2})\n",
    "df=df.dropna()"
   ]
  },
  {
   "cell_type": "code",
   "execution_count": 108,
   "metadata": {},
   "outputs": [],
   "source": [
    "# df_meta = df[df['stock_name'] == 'META']\n",
    "\n",
    "target = 'Target'\n",
    "features = df.columns[8:-1]\n",
    "features = features.drop('stock_name')\n",
    "features = features.drop('Stock_Position')"
   ]
  },
  {
   "cell_type": "code",
   "execution_count": 109,
   "metadata": {},
   "outputs": [
    {
     "data": {
      "text/plain": [
       "((71869, 85), (8983, 85), (8985, 85))"
      ]
     },
     "execution_count": 109,
     "metadata": {},
     "output_type": "execute_result"
    }
   ],
   "source": [
    "# sort df according to date\n",
    "# df1 = df.sort_values(\"Datetime\").reset_index(drop=True)\n",
    "df1 = df.sort_values(\"Datetime\").reset_index(drop=True)\n",
    "# train test split on index\n",
    "train_size, val_size, test_size = 0.8, 0.1, 0.1\n",
    "train_size, val_size, test_size = int(len(df1) * train_size), int(len(df1) * val_size), int(len(df1) * test_size)\n",
    "train_df = df1.iloc[:train_size]\n",
    "val_df = df1.iloc[train_size:train_size + val_size]\n",
    "test_df = df1.iloc[train_size + val_size:]\n",
    "\n",
    "train_df.shape,val_df.shape,test_df.shape"
   ]
  },
  {
   "cell_type": "code",
   "execution_count": 110,
   "metadata": {},
   "outputs": [
    {
     "data": {
      "text/plain": [
       "Index(['EMAVolumeDiff2', 'SMAVolumeDiff2', 'EMACloseDiff2', 'SMACloseDiff2',\n",
       "       'VWAP2', 'VolatilityStdDev2', 'Volatility2', 'Momentum2',\n",
       "       'EMAVolumeDiff4', 'SMAVolumeDiff4', 'EMACloseDiff4', 'SMACloseDiff4',\n",
       "       'VWAP4', 'VolatilityStdDev4', 'Volatility4', 'Momentum4',\n",
       "       'EMAVolumeDiff8', 'SMAVolumeDiff8', 'EMACloseDiff8', 'SMACloseDiff8',\n",
       "       'VWAP8', 'VolatilityStdDev8', 'Volatility8', 'Momentum8',\n",
       "       'EMAVolumeDiff16', 'SMAVolumeDiff16', 'EMACloseDiff16',\n",
       "       'SMACloseDiff16', 'VWAP16', 'VolatilityStdDev16', 'Volatility16',\n",
       "       'Momentum16', 'EMAVolumeDiff32', 'SMAVolumeDiff32', 'EMACloseDiff32',\n",
       "       'SMACloseDiff32', 'VWAP32', 'VolatilityStdDev32', 'Volatility32',\n",
       "       'Momentum32', 'EMAVolumeDiff64', 'SMAVolumeDiff64', 'EMACloseDiff64',\n",
       "       'SMACloseDiff64', 'VWAP64', 'VolatilityStdDev64', 'Volatility64',\n",
       "       'Momentum64', 'EMAVolumeDiff128', 'SMAVolumeDiff128', 'EMACloseDiff128',\n",
       "       'SMACloseDiff128', 'VWAP128', 'VolatilityStdDev128', 'Volatility128',\n",
       "       'Momentum128', 'EMAVolumeDiff256', 'SMAVolumeDiff256',\n",
       "       'EMACloseDiff256', 'SMACloseDiff256', 'VWAP256', 'VolatilityStdDev256',\n",
       "       'Volatility256', 'Momentum256', 'PriceVolatilityHourly', 'MACD8',\n",
       "       'MACD16', 'MACD32', 'MACD64', 'MACD128', 'MACD256',\n",
       "       'FamaFrenchMktReturns', 'Log_Return_shift', 'Target'],\n",
       "      dtype='object')"
      ]
     },
     "execution_count": 110,
     "metadata": {},
     "output_type": "execute_result"
    }
   ],
   "source": [
    "features"
   ]
  },
  {
   "cell_type": "code",
   "execution_count": 111,
   "metadata": {},
   "outputs": [
    {
     "name": "stdout",
     "output_type": "stream",
     "text": [
      "(71869, 73) (71869,)\n",
      "(8983, 73) (8983,)\n",
      "(8985, 73) (8985,)\n"
     ]
    }
   ],
   "source": [
    "features_numpy = df[features].to_numpy()\n",
    "target_numpy = df[target].to_numpy()\n",
    "features = features.drop('Target')\n",
    "X_train = train_df[features].to_numpy()\n",
    "y_train = train_df[target].to_numpy()\n",
    "print(X_train.shape,y_train.shape)\n",
    "\n",
    "X_val = val_df[features].to_numpy()\n",
    "y_val = val_df[target].to_numpy()\n",
    "print(X_val.shape,y_val.shape)\n",
    "\n",
    "X_test = test_df[features].to_numpy()\n",
    "y_test = test_df[target].to_numpy()\n",
    "print(X_test.shape,y_test.shape)"
   ]
  },
  {
   "cell_type": "code",
   "execution_count": 112,
   "metadata": {},
   "outputs": [
    {
     "data": {
      "text/plain": [
       "((71869, 73), (71869,), (8983, 73), (8983,), (8985, 73), (8985,))"
      ]
     },
     "execution_count": 112,
     "metadata": {},
     "output_type": "execute_result"
    }
   ],
   "source": [
    "from scripts.train_predict import *\n",
    "\n",
    "# standardise the values\n",
    "\n",
    "scaler = StandardScaler()\n",
    "\n",
    "# Fit the scaler on the training data and transform the training data\n",
    "X_train = scaler.fit_transform(X_train)\n",
    "\n",
    "# Transform the validation data\n",
    "X_val = scaler.transform(X_val)\n",
    "\n",
    "# Transform the test data\n",
    "X_test = scaler.transform(X_test)\n",
    "\n",
    "X_train.shape,y_train.shape,X_val.shape,y_val.shape,X_test.shape,y_test.shape"
   ]
  },
  {
   "cell_type": "code",
   "execution_count": 113,
   "metadata": {},
   "outputs": [
    {
     "data": {
      "text/plain": [
       "array([[ 1.61782398e-01,  1.56402618e-01, -3.76690598e-01, ...,\n",
       "        -6.86571239e-03,  5.45547595e-02,  4.39075664e-01],\n",
       "       [-5.74251953e-01, -7.23433983e-01,  2.37478195e-01, ...,\n",
       "         1.36224152e-01,  5.45547595e-02,  1.28148933e-01],\n",
       "       [-1.36270600e+00, -1.27208115e+00, -5.90269084e-01, ...,\n",
       "        -1.00951858e-02,  5.45547595e-02,  1.47667378e-01],\n",
       "       ...,\n",
       "       [ 1.25165613e+00,  1.06784501e+00, -9.48858553e-02, ...,\n",
       "        -5.54395569e-02, -3.67904643e-01, -2.84272346e+00],\n",
       "       [ 4.36988211e-01,  2.19572147e-01, -1.98176387e-01, ...,\n",
       "        -1.24676122e-01, -3.67904643e-01, -1.02914132e+00],\n",
       "       [-2.32850789e-01, -8.75252992e-01, -3.02741505e-01, ...,\n",
       "        -1.51204797e-03, -3.67904643e-01,  4.19486937e-01]])"
      ]
     },
     "execution_count": 113,
     "metadata": {},
     "output_type": "execute_result"
    }
   ],
   "source": [
    "X_train"
   ]
  },
  {
   "cell_type": "code",
   "execution_count": 119,
   "metadata": {},
   "outputs": [],
   "source": [
    "import numpy as np\n",
    "from sklearn.ensemble import GradientBoostingClassifier\n",
    "import xgboost as xgb\n",
    "# from sklearn.model_selection import GridSearchCV\n",
    "from sklearn.model_selection import train_test_split\n",
    "from sklearn.metrics import accuracy_score, classification_report, confusion_matrix\n",
    "from sklearn.model_selection import ParameterGrid\n",
    "# from tqdm import tqdm\n",
    "from alive_progress import alive_it\n",
    "\n",
    "def train():\n",
    "    # initialise training params\n",
    "    best_score = float('inf')\n",
    "    best_params = None\n",
    "    best_model = None\n",
    "    \n",
    "\n",
    "    # Define the parameter grid\n",
    "    # param_grid={\"learning_rate\": (0.05, 0.10, 0.15),\n",
    "    #             \"max_depth\": [ 3, 4, 6, 8],\n",
    "    #             \"min_samples_leaf\": [0.001, 0.05, 0.1],\n",
    "    #             \"n_estimators\": [100, 200, 500]\n",
    "    #             },\n",
    "    param_grid = {\n",
    "        'eta': [0.1, 0.3, 0.5],\n",
    "        'gamma': [0, ],\n",
    "        'max_depth': [6, 8],\n",
    "    }\n",
    "    # best_model = xgb.XGBClassifier()\n",
    "    # best_model.fit(X_train, y_train)\n",
    "    # y_pred = best_model.predict(X_val)\n",
    "    # best_score = accuracy_score(y_val, y_pred)\n",
    "    # best_params = 0\n",
    "    for params in alive_it(ParameterGrid(param_grid)):\n",
    "        model = xgb.XGBClassifier(**params) # initialise new model before each run\n",
    "        model.fit(X_train, y_train)\n",
    "        y_pred = model.predict(X_val)\n",
    "        score = accuracy_score(y_val, y_pred)\n",
    "        \n",
    "        if score < best_score:\n",
    "            best_score = score\n",
    "            best_params = params\n",
    "            best_model = model\n",
    "            print(f\"score: {round(best_score,7)}\")\n",
    "            # print(f\"score: {round(best_score,7)}, params: {best_params}\")\n",
    "\n",
    "    print(f\"Best parameters found: {best_params}\")\n",
    "    print(f\"Best validation score: {round(best_score,5)}\")\n",
    "\n",
    "    return best_model, best_params, best_score, X_test, y_test\n",
    "\n",
    "def predict(best_model,X_test, y_test):\n",
    "    y_pred = best_model.predict(X_test)\n",
    "    score = accuracy_score(y_test, y_pred)\n",
    "    print(f\"Test set accuracy score: {round(score,5)}\")\n",
    "    \n",
    "    return y_pred\n",
    "\n",
    "def train_predict():\n",
    "    best_model, best_params, best_score, X_test, y_test = train()\n",
    "    y_pred = predict(best_model, X_test, y_test)\n",
    "    acc = accuracy_score(y_test, y_pred)\n",
    " \n",
    "    \n",
    "    return best_model, best_params, best_score, acc, y_pred\n",
    "    "
   ]
  },
  {
   "cell_type": "code",
   "execution_count": 120,
   "metadata": {},
   "outputs": [
    {
     "name": "stdout",
     "output_type": "stream",
     "text": [
      "on 0: score: 0.9632639\n",
      "on 2: score: 0.9620394\n",
      "|████████████████████████████████████████| 6/6 [100%] in 17.2s (0.35/s) \n",
      "Best parameters found: {'eta': 0.3, 'gamma': 0, 'max_depth': 6}\n",
      "Best validation score: 0.96204\n",
      "Test set accuracy score: 0.95893\n"
     ]
    }
   ],
   "source": [
    "best_model, best_params, best_score, acc, y_pred = train_predict()"
   ]
  },
  {
   "cell_type": "code",
   "execution_count": 131,
   "metadata": {},
   "outputs": [
    {
     "data": {
      "text/plain": [
       "{0: 1969, 1: 5218, 2: 1798}"
      ]
     },
     "execution_count": 131,
     "metadata": {},
     "output_type": "execute_result"
    }
   ],
   "source": [
    "unique, counts = np.unique(y_pred, return_counts=True)\n",
    "\n",
    "dict(zip(unique, counts))"
   ]
  },
  {
   "cell_type": "code",
   "execution_count": 132,
   "metadata": {},
   "outputs": [
    {
     "data": {
      "text/plain": [
       "{0: 1937, 1: 5347, 2: 1701}"
      ]
     },
     "execution_count": 132,
     "metadata": {},
     "output_type": "execute_result"
    }
   ],
   "source": [
    "unique, counts = np.unique(y_test, return_counts=True)\n",
    "\n",
    "dict(zip(unique, counts))"
   ]
  },
  {
   "cell_type": "code",
   "execution_count": 121,
   "metadata": {},
   "outputs": [
    {
     "name": "stdout",
     "output_type": "stream",
     "text": [
      "accuracy: 95.89\n"
     ]
    },
    {
     "data": {
      "image/png": "[encoded data removed]",
      "text/plain": [
       "<Figure size 640x480 with 2 Axes>"
      ]
     },
     "metadata": {},
     "output_type": "display_data"
    }
   ],
   "source": [
    "from sklearn.metrics import confusion_matrix, ConfusionMatrixDisplay\n",
    "\n",
    "print(f\"accuracy: {round(acc*100,2)}\")\n",
    "labels = ['sell', 'hold', 'buy']\n",
    "cm = confusion_matrix(y_test, y_pred)\n",
    "disp = ConfusionMatrixDisplay(confusion_matrix=cm,\n",
    "                              display_labels=labels)\n",
    "disp.plot()\n",
    "plt.show()"
   ]
  },
  {
   "cell_type": "code",
   "execution_count": 124,
   "metadata": {},
   "outputs": [
    {
     "name": "stdout",
     "output_type": "stream",
     "text": [
      "ZS: 61.85\n",
      "DASH: 55.82\n",
      "TTD: 60.24\n",
      "MU: 51.41\n",
      "NVDA: 49.0\n",
      "CRWD: 57.26\n",
      "LRCX: 54.03\n",
      "WDAY: 66.13\n",
      "MRNA: 57.26\n",
      "META: 61.69\n",
      "MELI: 62.5\n",
      "CPRT: 57.66\n",
      "BKNG: 66.13\n",
      "MDB: 57.66\n",
      "CDNS: 56.05\n",
      "DDOG: 64.92\n",
      "INTU: 65.73\n",
      "INTC: 60.48\n",
      "AMZN: 58.47\n",
      "TSLA: 55.24\n",
      "MRVL: 58.47\n",
      "AMD: 56.85\n",
      "TEAM: 70.56\n",
      "PDD: 63.31\n",
      "MSFT: 66.53\n",
      "SMCI: 58.87\n",
      "PANW: 57.26\n",
      "SNPS: 58.06\n",
      "ADBE: 58.47\n",
      "ABNB: 71.77\n",
      "AVGO: 44.76\n",
      "AMAT: 51.21\n",
      "RR.L: 63.79\n",
      "III.L: 57.47\n",
      "MKS.L: 63.51\n"
     ]
    }
   ],
   "source": [
    "for ticker in test_df.stock_name.unique():\n",
    "    stock_df = test_df[test_df['stock_name']==ticker]\n",
    "    stock_X_test = stock_df[features].to_numpy()\n",
    "    stock_y_test = stock_df[target].to_numpy()\n",
    "    stock_preds = best_model.predict(stock_X_test)\n",
    "    acc = accuracy_score(stock_y_test, stock_preds)\n",
    "\n",
    "    print(f\"{ticker}: {round(acc*100, 2)}\")"
   ]
  },
  {
   "cell_type": "code",
   "execution_count": null,
   "metadata": {},
   "outputs": [],
   "source": []
  }
 ],
 "metadata": {
  "kernelspec": {
   "display_name": "Python 3",
   "language": "python",
   "name": "python3"
  },
  "language_info": {
   "codemirror_mode": {
    "name": "ipython",
    "version": 3
   },
   "file_extension": ".py",
   "mimetype": "text/x-python",
   "name": "python",
   "nbconvert_exporter": "python",
   "pygments_lexer": "ipython3",
   "version": "3.11.9"
  }
 },
 "nbformat": 4,
 "nbformat_minor": 2
}
