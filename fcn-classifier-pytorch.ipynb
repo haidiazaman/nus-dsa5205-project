{
 "cells": [
  {
   "cell_type": "markdown",
   "metadata": {},
   "source": [
    "# dataset"
   ]
  },
  {
   "cell_type": "code",
   "execution_count": 4,
   "metadata": {},
   "outputs": [
    {
     "name": "stderr",
     "output_type": "stream",
     "text": [
      "/Users/I748920/Library/Python/3.9/lib/python/site-packages/urllib3/__init__.py:35: NotOpenSSLWarning: urllib3 v2 only supports OpenSSL 1.1.1+, currently the 'ssl' module is compiled with 'LibreSSL 2.8.3'. See: https://github.com/urllib3/urllib3/issues/3020\n",
      "  warnings.warn(\n"
     ]
    }
   ],
   "source": [
    "# Standard library imports\n",
    "from datetime import datetime, timedelta\n",
    "\n",
    "# Third-party library imports\n",
    "import numpy as np\n",
    "import pandas as pd\n",
    "import matplotlib.pyplot as plt\n",
    "import requests\n",
    "from bs4 import BeautifulSoup\n",
    "import yfinance as yf\n",
    "\n",
    "# Scikit-learn imports\n",
    "from sklearn.model_selection import train_test_split, cross_val_score\n",
    "from sklearn.decomposition import PCA, KernelPCA\n",
    "from sklearn.preprocessing import StandardScaler\n",
    "from sklearn.tree import DecisionTreeClassifier\n",
    "from sklearn.neural_network import MLPClassifier\n",
    "from sklearn.neighbors import KNeighborsClassifier\n",
    "\n",
    "import time\n",
    "\n",
    "from scripts.get_top_stocks import *\n",
    "from scripts.generate_dataset_features import *\n",
    "from scripts.utils import *\n",
    "from scripts.dataloader import *\n",
    "from scripts.train_predict import *\n",
    "from scripts.models import *"
   ]
  },
  {
   "cell_type": "code",
   "execution_count": 5,
   "metadata": {
    "scrolled": true
   },
   "outputs": [],
   "source": [
    "# top_stocks_long, top_stocks_long_short = generate_top_stocks_df()\n",
    "# common_top_stocks = get_common_top_stocks(top_stocks_long, top_stocks_long_short)\n",
    "\n",
    "# # specify variables for dataset generation\n",
    "# start_date = '2023-01-01'\n",
    "# end_date = '2024-08-01'\n",
    "# interval = \"1h\"\n",
    "# trading_days_per_year = 252\n",
    "# hours_per_day = 6.5"
   ]
  },
  {
   "cell_type": "code",
   "execution_count": 6,
   "metadata": {
    "scrolled": true
   },
   "outputs": [],
   "source": [
    "# df = get_all_stock_features_df(\n",
    "#     stocks_list=common_top_stocks,\n",
    "#     start_date=start_date,\n",
    "#     end_date=end_date,\n",
    "#     interval=interval,\n",
    "#     trading_days_per_year=trading_days_per_year, \n",
    "#     hours_per_day=hours_per_day)"
   ]
  },
  {
   "cell_type": "code",
   "execution_count": 7,
   "metadata": {},
   "outputs": [],
   "source": [
    "# df.to_csv(\"temp.csv\",index=False)"
   ]
  },
  {
   "cell_type": "code",
   "execution_count": 8,
   "metadata": {},
   "outputs": [],
   "source": [
    "# this is the csv without the target column, if not saved, just uncomment and run the previous 2 cells\n",
    "\n",
    "df = pd.read_csv(\"temp.csv\")"
   ]
  },
  {
   "cell_type": "code",
   "execution_count": 9,
   "metadata": {},
   "outputs": [
    {
     "data": {
      "text/plain": [
       "Target\n",
       "2    31263\n",
       "1    29695\n",
       "0    28981\n",
       "Name: count, dtype: int64"
      ]
     },
     "execution_count": 9,
     "metadata": {},
     "output_type": "execute_result"
    }
   ],
   "source": [
    "def set_target(val):\n",
    "    if val > 0.002:\n",
    "        return 2\n",
    "    elif val < -0.002:\n",
    "        return 0\n",
    "    else:\n",
    "        return 1\n",
    "\n",
    "df['Target'] = df[\"Log_Return_shift\"].apply(lambda x: set_target(x))\n",
    "df.Target.value_counts()"
   ]
  },
  {
   "cell_type": "code",
   "execution_count": 10,
   "metadata": {},
   "outputs": [
    {
     "name": "stdout",
     "output_type": "stream",
     "text": [
      "0\n",
      "0\n",
      "0\n",
      "0\n"
     ]
    }
   ],
   "source": [
    "# additional logic to ensure buy remains +ve and sell remainvs -ve\n",
    "\n",
    "print(len(df[(df.Log_Return_shift < 0) & (df.Stock_Position == 'buy')]))\n",
    "print(len(df[(df.Log_Return_shift < 0) & (df.Stock_Position == 'strong buy')]))\n",
    "\n",
    "print(len(df[(df.Log_Return_shift > 0) & (df.Stock_Position == 'sell')]))\n",
    "print(len(df[(df.Log_Return_shift > 0) & (df.Stock_Position == 'strong sell')]))\n",
    "\n",
    "# all good"
   ]
  },
  {
   "cell_type": "code",
   "execution_count": 11,
   "metadata": {},
   "outputs": [
    {
     "data": {
      "text/plain": [
       "((80945, 84), (4496, 84), (4498, 84))"
      ]
     },
     "execution_count": 11,
     "metadata": {},
     "output_type": "execute_result"
    }
   ],
   "source": [
    "# sort df according to date\n",
    "df1 = df.sort_values(\"Datetime\").reset_index(drop=True)\n",
    "\n",
    "# train test split on index\n",
    "train_size, val_size, test_size = 0.90, 0.05, 0.05\n",
    "train_size, val_size, test_size = int(len(df1) * train_size), int(len(df1) * val_size), int(len(df1) * test_size)\n",
    "train_df = df1.iloc[:train_size]\n",
    "val_df = df1.iloc[train_size:train_size + val_size]\n",
    "test_df = df1.iloc[train_size + val_size:]\n",
    "\n",
    "train_df.shape,val_df.shape,test_df.shape"
   ]
  },
  {
   "cell_type": "code",
   "execution_count": 12,
   "metadata": {
    "scrolled": true
   },
   "outputs": [],
   "source": [
    "# df.columns, df.columns[8:-4]"
   ]
  },
  {
   "cell_type": "code",
   "execution_count": 13,
   "metadata": {},
   "outputs": [
    {
     "name": "stdout",
     "output_type": "stream",
     "text": [
      "72\n",
      "(80945, 72) (80945,)\n",
      "(4496, 72) (4496,)\n",
      "(4498, 72) (4498,)\n"
     ]
    }
   ],
   "source": [
    "features = df.columns[8:-4]\n",
    "print(len(features))\n",
    "target = \"Target\"\n",
    "\n",
    "X_train = train_df[features].to_numpy()\n",
    "y_train = train_df[target].to_numpy()\n",
    "print(X_train.shape,y_train.shape)\n",
    "\n",
    "X_val = val_df[features].to_numpy()\n",
    "y_val = val_df[target].to_numpy()\n",
    "print(X_val.shape,y_val.shape)\n",
    "\n",
    "X_test = test_df[features].to_numpy()\n",
    "y_test = test_df[target].to_numpy()\n",
    "print(X_test.shape,y_test.shape)"
   ]
  },
  {
   "cell_type": "code",
   "execution_count": 14,
   "metadata": {
    "scrolled": true
   },
   "outputs": [
    {
     "data": {
      "text/plain": [
       "({0, 1, 2}, {0, 1, 2}, {0, 1, 2})"
      ]
     },
     "execution_count": 14,
     "metadata": {},
     "output_type": "execute_result"
    }
   ],
   "source": [
    "# check number of classes in target is correct\n",
    "\n",
    "set(y_train),set(y_val),set(y_test)"
   ]
  },
  {
   "cell_type": "code",
   "execution_count": 15,
   "metadata": {},
   "outputs": [
    {
     "data": {
      "text/plain": [
       "((80945, 26), (80945,), (4496, 26), (4496,), (4498, 26), (4498,))"
      ]
     },
     "execution_count": 15,
     "metadata": {},
     "output_type": "execute_result"
    }
   ],
   "source": [
    "# standardise the values and PCA\n",
    "\n",
    "from scripts.train_predict import *\n",
    "\n",
    "# standardise the values and selectKbest\n",
    "scaler = StandardScaler()\n",
    "pca = PCA(n_components = 0.95)\n",
    "\n",
    "# Fit the scaler on the training data and transform the training data\n",
    "X_train = scaler.fit_transform(X_train)\n",
    "X_train = pca.fit_transform(X_train)\n",
    "\n",
    "# Transform the validation data\n",
    "X_val = scaler.transform(X_val)\n",
    "X_val = pca.transform(X_val)\n",
    "\n",
    "# Transform the test data\n",
    "X_test = scaler.transform(X_test)\n",
    "X_test = pca.transform(X_test)\n",
    "\n",
    "X_train.shape,y_train.shape,X_val.shape,y_val.shape,X_test.shape,y_test.shape"
   ]
  },
  {
   "cell_type": "code",
   "execution_count": 16,
   "metadata": {},
   "outputs": [
    {
     "name": "stdout",
     "output_type": "stream",
     "text": [
      "Target\n",
      "2    28193\n",
      "1    26767\n",
      "0    25985\n",
      "Name: count, dtype: int64\n",
      "Target\n",
      "2    1617\n",
      "1    1545\n",
      "0    1334\n",
      "Name: count, dtype: int64\n",
      "Target\n",
      "0    1662\n",
      "2    1453\n",
      "1    1383\n",
      "Name: count, dtype: int64\n"
     ]
    }
   ],
   "source": [
    "# check distribution of target\n",
    "\n",
    "print(train_df.Target.value_counts())\n",
    "print(val_df.Target.value_counts())\n",
    "print(test_df.Target.value_counts())"
   ]
  },
  {
   "cell_type": "markdown",
   "metadata": {},
   "source": [
    "# pytorch model"
   ]
  },
  {
   "cell_type": "code",
   "execution_count": 18,
   "metadata": {},
   "outputs": [
    {
     "name": "stdout",
     "output_type": "stream",
     "text": [
      "(80945, 26) (80945,) (4496, 26) (4496,) (4498, 26) (4498,)\n",
      "<class 'numpy.ndarray'> <class 'numpy.ndarray'> <class 'numpy.ndarray'>\n",
      "<class 'numpy.ndarray'> <class 'numpy.ndarray'> <class 'numpy.ndarray'>\n"
     ]
    }
   ],
   "source": [
    "# check dataset\n",
    "\n",
    "print(X_train.shape,y_train.shape,X_val.shape,y_val.shape,X_test.shape,y_test.shape)\n",
    "print(type(X_train),type(X_val),type(X_test))\n",
    "print(type(y_train),type(y_val),type(y_test))"
   ]
  },
  {
   "cell_type": "code",
   "execution_count": 57,
   "metadata": {
    "scrolled": true
   },
   "outputs": [],
   "source": [
    "# get_numpy_value_counts(y_train),get_numpy_value_counts(y_val),get_numpy_value_counts(y_test)"
   ]
  },
  {
   "cell_type": "code",
   "execution_count": 20,
   "metadata": {},
   "outputs": [
    {
     "name": "stdout",
     "output_type": "stream",
     "text": [
      "torch.Size([80945, 26]) torch.Size([4496, 26]) torch.Size([4498, 26])\n",
      "torch.Size([80945]) torch.Size([4496]) torch.Size([4498])\n"
     ]
    }
   ],
   "source": [
    "# define dataset\n",
    "train_dataset = StockDataset(X=X_train,y=y_train)\n",
    "val_dataset = StockDataset(X=X_val,y=y_val)\n",
    "test_dataset = StockDataset(X=X_test,y=y_test)\n",
    "\n",
    "print(train_dataset.X.shape,val_dataset.X.shape,test_dataset.X.shape)\n",
    "print(train_dataset.y.shape,val_dataset.y.shape,test_dataset.y.shape)\n",
    "\n",
    "# define dataloaders\n",
    "batch_size = 2048\n",
    "\n",
    "train_loader = DataLoader(train_dataset, batch_size=batch_size, shuffle=False, drop_last=True) # set all shuffle=False since its sequential data\n",
    "val_loader = DataLoader(val_dataset, batch_size=batch_size, shuffle=False, drop_last=True)\n",
    "test_loader = DataLoader(test_dataset, batch_size=batch_size, shuffle=False, drop_last=True)\n",
    "\n",
    "# # print to check shape of batches\n",
    "# for _, batch in enumerate(train_loader):\n",
    "#     x_batch, y_batch = batch\n",
    "#     print(x_batch.shape, y_batch.shape)\n",
    "#     print(x_batch[0], y_batch[0])\n",
    "#     break"
   ]
  },
  {
   "cell_type": "code",
   "execution_count": 21,
   "metadata": {
    "scrolled": true
   },
   "outputs": [
    {
     "name": "stdout",
     "output_type": "stream",
     "text": [
      "epoch 0\n",
      "model epoch 0 saved as fcn.pt\n",
      "Epoch 1/100, train loss: 1.1298, val loss: 1.0816, time_taken: 1.2\n",
      "train acc: 38.29, val_acc: 40.5\n",
      "epoch 1\n",
      "model epoch 1 saved as fcn.pt\n",
      "Epoch 2/100, train loss: 1.0871, val loss: 1.0791, time_taken: 1.2\n",
      "train acc: 39.8, val_acc: 40.7\n",
      "epoch 2\n",
      "Epoch 3/100, train loss: 1.0793, val loss: 1.0801, time_taken: 1.2\n",
      "train acc: 40.64, val_acc: 40.67\n",
      "epoch 3\n",
      "Epoch 4/100, train loss: 1.0759, val loss: 1.0804, time_taken: 1.3\n",
      "train acc: 40.92, val_acc: 40.36\n",
      "epoch 4\n",
      "Epoch 5/100, train loss: 1.0743, val loss: 1.0795, time_taken: 1.2\n",
      "train acc: 41.06, val_acc: 40.45\n",
      "epoch 5\n",
      "Epoch 6/100, train loss: 1.0729, val loss: 1.0795, time_taken: 1.1\n",
      "train acc: 41.29, val_acc: 40.5\n",
      "epoch 6\n",
      "model epoch 6 saved as fcn.pt\n",
      "Epoch 7/100, train loss: 1.0718, val loss: 1.0777, time_taken: 1.1\n",
      "train acc: 41.57, val_acc: 41.14\n",
      "epoch 7\n",
      "Epoch 8/100, train loss: 1.0707, val loss: 1.0780, time_taken: 1.1\n",
      "train acc: 41.69, val_acc: 41.24\n",
      "epoch 8\n",
      "Epoch 9/100, train loss: 1.0706, val loss: 1.0779, time_taken: 1.1\n",
      "train acc: 41.77, val_acc: 41.24\n",
      "epoch 9\n",
      "Epoch 10/100, train loss: 1.0703, val loss: 1.0780, time_taken: 1.1\n",
      "train acc: 41.74, val_acc: 41.11\n",
      "epoch 10\n",
      "Epoch 11/100, train loss: 1.0707, val loss: 1.0780, time_taken: 1.1\n",
      "train acc: 41.77, val_acc: 41.09\n",
      "epoch 11\n",
      "Epoch 12/100, train loss: 1.0696, val loss: 1.0793, time_taken: 1.1\n",
      "train acc: 41.78, val_acc: 40.87\n",
      "epoch 12\n",
      "Epoch 13/100, train loss: 1.0691, val loss: 1.0793, time_taken: 1.1\n",
      "train acc: 41.71, val_acc: 40.6\n",
      "epoch 13\n",
      "Epoch 14/100, train loss: 1.0692, val loss: 1.0792, time_taken: 1.1\n",
      "train acc: 41.78, val_acc: 40.5\n",
      "epoch 14\n",
      "Epoch 15/100, train loss: 1.0694, val loss: 1.0792, time_taken: 1.1\n",
      "train acc: 41.75, val_acc: 40.72\n",
      "epoch 15\n",
      "Epoch 16/100, train loss: 1.0687, val loss: 1.0796, time_taken: 1.1\n",
      "train acc: 41.99, val_acc: 40.58\n",
      "epoch 16\n",
      "Early stopping!\n"
     ]
    },
    {
     "data": {
      "image/png": "[encoded data removed]",
      "text/plain": [
       "<Figure size 1000x600 with 2 Axes>"
      ]
     },
     "metadata": {},
     "output_type": "display_data"
    }
   ],
   "source": [
    "# define model inputs\n",
    "\n",
    "device = torch.device('cpu')\n",
    "lr= 1e-3\n",
    "epochs = 100\n",
    "scheduler_factor=0.5\n",
    "scheduler_patience=3\n",
    "early_stopping_limit = 10\n",
    "class_weights = [0.889795540181605, 0.6693186731731422, 0.5517017728086973]\n",
    "criterion = 'cross'\n",
    "\n",
    "model, train_losses, val_losses, train_accs, val_accs = train(\n",
    "    device=device,\n",
    "    lr=lr,\n",
    "    epochs=epochs,\n",
    "    scheduler_factor=scheduler_factor,\n",
    "    scheduler_patience=scheduler_patience,\n",
    "    early_stopping_limit=early_stopping_limit,\n",
    "    class_weights=class_weights,\n",
    "    criterion=criterion,\n",
    "    train_loader=train_loader,\n",
    "    val_loader=val_loader\n",
    ")\n",
    "plot_loss_acc(train_losses, val_losses, train_accs, val_accs)"
   ]
  },
  {
   "cell_type": "code",
   "execution_count": 22,
   "metadata": {},
   "outputs": [
    {
     "name": "stdout",
     "output_type": "stream",
     "text": [
      "overall test accuracy: 37.19\n",
      "acc-sell: 2.106\n",
      "acc-hold: 48.228\n",
      "acc-buy: 66.827\n"
     ]
    },
    {
     "data": {
      "image/png": "[encoded data removed]",
      "text/plain": [
       "<Figure size 640x480 with 2 Axes>"
      ]
     },
     "metadata": {},
     "output_type": "display_data"
    }
   ],
   "source": [
    "from sklearn.metrics import confusion_matrix, ConfusionMatrixDisplay, accuracy_score\n",
    "\n",
    "best_model_path = 'fcn.pt'\n",
    "model = FCN()\n",
    "model.load_state_dict(torch.load(best_model_path,map_location=device))\n",
    "model.eval()\n",
    "\n",
    "\n",
    "X_test2 = torch.tensor(X_test, dtype=torch.float32)\n",
    "y_test2 = torch.tensor(y_test, dtype=torch.float32)\n",
    "\n",
    "preds = model(X_test2)\n",
    "softmax_preds = nn.Softmax(dim=1)(preds)\n",
    "_, class_preds = torch.max(preds, dim=1)\n",
    "\n",
    "test_acc = accuracy_score(class_preds,y_test2)\n",
    "print(f\"overall test accuracy: {round(test_acc*100,2)}\")\n",
    "\n",
    "labels = [\"sell\",\"hold\",\"buy\"]\n",
    "label_mapping = {i:labels[i] for i in range(len(labels))}\n",
    "\n",
    "cm = confusion_matrix(y_test2, class_preds)\n",
    "disp = ConfusionMatrixDisplay(confusion_matrix=cm,\n",
    "                              display_labels=labels)\n",
    "for i in range(len(cm)):\n",
    "    print(f\"acc-{label_mapping[i]}: {round(cm[i,i]/sum(cm[i])*100,3)}\")\n",
    "\n",
    "disp.plot()\n",
    "plt.show()"
   ]
  },
  {
   "cell_type": "code",
   "execution_count": 23,
   "metadata": {},
   "outputs": [
    {
     "data": {
      "text/plain": [
       "tensor([[0.1890, 0.5154, 0.2956],\n",
       "        [0.2011, 0.5159, 0.2830],\n",
       "        [0.1976, 0.5008, 0.3016],\n",
       "        ...,\n",
       "        [0.1707, 0.5360, 0.2933],\n",
       "        [0.2514, 0.3671, 0.3816],\n",
       "        [0.2320, 0.4481, 0.3199]], grad_fn=<SoftmaxBackward0>)"
      ]
     },
     "execution_count": 23,
     "metadata": {},
     "output_type": "execute_result"
    }
   ],
   "source": [
    "# check softmax values\n",
    "\n",
    "nn.Softmax(dim=1) (preds)"
   ]
  },
  {
   "cell_type": "code",
   "execution_count": 24,
   "metadata": {
    "scrolled": true
   },
   "outputs": [
    {
     "name": "stdout",
     "output_type": "stream",
     "text": [
      "RR.L: 24.7\n",
      "MKS.L: 36.75\n",
      "III.L: 27.71\n",
      "MELI: 36.0\n",
      "INTU: 27.2\n",
      "SMCI: 34.4\n",
      "WDAY: 30.4\n",
      "META: 33.6\n",
      "BKNG: 28.8\n",
      "ABNB: 24.8\n",
      "TSLA: 40.0\n",
      "ADBE: 29.6\n",
      "TEAM: 29.6\n",
      "AMD: 33.6\n",
      "AMZN: 29.6\n",
      "DASH: 36.8\n",
      "DDOG: 36.8\n",
      "SNPS: 30.4\n",
      "TTD: 34.4\n",
      "NVDA: 37.6\n",
      "AMAT: 35.2\n",
      "MDB: 29.6\n",
      "LRCX: 35.2\n",
      "CRWD: 36.0\n",
      "AVGO: 37.6\n",
      "PANW: 30.4\n",
      "INTC: 29.6\n",
      "MSFT: 24.0\n",
      "CDNS: 28.0\n",
      "MU: 29.6\n",
      "MRVL: 33.6\n",
      "MRNA: 34.4\n",
      "ZS: 32.8\n",
      "PDD: 34.4\n",
      "CPRT: 24.8\n"
     ]
    }
   ],
   "source": [
    "## predict on indiv stocks\n",
    "\n",
    "for stock_name in test_df.stock_name.unique():\n",
    "    stock_df = test_df[test_df['stock_name']==stock_name]\n",
    "    stock_X_test = stock_df[features].to_numpy()\n",
    "    # if use selectKbest\n",
    "    # stock_X_test = selector.transform(stock_X_test)\n",
    "    # if use PCA\n",
    "    stock_X_test = pca.transform(stock_X_test)\n",
    "\n",
    "    stock_y_test = stock_df[target].to_numpy()\n",
    "    stock_X_test = torch.tensor(stock_X_test, dtype=torch.float32)\n",
    "\n",
    "    stock_preds = model(stock_X_test)\n",
    "    softmax_preds = nn.Softmax(dim=1)(stock_preds)\n",
    "    _, class_preds = torch.max(softmax_preds, dim=1)\n",
    "    \n",
    "    acc = accuracy_score(stock_y_test, class_preds.detach().numpy())\n",
    "\n",
    "    print(f\"{stock_name}: {round(acc*100,2)}\")\n",
    "\n",
    "# # choose top 10 from here"
   ]
  },
  {
   "cell_type": "code",
   "execution_count": 25,
   "metadata": {
    "scrolled": true
   },
   "outputs": [
    {
     "name": "stdout",
     "output_type": "stream",
     "text": [
      "TTD: 34.4\n"
     ]
    }
   ],
   "source": [
    "stock_name = \"TTD\"\n",
    "\n",
    "stock_df = test_df[test_df['stock_name']==stock_name]\n",
    "stock_X_test = stock_df[features].to_numpy()\n",
    "# if use selectKbest\n",
    "# stock_X_test = selector.transform(stock_X_test)\n",
    "# if use PCA\n",
    "stock_X_test = pca.transform(stock_X_test)\n",
    "\n",
    "stock_y_test = stock_df[target].to_numpy()\n",
    "stock_X_test = torch.tensor(stock_X_test, dtype=torch.float32)\n",
    "\n",
    "stock_preds = model(stock_X_test)\n",
    "softmax_preds = nn.Softmax(dim=1)(stock_preds)\n",
    "_, class_preds = torch.max(softmax_preds, dim=1)\n",
    "\n",
    "acc = accuracy_score(stock_y_test, class_preds.detach().numpy())\n",
    "\n",
    "print(f\"{stock_name}: {round(acc*100,2)}\")"
   ]
  },
  {
   "cell_type": "code",
   "execution_count": 26,
   "metadata": {
    "scrolled": true
   },
   "outputs": [
    {
     "data": {
      "text/plain": [
       "tensor([[0.3746, 0.2437, 0.3817],\n",
       "        [0.2565, 0.3821, 0.3614],\n",
       "        [0.3409, 0.2395, 0.4197],\n",
       "        [0.2981, 0.2868, 0.4151],\n",
       "        [0.2858, 0.2755, 0.4387],\n",
       "        [0.3275, 0.3707, 0.3018],\n",
       "        [0.2775, 0.3792, 0.3433],\n",
       "        [0.2985, 0.3497, 0.3517],\n",
       "        [0.2613, 0.3427, 0.3960],\n",
       "        [0.2952, 0.2797, 0.4251]], grad_fn=<SliceBackward0>)"
      ]
     },
     "execution_count": 26,
     "metadata": {},
     "output_type": "execute_result"
    }
   ],
   "source": [
    "softmax_preds[:10]"
   ]
  },
  {
   "cell_type": "code",
   "execution_count": 27,
   "metadata": {},
   "outputs": [],
   "source": [
    "def threshold_pred(softmax_pred,thre_buy=0.7,thre_sell=0.7):\n",
    "    if softmax_pred[2] >= thre_buy:\n",
    "        return 2\n",
    "    elif softmax_pred[0] >= thre_sell:\n",
    "        return 0\n",
    "    else:\n",
    "        # just hold\n",
    "        return 1\n",
    "\n",
    "def get_threshold_preds(softmax_preds,thre_buy=0.7,thre_sell=0.7):\n",
    "    res = []\n",
    "    for softmax_pred in softmax_preds:\n",
    "        pred = threshold_pred(softmax_pred,thre_buy,thre_sell)\n",
    "        res.append(pred)\n",
    "    return res"
   ]
  },
  {
   "cell_type": "code",
   "execution_count": 28,
   "metadata": {},
   "outputs": [
    {
     "data": {
      "text/plain": [
       "125"
      ]
     },
     "execution_count": 28,
     "metadata": {},
     "output_type": "execute_result"
    }
   ],
   "source": [
    "len(stock_y_test)"
   ]
  },
  {
   "cell_type": "code",
   "execution_count": 29,
   "metadata": {},
   "outputs": [
    {
     "name": "stdout",
     "output_type": "stream",
     "text": [
      "accuracy: 35.2\n"
     ]
    },
    {
     "data": {
      "image/png": "[encoded data removed]",
      "text/plain": [
       "<Figure size 640x480 with 2 Axes>"
      ]
     },
     "metadata": {},
     "output_type": "display_data"
    }
   ],
   "source": [
    "thre_preds = get_threshold_preds(softmax_preds,thre_buy=0.33333,thre_sell=0.303333)\n",
    "\n",
    "from sklearn.metrics import confusion_matrix, ConfusionMatrixDisplay\n",
    "\n",
    "acc = accuracy_score(thre_preds,stock_y_test)\n",
    "print(f\"accuracy: {round(acc*100,2)}\")\n",
    "\n",
    "cm = confusion_matrix(stock_y_test, thre_preds)\n",
    "disp = ConfusionMatrixDisplay(confusion_matrix=cm,\n",
    "                              display_labels=labels)\n",
    "disp.plot()\n",
    "plt.show()"
   ]
  },
  {
   "cell_type": "code",
   "execution_count": null,
   "metadata": {},
   "outputs": [],
   "source": []
  }
 ],
 "metadata": {
  "kernelspec": {
   "display_name": "dsa5205-env",
   "language": "python",
   "name": "dsa5205-env"
  },
  "language_info": {
   "codemirror_mode": {
    "name": "ipython",
    "version": 3
   },
   "file_extension": ".py",
   "mimetype": "text/x-python",
   "name": "python",
   "nbconvert_exporter": "python",
   "pygments_lexer": "ipython3",
   "version": "3.9.6"
  }
 },
 "nbformat": 4,
 "nbformat_minor": 4
}
