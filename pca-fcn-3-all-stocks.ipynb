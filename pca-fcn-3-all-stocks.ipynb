{
 "cells": [
  {
   "cell_type": "markdown",
   "id": "240deb56-d020-47d7-8e0c-ea0d457423a4",
   "metadata": {
    "jp-MarkdownHeadingCollapsed": true
   },
   "source": [
    "# generate dataset"
   ]
  },
  {
   "cell_type": "code",
   "execution_count": 2,
   "id": "e7057c9f-b532-4d22-b98e-9e06b759cdca",
   "metadata": {},
   "outputs": [
    {
     "name": "stderr",
     "output_type": "stream",
     "text": [
      "/Users/I748920/Library/Python/3.9/lib/python/site-packages/urllib3/__init__.py:35: NotOpenSSLWarning: urllib3 v2 only supports OpenSSL 1.1.1+, currently the 'ssl' module is compiled with 'LibreSSL 2.8.3'. See: https://github.com/urllib3/urllib3/issues/3020\n",
      "  warnings.warn(\n"
     ]
    },
    {
     "name": "stdout",
     "output_type": "stream",
     "text": [
      "\n",
      "Results saved to 'top_30_stocks_long_only.csv' and 'top_30_stocks_long_short.csv'\n",
      "\n",
      "Detailed metrics for top stock (Long-Only Strategy) SMCI:\n",
      "Final Close Price: 284.26\n",
      "60-day Return: 250.61%\n",
      "Average Hourly Volatility: 0.6678\n",
      "Average Sharpe Ratio: 1.6242\n",
      "Average Hourly Volume: 355714\n",
      "\n",
      "num common_top_stocks:  35\n"
     ]
    }
   ],
   "source": [
    "from scripts.get_top_stocks import *\n",
    "\n",
    "\n",
    "top_stocks_long, top_stocks_long_short = generate_top_stocks_df()\n",
    "common_top_stocks = get_common_top_stocks(top_stocks_long, top_stocks_long_short)"
   ]
  },
  {
   "cell_type": "code",
   "execution_count": 3,
   "id": "d940d69a-24e8-443b-8a01-522fa45a9de7",
   "metadata": {},
   "outputs": [],
   "source": [
    "# specify variables for dataset generation\n",
    "\n",
    "start_date = '2023-01-01'\n",
    "end_date = '2024-08-01'\n",
    "interval = \"1h\"\n",
    "trading_days_per_year = 252\n",
    "hours_per_day = 6.5"
   ]
  },
  {
   "cell_type": "code",
   "execution_count": 4,
   "id": "761ff862-01f8-4a01-9324-1bb98de555c6",
   "metadata": {},
   "outputs": [
    {
     "name": "stderr",
     "output_type": "stream",
     "text": [
      "[*********************100%%**********************]  1 of 1 completed\n",
      "[*********************100%%**********************]  1 of 1 completed\n",
      "[*********************100%%**********************]  1 of 1 completed\n",
      "[*********************100%%**********************]  1 of 1 completed\n",
      "[*********************100%%**********************]  1 of 1 completed\n",
      "[*********************100%%**********************]  1 of 1 completed\n",
      "[*********************100%%**********************]  1 of 1 completed\n",
      "[*********************100%%**********************]  1 of 1 completed\n",
      "[*********************100%%**********************]  1 of 1 completed\n",
      "[*********************100%%**********************]  1 of 1 completed\n",
      "[*********************100%%**********************]  1 of 1 completed\n",
      "[*********************100%%**********************]  1 of 1 completed\n",
      "[*********************100%%**********************]  1 of 1 completed\n",
      "[*********************100%%**********************]  1 of 1 completed\n",
      "[*********************100%%**********************]  1 of 1 completed\n",
      "[*********************100%%**********************]  1 of 1 completed\n",
      "[*********************100%%**********************]  1 of 1 completed\n",
      "[*********************100%%**********************]  1 of 1 completed\n",
      "[*********************100%%**********************]  1 of 1 completed\n",
      "[*********************100%%**********************]  1 of 1 completed\n",
      "[*********************100%%**********************]  1 of 1 completed\n",
      "[*********************100%%**********************]  1 of 1 completed\n",
      "[*********************100%%**********************]  1 of 1 completed\n",
      "[*********************100%%**********************]  1 of 1 completed\n",
      "[*********************100%%**********************]  1 of 1 completed\n",
      "[*********************100%%**********************]  1 of 1 completed\n",
      "[*********************100%%**********************]  1 of 1 completed\n",
      "[*********************100%%**********************]  1 of 1 completed\n",
      "[*********************100%%**********************]  1 of 1 completed\n",
      "[*********************100%%**********************]  1 of 1 completed\n",
      "[*********************100%%**********************]  1 of 1 completed\n",
      "[*********************100%%**********************]  1 of 1 completed\n",
      "[*********************100%%**********************]  1 of 1 completed\n",
      "[*********************100%%**********************]  1 of 1 completed\n",
      "[*********************100%%**********************]  1 of 1 completed\n"
     ]
    }
   ],
   "source": [
    "from scripts.generate_dataset_features import *\n",
    "\n",
    "\n",
    "df = get_all_stock_features_df(\n",
    "    stocks_list=common_top_stocks,\n",
    "    start_date=start_date,\n",
    "    end_date=end_date,\n",
    "    interval=interval,\n",
    "    trading_days_per_year=trading_days_per_year, \n",
    "    hours_per_day=hours_per_day\n",
    ")"
   ]
  },
  {
   "cell_type": "markdown",
   "id": "66f1f1c7-6188-4e49-920b-a108506c7330",
   "metadata": {},
   "source": [
    "# training"
   ]
  },
  {
   "cell_type": "code",
   "execution_count": 26,
   "id": "d93ff0ef-7104-4cbb-92f2-0d91923366e2",
   "metadata": {},
   "outputs": [
    {
     "name": "stdout",
     "output_type": "stream",
     "text": [
      "(89565, 81)\n"
     ]
    },
    {
     "data": {
      "text/html": [
       "<div>\n",
       "<style scoped>\n",
       "    .dataframe tbody tr th:only-of-type {\n",
       "        vertical-align: middle;\n",
       "    }\n",
       "\n",
       "    .dataframe tbody tr th {\n",
       "        vertical-align: top;\n",
       "    }\n",
       "\n",
       "    .dataframe thead th {\n",
       "        text-align: right;\n",
       "    }\n",
       "</style>\n",
       "<table border=\"1\" class=\"dataframe\">\n",
       "  <thead>\n",
       "    <tr style=\"text-align: right;\">\n",
       "      <th></th>\n",
       "      <th>Datetime</th>\n",
       "      <th>Open</th>\n",
       "      <th>High</th>\n",
       "      <th>Low</th>\n",
       "      <th>Close</th>\n",
       "      <th>Adj Close</th>\n",
       "      <th>Volume</th>\n",
       "      <th>Log_Return</th>\n",
       "      <th>EMAVolumeDiff2</th>\n",
       "      <th>SMAVolumeDiff2</th>\n",
       "      <th>...</th>\n",
       "      <th>Momentum256</th>\n",
       "      <th>PriceVolatilityHourly</th>\n",
       "      <th>MACD8</th>\n",
       "      <th>MACD16</th>\n",
       "      <th>MACD32</th>\n",
       "      <th>MACD64</th>\n",
       "      <th>MACD128</th>\n",
       "      <th>MACD256</th>\n",
       "      <th>FamaFrenchMktReturns</th>\n",
       "      <th>Log_Return_shift</th>\n",
       "    </tr>\n",
       "  </thead>\n",
       "  <tbody>\n",
       "    <tr>\n",
       "      <th>0</th>\n",
       "      <td>2023-02-24 13:30:00-05:00</td>\n",
       "      <td>2428.041992</td>\n",
       "      <td>2446.850098</td>\n",
       "      <td>2428.041992</td>\n",
       "      <td>2446.219971</td>\n",
       "      <td>2446.219971</td>\n",
       "      <td>50765</td>\n",
       "      <td>0.006468</td>\n",
       "      <td>0.017106</td>\n",
       "      <td>0.088887</td>\n",
       "      <td>...</td>\n",
       "      <td>1.0</td>\n",
       "      <td>1.0</td>\n",
       "      <td>0.756032</td>\n",
       "      <td>0.350702</td>\n",
       "      <td>-0.453102</td>\n",
       "      <td>-0.286670</td>\n",
       "      <td>2.769173</td>\n",
       "      <td>16.077570</td>\n",
       "      <td>-1.09</td>\n",
       "      <td>0.001956</td>\n",
       "    </tr>\n",
       "    <tr>\n",
       "      <th>1</th>\n",
       "      <td>2023-02-24 14:30:00-05:00</td>\n",
       "      <td>2444.520020</td>\n",
       "      <td>2454.419922</td>\n",
       "      <td>2439.465088</td>\n",
       "      <td>2451.010010</td>\n",
       "      <td>2451.010010</td>\n",
       "      <td>63525</td>\n",
       "      <td>0.001956</td>\n",
       "      <td>0.076931</td>\n",
       "      <td>0.111646</td>\n",
       "      <td>...</td>\n",
       "      <td>1.0</td>\n",
       "      <td>1.0</td>\n",
       "      <td>1.483284</td>\n",
       "      <td>0.518276</td>\n",
       "      <td>-0.278292</td>\n",
       "      <td>-0.198128</td>\n",
       "      <td>1.770295</td>\n",
       "      <td>7.539202</td>\n",
       "      <td>-1.09</td>\n",
       "      <td>0.001423</td>\n",
       "    </tr>\n",
       "    <tr>\n",
       "      <th>2</th>\n",
       "      <td>2023-02-24 15:30:00-05:00</td>\n",
       "      <td>2448.689941</td>\n",
       "      <td>2455.000000</td>\n",
       "      <td>2441.010010</td>\n",
       "      <td>2454.500000</td>\n",
       "      <td>2454.500000</td>\n",
       "      <td>83267</td>\n",
       "      <td>0.001423</td>\n",
       "      <td>0.107661</td>\n",
       "      <td>0.134490</td>\n",
       "      <td>...</td>\n",
       "      <td>1.0</td>\n",
       "      <td>1.0</td>\n",
       "      <td>2.436091</td>\n",
       "      <td>0.752140</td>\n",
       "      <td>-0.164594</td>\n",
       "      <td>-0.147409</td>\n",
       "      <td>1.435276</td>\n",
       "      <td>5.504961</td>\n",
       "      <td>-1.09</td>\n",
       "      <td>0.028567</td>\n",
       "    </tr>\n",
       "    <tr>\n",
       "      <th>3</th>\n",
       "      <td>2023-02-27 09:30:00-05:00</td>\n",
       "      <td>2480.389893</td>\n",
       "      <td>2528.314941</td>\n",
       "      <td>2475.120117</td>\n",
       "      <td>2525.629883</td>\n",
       "      <td>2525.629883</td>\n",
       "      <td>70757</td>\n",
       "      <td>0.028567</td>\n",
       "      <td>-0.020383</td>\n",
       "      <td>-0.081221</td>\n",
       "      <td>...</td>\n",
       "      <td>1.0</td>\n",
       "      <td>1.0</td>\n",
       "      <td>0.754132</td>\n",
       "      <td>0.282749</td>\n",
       "      <td>0.052221</td>\n",
       "      <td>0.003886</td>\n",
       "      <td>0.270682</td>\n",
       "      <td>0.826578</td>\n",
       "      <td>0.31</td>\n",
       "      <td>-0.008246</td>\n",
       "    </tr>\n",
       "    <tr>\n",
       "      <th>4</th>\n",
       "      <td>2023-02-27 10:30:00-05:00</td>\n",
       "      <td>2525.469971</td>\n",
       "      <td>2527.050049</td>\n",
       "      <td>2500.000000</td>\n",
       "      <td>2504.889893</td>\n",
       "      <td>2504.889893</td>\n",
       "      <td>52010</td>\n",
       "      <td>-0.008246</td>\n",
       "      <td>-0.114720</td>\n",
       "      <td>-0.152704</td>\n",
       "      <td>...</td>\n",
       "      <td>1.0</td>\n",
       "      <td>1.0</td>\n",
       "      <td>15.234286</td>\n",
       "      <td>1.048808</td>\n",
       "      <td>0.189865</td>\n",
       "      <td>0.042504</td>\n",
       "      <td>0.396862</td>\n",
       "      <td>1.143030</td>\n",
       "      <td>0.31</td>\n",
       "      <td>0.004102</td>\n",
       "    </tr>\n",
       "  </tbody>\n",
       "</table>\n",
       "<p>5 rows × 81 columns</p>\n",
       "</div>"
      ],
      "text/plain": [
       "                    Datetime         Open         High          Low  \\\n",
       "0  2023-02-24 13:30:00-05:00  2428.041992  2446.850098  2428.041992   \n",
       "1  2023-02-24 14:30:00-05:00  2444.520020  2454.419922  2439.465088   \n",
       "2  2023-02-24 15:30:00-05:00  2448.689941  2455.000000  2441.010010   \n",
       "3  2023-02-27 09:30:00-05:00  2480.389893  2528.314941  2475.120117   \n",
       "4  2023-02-27 10:30:00-05:00  2525.469971  2527.050049  2500.000000   \n",
       "\n",
       "         Close    Adj Close  Volume  Log_Return  EMAVolumeDiff2  \\\n",
       "0  2446.219971  2446.219971   50765    0.006468        0.017106   \n",
       "1  2451.010010  2451.010010   63525    0.001956        0.076931   \n",
       "2  2454.500000  2454.500000   83267    0.001423        0.107661   \n",
       "3  2525.629883  2525.629883   70757    0.028567       -0.020383   \n",
       "4  2504.889893  2504.889893   52010   -0.008246       -0.114720   \n",
       "\n",
       "   SMAVolumeDiff2  ...  Momentum256  PriceVolatilityHourly      MACD8  \\\n",
       "0        0.088887  ...          1.0                    1.0   0.756032   \n",
       "1        0.111646  ...          1.0                    1.0   1.483284   \n",
       "2        0.134490  ...          1.0                    1.0   2.436091   \n",
       "3       -0.081221  ...          1.0                    1.0   0.754132   \n",
       "4       -0.152704  ...          1.0                    1.0  15.234286   \n",
       "\n",
       "     MACD16    MACD32    MACD64   MACD128    MACD256  FamaFrenchMktReturns  \\\n",
       "0  0.350702 -0.453102 -0.286670  2.769173  16.077570                 -1.09   \n",
       "1  0.518276 -0.278292 -0.198128  1.770295   7.539202                 -1.09   \n",
       "2  0.752140 -0.164594 -0.147409  1.435276   5.504961                 -1.09   \n",
       "3  0.282749  0.052221  0.003886  0.270682   0.826578                  0.31   \n",
       "4  1.048808  0.189865  0.042504  0.396862   1.143030                  0.31   \n",
       "\n",
       "   Log_Return_shift  \n",
       "0          0.001956  \n",
       "1          0.001423  \n",
       "2          0.028567  \n",
       "3         -0.008246  \n",
       "4          0.004102  \n",
       "\n",
       "[5 rows x 81 columns]"
      ]
     },
     "execution_count": 26,
     "metadata": {},
     "output_type": "execute_result"
    }
   ],
   "source": [
    "print(df.shape)\n",
    "df.head()"
   ]
  },
  {
   "cell_type": "code",
   "execution_count": 28,
   "id": "65138382-0c7b-4576-98e2-3a11b7e77c62",
   "metadata": {},
   "outputs": [
    {
     "data": {
      "text/plain": [
       "Index(['Datetime', 'Open', 'High', 'Low', 'Close', 'Adj Close', 'Volume',\n",
       "       'Log_Return', 'EMAVolumeDiff2', 'SMAVolumeDiff2', 'EMACloseDiff2',\n",
       "       'SMACloseDiff2', 'VWAP2', 'VolatilityStdDev2', 'Volatility2',\n",
       "       'Momentum2', 'EMAVolumeDiff4', 'SMAVolumeDiff4', 'EMACloseDiff4',\n",
       "       'SMACloseDiff4', 'VWAP4', 'VolatilityStdDev4', 'Volatility4',\n",
       "       'Momentum4', 'EMAVolumeDiff8', 'SMAVolumeDiff8', 'EMACloseDiff8',\n",
       "       'SMACloseDiff8', 'VWAP8', 'VolatilityStdDev8', 'Volatility8',\n",
       "       'Momentum8', 'EMAVolumeDiff16', 'SMAVolumeDiff16', 'EMACloseDiff16',\n",
       "       'SMACloseDiff16', 'VWAP16', 'VolatilityStdDev16', 'Volatility16',\n",
       "       'Momentum16', 'EMAVolumeDiff32', 'SMAVolumeDiff32', 'EMACloseDiff32',\n",
       "       'SMACloseDiff32', 'VWAP32', 'VolatilityStdDev32', 'Volatility32',\n",
       "       'Momentum32', 'EMAVolumeDiff64', 'SMAVolumeDiff64', 'EMACloseDiff64',\n",
       "       'SMACloseDiff64', 'VWAP64', 'VolatilityStdDev64', 'Volatility64',\n",
       "       'Momentum64', 'EMAVolumeDiff128', 'SMAVolumeDiff128', 'EMACloseDiff128',\n",
       "       'SMACloseDiff128', 'VWAP128', 'VolatilityStdDev128', 'Volatility128',\n",
       "       'Momentum128', 'EMAVolumeDiff256', 'SMAVolumeDiff256',\n",
       "       'EMACloseDiff256', 'SMACloseDiff256', 'VWAP256', 'VolatilityStdDev256',\n",
       "       'Volatility256', 'Momentum256', 'PriceVolatilityHourly', 'MACD8',\n",
       "       'MACD16', 'MACD32', 'MACD64', 'MACD128', 'MACD256',\n",
       "       'FamaFrenchMktReturns', 'Log_Return_shift'],\n",
       "      dtype='object')"
      ]
     },
     "execution_count": 28,
     "metadata": {},
     "output_type": "execute_result"
    }
   ],
   "source": [
    "df.columns"
   ]
  },
  {
   "cell_type": "code",
   "execution_count": 30,
   "id": "e2e362ef-bb28-4b97-8eda-c4202f9334ea",
   "metadata": {},
   "outputs": [
    {
     "data": {
      "text/plain": [
       "72"
      ]
     },
     "execution_count": 30,
     "metadata": {},
     "output_type": "execute_result"
    }
   ],
   "source": [
    "target = \"Log_Return_shift\"\n",
    "features = df.columns[8:-1]\n",
    "len(features)"
   ]
  },
  {
   "cell_type": "code",
   "execution_count": 141,
   "id": "a27330cd-21c0-4313-8e6d-4c500299b694",
   "metadata": {},
   "outputs": [
    {
     "data": {
      "text/plain": [
       "((89565, 72), (89565,))"
      ]
     },
     "execution_count": 141,
     "metadata": {},
     "output_type": "execute_result"
    }
   ],
   "source": [
    "X = df[features].to_numpy()\n",
    "y = df[target].to_numpy()\n",
    "X.shape,y.shape"
   ]
  },
  {
   "cell_type": "code",
   "execution_count": 150,
   "id": "e9e5b398-a404-4775-a9a7-1e082584700d",
   "metadata": {
    "scrolled": true
   },
   "outputs": [
    {
     "data": {
      "text/plain": [
       "((71652, 72), (71652,), (8956, 72), (8956,), (8957, 72), (8957,))"
      ]
     },
     "execution_count": 150,
     "metadata": {},
     "output_type": "execute_result"
    }
   ],
   "source": [
    "from scripts.train_predict import *\n",
    "\n",
    "X_train,y_train,X_val,y_val,X_test,y_test = train_val_test_split(X, y, 0.8, 0.1, 0.1)\n",
    "X_train.shape,y_train.shape,X_val.shape,y_val.shape,X_test.shape,y_test.shape"
   ]
  },
  {
   "cell_type": "code",
   "execution_count": 152,
   "id": "ba943b60-b994-4392-b32b-3176954b4f39",
   "metadata": {},
   "outputs": [],
   "source": [
    "# Initialize transformations\n",
    "# Important note: do standard scaling first before PCA\n",
    "scaler = StandardScaler()\n",
    "selector = SelectKBest(f_regression, k=10)\n",
    "pca = PCA(n_components = 0.95)\n",
    "\n",
    "# Fit the scaler on the training data and transform the training data\n",
    "X_train = scaler.fit_transform(X_train)\n",
    "X_train = selector.fit_transform(X_train, y_train)\n",
    "X_train = pca.fit_transform(X_train)\n",
    "\n",
    "# Transform the validation data\n",
    "X_val = scaler.transform(X_val)\n",
    "X_val = selector.transform(X_val)\n",
    "X_val = pca.transform(X_val)\n",
    "\n",
    "# Transform the test data\n",
    "X_test = scaler.transform(X_test)\n",
    "X_test = selector.transform(X_test)\n",
    "X_test = pca.transform(X_test)\n",
    "\n",
    "cols_idxs = selector.get_support(indices=True)\n",
    "# features_df_new = X[:train_size].iloc[:,cols_idxs]\n",
    "# features_df_new"
   ]
  },
  {
   "cell_type": "code",
   "execution_count": 172,
   "id": "00a24aaf-0fb7-436f-bef8-f60b48a10d86",
   "metadata": {},
   "outputs": [],
   "source": [
    "def train():\n",
    "    # initialise training params\n",
    "    best_score = float('inf')\n",
    "    best_params = None\n",
    "    best_model = None\n",
    "    \n",
    "\n",
    "    # Define the parameter grid\n",
    "    param_grid = {\n",
    "        # 'hidden_layer_sizes': [(8,), (16,), (32,), (64,), (64,8), (64,16,), (32,8), (16,8), (8,16,), (8,64,)], # Different architectures\n",
    "        # 'activation': ['relu', 'tanh'], # Different activation functions\n",
    "        # 'solver': ['adam', 'sgd'], # Different solvers\n",
    "        # 'alpha': [0.0001, 0.001], # Different regularization terms\n",
    "        # 'learning_rate': ['constant', 'adaptive'], # Different learning rates\n",
    "        'hidden_layer_sizes': [(8,64)], # Different architectures\n",
    "        'activation': ['tanh'], # Different activation functions\n",
    "        'solver': ['adam'], # Different solvers\n",
    "        'alpha': [0.001], # Different regularization terms\n",
    "        'learning_rate': ['constant'], # Different learning rates\n",
    "    }\n",
    "\n",
    "    for params in alive_it(ParameterGrid(param_grid)):\n",
    "        model = MLPRegressor(max_iter=1000, **params) # initialise new model before each run\n",
    "        model.fit(X_train, y_train)\n",
    "        y_pred = model.predict(X_val)\n",
    "        score = mean_squared_error(y_val, y_pred)\n",
    "        \n",
    "        if score < best_score:\n",
    "            best_score = score\n",
    "            best_params = params\n",
    "            best_model = model\n",
    "            print(f\"score: {round(best_score,7)}\")\n",
    "            # print(f\"score: {round(best_score,7)}, params: {best_params}\")\n",
    "\n",
    "    print(f\"Best parameters found: {best_params}\")\n",
    "    print(f\"Best validation score: {round(best_score,5)}\")\n",
    "\n",
    "    return best_model, best_params, best_score, X_test, y_test\n",
    "\n",
    "def predict(best_model, X_test, y_test):\n",
    "    y_pred = best_model.predict(X_test)\n",
    "    mse = mean_squared_error(y_test, y_pred)\n",
    "    mae = mean_absolute_error(y_test, y_pred)\n",
    "    print(f\"Test set mean squared error: {round(mse, 5)}\")\n",
    "    print(f\"Test set mean absolute error: {round(mae, 5)}\")\n",
    "    \n",
    "    return y_pred\n",
    "\n",
    "def train_predict():\n",
    "    best_model, best_params, best_score, X_test, y_test = train()\n",
    "    y_pred = predict(best_model, X_test, y_test)\n",
    "    \n",
    "    plt.plot(y_test,label='test groundtruth')\n",
    "    plt.plot(y_pred,label='test predictions')\n",
    "    plt.title(target)\n",
    "    plt.legend()\n",
    "    plt.show()\n",
    "    \n",
    "    return best_model, best_params, best_score, y_pred"
   ]
  },
  {
   "cell_type": "code",
   "execution_count": 178,
   "id": "33b5697a-2d9a-41b0-87e2-a5f3d9ad82ba",
   "metadata": {},
   "outputs": [
    {
     "name": "stdout",
     "output_type": "stream",
     "text": [
      "on 0: score: 6.57e-05\n",
      "|████████████████████████████████████████| 1/1 [100%] in 2.0s (0.51/s) \n",
      "Best parameters found: {'activation': 'tanh', 'alpha': 0.001, 'hidden_layer_sizes': (8, 64), 'learning_rate': 'constant', 'solver': 'adam'}\n",
      "Best validation score: 7e-05\n",
      "Test set mean squared error: 0.00014\n",
      "Test set mean absolute error: 0.00745\n"
     ]
    },
    {
     "data": {
      "image/png": "[encoded data removed]",
      "text/plain": [
       "<Figure size 640x480 with 1 Axes>"
      ]
     },
     "metadata": {},
     "output_type": "display_data"
    }
   ],
   "source": [
    "best_model, best_params, best_score, y_pred = train_predict()"
   ]
  },
  {
   "cell_type": "code",
   "execution_count": 179,
   "id": "624cb6f3-c206-407f-bd84-a69f47880be7",
   "metadata": {},
   "outputs": [
    {
     "name": "stdout",
     "output_type": "stream",
     "text": [
      "Percentage of prediction with correct signal direction: 0.5227196606006476\n"
     ]
    },
    {
     "data": {
      "text/plain": [
       "[<matplotlib.lines.Line2D at 0x386071610>]"
      ]
     },
     "execution_count": 179,
     "metadata": {},
     "output_type": "execute_result"
    },
    {
     "data": {
      "image/png": "[encoded data removed]",
      "text/plain": [
       "<Figure size 640x480 with 1 Axes>"
      ]
     },
     "metadata": {},
     "output_type": "display_data"
    }
   ],
   "source": [
    "output = []\n",
    "cumsum = []\n",
    "for i, v in enumerate(y_pred):\n",
    "    output.append((y_test[i], y_pred[i]))\n",
    "\n",
    "output.sort()\n",
    "\n",
    "total_correct = 0\n",
    "for x, y in output:\n",
    "    total_correct += x * y >= 0\n",
    "    cumsum.append(total_correct)\n",
    "\n",
    "pct_correct_direction = cumsum[-1] / len(output)\n",
    "print(f\"Percentage of prediction with correct signal direction: {pct_correct_direction}\")\n",
    "plt.plot(cumsum)"
   ]
  }
 ],
 "metadata": {
  "kernelspec": {
   "display_name": "dsa5205-env",
   "language": "python",
   "name": "dsa5205-env"
  },
  "language_info": {
   "codemirror_mode": {
    "name": "ipython",
    "version": 3
   },
   "file_extension": ".py",
   "mimetype": "text/x-python",
   "name": "python",
   "nbconvert_exporter": "python",
   "pygments_lexer": "ipython3",
   "version": "3.9.6"
  }
 },
 "nbformat": 4,
 "nbformat_minor": 5
}
