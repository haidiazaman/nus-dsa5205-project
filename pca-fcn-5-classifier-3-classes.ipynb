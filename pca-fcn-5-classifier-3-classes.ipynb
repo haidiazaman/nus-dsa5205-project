{
 "cells": [
  {
   "cell_type": "markdown",
   "id": "e26e6c0d-5898-4084-a17c-836440b1300e",
   "metadata": {},
   "source": [
    "# generate dataset"
   ]
  },
  {
   "cell_type": "code",
   "execution_count": 1,
   "id": "4748733c-85ea-44cc-ad69-2bb1ba07a50b",
   "metadata": {
    "tags": []
   },
   "outputs": [
    {
     "name": "stderr",
     "output_type": "stream",
     "text": [
      "/Users/I748920/Library/Python/3.9/lib/python/site-packages/urllib3/__init__.py:35: NotOpenSSLWarning: urllib3 v2 only supports OpenSSL 1.1.1+, currently the 'ssl' module is compiled with 'LibreSSL 2.8.3'. See: https://github.com/urllib3/urllib3/issues/3020\n",
      "  warnings.warn(\n"
     ]
    },
    {
     "name": "stdout",
     "output_type": "stream",
     "text": [
      "\n",
      "Results saved to 'top_30_stocks_long_only.csv' and 'top_30_stocks_long_short.csv'\n",
      "\n",
      "Detailed metrics for top stock (Long-Only Strategy) SMCI:\n",
      "Final Close Price: 284.26\n",
      "60-day Return: 250.61%\n",
      "Average Hourly Volatility: 0.6678\n",
      "Average Sharpe Ratio: 1.6242\n",
      "Average Hourly Volume: 355714\n",
      "\n",
      "num common_top_stocks:  35\n"
     ]
    }
   ],
   "source": [
    "from scripts.get_top_stocks import *\n",
    "\n",
    "\n",
    "top_stocks_long, top_stocks_long_short = generate_top_stocks_df()\n",
    "common_top_stocks = get_common_top_stocks(top_stocks_long, top_stocks_long_short)"
   ]
  },
  {
   "cell_type": "code",
   "execution_count": 2,
   "id": "98e9c7c0-2345-4836-a2c5-f02810aa374a",
   "metadata": {
    "tags": []
   },
   "outputs": [],
   "source": [
    "# specify variables for dataset generation\n",
    "\n",
    "start_date = '2023-01-01'\n",
    "end_date = '2024-08-01'\n",
    "interval = \"1h\"\n",
    "trading_days_per_year = 252\n",
    "hours_per_day = 6.5"
   ]
  },
  {
   "cell_type": "code",
   "execution_count": 4,
   "id": "2051d0f7-d486-4dee-96c4-eb9a87619089",
   "metadata": {
    "tags": []
   },
   "outputs": [
    {
     "name": "stderr",
     "output_type": "stream",
     "text": [
      "[*********************100%%**********************]  1 of 1 completed\n",
      "[*********************100%%**********************]  1 of 1 completed\n",
      "[*********************100%%**********************]  1 of 1 completed\n",
      "[*********************100%%**********************]  1 of 1 completed\n",
      "[*********************100%%**********************]  1 of 1 completed\n",
      "[*********************100%%**********************]  1 of 1 completed\n",
      "[*********************100%%**********************]  1 of 1 completed\n",
      "[*********************100%%**********************]  1 of 1 completed\n",
      "[*********************100%%**********************]  1 of 1 completed\n",
      "[*********************100%%**********************]  1 of 1 completed\n",
      "[*********************100%%**********************]  1 of 1 completed\n",
      "[*********************100%%**********************]  1 of 1 completed\n",
      "[*********************100%%**********************]  1 of 1 completed\n",
      "[*********************100%%**********************]  1 of 1 completed\n",
      "[*********************100%%**********************]  1 of 1 completed\n",
      "[*********************100%%**********************]  1 of 1 completed\n",
      "[*********************100%%**********************]  1 of 1 completed\n",
      "[*********************100%%**********************]  1 of 1 completed\n",
      "[*********************100%%**********************]  1 of 1 completed\n",
      "[*********************100%%**********************]  1 of 1 completed\n",
      "[*********************100%%**********************]  1 of 1 completed\n",
      "[*********************100%%**********************]  1 of 1 completed\n",
      "[*********************100%%**********************]  1 of 1 completed\n",
      "[*********************100%%**********************]  1 of 1 completed\n",
      "[*********************100%%**********************]  1 of 1 completed\n",
      "[*********************100%%**********************]  1 of 1 completed\n",
      "[*********************100%%**********************]  1 of 1 completed\n",
      "[*********************100%%**********************]  1 of 1 completed\n",
      "[*********************100%%**********************]  1 of 1 completed\n",
      "[*********************100%%**********************]  1 of 1 completed\n",
      "[*********************100%%**********************]  1 of 1 completed\n",
      "[*********************100%%**********************]  1 of 1 completed\n",
      "[*********************100%%**********************]  1 of 1 completed\n",
      "[*********************100%%**********************]  1 of 1 completed\n",
      "[*********************100%%**********************]  1 of 1 completed\n"
     ]
    }
   ],
   "source": [
    "from scripts.generate_dataset_features import *\n",
    "\n",
    "\n",
    "df = get_all_stock_features_df(\n",
    "    stocks_list=common_top_stocks,\n",
    "    start_date=start_date,\n",
    "    end_date=end_date,\n",
    "    interval=interval,\n",
    "    trading_days_per_year=trading_days_per_year, \n",
    "    hours_per_day=hours_per_day\n",
    ")"
   ]
  },
  {
   "cell_type": "code",
   "execution_count": 5,
   "id": "c3b959a9-57e8-4575-b394-ae08e117efa3",
   "metadata": {},
   "outputs": [
    {
     "data": {
      "text/html": [
       "<div>\n",
       "<style scoped>\n",
       "    .dataframe tbody tr th:only-of-type {\n",
       "        vertical-align: middle;\n",
       "    }\n",
       "\n",
       "    .dataframe tbody tr th {\n",
       "        vertical-align: top;\n",
       "    }\n",
       "\n",
       "    .dataframe thead th {\n",
       "        text-align: right;\n",
       "    }\n",
       "</style>\n",
       "<table border=\"1\" class=\"dataframe\">\n",
       "  <thead>\n",
       "    <tr style=\"text-align: right;\">\n",
       "      <th></th>\n",
       "      <th>Datetime</th>\n",
       "      <th>Open</th>\n",
       "      <th>High</th>\n",
       "      <th>Low</th>\n",
       "      <th>Close</th>\n",
       "      <th>Adj Close</th>\n",
       "      <th>Volume</th>\n",
       "      <th>Log_Return</th>\n",
       "      <th>EMAVolumeDiff2</th>\n",
       "      <th>SMAVolumeDiff2</th>\n",
       "      <th>...</th>\n",
       "      <th>MACD16</th>\n",
       "      <th>MACD32</th>\n",
       "      <th>MACD64</th>\n",
       "      <th>MACD128</th>\n",
       "      <th>MACD256</th>\n",
       "      <th>FamaFrenchMktReturns</th>\n",
       "      <th>Log_Return_shift</th>\n",
       "      <th>stock_name</th>\n",
       "      <th>Stock_Position</th>\n",
       "      <th>Target</th>\n",
       "    </tr>\n",
       "  </thead>\n",
       "  <tbody>\n",
       "    <tr>\n",
       "      <th>0</th>\n",
       "      <td>2023-02-24 13:30:00-05:00</td>\n",
       "      <td>111.139999</td>\n",
       "      <td>111.570000</td>\n",
       "      <td>110.900002</td>\n",
       "      <td>111.300003</td>\n",
       "      <td>111.300003</td>\n",
       "      <td>424000</td>\n",
       "      <td>0.000989</td>\n",
       "      <td>0.012267</td>\n",
       "      <td>0.098904</td>\n",
       "      <td>...</td>\n",
       "      <td>118.990716</td>\n",
       "      <td>7.137998</td>\n",
       "      <td>4.438836</td>\n",
       "      <td>0.149738</td>\n",
       "      <td>-0.859904</td>\n",
       "      <td>-1.09</td>\n",
       "      <td>-0.000270</td>\n",
       "      <td>AMAT</td>\n",
       "      <td>hold</td>\n",
       "      <td>1</td>\n",
       "    </tr>\n",
       "    <tr>\n",
       "      <th>1</th>\n",
       "      <td>2023-02-24 14:30:00-05:00</td>\n",
       "      <td>111.309998</td>\n",
       "      <td>112.099998</td>\n",
       "      <td>110.875000</td>\n",
       "      <td>111.269997</td>\n",
       "      <td>111.269997</td>\n",
       "      <td>628099</td>\n",
       "      <td>-0.000270</td>\n",
       "      <td>0.124913</td>\n",
       "      <td>0.193992</td>\n",
       "      <td>...</td>\n",
       "      <td>8.533366</td>\n",
       "      <td>6.911661</td>\n",
       "      <td>4.515625</td>\n",
       "      <td>0.186482</td>\n",
       "      <td>-0.860073</td>\n",
       "      <td>-1.09</td>\n",
       "      <td>0.001257</td>\n",
       "      <td>AMAT</td>\n",
       "      <td>hold</td>\n",
       "      <td>1</td>\n",
       "    </tr>\n",
       "    <tr>\n",
       "      <th>2</th>\n",
       "      <td>2023-02-24 15:30:00-05:00</td>\n",
       "      <td>111.269997</td>\n",
       "      <td>111.459999</td>\n",
       "      <td>110.830002</td>\n",
       "      <td>111.410004</td>\n",
       "      <td>111.410004</td>\n",
       "      <td>1050686</td>\n",
       "      <td>0.001257</td>\n",
       "      <td>0.185107</td>\n",
       "      <td>0.251722</td>\n",
       "      <td>...</td>\n",
       "      <td>-1.907969</td>\n",
       "      <td>-27.929643</td>\n",
       "      <td>10.601492</td>\n",
       "      <td>0.265000</td>\n",
       "      <td>-0.930749</td>\n",
       "      <td>-1.09</td>\n",
       "      <td>0.008402</td>\n",
       "      <td>AMAT</td>\n",
       "      <td>buy</td>\n",
       "      <td>2</td>\n",
       "    </tr>\n",
       "    <tr>\n",
       "      <th>3</th>\n",
       "      <td>2023-02-27 09:30:00-05:00</td>\n",
       "      <td>113.510002</td>\n",
       "      <td>113.599998</td>\n",
       "      <td>112.294998</td>\n",
       "      <td>112.349998</td>\n",
       "      <td>112.349998</td>\n",
       "      <td>531762</td>\n",
       "      <td>0.008402</td>\n",
       "      <td>-0.181946</td>\n",
       "      <td>-0.327925</td>\n",
       "      <td>...</td>\n",
       "      <td>-0.035864</td>\n",
       "      <td>-0.829499</td>\n",
       "      <td>-1.611776</td>\n",
       "      <td>-2.191973</td>\n",
       "      <td>-1.756799</td>\n",
       "      <td>0.31</td>\n",
       "      <td>0.000890</td>\n",
       "      <td>AMAT</td>\n",
       "      <td>hold</td>\n",
       "      <td>1</td>\n",
       "    </tr>\n",
       "    <tr>\n",
       "      <th>4</th>\n",
       "      <td>2023-02-27 10:30:00-05:00</td>\n",
       "      <td>112.320000</td>\n",
       "      <td>112.650002</td>\n",
       "      <td>111.489998</td>\n",
       "      <td>112.449997</td>\n",
       "      <td>112.449997</td>\n",
       "      <td>376832</td>\n",
       "      <td>0.000890</td>\n",
       "      <td>-0.194630</td>\n",
       "      <td>-0.170516</td>\n",
       "      <td>...</td>\n",
       "      <td>0.166048</td>\n",
       "      <td>-0.813876</td>\n",
       "      <td>-1.551616</td>\n",
       "      <td>-1.264289</td>\n",
       "      <td>-1.972327</td>\n",
       "      <td>0.31</td>\n",
       "      <td>0.004082</td>\n",
       "      <td>AMAT</td>\n",
       "      <td>buy</td>\n",
       "      <td>2</td>\n",
       "    </tr>\n",
       "    <tr>\n",
       "      <th>...</th>\n",
       "      <td>...</td>\n",
       "      <td>...</td>\n",
       "      <td>...</td>\n",
       "      <td>...</td>\n",
       "      <td>...</td>\n",
       "      <td>...</td>\n",
       "      <td>...</td>\n",
       "      <td>...</td>\n",
       "      <td>...</td>\n",
       "      <td>...</td>\n",
       "      <td>...</td>\n",
       "      <td>...</td>\n",
       "      <td>...</td>\n",
       "      <td>...</td>\n",
       "      <td>...</td>\n",
       "      <td>...</td>\n",
       "      <td>...</td>\n",
       "      <td>...</td>\n",
       "      <td>...</td>\n",
       "      <td>...</td>\n",
       "      <td>...</td>\n",
       "    </tr>\n",
       "    <tr>\n",
       "      <th>2491</th>\n",
       "      <td>2024-07-30 10:30:00-04:00</td>\n",
       "      <td>231.050003</td>\n",
       "      <td>231.889999</td>\n",
       "      <td>226.240005</td>\n",
       "      <td>226.709900</td>\n",
       "      <td>226.709900</td>\n",
       "      <td>15533367</td>\n",
       "      <td>-0.019136</td>\n",
       "      <td>-0.114473</td>\n",
       "      <td>-0.283266</td>\n",
       "      <td>...</td>\n",
       "      <td>-0.483482</td>\n",
       "      <td>0.529832</td>\n",
       "      <td>3.796527</td>\n",
       "      <td>-0.453627</td>\n",
       "      <td>-1.836865</td>\n",
       "      <td>0.68</td>\n",
       "      <td>-0.021083</td>\n",
       "      <td>TSLA</td>\n",
       "      <td>sell</td>\n",
       "      <td>0</td>\n",
       "    </tr>\n",
       "    <tr>\n",
       "      <th>2492</th>\n",
       "      <td>2024-07-30 11:30:00-04:00</td>\n",
       "      <td>226.656494</td>\n",
       "      <td>226.960007</td>\n",
       "      <td>221.300003</td>\n",
       "      <td>221.980103</td>\n",
       "      <td>221.980103</td>\n",
       "      <td>14712048</td>\n",
       "      <td>-0.021083</td>\n",
       "      <td>-0.060243</td>\n",
       "      <td>-0.027155</td>\n",
       "      <td>...</td>\n",
       "      <td>-0.083805</td>\n",
       "      <td>0.267215</td>\n",
       "      <td>0.807894</td>\n",
       "      <td>-0.130387</td>\n",
       "      <td>-1.068977</td>\n",
       "      <td>0.68</td>\n",
       "      <td>0.005570</td>\n",
       "      <td>TSLA</td>\n",
       "      <td>buy</td>\n",
       "      <td>2</td>\n",
       "    </tr>\n",
       "    <tr>\n",
       "      <th>2493</th>\n",
       "      <td>2024-07-30 12:30:00-04:00</td>\n",
       "      <td>221.979996</td>\n",
       "      <td>223.249893</td>\n",
       "      <td>220.009995</td>\n",
       "      <td>223.220001</td>\n",
       "      <td>223.220001</td>\n",
       "      <td>10708543</td>\n",
       "      <td>0.005570</td>\n",
       "      <td>-0.133432</td>\n",
       "      <td>-0.157491</td>\n",
       "      <td>...</td>\n",
       "      <td>0.057811</td>\n",
       "      <td>0.483532</td>\n",
       "      <td>1.221574</td>\n",
       "      <td>-0.141163</td>\n",
       "      <td>-1.231239</td>\n",
       "      <td>0.68</td>\n",
       "      <td>-0.002445</td>\n",
       "      <td>TSLA</td>\n",
       "      <td>hold</td>\n",
       "      <td>1</td>\n",
       "    </tr>\n",
       "    <tr>\n",
       "      <th>2494</th>\n",
       "      <td>2024-07-30 13:30:00-04:00</td>\n",
       "      <td>223.225098</td>\n",
       "      <td>224.250000</td>\n",
       "      <td>222.165604</td>\n",
       "      <td>222.675003</td>\n",
       "      <td>222.675003</td>\n",
       "      <td>9011627</td>\n",
       "      <td>-0.002445</td>\n",
       "      <td>-0.110129</td>\n",
       "      <td>-0.086050</td>\n",
       "      <td>...</td>\n",
       "      <td>0.335820</td>\n",
       "      <td>0.574071</td>\n",
       "      <td>1.201916</td>\n",
       "      <td>-0.106057</td>\n",
       "      <td>-1.180791</td>\n",
       "      <td>0.68</td>\n",
       "      <td>-0.006510</td>\n",
       "      <td>TSLA</td>\n",
       "      <td>sell</td>\n",
       "      <td>0</td>\n",
       "    </tr>\n",
       "    <tr>\n",
       "      <th>2495</th>\n",
       "      <td>2024-07-30 14:30:00-04:00</td>\n",
       "      <td>222.649994</td>\n",
       "      <td>223.139893</td>\n",
       "      <td>220.679993</td>\n",
       "      <td>221.229996</td>\n",
       "      <td>221.229996</td>\n",
       "      <td>8314132</td>\n",
       "      <td>-0.006510</td>\n",
       "      <td>-0.067754</td>\n",
       "      <td>-0.040258</td>\n",
       "      <td>...</td>\n",
       "      <td>0.507298</td>\n",
       "      <td>0.544648</td>\n",
       "      <td>0.973833</td>\n",
       "      <td>-0.061520</td>\n",
       "      <td>-1.037403</td>\n",
       "      <td>0.68</td>\n",
       "      <td>0.006263</td>\n",
       "      <td>TSLA</td>\n",
       "      <td>buy</td>\n",
       "      <td>2</td>\n",
       "    </tr>\n",
       "  </tbody>\n",
       "</table>\n",
       "<p>89816 rows × 84 columns</p>\n",
       "</div>"
      ],
      "text/plain": [
       "                       Datetime        Open        High         Low  \\\n",
       "0     2023-02-24 13:30:00-05:00  111.139999  111.570000  110.900002   \n",
       "1     2023-02-24 14:30:00-05:00  111.309998  112.099998  110.875000   \n",
       "2     2023-02-24 15:30:00-05:00  111.269997  111.459999  110.830002   \n",
       "3     2023-02-27 09:30:00-05:00  113.510002  113.599998  112.294998   \n",
       "4     2023-02-27 10:30:00-05:00  112.320000  112.650002  111.489998   \n",
       "...                         ...         ...         ...         ...   \n",
       "2491  2024-07-30 10:30:00-04:00  231.050003  231.889999  226.240005   \n",
       "2492  2024-07-30 11:30:00-04:00  226.656494  226.960007  221.300003   \n",
       "2493  2024-07-30 12:30:00-04:00  221.979996  223.249893  220.009995   \n",
       "2494  2024-07-30 13:30:00-04:00  223.225098  224.250000  222.165604   \n",
       "2495  2024-07-30 14:30:00-04:00  222.649994  223.139893  220.679993   \n",
       "\n",
       "           Close   Adj Close    Volume  Log_Return  EMAVolumeDiff2  \\\n",
       "0     111.300003  111.300003    424000    0.000989        0.012267   \n",
       "1     111.269997  111.269997    628099   -0.000270        0.124913   \n",
       "2     111.410004  111.410004   1050686    0.001257        0.185107   \n",
       "3     112.349998  112.349998    531762    0.008402       -0.181946   \n",
       "4     112.449997  112.449997    376832    0.000890       -0.194630   \n",
       "...          ...         ...       ...         ...             ...   \n",
       "2491  226.709900  226.709900  15533367   -0.019136       -0.114473   \n",
       "2492  221.980103  221.980103  14712048   -0.021083       -0.060243   \n",
       "2493  223.220001  223.220001  10708543    0.005570       -0.133432   \n",
       "2494  222.675003  222.675003   9011627   -0.002445       -0.110129   \n",
       "2495  221.229996  221.229996   8314132   -0.006510       -0.067754   \n",
       "\n",
       "      SMAVolumeDiff2  ...      MACD16     MACD32     MACD64   MACD128  \\\n",
       "0           0.098904  ...  118.990716   7.137998   4.438836  0.149738   \n",
       "1           0.193992  ...    8.533366   6.911661   4.515625  0.186482   \n",
       "2           0.251722  ...   -1.907969 -27.929643  10.601492  0.265000   \n",
       "3          -0.327925  ...   -0.035864  -0.829499  -1.611776 -2.191973   \n",
       "4          -0.170516  ...    0.166048  -0.813876  -1.551616 -1.264289   \n",
       "...              ...  ...         ...        ...        ...       ...   \n",
       "2491       -0.283266  ...   -0.483482   0.529832   3.796527 -0.453627   \n",
       "2492       -0.027155  ...   -0.083805   0.267215   0.807894 -0.130387   \n",
       "2493       -0.157491  ...    0.057811   0.483532   1.221574 -0.141163   \n",
       "2494       -0.086050  ...    0.335820   0.574071   1.201916 -0.106057   \n",
       "2495       -0.040258  ...    0.507298   0.544648   0.973833 -0.061520   \n",
       "\n",
       "       MACD256  FamaFrenchMktReturns  Log_Return_shift  stock_name  \\\n",
       "0    -0.859904                 -1.09         -0.000270        AMAT   \n",
       "1    -0.860073                 -1.09          0.001257        AMAT   \n",
       "2    -0.930749                 -1.09          0.008402        AMAT   \n",
       "3    -1.756799                  0.31          0.000890        AMAT   \n",
       "4    -1.972327                  0.31          0.004082        AMAT   \n",
       "...        ...                   ...               ...         ...   \n",
       "2491 -1.836865                  0.68         -0.021083        TSLA   \n",
       "2492 -1.068977                  0.68          0.005570        TSLA   \n",
       "2493 -1.231239                  0.68         -0.002445        TSLA   \n",
       "2494 -1.180791                  0.68         -0.006510        TSLA   \n",
       "2495 -1.037403                  0.68          0.006263        TSLA   \n",
       "\n",
       "      Stock_Position  Target  \n",
       "0               hold       1  \n",
       "1               hold       1  \n",
       "2                buy       2  \n",
       "3               hold       1  \n",
       "4                buy       2  \n",
       "...              ...     ...  \n",
       "2491            sell       0  \n",
       "2492             buy       2  \n",
       "2493            hold       1  \n",
       "2494            sell       0  \n",
       "2495             buy       2  \n",
       "\n",
       "[89816 rows x 84 columns]"
      ]
     },
     "execution_count": 5,
     "metadata": {},
     "output_type": "execute_result"
    }
   ],
   "source": [
    "df"
   ]
  },
  {
   "cell_type": "code",
   "execution_count": 7,
   "id": "cb790925-b282-4e61-81f6-097e886b334f",
   "metadata": {},
   "outputs": [
    {
     "name": "stdout",
     "output_type": "stream",
     "text": [
      "0\n",
      "0\n",
      "0\n",
      "0\n"
     ]
    }
   ],
   "source": [
    "# additional logic to ensure buy remains +ve and sell remainvs -ve\n",
    "\n",
    "print(len(df[(df.Log_Return_shift < 0) & (df.Stock_Position == 'buy')]))\n",
    "# print(len(df[(df.Log_Return_shift < 0) & (df.Stock_Position == 'strong buy')]))\n",
    "\n",
    "print(len(df[(df.Log_Return_shift > 0) & (df.Stock_Position == 'sell')]))\n",
    "# print(len(df[(df.Log_Return_shift > 0) & (df.Stock_Position == 'strong sell')]))\n",
    "\n",
    "# all good"
   ]
  },
  {
   "cell_type": "markdown",
   "id": "b665686a-86ac-4113-a06a-6a07a8d87963",
   "metadata": {},
   "source": [
    "# preprocess dataset"
   ]
  },
  {
   "cell_type": "markdown",
   "id": "6c03b638-ab88-4a8e-b729-031be8e2a033",
   "metadata": {},
   "source": [
    "- set targets correctly (try 3 targets first)\n",
    "    - plot the distribution pdf of the target values\n",
    "      \n",
    "- split train val test on time\n",
    "    - within each split can shuffle\n",
    "    - split directly on the df\n",
    "\n",
    "- shortlist the target and features\n",
    "** keep the df unchanged so dont need to run above code again"
   ]
  },
  {
   "cell_type": "code",
   "execution_count": 8,
   "id": "0ac8aef4-218b-4cc2-8ba8-9d0a2020f619",
   "metadata": {},
   "outputs": [
    {
     "data": {
      "text/plain": [
       "((71852, 84), (8981, 84), (8983, 84))"
      ]
     },
     "execution_count": 8,
     "metadata": {},
     "output_type": "execute_result"
    }
   ],
   "source": [
    "# sort df according to date\n",
    "df1 = df.sort_values(\"Datetime\").reset_index(drop=True)\n",
    "\n",
    "# train test split on index\n",
    "train_size, val_size, test_size = 0.8, 0.1, 0.1\n",
    "train_size, val_size, test_size = int(len(df1) * train_size), int(len(df1) * val_size), int(len(df1) * test_size)\n",
    "train_df = df1.iloc[:train_size]\n",
    "val_df = df1.iloc[train_size:train_size + val_size]\n",
    "test_df = df1.iloc[train_size + val_size:]\n",
    "\n",
    "train_df.shape,val_df.shape,test_df.shape"
   ]
  },
  {
   "cell_type": "code",
   "execution_count": 10,
   "id": "1371bffa-b6ed-4639-bf4e-4e4c6b0816a4",
   "metadata": {},
   "outputs": [
    {
     "data": {
      "text/html": [
       "<div>\n",
       "<style scoped>\n",
       "    .dataframe tbody tr th:only-of-type {\n",
       "        vertical-align: middle;\n",
       "    }\n",
       "\n",
       "    .dataframe tbody tr th {\n",
       "        vertical-align: top;\n",
       "    }\n",
       "\n",
       "    .dataframe thead th {\n",
       "        text-align: right;\n",
       "    }\n",
       "</style>\n",
       "<table border=\"1\" class=\"dataframe\">\n",
       "  <thead>\n",
       "    <tr style=\"text-align: right;\">\n",
       "      <th></th>\n",
       "      <th>Datetime</th>\n",
       "      <th>Open</th>\n",
       "      <th>High</th>\n",
       "      <th>Low</th>\n",
       "      <th>Close</th>\n",
       "      <th>Adj Close</th>\n",
       "      <th>Volume</th>\n",
       "      <th>Log_Return</th>\n",
       "      <th>EMAVolumeDiff2</th>\n",
       "      <th>SMAVolumeDiff2</th>\n",
       "      <th>...</th>\n",
       "      <th>MACD16</th>\n",
       "      <th>MACD32</th>\n",
       "      <th>MACD64</th>\n",
       "      <th>MACD128</th>\n",
       "      <th>MACD256</th>\n",
       "      <th>FamaFrenchMktReturns</th>\n",
       "      <th>Log_Return_shift</th>\n",
       "      <th>stock_name</th>\n",
       "      <th>Stock_Position</th>\n",
       "      <th>Target</th>\n",
       "    </tr>\n",
       "  </thead>\n",
       "  <tbody>\n",
       "    <tr>\n",
       "      <th>0</th>\n",
       "      <td>2023-02-10 12:00:00+00:00</td>\n",
       "      <td>153.437500</td>\n",
       "      <td>153.699997</td>\n",
       "      <td>153.000000</td>\n",
       "      <td>153.085007</td>\n",
       "      <td>153.085007</td>\n",
       "      <td>210932</td>\n",
       "      <td>-0.003243</td>\n",
       "      <td>-0.317099</td>\n",
       "      <td>-0.373950</td>\n",
       "      <td>...</td>\n",
       "      <td>1.165333</td>\n",
       "      <td>0.300798</td>\n",
       "      <td>-0.237521</td>\n",
       "      <td>-0.690568</td>\n",
       "      <td>-1.679347</td>\n",
       "      <td>0.11</td>\n",
       "      <td>0.001730</td>\n",
       "      <td>MKS.L</td>\n",
       "      <td>buy</td>\n",
       "      <td>2</td>\n",
       "    </tr>\n",
       "    <tr>\n",
       "      <th>1</th>\n",
       "      <td>2023-02-10 12:00:00+00:00</td>\n",
       "      <td>1619.500000</td>\n",
       "      <td>1625.500000</td>\n",
       "      <td>1615.000000</td>\n",
       "      <td>1625.000000</td>\n",
       "      <td>1625.000000</td>\n",
       "      <td>38967</td>\n",
       "      <td>0.003390</td>\n",
       "      <td>-0.156986</td>\n",
       "      <td>-0.213034</td>\n",
       "      <td>...</td>\n",
       "      <td>29.033343</td>\n",
       "      <td>-0.033365</td>\n",
       "      <td>-1.200842</td>\n",
       "      <td>-4.101547</td>\n",
       "      <td>45.477088</td>\n",
       "      <td>0.11</td>\n",
       "      <td>0.001537</td>\n",
       "      <td>III.L</td>\n",
       "      <td>buy</td>\n",
       "      <td>2</td>\n",
       "    </tr>\n",
       "    <tr>\n",
       "      <th>2</th>\n",
       "      <td>2023-02-10 12:00:00+00:00</td>\n",
       "      <td>106.360001</td>\n",
       "      <td>106.639999</td>\n",
       "      <td>106.199997</td>\n",
       "      <td>106.269997</td>\n",
       "      <td>106.269997</td>\n",
       "      <td>1318353</td>\n",
       "      <td>-0.000658</td>\n",
       "      <td>-0.007519</td>\n",
       "      <td>0.045017</td>\n",
       "      <td>...</td>\n",
       "      <td>1.028772</td>\n",
       "      <td>0.136904</td>\n",
       "      <td>-0.029851</td>\n",
       "      <td>-0.186527</td>\n",
       "      <td>-0.638538</td>\n",
       "      <td>0.11</td>\n",
       "      <td>0.004600</td>\n",
       "      <td>RR.L</td>\n",
       "      <td>buy</td>\n",
       "      <td>2</td>\n",
       "    </tr>\n",
       "    <tr>\n",
       "      <th>3</th>\n",
       "      <td>2023-02-10 13:00:00+00:00</td>\n",
       "      <td>1625.500000</td>\n",
       "      <td>1631.000000</td>\n",
       "      <td>1617.982788</td>\n",
       "      <td>1627.500000</td>\n",
       "      <td>1627.500000</td>\n",
       "      <td>49544</td>\n",
       "      <td>0.001537</td>\n",
       "      <td>0.022851</td>\n",
       "      <td>0.119499</td>\n",
       "      <td>...</td>\n",
       "      <td>-2.899139</td>\n",
       "      <td>0.099350</td>\n",
       "      <td>-1.730039</td>\n",
       "      <td>-5.791475</td>\n",
       "      <td>21.748935</td>\n",
       "      <td>0.11</td>\n",
       "      <td>-0.001537</td>\n",
       "      <td>III.L</td>\n",
       "      <td>sell</td>\n",
       "      <td>0</td>\n",
       "    </tr>\n",
       "    <tr>\n",
       "      <th>4</th>\n",
       "      <td>2023-02-10 13:00:00+00:00</td>\n",
       "      <td>106.260002</td>\n",
       "      <td>106.980003</td>\n",
       "      <td>106.129997</td>\n",
       "      <td>106.760002</td>\n",
       "      <td>106.760002</td>\n",
       "      <td>859007</td>\n",
       "      <td>0.004600</td>\n",
       "      <td>-0.154064</td>\n",
       "      <td>-0.210965</td>\n",
       "      <td>...</td>\n",
       "      <td>11.923219</td>\n",
       "      <td>0.395658</td>\n",
       "      <td>-0.006902</td>\n",
       "      <td>-0.241713</td>\n",
       "      <td>-0.861859</td>\n",
       "      <td>0.11</td>\n",
       "      <td>0.005232</td>\n",
       "      <td>RR.L</td>\n",
       "      <td>buy</td>\n",
       "      <td>2</td>\n",
       "    </tr>\n",
       "  </tbody>\n",
       "</table>\n",
       "<p>5 rows × 84 columns</p>\n",
       "</div>"
      ],
      "text/plain": [
       "                    Datetime         Open         High          Low  \\\n",
       "0  2023-02-10 12:00:00+00:00   153.437500   153.699997   153.000000   \n",
       "1  2023-02-10 12:00:00+00:00  1619.500000  1625.500000  1615.000000   \n",
       "2  2023-02-10 12:00:00+00:00   106.360001   106.639999   106.199997   \n",
       "3  2023-02-10 13:00:00+00:00  1625.500000  1631.000000  1617.982788   \n",
       "4  2023-02-10 13:00:00+00:00   106.260002   106.980003   106.129997   \n",
       "\n",
       "         Close    Adj Close   Volume  Log_Return  EMAVolumeDiff2  \\\n",
       "0   153.085007   153.085007   210932   -0.003243       -0.317099   \n",
       "1  1625.000000  1625.000000    38967    0.003390       -0.156986   \n",
       "2   106.269997   106.269997  1318353   -0.000658       -0.007519   \n",
       "3  1627.500000  1627.500000    49544    0.001537        0.022851   \n",
       "4   106.760002   106.760002   859007    0.004600       -0.154064   \n",
       "\n",
       "   SMAVolumeDiff2  ...     MACD16    MACD32    MACD64   MACD128    MACD256  \\\n",
       "0       -0.373950  ...   1.165333  0.300798 -0.237521 -0.690568  -1.679347   \n",
       "1       -0.213034  ...  29.033343 -0.033365 -1.200842 -4.101547  45.477088   \n",
       "2        0.045017  ...   1.028772  0.136904 -0.029851 -0.186527  -0.638538   \n",
       "3        0.119499  ...  -2.899139  0.099350 -1.730039 -5.791475  21.748935   \n",
       "4       -0.210965  ...  11.923219  0.395658 -0.006902 -0.241713  -0.861859   \n",
       "\n",
       "   FamaFrenchMktReturns  Log_Return_shift  stock_name  Stock_Position  Target  \n",
       "0                  0.11          0.001730       MKS.L             buy       2  \n",
       "1                  0.11          0.001537       III.L             buy       2  \n",
       "2                  0.11          0.004600        RR.L             buy       2  \n",
       "3                  0.11         -0.001537       III.L            sell       0  \n",
       "4                  0.11          0.005232        RR.L             buy       2  \n",
       "\n",
       "[5 rows x 84 columns]"
      ]
     },
     "execution_count": 10,
     "metadata": {},
     "output_type": "execute_result"
    }
   ],
   "source": [
    "train_df.head()"
   ]
  },
  {
   "cell_type": "code",
   "execution_count": 12,
   "id": "b972d4aa-48a1-4e2e-b76b-d929b9687021",
   "metadata": {},
   "outputs": [
    {
     "data": {
      "text/plain": [
       "(Index(['Datetime', 'Open', 'High', 'Low', 'Close', 'Adj Close', 'Volume',\n",
       "        'Log_Return', 'EMAVolumeDiff2', 'SMAVolumeDiff2', 'EMACloseDiff2',\n",
       "        'SMACloseDiff2', 'VWAP2', 'VolatilityStdDev2', 'Volatility2',\n",
       "        'Momentum2', 'EMAVolumeDiff4', 'SMAVolumeDiff4', 'EMACloseDiff4',\n",
       "        'SMACloseDiff4', 'VWAP4', 'VolatilityStdDev4', 'Volatility4',\n",
       "        'Momentum4', 'EMAVolumeDiff8', 'SMAVolumeDiff8', 'EMACloseDiff8',\n",
       "        'SMACloseDiff8', 'VWAP8', 'VolatilityStdDev8', 'Volatility8',\n",
       "        'Momentum8', 'EMAVolumeDiff16', 'SMAVolumeDiff16', 'EMACloseDiff16',\n",
       "        'SMACloseDiff16', 'VWAP16', 'VolatilityStdDev16', 'Volatility16',\n",
       "        'Momentum16', 'EMAVolumeDiff32', 'SMAVolumeDiff32', 'EMACloseDiff32',\n",
       "        'SMACloseDiff32', 'VWAP32', 'VolatilityStdDev32', 'Volatility32',\n",
       "        'Momentum32', 'EMAVolumeDiff64', 'SMAVolumeDiff64', 'EMACloseDiff64',\n",
       "        'SMACloseDiff64', 'VWAP64', 'VolatilityStdDev64', 'Volatility64',\n",
       "        'Momentum64', 'EMAVolumeDiff128', 'SMAVolumeDiff128', 'EMACloseDiff128',\n",
       "        'SMACloseDiff128', 'VWAP128', 'VolatilityStdDev128', 'Volatility128',\n",
       "        'Momentum128', 'EMAVolumeDiff256', 'SMAVolumeDiff256',\n",
       "        'EMACloseDiff256', 'SMACloseDiff256', 'VWAP256', 'VolatilityStdDev256',\n",
       "        'Volatility256', 'Momentum256', 'PriceVolatilityHourly', 'MACD8',\n",
       "        'MACD16', 'MACD32', 'MACD64', 'MACD128', 'MACD256',\n",
       "        'FamaFrenchMktReturns', 'Log_Return_shift', 'stock_name',\n",
       "        'Stock_Position', 'Target'],\n",
       "       dtype='object'),\n",
       " Index(['EMAVolumeDiff2', 'SMAVolumeDiff2', 'EMACloseDiff2', 'SMACloseDiff2',\n",
       "        'VWAP2', 'VolatilityStdDev2', 'Volatility2', 'Momentum2',\n",
       "        'EMAVolumeDiff4', 'SMAVolumeDiff4', 'EMACloseDiff4', 'SMACloseDiff4',\n",
       "        'VWAP4', 'VolatilityStdDev4', 'Volatility4', 'Momentum4',\n",
       "        'EMAVolumeDiff8', 'SMAVolumeDiff8', 'EMACloseDiff8', 'SMACloseDiff8',\n",
       "        'VWAP8', 'VolatilityStdDev8', 'Volatility8', 'Momentum8',\n",
       "        'EMAVolumeDiff16', 'SMAVolumeDiff16', 'EMACloseDiff16',\n",
       "        'SMACloseDiff16', 'VWAP16', 'VolatilityStdDev16', 'Volatility16',\n",
       "        'Momentum16', 'EMAVolumeDiff32', 'SMAVolumeDiff32', 'EMACloseDiff32',\n",
       "        'SMACloseDiff32', 'VWAP32', 'VolatilityStdDev32', 'Volatility32',\n",
       "        'Momentum32', 'EMAVolumeDiff64', 'SMAVolumeDiff64', 'EMACloseDiff64',\n",
       "        'SMACloseDiff64', 'VWAP64', 'VolatilityStdDev64', 'Volatility64',\n",
       "        'Momentum64', 'EMAVolumeDiff128', 'SMAVolumeDiff128', 'EMACloseDiff128',\n",
       "        'SMACloseDiff128', 'VWAP128', 'VolatilityStdDev128', 'Volatility128',\n",
       "        'Momentum128', 'EMAVolumeDiff256', 'SMAVolumeDiff256',\n",
       "        'EMACloseDiff256', 'SMACloseDiff256', 'VWAP256', 'VolatilityStdDev256',\n",
       "        'Volatility256', 'Momentum256', 'PriceVolatilityHourly', 'MACD8',\n",
       "        'MACD16', 'MACD32', 'MACD64', 'MACD128', 'MACD256',\n",
       "        'FamaFrenchMktReturns'],\n",
       "       dtype='object'))"
      ]
     },
     "execution_count": 12,
     "metadata": {},
     "output_type": "execute_result"
    }
   ],
   "source": [
    "df.columns, df.columns[8:-4]"
   ]
  },
  {
   "cell_type": "markdown",
   "id": "693732ac-27ed-43df-810e-226084d76e79",
   "metadata": {},
   "source": [
    "# training mtd 1 - using all features"
   ]
  },
  {
   "cell_type": "code",
   "execution_count": 15,
   "id": "241a4ea8-7f56-45f2-abc0-0ab2ebd2390c",
   "metadata": {},
   "outputs": [
    {
     "name": "stdout",
     "output_type": "stream",
     "text": [
      "72\n",
      "(71852, 72) (71852,)\n",
      "(8981, 72) (8981,)\n",
      "(8983, 72) (8983,)\n"
     ]
    }
   ],
   "source": [
    "features = df.columns[8:-4]\n",
    "print(len(features))\n",
    "target = \"Target\"\n",
    "\n",
    "X_train = train_df[features].to_numpy()\n",
    "y_train = train_df[target].to_numpy()\n",
    "print(X_train.shape,y_train.shape)\n",
    "\n",
    "X_val = val_df[features].to_numpy()\n",
    "y_val = val_df[target].to_numpy()\n",
    "print(X_val.shape,y_val.shape)\n",
    "\n",
    "X_test = test_df[features].to_numpy()\n",
    "y_test = test_df[target].to_numpy()\n",
    "print(X_test.shape,y_test.shape)"
   ]
  },
  {
   "cell_type": "code",
   "execution_count": 21,
   "id": "e5c3f252-940a-40c6-964f-aafab937cae7",
   "metadata": {},
   "outputs": [
    {
     "data": {
      "text/plain": [
       "({0, 1, 2}, {0, 1, 2}, {0, 1, 2})"
      ]
     },
     "execution_count": 21,
     "metadata": {},
     "output_type": "execute_result"
    }
   ],
   "source": [
    "set(y_train),set(y_val),set(y_test)"
   ]
  },
  {
   "cell_type": "code",
   "execution_count": 23,
   "id": "066a11a7-77e0-482c-8a90-f9d1dedb1891",
   "metadata": {},
   "outputs": [
    {
     "data": {
      "text/plain": [
       "((71852, 72), (71852,), (8981, 72), (8981,), (8983, 72), (8983,))"
      ]
     },
     "execution_count": 23,
     "metadata": {},
     "output_type": "execute_result"
    }
   ],
   "source": [
    "from scripts.train_predict import *\n",
    "\n",
    "# standardise the values\n",
    "\n",
    "scaler = StandardScaler()\n",
    "\n",
    "# Fit the scaler on the training data and transform the training data\n",
    "X_train = scaler.fit_transform(X_train)\n",
    "\n",
    "# Transform the validation data\n",
    "X_val = scaler.transform(X_val)\n",
    "\n",
    "# Transform the test data\n",
    "X_test = scaler.transform(X_test)\n",
    "\n",
    "X_train.shape,y_train.shape,X_val.shape,y_val.shape,X_test.shape,y_test.shape"
   ]
  },
  {
   "cell_type": "code",
   "execution_count": 24,
   "id": "4f35ba22-6590-4d1c-bc1d-5f0a7a13af64",
   "metadata": {},
   "outputs": [
    {
     "data": {
      "text/plain": [
       "(array([-1.36248951, -1.27188659, -0.59024831, -0.3575923 , -0.6016214 ,\n",
       "        -0.28139381, -0.57484412, -0.10082241, -1.02152705, -1.17630863,\n",
       "        -1.07187446, -0.75439695, -0.96639704, -0.18200047, -0.10943827,\n",
       "        -2.21206932, -0.60314097, -0.49461967, -1.42268491, -1.49690801,\n",
       "        -1.23070746, -0.06902761, -0.36311567, -1.89531063, -0.1838848 ,\n",
       "         0.28382292, -1.48077063, -1.44408025, -1.19488297, -0.26691718,\n",
       "        -0.49645695, -1.53320319, -0.17580012,  0.46932394, -1.29029846,\n",
       "        -1.25609152, -1.22516668, -0.40260373, -0.52604853, -0.75636034,\n",
       "        -0.57120395, -0.82636539, -0.86217476, -0.97660873, -1.04105569,\n",
       "        -0.39227281, -0.48629324,  0.53996943, -0.81778996, -0.91059786,\n",
       "        -0.39259329, -0.23464939, -0.14862789, -0.31662391, -0.78354796,\n",
       "         0.50518055, -1.01081286, -0.99557681, -0.01433724, -0.02757798,\n",
       "         0.00772136, -0.3542879 , -0.64357991,  0.44252314, -1.03004432,\n",
       "         0.00717366,  0.00521373, -0.00612892,  0.00287255, -0.0051591 ,\n",
       "        -0.01009545,  0.05446214]),\n",
       " 2)"
      ]
     },
     "execution_count": 24,
     "metadata": {},
     "output_type": "execute_result"
    }
   ],
   "source": [
    "X_train[0],y_train[0]"
   ]
  },
  {
   "cell_type": "code",
   "execution_count": 25,
   "id": "ab4ae2e6-02cb-49c8-a129-0da3653768a7",
   "metadata": {},
   "outputs": [],
   "source": [
    "from sklearn.metrics import accuracy_score\n",
    "\n",
    "def train():\n",
    "    # initialise training params\n",
    "    best_score = float('inf')\n",
    "    best_params = None\n",
    "    best_model = None\n",
    "    \n",
    "\n",
    "    # Define the parameter grid\n",
    "    param_grid = {\n",
    "        # 'hidden_layer_sizes': [(8,), (16,), (32,), (64,), (64,8), (64,16,), (32,8), (16,8), (8,16,), (8,64,)], # Different architectures\n",
    "        # 'activation': ['relu', 'tanh'], # Different activation functions\n",
    "        # 'solver': ['adam', 'sgd'], # Different solvers\n",
    "        # 'alpha': [0.0001, 0.001], # Different regularization terms\n",
    "        # 'learning_rate': ['constant', 'adaptive'], # Different learning rates\n",
    "        # 'hidden_layer_sizes': [(8,64), (8,4), (8,2), (4,2),(2),(1),(4)], # Different architectures\n",
    "        'hidden_layer_sizes': [(32)], # Different architectures\n",
    "        # 'hidden_layer_sizes': [(6, 8, 64, 1), (64, 1)], # Different architectures\n",
    "        # 'hidden_layer_sizes': [(8,64), (16,64), (32,64), (32, 128)], # Different architectures\n",
    "        'activation': ['relu'], # Different activation functions\n",
    "        'solver': ['adam'], # Different solvers\n",
    "        'alpha': [0.0005], # Different regularization terms\n",
    "        'learning_rate': ['adaptive'], # Different learning rates\n",
    "    }\n",
    "\n",
    "    for params in alive_it(ParameterGrid(param_grid)):\n",
    "        model = MLPClassifier(max_iter=1000, **params) # initialise new model before each run\n",
    "        model.fit(X_train, y_train)\n",
    "        y_pred = model.predict(X_val)\n",
    "        # score = model.score(y_val, y_pred)\n",
    "        score,y_pred = predict(model,X_val,y_val)\n",
    "        \n",
    "        if score < best_score:\n",
    "            best_score = score\n",
    "            best_params = params\n",
    "            best_model = model\n",
    "            print(f\"score: {round(best_score,7)}\")\n",
    "            # print(f\"score: {round(best_score,7)}, params: {best_params}\")\n",
    "\n",
    "    print(f\"Best parameters found: {best_params}\")\n",
    "    print(f\"Best validation score: {round(best_score,5)}\")\n",
    "\n",
    "    return best_model, best_params, best_score, X_test, y_test\n",
    "\n",
    "def predict(best_model, X_test, y_test):\n",
    "    y_pred = best_model.predict(X_test)\n",
    "    acc = accuracy_score(y_test, y_pred)\n",
    "    \n",
    "    return acc,y_pred\n",
    "\n",
    "def train_predict():\n",
    "    best_model, best_params, best_score, X_test, y_test = train()\n",
    "    acc,y_pred = predict(best_model, X_test, y_test)\n",
    "    \n",
    "    return best_model, best_params, best_score, acc, y_pred"
   ]
  },
  {
   "cell_type": "code",
   "execution_count": 26,
   "id": "7bef166e-c0ab-4b3a-951b-9eff64bac5b0",
   "metadata": {},
   "outputs": [
    {
     "name": "stdout",
     "output_type": "stream",
     "text": [
      "on 0: score: 0.3963924\n",
      "|████████████████████████████████████████| 1/1 [100%] in 48.4s (0.02/s) \n",
      "Best parameters found: {'activation': 'relu', 'alpha': 0.0005, 'hidden_layer_sizes': 32, 'learning_rate': 'adaptive', 'solver': 'adam'}\n",
      "Best validation score: 0.39639\n"
     ]
    }
   ],
   "source": [
    "best_model, best_params, best_score, acc, y_pred = train_predict()"
   ]
  },
  {
   "cell_type": "code",
   "execution_count": 29,
   "id": "f9658a0a-5abb-488b-94bd-43864e420682",
   "metadata": {},
   "outputs": [
    {
     "name": "stdout",
     "output_type": "stream",
     "text": [
      "accuracy: 37.25\n"
     ]
    },
    {
     "data": {
      "image/png": "[encoded data removed]",
      "text/plain": [
       "<Figure size 640x480 with 2 Axes>"
      ]
     },
     "metadata": {},
     "output_type": "display_data"
    }
   ],
   "source": [
    "from sklearn.metrics import confusion_matrix, ConfusionMatrixDisplay\n",
    "\n",
    "print(f\"accuracy: {round(acc*100,2)}\")\n",
    "labels = ['sell', 'hold', 'buy']\n",
    "cm = confusion_matrix(y_test, y_pred)\n",
    "disp = ConfusionMatrixDisplay(confusion_matrix=cm,\n",
    "                              display_labels=labels)\n",
    "disp.plot()\n",
    "plt.show()"
   ]
  },
  {
   "cell_type": "markdown",
   "id": "c133d691-de69-4807-8e55-2650c52172b0",
   "metadata": {},
   "source": [
    "# training mtd 2 - using SelectKBest(10)"
   ]
  },
  {
   "cell_type": "code",
   "execution_count": 31,
   "id": "1114285c-2191-4339-98c3-14ba9c296915",
   "metadata": {},
   "outputs": [
    {
     "name": "stdout",
     "output_type": "stream",
     "text": [
      "72\n",
      "(71852, 72) (71852,)\n",
      "(8981, 72) (8981,)\n",
      "(8983, 72) (8983,)\n"
     ]
    }
   ],
   "source": [
    "features = df.columns[8:-4]\n",
    "print(len(features))\n",
    "target = \"Target\"\n",
    "\n",
    "X_train = train_df[features].to_numpy()\n",
    "y_train = train_df[target].to_numpy()\n",
    "print(X_train.shape,y_train.shape)\n",
    "\n",
    "X_val = val_df[features].to_numpy()\n",
    "y_val = val_df[target].to_numpy()\n",
    "print(X_val.shape,y_val.shape)\n",
    "\n",
    "X_test = test_df[features].to_numpy()\n",
    "y_test = test_df[target].to_numpy()\n",
    "print(X_test.shape,y_test.shape)"
   ]
  },
  {
   "cell_type": "code",
   "execution_count": 33,
   "id": "76b7c153-86dd-4d37-8227-e4dfc87f1fd9",
   "metadata": {},
   "outputs": [
    {
     "data": {
      "text/plain": [
       "((71852, 10), (71852,), (8981, 10), (8981,), (8983, 10), (8983,))"
      ]
     },
     "execution_count": 33,
     "metadata": {},
     "output_type": "execute_result"
    }
   ],
   "source": [
    "from scripts.train_predict import *\n",
    "\n",
    "# standardise the values and selectKbest\n",
    "scaler = StandardScaler()\n",
    "selector = SelectKBest(f_regression, k=10)\n",
    "\n",
    "# Fit the scaler on the training data and transform the training data\n",
    "X_train = scaler.fit_transform(X_train)\n",
    "X_train = selector.fit_transform(X_train, y_train)\n",
    "\n",
    "# Transform the validation data\n",
    "X_val = scaler.transform(X_val)\n",
    "X_val = selector.transform(X_val)\n",
    "\n",
    "# Transform the test data\n",
    "X_test = scaler.transform(X_test)\n",
    "X_test = selector.transform(X_test)\n",
    "\n",
    "X_train.shape,y_train.shape,X_val.shape,y_val.shape,X_test.shape,y_test.shape"
   ]
  },
  {
   "cell_type": "code",
   "execution_count": 35,
   "id": "903914ee-c6ea-4ee1-a26f-6e6d25e424d0",
   "metadata": {},
   "outputs": [
    {
     "data": {
      "text/plain": [
       "(array([-0.49461967, -0.17580012,  0.46932394, -0.57120395, -0.82636539,\n",
       "        -0.81778996, -0.91059786, -1.01081286, -0.99557681,  0.05446214]),\n",
       " 2)"
      ]
     },
     "execution_count": 35,
     "metadata": {},
     "output_type": "execute_result"
    }
   ],
   "source": [
    "X_train[0],y_train[0]"
   ]
  },
  {
   "cell_type": "code",
   "execution_count": 37,
   "id": "8fa604bb-fda8-4a05-83cb-608c4c273825",
   "metadata": {},
   "outputs": [],
   "source": [
    "from sklearn.metrics import accuracy_score\n",
    "\n",
    "def train():\n",
    "    # initialise training params\n",
    "    best_score = float('inf')\n",
    "    best_params = None\n",
    "    best_model = None\n",
    "    \n",
    "\n",
    "    # Define the parameter grid\n",
    "    param_grid = {\n",
    "        # 'hidden_layer_sizes': [(8,), (16,), (32,), (64,), (64,8), (64,16,), (32,8), (16,8), (8,16,), (8,64,)], # Different architectures\n",
    "        # 'activation': ['relu', 'tanh'], # Different activation functions\n",
    "        # 'solver': ['adam', 'sgd'], # Different solvers\n",
    "        # 'alpha': [0.0001, 0.001], # Different regularization terms\n",
    "        # 'learning_rate': ['constant', 'adaptive'], # Different learning rates\n",
    "        # 'hidden_layer_sizes': [(8,64), (8,4), (8,2), (4,2),(2),(1),(4)], # Different architectures\n",
    "        'hidden_layer_sizes': [(32)], # Different architectures\n",
    "        # 'hidden_layer_sizes': [(6, 8, 64, 1), (64, 1)], # Different architectures\n",
    "        # 'hidden_layer_sizes': [(8,64), (16,64), (32,64), (32, 128)], # Different architectures\n",
    "        'activation': ['relu'], # Different activation functions\n",
    "        'solver': ['adam'], # Different solvers\n",
    "        'alpha': [0.0005], # Different regularization terms\n",
    "        'learning_rate': ['adaptive'], # Different learning rates\n",
    "    }\n",
    "\n",
    "    for params in alive_it(ParameterGrid(param_grid)):\n",
    "        model = MLPClassifier(max_iter=1000, **params) # initialise new model before each run\n",
    "        model.fit(X_train, y_train)\n",
    "        y_pred = model.predict(X_val)\n",
    "        # score = model.score(y_val, y_pred)\n",
    "        score,y_pred = predict(model,X_val,y_val)\n",
    "        \n",
    "        if score < best_score:\n",
    "            best_score = score\n",
    "            best_params = params\n",
    "            best_model = model\n",
    "            print(f\"score: {round(best_score,7)}\")\n",
    "            # print(f\"score: {round(best_score,7)}, params: {best_params}\")\n",
    "\n",
    "    print(f\"Best parameters found: {best_params}\")\n",
    "    print(f\"Best validation score: {round(best_score,5)}\")\n",
    "\n",
    "    return best_model, best_params, best_score, X_test, y_test\n",
    "\n",
    "def predict(best_model, X_test, y_test):\n",
    "    y_pred = best_model.predict(X_test)\n",
    "    acc = accuracy_score(y_test, y_pred)\n",
    "    \n",
    "    return acc,y_pred\n",
    "\n",
    "def train_predict():\n",
    "    best_model, best_params, best_score, X_test, y_test = train()\n",
    "    acc,y_pred = predict(best_model, X_test, y_test)\n",
    "    \n",
    "    return best_model, best_params, best_score, acc, y_pred"
   ]
  },
  {
   "cell_type": "code",
   "execution_count": 39,
   "id": "e3ca534e-e664-448e-bddc-3a9edd42f8ca",
   "metadata": {},
   "outputs": [
    {
     "name": "stdout",
     "output_type": "stream",
     "text": [
      "on 0: score: 0.4076383\n",
      "|████████████████████████████████████████| 1/1 [100%] in 1.5s (0.68/s) \n",
      "Best parameters found: {'activation': 'relu', 'alpha': 0.0005, 'hidden_layer_sizes': 32, 'learning_rate': 'adaptive', 'solver': 'adam'}\n",
      "Best validation score: 0.40764\n"
     ]
    }
   ],
   "source": [
    "best_model, best_params, best_score, acc, y_pred = train_predict()"
   ]
  },
  {
   "cell_type": "code",
   "execution_count": 41,
   "id": "c375bd2c-a59d-4d5a-a4ce-6b6404e64b33",
   "metadata": {},
   "outputs": [
    {
     "name": "stdout",
     "output_type": "stream",
     "text": [
      "accuracy: 36.99\n"
     ]
    },
    {
     "data": {
      "image/png": "[encoded data removed]",
      "text/plain": [
       "<Figure size 640x480 with 2 Axes>"
      ]
     },
     "metadata": {},
     "output_type": "display_data"
    }
   ],
   "source": [
    "from sklearn.metrics import confusion_matrix, ConfusionMatrixDisplay\n",
    "\n",
    "print(f\"accuracy: {round(acc*100,2)}\")\n",
    "labels = ['sell', 'hold', 'buy']\n",
    "cm = confusion_matrix(y_test, y_pred)\n",
    "disp = ConfusionMatrixDisplay(confusion_matrix=cm,\n",
    "                              display_labels=labels)\n",
    "disp.plot()\n",
    "plt.show()"
   ]
  },
  {
   "cell_type": "markdown",
   "id": "3d46b45f-c23f-4c02-afc5-a89ae398bbf4",
   "metadata": {},
   "source": [
    "# training mtd 3 - using PCA(0.95)"
   ]
  },
  {
   "cell_type": "code",
   "execution_count": 43,
   "id": "e7bc468a-b706-428c-b46d-2dc051519357",
   "metadata": {},
   "outputs": [
    {
     "name": "stdout",
     "output_type": "stream",
     "text": [
      "72\n",
      "(71852, 72) (71852,)\n",
      "(8981, 72) (8981,)\n",
      "(8983, 72) (8983,)\n"
     ]
    }
   ],
   "source": [
    "features = df.columns[8:-4]\n",
    "print(len(features))\n",
    "target = \"Target\"\n",
    "\n",
    "X_train = train_df[features].to_numpy()\n",
    "y_train = train_df[target].to_numpy()\n",
    "print(X_train.shape,y_train.shape)\n",
    "\n",
    "X_val = val_df[features].to_numpy()\n",
    "y_val = val_df[target].to_numpy()\n",
    "print(X_val.shape,y_val.shape)\n",
    "\n",
    "X_test = test_df[features].to_numpy()\n",
    "y_test = test_df[target].to_numpy()\n",
    "print(X_test.shape,y_test.shape)"
   ]
  },
  {
   "cell_type": "code",
   "execution_count": 45,
   "id": "78c35858-c02c-4dd8-961c-c46ace5e6b1a",
   "metadata": {},
   "outputs": [
    {
     "data": {
      "text/plain": [
       "((71852, 26), (71852,), (8981, 26), (8981,), (8983, 26), (8983,))"
      ]
     },
     "execution_count": 45,
     "metadata": {},
     "output_type": "execute_result"
    }
   ],
   "source": [
    "from scripts.train_predict import *\n",
    "\n",
    "# standardise the values and selectKbest\n",
    "scaler = StandardScaler()\n",
    "pca = PCA(n_components = 0.95)\n",
    "\n",
    "# Fit the scaler on the training data and transform the training data\n",
    "X_train = scaler.fit_transform(X_train)\n",
    "X_train = pca.fit_transform(X_train)\n",
    "\n",
    "# Transform the validation data\n",
    "X_val = scaler.transform(X_val)\n",
    "X_val = pca.transform(X_val)\n",
    "\n",
    "# Transform the test data\n",
    "X_test = scaler.transform(X_test)\n",
    "X_test = pca.transform(X_test)\n",
    "\n",
    "X_train.shape,y_train.shape,X_val.shape,y_val.shape,X_test.shape,y_test.shape"
   ]
  },
  {
   "cell_type": "code",
   "execution_count": 46,
   "id": "2e37f036-a962-40de-9cda-c1dd0426b73e",
   "metadata": {},
   "outputs": [
    {
     "data": {
      "text/plain": [
       "(array([ 5.03644625e+00, -2.25060981e+00,  8.33603631e-01, -1.83198613e+00,\n",
       "        -1.46371072e-01, -5.84156365e-01,  2.64521479e+00, -3.51184342e-01,\n",
       "         4.20510508e-03,  2.96118213e-02,  1.85242011e-03, -2.23617346e-02,\n",
       "        -3.92702548e-02,  2.40793360e-02, -5.04506338e-02,  1.09786202e-02,\n",
       "         1.01136108e+00,  9.21094792e-01, -2.88343360e-01, -8.88138213e-01,\n",
       "        -1.00835986e-01,  4.03715458e-03, -1.56723254e-01,  4.72203330e-01,\n",
       "         3.33792792e-01, -6.17663496e-01]),\n",
       " 2)"
      ]
     },
     "execution_count": 46,
     "metadata": {},
     "output_type": "execute_result"
    }
   ],
   "source": [
    "X_train[0],y_train[0]"
   ]
  },
  {
   "cell_type": "code",
   "execution_count": 49,
   "id": "986ca20d-1bb2-4f1b-a64f-03c65d69a901",
   "metadata": {},
   "outputs": [],
   "source": [
    "from sklearn.metrics import accuracy_score\n",
    "\n",
    "def train():\n",
    "    # initialise training params\n",
    "    best_score = float('inf')\n",
    "    best_params = None\n",
    "    best_model = None\n",
    "    \n",
    "\n",
    "    # Define the parameter grid\n",
    "    param_grid = {\n",
    "        # 'hidden_layer_sizes': [(8,), (16,), (32,), (64,), (64,8), (64,16,), (32,8), (16,8), (8,16,), (8,64,)], # Different architectures\n",
    "        # 'activation': ['relu', 'tanh'], # Different activation functions\n",
    "        # 'solver': ['adam', 'sgd'], # Different solvers\n",
    "        # 'alpha': [0.0001, 0.001], # Different regularization terms\n",
    "        # 'learning_rate': ['constant', 'adaptive'], # Different learning rates\n",
    "        # 'hidden_layer_sizes': [(8,64), (8,4), (8,2), (4,2),(2),(1),(4)], # Different architectures\n",
    "        'hidden_layer_sizes': [(32)], # Different architectures\n",
    "        # 'hidden_layer_sizes': [(6, 8, 64, 1), (64, 1)], # Different architectures\n",
    "        # 'hidden_layer_sizes': [(8,64), (16,64), (32,64), (32, 128)], # Different architectures\n",
    "        'activation': ['relu'], # Different activation functions\n",
    "        'solver': ['adam'], # Different solvers\n",
    "        'alpha': [0.0005], # Different regularization terms\n",
    "        'learning_rate': ['adaptive'], # Different learning rates\n",
    "    }\n",
    "\n",
    "    for params in alive_it(ParameterGrid(param_grid)):\n",
    "        model = MLPClassifier(max_iter=1000, **params) # initialise new model before each run\n",
    "        model.fit(X_train, y_train)\n",
    "        y_pred = model.predict(X_val)\n",
    "        # score = model.score(y_val, y_pred)\n",
    "        score,y_pred = predict(model,X_val,y_val)\n",
    "        \n",
    "        if score < best_score:\n",
    "            best_score = score\n",
    "            best_params = params\n",
    "            best_model = model\n",
    "            print(f\"score: {round(best_score,7)}\")\n",
    "            # print(f\"score: {round(best_score,7)}, params: {best_params}\")\n",
    "\n",
    "    print(f\"Best parameters found: {best_params}\")\n",
    "    print(f\"Best validation score: {round(best_score,5)}\")\n",
    "\n",
    "    return best_model, best_params, best_score, X_test, y_test\n",
    "\n",
    "def predict(best_model, X_test, y_test):\n",
    "    y_pred = best_model.predict(X_test)\n",
    "    acc = accuracy_score(y_test, y_pred)\n",
    "    \n",
    "    return acc,y_pred\n",
    "\n",
    "def train_predict():\n",
    "    best_model, best_params, best_score, X_test, y_test = train()\n",
    "    acc,y_pred = predict(best_model, X_test, y_test)\n",
    "    \n",
    "    return best_model, best_params, best_score, acc, y_pred"
   ]
  },
  {
   "cell_type": "code",
   "execution_count": 51,
   "id": "66de31bd-6ca8-47ea-96f2-4fbc45efeb60",
   "metadata": {},
   "outputs": [
    {
     "name": "stdout",
     "output_type": "stream",
     "text": [
      "on 0: score: 0.4028505\n",
      "|████████████████████████████████████████| 1/1 [100%] in 4.7s (0.21/s) \n",
      "Best parameters found: {'activation': 'relu', 'alpha': 0.0005, 'hidden_layer_sizes': 32, 'learning_rate': 'adaptive', 'solver': 'adam'}\n",
      "Best validation score: 0.40285\n"
     ]
    }
   ],
   "source": [
    "best_model, best_params, best_score, acc, y_pred = train_predict()"
   ]
  },
  {
   "cell_type": "code",
   "execution_count": 53,
   "id": "340be202-79c4-42ea-9be5-8596b76c8b47",
   "metadata": {},
   "outputs": [
    {
     "name": "stdout",
     "output_type": "stream",
     "text": [
      "accuracy: 38.19\n"
     ]
    },
    {
     "data": {
      "image/png": "[encoded data removed]",
      "text/plain": [
       "<Figure size 640x480 with 2 Axes>"
      ]
     },
     "metadata": {},
     "output_type": "display_data"
    }
   ],
   "source": [
    "from sklearn.metrics import confusion_matrix, ConfusionMatrixDisplay\n",
    "\n",
    "print(f\"accuracy: {round(acc*100,2)}\")\n",
    "labels = ['sell', 'hold', 'buy']\n",
    "cm = confusion_matrix(y_test, y_pred)\n",
    "disp = ConfusionMatrixDisplay(confusion_matrix=cm,\n",
    "                              display_labels=labels)\n",
    "disp.plot()\n",
    "plt.show()"
   ]
  },
  {
   "cell_type": "markdown",
   "id": "761ca42c-c7ca-47a2-b97f-938df58685c5",
   "metadata": {},
   "source": [
    "# use model to predict on individual stocks"
   ]
  },
  {
   "cell_type": "code",
   "execution_count": 55,
   "id": "10352a12-e8c0-4d6f-a3c4-68e9eaea21c8",
   "metadata": {},
   "outputs": [
    {
     "data": {
      "text/html": [
       "<style>#sk-container-id-1 {color: black;}#sk-container-id-1 pre{padding: 0;}#sk-container-id-1 div.sk-toggleable {background-color: white;}#sk-container-id-1 label.sk-toggleable__label {cursor: pointer;display: block;width: 100%;margin-bottom: 0;padding: 0.3em;box-sizing: border-box;text-align: center;}#sk-container-id-1 label.sk-toggleable__label-arrow:before {content: \"▸\";float: left;margin-right: 0.25em;color: #696969;}#sk-container-id-1 label.sk-toggleable__label-arrow:hover:before {color: black;}#sk-container-id-1 div.sk-estimator:hover label.sk-toggleable__label-arrow:before {color: black;}#sk-container-id-1 div.sk-toggleable__content {max-height: 0;max-width: 0;overflow: hidden;text-align: left;background-color: #f0f8ff;}#sk-container-id-1 div.sk-toggleable__content pre {margin: 0.2em;color: black;border-radius: 0.25em;background-color: #f0f8ff;}#sk-container-id-1 input.sk-toggleable__control:checked~div.sk-toggleable__content {max-height: 200px;max-width: 100%;overflow: auto;}#sk-container-id-1 input.sk-toggleable__control:checked~label.sk-toggleable__label-arrow:before {content: \"▾\";}#sk-container-id-1 div.sk-estimator input.sk-toggleable__control:checked~label.sk-toggleable__label {background-color: #d4ebff;}#sk-container-id-1 div.sk-label input.sk-toggleable__control:checked~label.sk-toggleable__label {background-color: #d4ebff;}#sk-container-id-1 input.sk-hidden--visually {border: 0;clip: rect(1px 1px 1px 1px);clip: rect(1px, 1px, 1px, 1px);height: 1px;margin: -1px;overflow: hidden;padding: 0;position: absolute;width: 1px;}#sk-container-id-1 div.sk-estimator {font-family: monospace;background-color: #f0f8ff;border: 1px dotted black;border-radius: 0.25em;box-sizing: border-box;margin-bottom: 0.5em;}#sk-container-id-1 div.sk-estimator:hover {background-color: #d4ebff;}#sk-container-id-1 div.sk-parallel-item::after {content: \"\";width: 100%;border-bottom: 1px solid gray;flex-grow: 1;}#sk-container-id-1 div.sk-label:hover label.sk-toggleable__label {background-color: #d4ebff;}#sk-container-id-1 div.sk-serial::before {content: \"\";position: absolute;border-left: 1px solid gray;box-sizing: border-box;top: 0;bottom: 0;left: 50%;z-index: 0;}#sk-container-id-1 div.sk-serial {display: flex;flex-direction: column;align-items: center;background-color: white;padding-right: 0.2em;padding-left: 0.2em;position: relative;}#sk-container-id-1 div.sk-item {position: relative;z-index: 1;}#sk-container-id-1 div.sk-parallel {display: flex;align-items: stretch;justify-content: center;background-color: white;position: relative;}#sk-container-id-1 div.sk-item::before, #sk-container-id-1 div.sk-parallel-item::before {content: \"\";position: absolute;border-left: 1px solid gray;box-sizing: border-box;top: 0;bottom: 0;left: 50%;z-index: -1;}#sk-container-id-1 div.sk-parallel-item {display: flex;flex-direction: column;z-index: 1;position: relative;background-color: white;}#sk-container-id-1 div.sk-parallel-item:first-child::after {align-self: flex-end;width: 50%;}#sk-container-id-1 div.sk-parallel-item:last-child::after {align-self: flex-start;width: 50%;}#sk-container-id-1 div.sk-parallel-item:only-child::after {width: 0;}#sk-container-id-1 div.sk-dashed-wrapped {border: 1px dashed gray;margin: 0 0.4em 0.5em 0.4em;box-sizing: border-box;padding-bottom: 0.4em;background-color: white;}#sk-container-id-1 div.sk-label label {font-family: monospace;font-weight: bold;display: inline-block;line-height: 1.2em;}#sk-container-id-1 div.sk-label-container {text-align: center;}#sk-container-id-1 div.sk-container {/* jupyter's `normalize.less` sets `[hidden] { display: none; }` but bootstrap.min.css set `[hidden] { display: none !important; }` so we also need the `!important` here to be able to override the default hidden behavior on the sphinx rendered scikit-learn.org. See: https://github.com/scikit-learn/scikit-learn/issues/21755 */display: inline-block !important;position: relative;}#sk-container-id-1 div.sk-text-repr-fallback {display: none;}</style><div id=\"sk-container-id-1\" class=\"sk-top-container\"><div class=\"sk-text-repr-fallback\"><pre>MLPClassifier(alpha=0.0005, hidden_layer_sizes=32, learning_rate=&#x27;adaptive&#x27;,\n",
       "              max_iter=1000)</pre><b>In a Jupyter environment, please rerun this cell to show the HTML representation or trust the notebook. <br />On GitHub, the HTML representation is unable to render, please try loading this page with nbviewer.org.</b></div><div class=\"sk-container\" hidden><div class=\"sk-item\"><div class=\"sk-estimator sk-toggleable\"><input class=\"sk-toggleable__control sk-hidden--visually\" id=\"sk-estimator-id-1\" type=\"checkbox\" checked><label for=\"sk-estimator-id-1\" class=\"sk-toggleable__label sk-toggleable__label-arrow\">MLPClassifier</label><div class=\"sk-toggleable__content\"><pre>MLPClassifier(alpha=0.0005, hidden_layer_sizes=32, learning_rate=&#x27;adaptive&#x27;,\n",
       "              max_iter=1000)</pre></div></div></div></div></div>"
      ],
      "text/plain": [
       "MLPClassifier(alpha=0.0005, hidden_layer_sizes=32, learning_rate='adaptive',\n",
       "              max_iter=1000)"
      ]
     },
     "execution_count": 55,
     "metadata": {},
     "output_type": "execute_result"
    }
   ],
   "source": [
    "best_model"
   ]
  },
  {
   "cell_type": "code",
   "execution_count": 57,
   "id": "041ba8b2-f29a-4ea1-9ba3-2a310f6d4848",
   "metadata": {},
   "outputs": [
    {
     "name": "stdout",
     "output_type": "stream",
     "text": [
      "MRNA: 30.12\n",
      "MSFT: 36.95\n",
      "MRVL: 35.34\n",
      "CRWD: 28.51\n",
      "META: 36.95\n",
      "ZS: 37.75\n",
      "BKNG: 34.14\n",
      "AMAT: 29.72\n",
      "ADBE: 37.35\n",
      "TEAM: 38.55\n",
      "TTD: 32.13\n",
      "DASH: 28.11\n",
      "CPRT: 34.14\n",
      "AMZN: 32.93\n",
      "SMCI: 30.52\n",
      "AVGO: 29.72\n",
      "SNPS: 30.92\n",
      "LRCX: 32.13\n",
      "MELI: 34.94\n",
      "INTU: 34.94\n",
      "INTC: 31.33\n",
      "AMD: 29.72\n",
      "PDD: 34.54\n",
      "TSLA: 32.13\n",
      "MDB: 31.45\n",
      "WDAY: 34.27\n",
      "PANW: 31.85\n",
      "CDNS: 34.68\n",
      "MU: 31.45\n",
      "ABNB: 42.34\n",
      "DDOG: 32.66\n",
      "NVDA: 29.84\n",
      "III.L: 35.19\n",
      "RR.L: 36.95\n",
      "MKS.L: 32.84\n"
     ]
    }
   ],
   "source": [
    "for stock_name in test_df.stock_name.unique():\n",
    "    stock_df = test_df[test_df['stock_name']==stock_name]\n",
    "    stock_X_test = stock_df[features].to_numpy()\n",
    "    stock_y_test = stock_df[target].to_numpy()\n",
    "    # print(stock_X_test.shape,stock_y_test.shape)\n",
    "\n",
    "    stock_X_test = pca.transform(stock_X_test)\n",
    "    # print(stock_X_test.shape,stock_y_test.shape)\n",
    "\n",
    "    stock_preds = best_model.predict(stock_X_test)\n",
    "    acc = accuracy_score(stock_y_test, stock_preds)\n",
    "\n",
    "    print(f\"{stock_name}: {round(acc*100,2)}\")"
   ]
  },
  {
   "cell_type": "code",
   "execution_count": null,
   "id": "8fd0034f-615f-40d1-8dfa-7a55e66394ae",
   "metadata": {},
   "outputs": [],
   "source": []
  }
 ],
 "metadata": {
  "kernelspec": {
   "display_name": "dsa5205-env",
   "language": "python",
   "name": "dsa5205-env"
  },
  "language_info": {
   "codemirror_mode": {
    "name": "ipython",
    "version": 3
   },
   "file_extension": ".py",
   "mimetype": "text/x-python",
   "name": "python",
   "nbconvert_exporter": "python",
   "pygments_lexer": "ipython3",
   "version": "3.9.6"
  }
 },
 "nbformat": 4,
 "nbformat_minor": 5
}
