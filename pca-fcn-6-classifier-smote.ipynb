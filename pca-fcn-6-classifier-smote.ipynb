{
 "cells": [
  {
   "cell_type": "markdown",
   "id": "e26e6c0d-5898-4084-a17c-836440b1300e",
   "metadata": {},
   "source": [
    "# generate dataset"
   ]
  },
  {
   "cell_type": "code",
   "execution_count": 3,
   "id": "4748733c-85ea-44cc-ad69-2bb1ba07a50b",
   "metadata": {
    "tags": []
   },
   "outputs": [
    {
     "name": "stderr",
     "output_type": "stream",
     "text": [
      "/Users/I748920/Library/Python/3.9/lib/python/site-packages/urllib3/__init__.py:35: NotOpenSSLWarning: urllib3 v2 only supports OpenSSL 1.1.1+, currently the 'ssl' module is compiled with 'LibreSSL 2.8.3'. See: https://github.com/urllib3/urllib3/issues/3020\n",
      "  warnings.warn(\n"
     ]
    },
    {
     "name": "stdout",
     "output_type": "stream",
     "text": [
      "\n",
      "Results saved to 'top_30_stocks_long_only.csv' and 'top_30_stocks_long_short.csv'\n",
      "\n",
      "Detailed metrics for top stock (Long-Only Strategy) SMCI:\n",
      "Final Close Price: 284.26\n",
      "60-day Return: 250.61%\n",
      "Average Hourly Volatility: 0.6678\n",
      "Average Sharpe Ratio: 1.6242\n",
      "Average Hourly Volume: 355714\n",
      "\n",
      "num common_top_stocks:  35\n"
     ]
    }
   ],
   "source": [
    "from scripts.get_top_stocks import *\n",
    "\n",
    "\n",
    "top_stocks_long, top_stocks_long_short = generate_top_stocks_df()\n",
    "common_top_stocks = get_common_top_stocks(top_stocks_long, top_stocks_long_short)"
   ]
  },
  {
   "cell_type": "code",
   "execution_count": 4,
   "id": "98e9c7c0-2345-4836-a2c5-f02810aa374a",
   "metadata": {
    "tags": []
   },
   "outputs": [],
   "source": [
    "# specify variables for dataset generation\n",
    "\n",
    "start_date = '2023-01-01'\n",
    "end_date = '2024-08-01'\n",
    "interval = \"1h\"\n",
    "trading_days_per_year = 252\n",
    "hours_per_day = 6.5"
   ]
  },
  {
   "cell_type": "code",
   "execution_count": 5,
   "id": "2051d0f7-d486-4dee-96c4-eb9a87619089",
   "metadata": {
    "tags": []
   },
   "outputs": [
    {
     "name": "stderr",
     "output_type": "stream",
     "text": [
      "[*********************100%%**********************]  1 of 1 completed\n",
      "[*********************100%%**********************]  1 of 1 completed\n",
      "[*********************100%%**********************]  1 of 1 completed\n",
      "[*********************100%%**********************]  1 of 1 completed\n",
      "[*********************100%%**********************]  1 of 1 completed\n",
      "[*********************100%%**********************]  1 of 1 completed\n",
      "[*********************100%%**********************]  1 of 1 completed\n",
      "[*********************100%%**********************]  1 of 1 completed\n",
      "[*********************100%%**********************]  1 of 1 completed\n",
      "[*********************100%%**********************]  1 of 1 completed\n",
      "[*********************100%%**********************]  1 of 1 completed\n",
      "[*********************100%%**********************]  1 of 1 completed\n",
      "[*********************100%%**********************]  1 of 1 completed\n",
      "[*********************100%%**********************]  1 of 1 completed\n",
      "[*********************100%%**********************]  1 of 1 completed\n",
      "[*********************100%%**********************]  1 of 1 completed\n",
      "[*********************100%%**********************]  1 of 1 completed\n",
      "[*********************100%%**********************]  1 of 1 completed\n",
      "[*********************100%%**********************]  1 of 1 completed\n",
      "[*********************100%%**********************]  1 of 1 completed\n",
      "[*********************100%%**********************]  1 of 1 completed\n",
      "[*********************100%%**********************]  1 of 1 completed\n",
      "[*********************100%%**********************]  1 of 1 completed\n",
      "[*********************100%%**********************]  1 of 1 completed\n",
      "[*********************100%%**********************]  1 of 1 completed\n",
      "[*********************100%%**********************]  1 of 1 completed\n",
      "[*********************100%%**********************]  1 of 1 completed\n",
      "[*********************100%%**********************]  1 of 1 completed\n",
      "[*********************100%%**********************]  1 of 1 completed\n",
      "[*********************100%%**********************]  1 of 1 completed\n",
      "[*********************100%%**********************]  1 of 1 completed\n",
      "[*********************100%%**********************]  1 of 1 completed\n",
      "[*********************100%%**********************]  1 of 1 completed\n",
      "[*********************100%%**********************]  1 of 1 completed\n",
      "[*********************100%%**********************]  1 of 1 completed\n"
     ]
    }
   ],
   "source": [
    "from scripts.generate_dataset_features import *\n",
    "\n",
    "\n",
    "df = get_all_stock_features_df(\n",
    "    stocks_list=common_top_stocks,\n",
    "    start_date=start_date,\n",
    "    end_date=end_date,\n",
    "    interval=interval,\n",
    "    trading_days_per_year=trading_days_per_year, \n",
    "    hours_per_day=hours_per_day\n",
    ")"
   ]
  },
  {
   "cell_type": "code",
   "execution_count": 6,
   "id": "c3b959a9-57e8-4575-b394-ae08e117efa3",
   "metadata": {},
   "outputs": [
    {
     "data": {
      "text/html": [
       "<div>\n",
       "<style scoped>\n",
       "    .dataframe tbody tr th:only-of-type {\n",
       "        vertical-align: middle;\n",
       "    }\n",
       "\n",
       "    .dataframe tbody tr th {\n",
       "        vertical-align: top;\n",
       "    }\n",
       "\n",
       "    .dataframe thead th {\n",
       "        text-align: right;\n",
       "    }\n",
       "</style>\n",
       "<table border=\"1\" class=\"dataframe\">\n",
       "  <thead>\n",
       "    <tr style=\"text-align: right;\">\n",
       "      <th></th>\n",
       "      <th>Datetime</th>\n",
       "      <th>Open</th>\n",
       "      <th>High</th>\n",
       "      <th>Low</th>\n",
       "      <th>Close</th>\n",
       "      <th>Adj Close</th>\n",
       "      <th>Volume</th>\n",
       "      <th>Log_Return</th>\n",
       "      <th>EMAVolumeDiff2</th>\n",
       "      <th>SMAVolumeDiff2</th>\n",
       "      <th>...</th>\n",
       "      <th>MACD16</th>\n",
       "      <th>MACD32</th>\n",
       "      <th>MACD64</th>\n",
       "      <th>MACD128</th>\n",
       "      <th>MACD256</th>\n",
       "      <th>FamaFrenchMktReturns</th>\n",
       "      <th>Log_Return_shift</th>\n",
       "      <th>stock_name</th>\n",
       "      <th>Stock_Position</th>\n",
       "      <th>Target</th>\n",
       "    </tr>\n",
       "  </thead>\n",
       "  <tbody>\n",
       "    <tr>\n",
       "      <th>0</th>\n",
       "      <td>2023-02-24 13:30:00-05:00</td>\n",
       "      <td>416.109985</td>\n",
       "      <td>418.690002</td>\n",
       "      <td>415.059998</td>\n",
       "      <td>418.350006</td>\n",
       "      <td>418.350006</td>\n",
       "      <td>229992</td>\n",
       "      <td>0.004720</td>\n",
       "      <td>-0.230635</td>\n",
       "      <td>-0.221200</td>\n",
       "      <td>...</td>\n",
       "      <td>-9.579833</td>\n",
       "      <td>2.124146</td>\n",
       "      <td>-0.136437</td>\n",
       "      <td>-0.012807</td>\n",
       "      <td>0.667064</td>\n",
       "      <td>-1.09</td>\n",
       "      <td>0.003150</td>\n",
       "      <td>INTU</td>\n",
       "      <td>hold</td>\n",
       "      <td>1</td>\n",
       "    </tr>\n",
       "    <tr>\n",
       "      <th>1</th>\n",
       "      <td>2023-02-24 14:30:00-05:00</td>\n",
       "      <td>418.322510</td>\n",
       "      <td>420.554993</td>\n",
       "      <td>416.825012</td>\n",
       "      <td>419.670013</td>\n",
       "      <td>419.670013</td>\n",
       "      <td>310197</td>\n",
       "      <td>0.003150</td>\n",
       "      <td>0.012248</td>\n",
       "      <td>0.148476</td>\n",
       "      <td>...</td>\n",
       "      <td>6.867033</td>\n",
       "      <td>1.481618</td>\n",
       "      <td>-0.070376</td>\n",
       "      <td>0.003773</td>\n",
       "      <td>0.588178</td>\n",
       "      <td>-1.09</td>\n",
       "      <td>0.000691</td>\n",
       "      <td>INTU</td>\n",
       "      <td>hold</td>\n",
       "      <td>1</td>\n",
       "    </tr>\n",
       "    <tr>\n",
       "      <th>2</th>\n",
       "      <td>2023-02-24 15:30:00-05:00</td>\n",
       "      <td>419.725006</td>\n",
       "      <td>420.469910</td>\n",
       "      <td>417.850006</td>\n",
       "      <td>419.959991</td>\n",
       "      <td>419.959991</td>\n",
       "      <td>526650</td>\n",
       "      <td>0.000691</td>\n",
       "      <td>0.161947</td>\n",
       "      <td>0.258653</td>\n",
       "      <td>...</td>\n",
       "      <td>7.086854</td>\n",
       "      <td>1.761356</td>\n",
       "      <td>-0.021731</td>\n",
       "      <td>0.019689</td>\n",
       "      <td>0.590606</td>\n",
       "      <td>-1.09</td>\n",
       "      <td>-0.005851</td>\n",
       "      <td>INTU</td>\n",
       "      <td>sell</td>\n",
       "      <td>0</td>\n",
       "    </tr>\n",
       "    <tr>\n",
       "      <th>3</th>\n",
       "      <td>2023-02-27 09:30:00-05:00</td>\n",
       "      <td>421.380005</td>\n",
       "      <td>422.549988</td>\n",
       "      <td>415.565002</td>\n",
       "      <td>417.510010</td>\n",
       "      <td>417.510010</td>\n",
       "      <td>531363</td>\n",
       "      <td>-0.005851</td>\n",
       "      <td>0.051528</td>\n",
       "      <td>0.004455</td>\n",
       "      <td>...</td>\n",
       "      <td>-2.606320</td>\n",
       "      <td>-6.689063</td>\n",
       "      <td>0.028335</td>\n",
       "      <td>0.045034</td>\n",
       "      <td>0.858306</td>\n",
       "      <td>0.31</td>\n",
       "      <td>0.000503</td>\n",
       "      <td>INTU</td>\n",
       "      <td>hold</td>\n",
       "      <td>1</td>\n",
       "    </tr>\n",
       "    <tr>\n",
       "      <th>4</th>\n",
       "      <td>2023-02-27 10:30:00-05:00</td>\n",
       "      <td>417.510010</td>\n",
       "      <td>418.359985</td>\n",
       "      <td>412.269989</td>\n",
       "      <td>417.720001</td>\n",
       "      <td>417.720001</td>\n",
       "      <td>323722</td>\n",
       "      <td>0.000503</td>\n",
       "      <td>-0.157536</td>\n",
       "      <td>-0.242831</td>\n",
       "      <td>...</td>\n",
       "      <td>-4.618472</td>\n",
       "      <td>-15.209039</td>\n",
       "      <td>0.102380</td>\n",
       "      <td>0.062240</td>\n",
       "      <td>0.856595</td>\n",
       "      <td>0.31</td>\n",
       "      <td>0.000060</td>\n",
       "      <td>INTU</td>\n",
       "      <td>hold</td>\n",
       "      <td>1</td>\n",
       "    </tr>\n",
       "    <tr>\n",
       "      <th>...</th>\n",
       "      <td>...</td>\n",
       "      <td>...</td>\n",
       "      <td>...</td>\n",
       "      <td>...</td>\n",
       "      <td>...</td>\n",
       "      <td>...</td>\n",
       "      <td>...</td>\n",
       "      <td>...</td>\n",
       "      <td>...</td>\n",
       "      <td>...</td>\n",
       "      <td>...</td>\n",
       "      <td>...</td>\n",
       "      <td>...</td>\n",
       "      <td>...</td>\n",
       "      <td>...</td>\n",
       "      <td>...</td>\n",
       "      <td>...</td>\n",
       "      <td>...</td>\n",
       "      <td>...</td>\n",
       "      <td>...</td>\n",
       "      <td>...</td>\n",
       "    </tr>\n",
       "    <tr>\n",
       "      <th>2491</th>\n",
       "      <td>2024-07-30 10:30:00-04:00</td>\n",
       "      <td>122.129997</td>\n",
       "      <td>122.639900</td>\n",
       "      <td>118.863098</td>\n",
       "      <td>120.775002</td>\n",
       "      <td>120.775002</td>\n",
       "      <td>407666</td>\n",
       "      <td>-0.011075</td>\n",
       "      <td>-0.096448</td>\n",
       "      <td>-0.242671</td>\n",
       "      <td>...</td>\n",
       "      <td>-0.224391</td>\n",
       "      <td>-0.256961</td>\n",
       "      <td>0.098352</td>\n",
       "      <td>4.001104</td>\n",
       "      <td>7.139022</td>\n",
       "      <td>0.68</td>\n",
       "      <td>-0.006938</td>\n",
       "      <td>MRNA</td>\n",
       "      <td>hold</td>\n",
       "      <td>1</td>\n",
       "    </tr>\n",
       "    <tr>\n",
       "      <th>2492</th>\n",
       "      <td>2024-07-30 11:30:00-04:00</td>\n",
       "      <td>120.775002</td>\n",
       "      <td>121.230003</td>\n",
       "      <td>119.529999</td>\n",
       "      <td>119.940002</td>\n",
       "      <td>119.940002</td>\n",
       "      <td>203445</td>\n",
       "      <td>-0.006938</td>\n",
       "      <td>-0.288713</td>\n",
       "      <td>-0.334180</td>\n",
       "      <td>...</td>\n",
       "      <td>0.033447</td>\n",
       "      <td>-0.065615</td>\n",
       "      <td>0.068682</td>\n",
       "      <td>1.175484</td>\n",
       "      <td>2.242714</td>\n",
       "      <td>0.68</td>\n",
       "      <td>-0.007448</td>\n",
       "      <td>MRNA</td>\n",
       "      <td>hold</td>\n",
       "      <td>1</td>\n",
       "    </tr>\n",
       "    <tr>\n",
       "      <th>2493</th>\n",
       "      <td>2024-07-30 12:30:00-04:00</td>\n",
       "      <td>119.940002</td>\n",
       "      <td>120.324997</td>\n",
       "      <td>118.720001</td>\n",
       "      <td>119.050003</td>\n",
       "      <td>119.050003</td>\n",
       "      <td>163283</td>\n",
       "      <td>-0.007448</td>\n",
       "      <td>-0.200364</td>\n",
       "      <td>-0.109514</td>\n",
       "      <td>...</td>\n",
       "      <td>0.220412</td>\n",
       "      <td>0.029109</td>\n",
       "      <td>0.074413</td>\n",
       "      <td>0.688681</td>\n",
       "      <td>1.305677</td>\n",
       "      <td>0.68</td>\n",
       "      <td>0.001343</td>\n",
       "      <td>MRNA</td>\n",
       "      <td>hold</td>\n",
       "      <td>1</td>\n",
       "    </tr>\n",
       "    <tr>\n",
       "      <th>2494</th>\n",
       "      <td>2024-07-30 13:30:00-04:00</td>\n",
       "      <td>119.059998</td>\n",
       "      <td>119.680000</td>\n",
       "      <td>119.029999</td>\n",
       "      <td>119.209999</td>\n",
       "      <td>119.209999</td>\n",
       "      <td>175393</td>\n",
       "      <td>0.001343</td>\n",
       "      <td>-0.051900</td>\n",
       "      <td>0.035757</td>\n",
       "      <td>...</td>\n",
       "      <td>0.652930</td>\n",
       "      <td>0.123472</td>\n",
       "      <td>0.123977</td>\n",
       "      <td>0.807956</td>\n",
       "      <td>1.468536</td>\n",
       "      <td>0.68</td>\n",
       "      <td>-0.003361</td>\n",
       "      <td>MRNA</td>\n",
       "      <td>hold</td>\n",
       "      <td>1</td>\n",
       "    </tr>\n",
       "    <tr>\n",
       "      <th>2495</th>\n",
       "      <td>2024-07-30 14:30:00-04:00</td>\n",
       "      <td>119.199997</td>\n",
       "      <td>119.260002</td>\n",
       "      <td>118.508400</td>\n",
       "      <td>118.809998</td>\n",
       "      <td>118.809998</td>\n",
       "      <td>228746</td>\n",
       "      <td>-0.003361</td>\n",
       "      <td>0.068098</td>\n",
       "      <td>0.132016</td>\n",
       "      <td>...</td>\n",
       "      <td>0.823050</td>\n",
       "      <td>0.198031</td>\n",
       "      <td>0.142077</td>\n",
       "      <td>0.691842</td>\n",
       "      <td>1.235483</td>\n",
       "      <td>0.68</td>\n",
       "      <td>0.000252</td>\n",
       "      <td>MRNA</td>\n",
       "      <td>hold</td>\n",
       "      <td>1</td>\n",
       "    </tr>\n",
       "  </tbody>\n",
       "</table>\n",
       "<p>89816 rows × 84 columns</p>\n",
       "</div>"
      ],
      "text/plain": [
       "                       Datetime        Open        High         Low  \\\n",
       "0     2023-02-24 13:30:00-05:00  416.109985  418.690002  415.059998   \n",
       "1     2023-02-24 14:30:00-05:00  418.322510  420.554993  416.825012   \n",
       "2     2023-02-24 15:30:00-05:00  419.725006  420.469910  417.850006   \n",
       "3     2023-02-27 09:30:00-05:00  421.380005  422.549988  415.565002   \n",
       "4     2023-02-27 10:30:00-05:00  417.510010  418.359985  412.269989   \n",
       "...                         ...         ...         ...         ...   \n",
       "2491  2024-07-30 10:30:00-04:00  122.129997  122.639900  118.863098   \n",
       "2492  2024-07-30 11:30:00-04:00  120.775002  121.230003  119.529999   \n",
       "2493  2024-07-30 12:30:00-04:00  119.940002  120.324997  118.720001   \n",
       "2494  2024-07-30 13:30:00-04:00  119.059998  119.680000  119.029999   \n",
       "2495  2024-07-30 14:30:00-04:00  119.199997  119.260002  118.508400   \n",
       "\n",
       "           Close   Adj Close  Volume  Log_Return  EMAVolumeDiff2  \\\n",
       "0     418.350006  418.350006  229992    0.004720       -0.230635   \n",
       "1     419.670013  419.670013  310197    0.003150        0.012248   \n",
       "2     419.959991  419.959991  526650    0.000691        0.161947   \n",
       "3     417.510010  417.510010  531363   -0.005851        0.051528   \n",
       "4     417.720001  417.720001  323722    0.000503       -0.157536   \n",
       "...          ...         ...     ...         ...             ...   \n",
       "2491  120.775002  120.775002  407666   -0.011075       -0.096448   \n",
       "2492  119.940002  119.940002  203445   -0.006938       -0.288713   \n",
       "2493  119.050003  119.050003  163283   -0.007448       -0.200364   \n",
       "2494  119.209999  119.209999  175393    0.001343       -0.051900   \n",
       "2495  118.809998  118.809998  228746   -0.003361        0.068098   \n",
       "\n",
       "      SMAVolumeDiff2  ...    MACD16     MACD32    MACD64   MACD128   MACD256  \\\n",
       "0          -0.221200  ... -9.579833   2.124146 -0.136437 -0.012807  0.667064   \n",
       "1           0.148476  ...  6.867033   1.481618 -0.070376  0.003773  0.588178   \n",
       "2           0.258653  ...  7.086854   1.761356 -0.021731  0.019689  0.590606   \n",
       "3           0.004455  ... -2.606320  -6.689063  0.028335  0.045034  0.858306   \n",
       "4          -0.242831  ... -4.618472 -15.209039  0.102380  0.062240  0.856595   \n",
       "...              ...  ...       ...        ...       ...       ...       ...   \n",
       "2491       -0.242671  ... -0.224391  -0.256961  0.098352  4.001104  7.139022   \n",
       "2492       -0.334180  ...  0.033447  -0.065615  0.068682  1.175484  2.242714   \n",
       "2493       -0.109514  ...  0.220412   0.029109  0.074413  0.688681  1.305677   \n",
       "2494        0.035757  ...  0.652930   0.123472  0.123977  0.807956  1.468536   \n",
       "2495        0.132016  ...  0.823050   0.198031  0.142077  0.691842  1.235483   \n",
       "\n",
       "      FamaFrenchMktReturns  Log_Return_shift  stock_name  Stock_Position  \\\n",
       "0                    -1.09          0.003150        INTU            hold   \n",
       "1                    -1.09          0.000691        INTU            hold   \n",
       "2                    -1.09         -0.005851        INTU            sell   \n",
       "3                     0.31          0.000503        INTU            hold   \n",
       "4                     0.31          0.000060        INTU            hold   \n",
       "...                    ...               ...         ...             ...   \n",
       "2491                  0.68         -0.006938        MRNA            hold   \n",
       "2492                  0.68         -0.007448        MRNA            hold   \n",
       "2493                  0.68          0.001343        MRNA            hold   \n",
       "2494                  0.68         -0.003361        MRNA            hold   \n",
       "2495                  0.68          0.000252        MRNA            hold   \n",
       "\n",
       "      Target  \n",
       "0          1  \n",
       "1          1  \n",
       "2          0  \n",
       "3          1  \n",
       "4          1  \n",
       "...      ...  \n",
       "2491       1  \n",
       "2492       1  \n",
       "2493       1  \n",
       "2494       1  \n",
       "2495       1  \n",
       "\n",
       "[89816 rows x 84 columns]"
      ]
     },
     "execution_count": 6,
     "metadata": {},
     "output_type": "execute_result"
    }
   ],
   "source": [
    "df"
   ]
  },
  {
   "cell_type": "code",
   "execution_count": 7,
   "id": "cb790925-b282-4e61-81f6-097e886b334f",
   "metadata": {},
   "outputs": [
    {
     "name": "stdout",
     "output_type": "stream",
     "text": [
      "0\n",
      "0\n"
     ]
    }
   ],
   "source": [
    "# additional logic to ensure buy remains +ve and sell remainvs -ve\n",
    "\n",
    "print(len(df[(df.Log_Return_shift < 0) & (df.Stock_Position == 'buy')]))\n",
    "# print(len(df[(df.Log_Return_shift < 0) & (df.Stock_Position == 'strong buy')]))\n",
    "\n",
    "print(len(df[(df.Log_Return_shift > 0) & (df.Stock_Position == 'sell')]))\n",
    "# print(len(df[(df.Log_Return_shift > 0) & (df.Stock_Position == 'strong sell')]))\n",
    "\n",
    "# all good"
   ]
  },
  {
   "cell_type": "markdown",
   "id": "b665686a-86ac-4113-a06a-6a07a8d87963",
   "metadata": {},
   "source": [
    "# preprocess dataset"
   ]
  },
  {
   "cell_type": "markdown",
   "id": "6c03b638-ab88-4a8e-b729-031be8e2a033",
   "metadata": {},
   "source": [
    "- set targets correctly (try 3 targets first)\n",
    "    - plot the distribution pdf of the target values\n",
    "      \n",
    "- split train val test on time\n",
    "    - within each split can shuffle\n",
    "    - split directly on the df\n",
    "\n",
    "- shortlist the target and features\n",
    "** keep the df unchanged so dont need to run above code again"
   ]
  },
  {
   "cell_type": "code",
   "execution_count": 111,
   "id": "0ac8aef4-218b-4cc2-8ba8-9d0a2020f619",
   "metadata": {},
   "outputs": [
    {
     "data": {
      "text/plain": [
       "((71852, 84), (8981, 84), (8983, 84))"
      ]
     },
     "execution_count": 111,
     "metadata": {},
     "output_type": "execute_result"
    }
   ],
   "source": [
    "# sort df according to date\n",
    "df1 = df.sort_values(\"Datetime\").reset_index(drop=True)\n",
    "\n",
    "# train test split on index\n",
    "train_size, val_size, test_size = 0.8, 0.1, 0.1\n",
    "train_size, val_size, test_size = int(len(df1) * train_size), int(len(df1) * val_size), int(len(df1) * test_size)\n",
    "train_df = df1.iloc[:train_size]\n",
    "val_df = df1.iloc[train_size:train_size + val_size]\n",
    "test_df = df1.iloc[train_size + val_size:]\n",
    "\n",
    "train_df.shape,val_df.shape,test_df.shape"
   ]
  },
  {
   "cell_type": "code",
   "execution_count": 113,
   "id": "1371bffa-b6ed-4639-bf4e-4e4c6b0816a4",
   "metadata": {
    "scrolled": true
   },
   "outputs": [
    {
     "data": {
      "text/html": [
       "<div>\n",
       "<style scoped>\n",
       "    .dataframe tbody tr th:only-of-type {\n",
       "        vertical-align: middle;\n",
       "    }\n",
       "\n",
       "    .dataframe tbody tr th {\n",
       "        vertical-align: top;\n",
       "    }\n",
       "\n",
       "    .dataframe thead th {\n",
       "        text-align: right;\n",
       "    }\n",
       "</style>\n",
       "<table border=\"1\" class=\"dataframe\">\n",
       "  <thead>\n",
       "    <tr style=\"text-align: right;\">\n",
       "      <th></th>\n",
       "      <th>Datetime</th>\n",
       "      <th>Open</th>\n",
       "      <th>High</th>\n",
       "      <th>Low</th>\n",
       "      <th>Close</th>\n",
       "      <th>Adj Close</th>\n",
       "      <th>Volume</th>\n",
       "      <th>Log_Return</th>\n",
       "      <th>EMAVolumeDiff2</th>\n",
       "      <th>SMAVolumeDiff2</th>\n",
       "      <th>...</th>\n",
       "      <th>MACD16</th>\n",
       "      <th>MACD32</th>\n",
       "      <th>MACD64</th>\n",
       "      <th>MACD128</th>\n",
       "      <th>MACD256</th>\n",
       "      <th>FamaFrenchMktReturns</th>\n",
       "      <th>Log_Return_shift</th>\n",
       "      <th>stock_name</th>\n",
       "      <th>Stock_Position</th>\n",
       "      <th>Target</th>\n",
       "    </tr>\n",
       "  </thead>\n",
       "  <tbody>\n",
       "    <tr>\n",
       "      <th>0</th>\n",
       "      <td>2023-02-10 12:00:00+00:00</td>\n",
       "      <td>106.360001</td>\n",
       "      <td>106.639999</td>\n",
       "      <td>106.199997</td>\n",
       "      <td>106.269997</td>\n",
       "      <td>106.269997</td>\n",
       "      <td>1318353</td>\n",
       "      <td>-0.000658</td>\n",
       "      <td>-0.007519</td>\n",
       "      <td>0.045017</td>\n",
       "      <td>...</td>\n",
       "      <td>1.028772</td>\n",
       "      <td>0.136904</td>\n",
       "      <td>-0.029851</td>\n",
       "      <td>-0.186527</td>\n",
       "      <td>-0.638538</td>\n",
       "      <td>0.11</td>\n",
       "      <td>0.004600</td>\n",
       "      <td>RR.L</td>\n",
       "      <td>hold</td>\n",
       "      <td>1</td>\n",
       "    </tr>\n",
       "    <tr>\n",
       "      <th>1</th>\n",
       "      <td>2023-02-10 12:00:00+00:00</td>\n",
       "      <td>153.437500</td>\n",
       "      <td>153.699997</td>\n",
       "      <td>153.000000</td>\n",
       "      <td>153.085007</td>\n",
       "      <td>153.085007</td>\n",
       "      <td>210932</td>\n",
       "      <td>-0.003243</td>\n",
       "      <td>-0.317099</td>\n",
       "      <td>-0.373950</td>\n",
       "      <td>...</td>\n",
       "      <td>1.165333</td>\n",
       "      <td>0.300798</td>\n",
       "      <td>-0.237521</td>\n",
       "      <td>-0.690568</td>\n",
       "      <td>-1.679347</td>\n",
       "      <td>0.11</td>\n",
       "      <td>0.001730</td>\n",
       "      <td>MKS.L</td>\n",
       "      <td>hold</td>\n",
       "      <td>1</td>\n",
       "    </tr>\n",
       "    <tr>\n",
       "      <th>2</th>\n",
       "      <td>2023-02-10 12:00:00+00:00</td>\n",
       "      <td>1619.500000</td>\n",
       "      <td>1625.500000</td>\n",
       "      <td>1615.000000</td>\n",
       "      <td>1625.000000</td>\n",
       "      <td>1625.000000</td>\n",
       "      <td>38967</td>\n",
       "      <td>0.003390</td>\n",
       "      <td>-0.156986</td>\n",
       "      <td>-0.213034</td>\n",
       "      <td>...</td>\n",
       "      <td>29.033343</td>\n",
       "      <td>-0.033365</td>\n",
       "      <td>-1.200842</td>\n",
       "      <td>-4.101547</td>\n",
       "      <td>45.477088</td>\n",
       "      <td>0.11</td>\n",
       "      <td>0.001537</td>\n",
       "      <td>III.L</td>\n",
       "      <td>hold</td>\n",
       "      <td>1</td>\n",
       "    </tr>\n",
       "    <tr>\n",
       "      <th>3</th>\n",
       "      <td>2023-02-10 13:00:00+00:00</td>\n",
       "      <td>1625.500000</td>\n",
       "      <td>1631.000000</td>\n",
       "      <td>1617.982788</td>\n",
       "      <td>1627.500000</td>\n",
       "      <td>1627.500000</td>\n",
       "      <td>49544</td>\n",
       "      <td>0.001537</td>\n",
       "      <td>0.022851</td>\n",
       "      <td>0.119499</td>\n",
       "      <td>...</td>\n",
       "      <td>-2.899139</td>\n",
       "      <td>0.099350</td>\n",
       "      <td>-1.730039</td>\n",
       "      <td>-5.791475</td>\n",
       "      <td>21.748935</td>\n",
       "      <td>0.11</td>\n",
       "      <td>-0.001537</td>\n",
       "      <td>III.L</td>\n",
       "      <td>hold</td>\n",
       "      <td>1</td>\n",
       "    </tr>\n",
       "    <tr>\n",
       "      <th>4</th>\n",
       "      <td>2023-02-10 13:00:00+00:00</td>\n",
       "      <td>106.260002</td>\n",
       "      <td>106.980003</td>\n",
       "      <td>106.129997</td>\n",
       "      <td>106.760002</td>\n",
       "      <td>106.760002</td>\n",
       "      <td>859007</td>\n",
       "      <td>0.004600</td>\n",
       "      <td>-0.154064</td>\n",
       "      <td>-0.210965</td>\n",
       "      <td>...</td>\n",
       "      <td>11.923219</td>\n",
       "      <td>0.395658</td>\n",
       "      <td>-0.006902</td>\n",
       "      <td>-0.241713</td>\n",
       "      <td>-0.861859</td>\n",
       "      <td>0.11</td>\n",
       "      <td>0.005232</td>\n",
       "      <td>RR.L</td>\n",
       "      <td>hold</td>\n",
       "      <td>1</td>\n",
       "    </tr>\n",
       "  </tbody>\n",
       "</table>\n",
       "<p>5 rows × 84 columns</p>\n",
       "</div>"
      ],
      "text/plain": [
       "                    Datetime         Open         High          Low  \\\n",
       "0  2023-02-10 12:00:00+00:00   106.360001   106.639999   106.199997   \n",
       "1  2023-02-10 12:00:00+00:00   153.437500   153.699997   153.000000   \n",
       "2  2023-02-10 12:00:00+00:00  1619.500000  1625.500000  1615.000000   \n",
       "3  2023-02-10 13:00:00+00:00  1625.500000  1631.000000  1617.982788   \n",
       "4  2023-02-10 13:00:00+00:00   106.260002   106.980003   106.129997   \n",
       "\n",
       "         Close    Adj Close   Volume  Log_Return  EMAVolumeDiff2  \\\n",
       "0   106.269997   106.269997  1318353   -0.000658       -0.007519   \n",
       "1   153.085007   153.085007   210932   -0.003243       -0.317099   \n",
       "2  1625.000000  1625.000000    38967    0.003390       -0.156986   \n",
       "3  1627.500000  1627.500000    49544    0.001537        0.022851   \n",
       "4   106.760002   106.760002   859007    0.004600       -0.154064   \n",
       "\n",
       "   SMAVolumeDiff2  ...     MACD16    MACD32    MACD64   MACD128    MACD256  \\\n",
       "0        0.045017  ...   1.028772  0.136904 -0.029851 -0.186527  -0.638538   \n",
       "1       -0.373950  ...   1.165333  0.300798 -0.237521 -0.690568  -1.679347   \n",
       "2       -0.213034  ...  29.033343 -0.033365 -1.200842 -4.101547  45.477088   \n",
       "3        0.119499  ...  -2.899139  0.099350 -1.730039 -5.791475  21.748935   \n",
       "4       -0.210965  ...  11.923219  0.395658 -0.006902 -0.241713  -0.861859   \n",
       "\n",
       "   FamaFrenchMktReturns  Log_Return_shift  stock_name  Stock_Position  Target  \n",
       "0                  0.11          0.004600        RR.L            hold       1  \n",
       "1                  0.11          0.001730       MKS.L            hold       1  \n",
       "2                  0.11          0.001537       III.L            hold       1  \n",
       "3                  0.11         -0.001537       III.L            hold       1  \n",
       "4                  0.11          0.005232        RR.L            hold       1  \n",
       "\n",
       "[5 rows x 84 columns]"
      ]
     },
     "execution_count": 113,
     "metadata": {},
     "output_type": "execute_result"
    }
   ],
   "source": [
    "train_df.head()"
   ]
  },
  {
   "cell_type": "code",
   "execution_count": 115,
   "id": "b972d4aa-48a1-4e2e-b76b-d929b9687021",
   "metadata": {},
   "outputs": [
    {
     "data": {
      "text/plain": [
       "(Index(['Datetime', 'Open', 'High', 'Low', 'Close', 'Adj Close', 'Volume',\n",
       "        'Log_Return', 'EMAVolumeDiff2', 'SMAVolumeDiff2', 'EMACloseDiff2',\n",
       "        'SMACloseDiff2', 'VWAP2', 'VolatilityStdDev2', 'Volatility2',\n",
       "        'Momentum2', 'EMAVolumeDiff4', 'SMAVolumeDiff4', 'EMACloseDiff4',\n",
       "        'SMACloseDiff4', 'VWAP4', 'VolatilityStdDev4', 'Volatility4',\n",
       "        'Momentum4', 'EMAVolumeDiff8', 'SMAVolumeDiff8', 'EMACloseDiff8',\n",
       "        'SMACloseDiff8', 'VWAP8', 'VolatilityStdDev8', 'Volatility8',\n",
       "        'Momentum8', 'EMAVolumeDiff16', 'SMAVolumeDiff16', 'EMACloseDiff16',\n",
       "        'SMACloseDiff16', 'VWAP16', 'VolatilityStdDev16', 'Volatility16',\n",
       "        'Momentum16', 'EMAVolumeDiff32', 'SMAVolumeDiff32', 'EMACloseDiff32',\n",
       "        'SMACloseDiff32', 'VWAP32', 'VolatilityStdDev32', 'Volatility32',\n",
       "        'Momentum32', 'EMAVolumeDiff64', 'SMAVolumeDiff64', 'EMACloseDiff64',\n",
       "        'SMACloseDiff64', 'VWAP64', 'VolatilityStdDev64', 'Volatility64',\n",
       "        'Momentum64', 'EMAVolumeDiff128', 'SMAVolumeDiff128', 'EMACloseDiff128',\n",
       "        'SMACloseDiff128', 'VWAP128', 'VolatilityStdDev128', 'Volatility128',\n",
       "        'Momentum128', 'EMAVolumeDiff256', 'SMAVolumeDiff256',\n",
       "        'EMACloseDiff256', 'SMACloseDiff256', 'VWAP256', 'VolatilityStdDev256',\n",
       "        'Volatility256', 'Momentum256', 'PriceVolatilityHourly', 'MACD8',\n",
       "        'MACD16', 'MACD32', 'MACD64', 'MACD128', 'MACD256',\n",
       "        'FamaFrenchMktReturns', 'Log_Return_shift', 'stock_name',\n",
       "        'Stock_Position', 'Target'],\n",
       "       dtype='object'),\n",
       " Index(['EMAVolumeDiff2', 'SMAVolumeDiff2', 'EMACloseDiff2', 'SMACloseDiff2',\n",
       "        'VWAP2', 'VolatilityStdDev2', 'Volatility2', 'Momentum2',\n",
       "        'EMAVolumeDiff4', 'SMAVolumeDiff4', 'EMACloseDiff4', 'SMACloseDiff4',\n",
       "        'VWAP4', 'VolatilityStdDev4', 'Volatility4', 'Momentum4',\n",
       "        'EMAVolumeDiff8', 'SMAVolumeDiff8', 'EMACloseDiff8', 'SMACloseDiff8',\n",
       "        'VWAP8', 'VolatilityStdDev8', 'Volatility8', 'Momentum8',\n",
       "        'EMAVolumeDiff16', 'SMAVolumeDiff16', 'EMACloseDiff16',\n",
       "        'SMACloseDiff16', 'VWAP16', 'VolatilityStdDev16', 'Volatility16',\n",
       "        'Momentum16', 'EMAVolumeDiff32', 'SMAVolumeDiff32', 'EMACloseDiff32',\n",
       "        'SMACloseDiff32', 'VWAP32', 'VolatilityStdDev32', 'Volatility32',\n",
       "        'Momentum32', 'EMAVolumeDiff64', 'SMAVolumeDiff64', 'EMACloseDiff64',\n",
       "        'SMACloseDiff64', 'VWAP64', 'VolatilityStdDev64', 'Volatility64',\n",
       "        'Momentum64', 'EMAVolumeDiff128', 'SMAVolumeDiff128', 'EMACloseDiff128',\n",
       "        'SMACloseDiff128', 'VWAP128', 'VolatilityStdDev128', 'Volatility128',\n",
       "        'Momentum128', 'EMAVolumeDiff256', 'SMAVolumeDiff256',\n",
       "        'EMACloseDiff256', 'SMACloseDiff256', 'VWAP256', 'VolatilityStdDev256',\n",
       "        'Volatility256', 'Momentum256', 'PriceVolatilityHourly', 'MACD8',\n",
       "        'MACD16', 'MACD32', 'MACD64', 'MACD128', 'MACD256',\n",
       "        'FamaFrenchMktReturns'],\n",
       "       dtype='object'))"
      ]
     },
     "execution_count": 115,
     "metadata": {},
     "output_type": "execute_result"
    }
   ],
   "source": [
    "df.columns, df.columns[8:-4]"
   ]
  },
  {
   "cell_type": "markdown",
   "id": "693732ac-27ed-43df-810e-226084d76e79",
   "metadata": {},
   "source": [
    "# training mtd 1 - using all features"
   ]
  },
  {
   "cell_type": "code",
   "execution_count": 178,
   "id": "241a4ea8-7f56-45f2-abc0-0ab2ebd2390c",
   "metadata": {},
   "outputs": [
    {
     "name": "stdout",
     "output_type": "stream",
     "text": [
      "72\n",
      "(71852, 72) (71852,)\n",
      "(8981, 72) (8981,)\n",
      "(8983, 72) (8983,)\n"
     ]
    }
   ],
   "source": [
    "features = df.columns[8:-4]\n",
    "print(len(features))\n",
    "target = \"Target\"\n",
    "\n",
    "X_train = train_df[features].to_numpy()\n",
    "y_train = train_df[target].to_numpy()\n",
    "print(X_train.shape,y_train.shape)\n",
    "\n",
    "X_val = val_df[features].to_numpy()\n",
    "y_val = val_df[target].to_numpy()\n",
    "print(X_val.shape,y_val.shape)\n",
    "\n",
    "X_test = test_df[features].to_numpy()\n",
    "y_test = test_df[target].to_numpy()\n",
    "print(X_test.shape,y_test.shape)"
   ]
  },
  {
   "cell_type": "code",
   "execution_count": 180,
   "id": "e5c3f252-940a-40c6-964f-aafab937cae7",
   "metadata": {
    "scrolled": true
   },
   "outputs": [
    {
     "data": {
      "text/plain": [
       "({0, 1, 2}, {0, 1, 2}, {0, 1, 2})"
      ]
     },
     "execution_count": 180,
     "metadata": {},
     "output_type": "execute_result"
    }
   ],
   "source": [
    "set(y_train),set(y_val),set(y_test)"
   ]
  },
  {
   "cell_type": "code",
   "execution_count": 182,
   "id": "2e68d65d-4428-4f7d-b758-4515c519a5cb",
   "metadata": {},
   "outputs": [],
   "source": [
    "from imblearn.over_sampling import SMOTE\n",
    "\n",
    "def balance_dataset_with_smote(X, y):\n",
    "    # Initialize the SMOTE object\n",
    "    smote = SMOTE(sampling_strategy='auto', random_state=42)\n",
    "    \n",
    "    # Apply SMOTE to the dataset\n",
    "    X_resampled, y_resampled = smote.fit_resample(X, y)\n",
    "    \n",
    "    return X_resampled, y_resampled"
   ]
  },
  {
   "cell_type": "code",
   "execution_count": 184,
   "id": "ee43c4de-7d82-44ad-825a-9e41d6185e61",
   "metadata": {},
   "outputs": [],
   "source": [
    "def get_numpy_value_counts(arr):\n",
    "    unique, counts = np.unique(arr, return_counts=True)\n",
    "    print(np.asarray((unique, counts)).T)"
   ]
  },
  {
   "cell_type": "code",
   "execution_count": 186,
   "id": "51d186e0-1948-4325-bee9-7babf83342ea",
   "metadata": {},
   "outputs": [
    {
     "name": "stdout",
     "output_type": "stream",
     "text": [
      "(71852, 72) (71852,)\n",
      "[[    0  7142]\n",
      " [    1 57384]\n",
      " [    2  7326]]\n",
      "(172152, 72) (172152,)\n",
      "[[    0 57384]\n",
      " [    1 57384]\n",
      " [    2 57384]]\n"
     ]
    }
   ],
   "source": [
    "print(X_train.shape,y_train.shape)\n",
    "get_numpy_value_counts(y_train)\n",
    "X_train, y_train = balance_dataset_with_smote(X_train, y_train)\n",
    "print(X_train.shape,y_train.shape)\n",
    "get_numpy_value_counts(y_train)"
   ]
  },
  {
   "cell_type": "code",
   "execution_count": 188,
   "id": "cea57749-6536-4130-b576-5b93f0faf560",
   "metadata": {},
   "outputs": [
    {
     "name": "stdout",
     "output_type": "stream",
     "text": [
      "(8981, 72) (8981,)\n",
      "[[   0  858]\n",
      " [   1 7286]\n",
      " [   2  837]]\n",
      "(21858, 72) (21858,)\n",
      "[[   0 7286]\n",
      " [   1 7286]\n",
      " [   2 7286]]\n"
     ]
    }
   ],
   "source": [
    "print(X_val.shape,y_val.shape)\n",
    "get_numpy_value_counts(y_val)\n",
    "X_val, y_val = balance_dataset_with_smote(X_val, y_val)\n",
    "print(X_val.shape,y_val.shape)\n",
    "get_numpy_value_counts(y_val)"
   ]
  },
  {
   "cell_type": "code",
   "execution_count": 190,
   "id": "4d15cdf2-b7be-4eb8-8bdf-45bfa1fd534a",
   "metadata": {},
   "outputs": [
    {
     "name": "stdout",
     "output_type": "stream",
     "text": [
      "(8983, 72) (8983,)\n",
      "[[   0  996]\n",
      " [   1 7154]\n",
      " [   2  833]]\n",
      "(21462, 72) (21462,)\n",
      "[[   0 7154]\n",
      " [   1 7154]\n",
      " [   2 7154]]\n"
     ]
    }
   ],
   "source": [
    "print(X_test.shape,y_test.shape)\n",
    "get_numpy_value_counts(y_test)\n",
    "X_test, y_test = balance_dataset_with_smote(X_test, y_test)\n",
    "print(X_test.shape,y_test.shape)\n",
    "get_numpy_value_counts(y_test)"
   ]
  },
  {
   "cell_type": "code",
   "execution_count": 192,
   "id": "066a11a7-77e0-482c-8a90-f9d1dedb1891",
   "metadata": {},
   "outputs": [
    {
     "data": {
      "text/plain": [
       "((172152, 72), (172152,), (21858, 72), (21858,), (21462, 72), (21462,))"
      ]
     },
     "execution_count": 192,
     "metadata": {},
     "output_type": "execute_result"
    }
   ],
   "source": [
    "from scripts.train_predict import *\n",
    "\n",
    "# standardise the values\n",
    "\n",
    "scaler = StandardScaler()\n",
    "\n",
    "# Fit the scaler on the training data and transform the training data\n",
    "X_train = scaler.fit_transform(X_train)\n",
    "\n",
    "# Transform the validation data\n",
    "X_val = scaler.transform(X_val)\n",
    "\n",
    "# Transform the test data\n",
    "X_test = scaler.transform(X_test)\n",
    "\n",
    "X_train.shape,y_train.shape,X_val.shape,y_val.shape,X_test.shape,y_test.shape"
   ]
  },
  {
   "cell_type": "code",
   "execution_count": 194,
   "id": "4f35ba22-6590-4d1c-bc1d-5f0a7a13af64",
   "metadata": {},
   "outputs": [
    {
     "data": {
      "text/plain": [
       "(array([-1.16755665e-02,  2.55726679e-02, -3.57639704e-01, -9.44080110e-02,\n",
       "        -1.15873709e-01, -3.88053922e-01, -4.33167379e-01, -9.09420475e-02,\n",
       "        -3.71289524e-02, -3.42424654e-01, -7.53569386e-01, -6.17935009e-01,\n",
       "        -7.29597984e-01, -2.94031107e-01, -3.46515910e-01, -1.19682125e+00,\n",
       "         4.69928395e-02,  3.69511030e-03, -1.04444458e+00, -1.09644433e+00,\n",
       "        -1.36862403e+00, -3.11708703e-01, -7.40200387e-01, -1.52441658e+00,\n",
       "        -1.51668902e-01,  3.12422994e-01, -1.07234413e+00, -1.12994362e+00,\n",
       "        -1.28040261e+00, -4.04871576e-01, -6.38668829e-01, -7.17669325e-01,\n",
       "        -5.11188510e-01, -9.58667027e-01, -9.04273086e-01, -8.74066545e-01,\n",
       "        -8.16188643e-01, -5.05929423e-01, -6.88780491e-01,  1.18621476e-01,\n",
       "        -7.37873544e-01, -5.91681276e-01, -7.51560103e-01, -5.84787735e-01,\n",
       "        -6.12372196e-01, -5.46847405e-01, -9.15154332e-01,  5.94802916e-01,\n",
       "        -9.03195506e-01, -1.00625440e+00, -6.40932682e-01, -7.02903405e-01,\n",
       "        -7.60526262e-01, -5.44821386e-01, -8.11978051e-01,  1.96569803e-01,\n",
       "        -1.05584816e+00, -1.04562263e+00, -5.58945377e-01, -4.77769888e-01,\n",
       "        -4.55019539e-01, -5.30260319e-01, -8.33404473e-01,  4.94146316e-01,\n",
       "        -1.49733577e+00,  1.07905569e-02,  3.49025711e-03, -1.10792794e-02,\n",
       "        -3.23886034e-04, -9.04073492e-04, -8.32131251e-03,  9.88988584e-02]),\n",
       " 1)"
      ]
     },
     "execution_count": 194,
     "metadata": {},
     "output_type": "execute_result"
    }
   ],
   "source": [
    "X_train[0],y_train[0]"
   ]
  },
  {
   "cell_type": "code",
   "execution_count": 196,
   "id": "ab4ae2e6-02cb-49c8-a129-0da3653768a7",
   "metadata": {},
   "outputs": [],
   "source": [
    "from sklearn.metrics import accuracy_score\n",
    "\n",
    "def train():\n",
    "    # initialise training params\n",
    "    best_score = float('inf')\n",
    "    best_params = None\n",
    "    best_model = None\n",
    "    \n",
    "\n",
    "    # Define the parameter grid\n",
    "    param_grid = {\n",
    "        # 'hidden_layer_sizes': [(8,), (16,), (32,), (64,), (64,8), (64,16,), (32,8), (16,8), (8,16,), (8,64,)], # Different architectures\n",
    "        # 'activation': ['relu', 'tanh'], # Different activation functions\n",
    "        # 'solver': ['adam', 'sgd'], # Different solvers\n",
    "        # 'alpha': [0.0001, 0.001], # Different regularization terms\n",
    "        # 'learning_rate': ['constant', 'adaptive'], # Different learning rates\n",
    "        # 'hidden_layer_sizes': [(8,64), (8,4), (8,2), (4,2),(2),(1),(4)], # Different architectures\n",
    "        'hidden_layer_sizes': [(32)], # Different architectures\n",
    "        # 'hidden_layer_sizes': [(6, 8, 64, 1), (64, 1)], # Different architectures\n",
    "        # 'hidden_layer_sizes': [(8,64), (16,64), (32,64), (32, 128)], # Different architectures\n",
    "        'activation': ['relu'], # Different activation functions\n",
    "        'solver': ['adam'], # Different solvers\n",
    "        'alpha': [0.0005], # Different regularization terms\n",
    "        'learning_rate': ['adaptive'], # Different learning rates\n",
    "    }\n",
    "\n",
    "    for params in alive_it(ParameterGrid(param_grid)):\n",
    "        model = MLPClassifier(max_iter=1000, **params) # initialise new model before each run\n",
    "        model.fit(X_train, y_train)\n",
    "        y_pred = model.predict(X_val)\n",
    "        # score = model.score(y_val, y_pred)\n",
    "        score,y_pred = predict(model,X_val,y_val)\n",
    "        \n",
    "        if score < best_score:\n",
    "            best_score = score\n",
    "            best_params = params\n",
    "            best_model = model\n",
    "            print(f\"score: {round(best_score,7)}\")\n",
    "            # print(f\"score: {round(best_score,7)}, params: {best_params}\")\n",
    "\n",
    "    print(f\"Best parameters found: {best_params}\")\n",
    "    print(f\"Best validation score: {round(best_score,5)}\")\n",
    "\n",
    "    return best_model, best_params, best_score, X_test, y_test\n",
    "\n",
    "def predict(best_model, X_test, y_test):\n",
    "    y_pred = best_model.predict(X_test)\n",
    "    acc = accuracy_score(y_test, y_pred)\n",
    "    \n",
    "    return acc,y_pred\n",
    "\n",
    "def train_predict():\n",
    "    best_model, best_params, best_score, X_test, y_test = train()\n",
    "    acc,y_pred = predict(best_model, X_test, y_test)\n",
    "    \n",
    "    return best_model, best_params, best_score, acc, y_pred"
   ]
  },
  {
   "cell_type": "code",
   "execution_count": null,
   "id": "7bef166e-c0ab-4b3a-951b-9eff64bac5b0",
   "metadata": {},
   "outputs": [],
   "source": [
    "best_model, best_params, best_score, acc, y_pred = train_predict()"
   ]
  },
  {
   "cell_type": "code",
   "execution_count": null,
   "id": "f9658a0a-5abb-488b-94bd-43864e420682",
   "metadata": {},
   "outputs": [],
   "source": [
    "from sklearn.metrics import confusion_matrix, ConfusionMatrixDisplay\n",
    "\n",
    "print(f\"accuracy: {round(acc*100,2)}\")\n",
    "labels = ['sell', 'hold', 'buy']\n",
    "cm = confusion_matrix(y_test, y_pred)\n",
    "disp = ConfusionMatrixDisplay(confusion_matrix=cm,\n",
    "                              display_labels=labels)\n",
    "disp.plot()\n",
    "plt.show()"
   ]
  },
  {
   "cell_type": "markdown",
   "id": "c133d691-de69-4807-8e55-2650c52172b0",
   "metadata": {
    "jp-MarkdownHeadingCollapsed": true
   },
   "source": [
    "# training mtd 2 - using SelectKBest(10)"
   ]
  },
  {
   "cell_type": "code",
   "execution_count": 22,
   "id": "1114285c-2191-4339-98c3-14ba9c296915",
   "metadata": {},
   "outputs": [
    {
     "name": "stdout",
     "output_type": "stream",
     "text": [
      "72\n",
      "(71852, 72) (71852,)\n",
      "(8981, 72) (8981,)\n",
      "(8983, 72) (8983,)\n"
     ]
    }
   ],
   "source": [
    "features = df.columns[8:-4]\n",
    "print(len(features))\n",
    "target = \"Target\"\n",
    "\n",
    "X_train = train_df[features].to_numpy()\n",
    "y_train = train_df[target].to_numpy()\n",
    "print(X_train.shape,y_train.shape)\n",
    "\n",
    "X_val = val_df[features].to_numpy()\n",
    "y_val = val_df[target].to_numpy()\n",
    "print(X_val.shape,y_val.shape)\n",
    "\n",
    "X_test = test_df[features].to_numpy()\n",
    "y_test = test_df[target].to_numpy()\n",
    "print(X_test.shape,y_test.shape)"
   ]
  },
  {
   "cell_type": "code",
   "execution_count": 180,
   "id": "e318453c-67c3-44d1-92ee-e2e36755ea81",
   "metadata": {
    "scrolled": true
   },
   "outputs": [
    {
     "data": {
      "text/plain": [
       "({0, 1, 2}, {0, 1, 2}, {0, 1, 2})"
      ]
     },
     "execution_count": 180,
     "metadata": {},
     "output_type": "execute_result"
    }
   ],
   "source": [
    "set(y_train),set(y_val),set(y_test)"
   ]
  },
  {
   "cell_type": "code",
   "execution_count": 182,
   "id": "5650d0d8-49ec-4ac6-a46c-23a3800d112b",
   "metadata": {},
   "outputs": [],
   "source": [
    "from imblearn.over_sampling import SMOTE\n",
    "\n",
    "def balance_dataset_with_smote(X, y):\n",
    "    # Initialize the SMOTE object\n",
    "    smote = SMOTE(sampling_strategy='auto', random_state=42)\n",
    "    \n",
    "    # Apply SMOTE to the dataset\n",
    "    X_resampled, y_resampled = smote.fit_resample(X, y)\n",
    "    \n",
    "    return X_resampled, y_resampled"
   ]
  },
  {
   "cell_type": "code",
   "execution_count": 184,
   "id": "eadeb07d-db82-49fd-9eab-7c1aaffa28bb",
   "metadata": {},
   "outputs": [],
   "source": [
    "def get_numpy_value_counts(arr):\n",
    "    unique, counts = np.unique(arr, return_counts=True)\n",
    "    print(np.asarray((unique, counts)).T)"
   ]
  },
  {
   "cell_type": "code",
   "execution_count": 186,
   "id": "f846321e-c8f5-4358-82d6-fcea57f915be",
   "metadata": {},
   "outputs": [
    {
     "name": "stdout",
     "output_type": "stream",
     "text": [
      "(71852, 72) (71852,)\n",
      "[[    0  7142]\n",
      " [    1 57384]\n",
      " [    2  7326]]\n",
      "(172152, 72) (172152,)\n",
      "[[    0 57384]\n",
      " [    1 57384]\n",
      " [    2 57384]]\n"
     ]
    }
   ],
   "source": [
    "print(X_train.shape,y_train.shape)\n",
    "get_numpy_value_counts(y_train)\n",
    "X_train, y_train = balance_dataset_with_smote(X_train, y_train)\n",
    "print(X_train.shape,y_train.shape)\n",
    "get_numpy_value_counts(y_train)"
   ]
  },
  {
   "cell_type": "code",
   "execution_count": 188,
   "id": "c0e90a88-c15c-41b5-a9fe-e61ba078a7aa",
   "metadata": {},
   "outputs": [
    {
     "name": "stdout",
     "output_type": "stream",
     "text": [
      "(8981, 72) (8981,)\n",
      "[[   0  858]\n",
      " [   1 7286]\n",
      " [   2  837]]\n",
      "(21858, 72) (21858,)\n",
      "[[   0 7286]\n",
      " [   1 7286]\n",
      " [   2 7286]]\n"
     ]
    }
   ],
   "source": [
    "print(X_val.shape,y_val.shape)\n",
    "get_numpy_value_counts(y_val)\n",
    "X_val, y_val = balance_dataset_with_smote(X_val, y_val)\n",
    "print(X_val.shape,y_val.shape)\n",
    "get_numpy_value_counts(y_val)"
   ]
  },
  {
   "cell_type": "code",
   "execution_count": 190,
   "id": "df01ee5b-6692-4fe4-b8f7-85f9eecd599d",
   "metadata": {},
   "outputs": [
    {
     "name": "stdout",
     "output_type": "stream",
     "text": [
      "(8983, 72) (8983,)\n",
      "[[   0  996]\n",
      " [   1 7154]\n",
      " [   2  833]]\n",
      "(21462, 72) (21462,)\n",
      "[[   0 7154]\n",
      " [   1 7154]\n",
      " [   2 7154]]\n"
     ]
    }
   ],
   "source": [
    "print(X_test.shape,y_test.shape)\n",
    "get_numpy_value_counts(y_test)\n",
    "X_test, y_test = balance_dataset_with_smote(X_test, y_test)\n",
    "print(X_test.shape,y_test.shape)\n",
    "get_numpy_value_counts(y_test)"
   ]
  },
  {
   "cell_type": "code",
   "execution_count": 23,
   "id": "76b7c153-86dd-4d37-8227-e4dfc87f1fd9",
   "metadata": {},
   "outputs": [
    {
     "data": {
      "text/plain": [
       "((71852, 10), (71852,), (8981, 10), (8981,), (8983, 10), (8983,))"
      ]
     },
     "execution_count": 23,
     "metadata": {},
     "output_type": "execute_result"
    }
   ],
   "source": [
    "from scripts.train_predict import *\n",
    "\n",
    "# standardise the values and selectKbest\n",
    "scaler = StandardScaler()\n",
    "selector = SelectKBest(f_regression, k=10)\n",
    "\n",
    "# Fit the scaler on the training data and transform the training data\n",
    "X_train = scaler.fit_transform(X_train)\n",
    "X_train = selector.fit_transform(X_train, y_train)\n",
    "\n",
    "# Transform the validation data\n",
    "X_val = scaler.transform(X_val)\n",
    "X_val = selector.transform(X_val)\n",
    "\n",
    "# Transform the test data\n",
    "X_test = scaler.transform(X_test)\n",
    "X_test = selector.transform(X_test)\n",
    "\n",
    "X_train.shape,y_train.shape,X_val.shape,y_val.shape,X_test.shape,y_test.shape"
   ]
  },
  {
   "cell_type": "code",
   "execution_count": 24,
   "id": "903914ee-c6ea-4ee1-a26f-6e6d25e424d0",
   "metadata": {},
   "outputs": [
    {
     "data": {
      "text/plain": [
       "(array([ 0.28347045,  0.08492642, -0.27398626, -0.72217051, -0.49954135,\n",
       "        -0.6643408 , -0.76756302, -0.81797078, -0.80745986,  0.05446214]),\n",
       " 1)"
      ]
     },
     "execution_count": 24,
     "metadata": {},
     "output_type": "execute_result"
    }
   ],
   "source": [
    "X_train[0],y_train[0]"
   ]
  },
  {
   "cell_type": "code",
   "execution_count": 25,
   "id": "8fa604bb-fda8-4a05-83cb-608c4c273825",
   "metadata": {},
   "outputs": [],
   "source": [
    "from sklearn.metrics import accuracy_score\n",
    "\n",
    "def train():\n",
    "    # initialise training params\n",
    "    best_score = float('inf')\n",
    "    best_params = None\n",
    "    best_model = None\n",
    "    \n",
    "\n",
    "    # Define the parameter grid\n",
    "    param_grid = {\n",
    "        # 'hidden_layer_sizes': [(8,), (16,), (32,), (64,), (64,8), (64,16,), (32,8), (16,8), (8,16,), (8,64,)], # Different architectures\n",
    "        # 'activation': ['relu', 'tanh'], # Different activation functions\n",
    "        # 'solver': ['adam', 'sgd'], # Different solvers\n",
    "        # 'alpha': [0.0001, 0.001], # Different regularization terms\n",
    "        # 'learning_rate': ['constant', 'adaptive'], # Different learning rates\n",
    "        # 'hidden_layer_sizes': [(8,64), (8,4), (8,2), (4,2),(2),(1),(4)], # Different architectures\n",
    "        'hidden_layer_sizes': [(32)], # Different architectures\n",
    "        # 'hidden_layer_sizes': [(6, 8, 64, 1), (64, 1)], # Different architectures\n",
    "        # 'hidden_layer_sizes': [(8,64), (16,64), (32,64), (32, 128)], # Different architectures\n",
    "        'activation': ['relu'], # Different activation functions\n",
    "        'solver': ['adam'], # Different solvers\n",
    "        'alpha': [0.0005], # Different regularization terms\n",
    "        'learning_rate': ['adaptive'], # Different learning rates\n",
    "    }\n",
    "\n",
    "    for params in alive_it(ParameterGrid(param_grid)):\n",
    "        model = MLPClassifier(max_iter=1000, **params) # initialise new model before each run\n",
    "        model.fit(X_train, y_train)\n",
    "        y_pred = model.predict(X_val)\n",
    "        # score = model.score(y_val, y_pred)\n",
    "        score,y_pred = predict(model,X_val,y_val)\n",
    "        \n",
    "        if score < best_score:\n",
    "            best_score = score\n",
    "            best_params = params\n",
    "            best_model = model\n",
    "            print(f\"score: {round(best_score,7)}\")\n",
    "            # print(f\"score: {round(best_score,7)}, params: {best_params}\")\n",
    "\n",
    "    print(f\"Best parameters found: {best_params}\")\n",
    "    print(f\"Best validation score: {round(best_score,5)}\")\n",
    "\n",
    "    return best_model, best_params, best_score, X_test, y_test\n",
    "\n",
    "def predict(best_model, X_test, y_test):\n",
    "    y_pred = best_model.predict(X_test)\n",
    "    acc = accuracy_score(y_test, y_pred)\n",
    "    \n",
    "    return acc,y_pred\n",
    "\n",
    "def train_predict():\n",
    "    best_model, best_params, best_score, X_test, y_test = train()\n",
    "    acc,y_pred = predict(best_model, X_test, y_test)\n",
    "    \n",
    "    return best_model, best_params, best_score, acc, y_pred"
   ]
  },
  {
   "cell_type": "code",
   "execution_count": 26,
   "id": "e3ca534e-e664-448e-bddc-3a9edd42f8ca",
   "metadata": {},
   "outputs": [
    {
     "name": "stdout",
     "output_type": "stream",
     "text": [
      "on 0: score: 0.8113796\n",
      "|████████████████████████████████████████| 1/1 [100%] in 2.4s (0.41/s) \n",
      "Best parameters found: {'activation': 'relu', 'alpha': 0.0005, 'hidden_layer_sizes': 32, 'learning_rate': 'adaptive', 'solver': 'adam'}\n",
      "Best validation score: 0.81138\n"
     ]
    }
   ],
   "source": [
    "best_model, best_params, best_score, acc, y_pred = train_predict()"
   ]
  },
  {
   "cell_type": "code",
   "execution_count": 27,
   "id": "c375bd2c-a59d-4d5a-a4ce-6b6404e64b33",
   "metadata": {},
   "outputs": [
    {
     "name": "stdout",
     "output_type": "stream",
     "text": [
      "accuracy: 79.64\n"
     ]
    },
    {
     "data": {
      "image/png": "[encoded data removed]",
      "text/plain": [
       "<Figure size 640x480 with 2 Axes>"
      ]
     },
     "metadata": {},
     "output_type": "display_data"
    }
   ],
   "source": [
    "from sklearn.metrics import confusion_matrix, ConfusionMatrixDisplay\n",
    "\n",
    "print(f\"accuracy: {round(acc*100,2)}\")\n",
    "labels = ['sell', 'hold', 'buy']\n",
    "cm = confusion_matrix(y_test, y_pred)\n",
    "disp = ConfusionMatrixDisplay(confusion_matrix=cm,\n",
    "                              display_labels=labels)\n",
    "disp.plot()\n",
    "plt.show()"
   ]
  },
  {
   "cell_type": "markdown",
   "id": "3d46b45f-c23f-4c02-afc5-a89ae398bbf4",
   "metadata": {
    "jp-MarkdownHeadingCollapsed": true
   },
   "source": [
    "# training mtd 3 - using PCA(0.95)"
   ]
  },
  {
   "cell_type": "code",
   "execution_count": 29,
   "id": "e7bc468a-b706-428c-b46d-2dc051519357",
   "metadata": {},
   "outputs": [
    {
     "name": "stdout",
     "output_type": "stream",
     "text": [
      "72\n",
      "(71852, 72) (71852,)\n",
      "(8981, 72) (8981,)\n",
      "(8983, 72) (8983,)\n"
     ]
    }
   ],
   "source": [
    "features = df.columns[8:-4]\n",
    "print(len(features))\n",
    "target = \"Target\"\n",
    "\n",
    "X_train = train_df[features].to_numpy()\n",
    "y_train = train_df[target].to_numpy()\n",
    "print(X_train.shape,y_train.shape)\n",
    "\n",
    "X_val = val_df[features].to_numpy()\n",
    "y_val = val_df[target].to_numpy()\n",
    "print(X_val.shape,y_val.shape)\n",
    "\n",
    "X_test = test_df[features].to_numpy()\n",
    "y_test = test_df[target].to_numpy()\n",
    "print(X_test.shape,y_test.shape)"
   ]
  },
  {
   "cell_type": "code",
   "execution_count": 180,
   "id": "c618e77a-8933-4fcf-b6c7-33bd4446d370",
   "metadata": {
    "scrolled": true
   },
   "outputs": [
    {
     "data": {
      "text/plain": [
       "({0, 1, 2}, {0, 1, 2}, {0, 1, 2})"
      ]
     },
     "execution_count": 180,
     "metadata": {},
     "output_type": "execute_result"
    }
   ],
   "source": [
    "set(y_train),set(y_val),set(y_test)"
   ]
  },
  {
   "cell_type": "code",
   "execution_count": 182,
   "id": "bd783c85-d32d-425c-8f03-3489f7e5393f",
   "metadata": {},
   "outputs": [],
   "source": [
    "from imblearn.over_sampling import SMOTE\n",
    "\n",
    "def balance_dataset_with_smote(X, y):\n",
    "    # Initialize the SMOTE object\n",
    "    smote = SMOTE(sampling_strategy='auto', random_state=42)\n",
    "    \n",
    "    # Apply SMOTE to the dataset\n",
    "    X_resampled, y_resampled = smote.fit_resample(X, y)\n",
    "    \n",
    "    return X_resampled, y_resampled"
   ]
  },
  {
   "cell_type": "code",
   "execution_count": 184,
   "id": "d2f1e643-66a1-43f0-a550-ab668396c2c7",
   "metadata": {},
   "outputs": [],
   "source": [
    "def get_numpy_value_counts(arr):\n",
    "    unique, counts = np.unique(arr, return_counts=True)\n",
    "    print(np.asarray((unique, counts)).T)"
   ]
  },
  {
   "cell_type": "code",
   "execution_count": 186,
   "id": "f21c2835-92a3-49e9-997e-2da905d9fbd4",
   "metadata": {},
   "outputs": [
    {
     "name": "stdout",
     "output_type": "stream",
     "text": [
      "(71852, 72) (71852,)\n",
      "[[    0  7142]\n",
      " [    1 57384]\n",
      " [    2  7326]]\n",
      "(172152, 72) (172152,)\n",
      "[[    0 57384]\n",
      " [    1 57384]\n",
      " [    2 57384]]\n"
     ]
    }
   ],
   "source": [
    "print(X_train.shape,y_train.shape)\n",
    "get_numpy_value_counts(y_train)\n",
    "X_train, y_train = balance_dataset_with_smote(X_train, y_train)\n",
    "print(X_train.shape,y_train.shape)\n",
    "get_numpy_value_counts(y_train)"
   ]
  },
  {
   "cell_type": "code",
   "execution_count": 188,
   "id": "352125e5-7495-4a9e-af1d-d247919ba780",
   "metadata": {},
   "outputs": [
    {
     "name": "stdout",
     "output_type": "stream",
     "text": [
      "(8981, 72) (8981,)\n",
      "[[   0  858]\n",
      " [   1 7286]\n",
      " [   2  837]]\n",
      "(21858, 72) (21858,)\n",
      "[[   0 7286]\n",
      " [   1 7286]\n",
      " [   2 7286]]\n"
     ]
    }
   ],
   "source": [
    "print(X_val.shape,y_val.shape)\n",
    "get_numpy_value_counts(y_val)\n",
    "X_val, y_val = balance_dataset_with_smote(X_val, y_val)\n",
    "print(X_val.shape,y_val.shape)\n",
    "get_numpy_value_counts(y_val)"
   ]
  },
  {
   "cell_type": "code",
   "execution_count": 190,
   "id": "a7d1ba03-1328-4efe-a9a9-dff5a3892baf",
   "metadata": {},
   "outputs": [
    {
     "name": "stdout",
     "output_type": "stream",
     "text": [
      "(8983, 72) (8983,)\n",
      "[[   0  996]\n",
      " [   1 7154]\n",
      " [   2  833]]\n",
      "(21462, 72) (21462,)\n",
      "[[   0 7154]\n",
      " [   1 7154]\n",
      " [   2 7154]]\n"
     ]
    }
   ],
   "source": [
    "print(X_test.shape,y_test.shape)\n",
    "get_numpy_value_counts(y_test)\n",
    "X_test, y_test = balance_dataset_with_smote(X_test, y_test)\n",
    "print(X_test.shape,y_test.shape)\n",
    "get_numpy_value_counts(y_test)"
   ]
  },
  {
   "cell_type": "code",
   "execution_count": 30,
   "id": "78c35858-c02c-4dd8-961c-c46ace5e6b1a",
   "metadata": {},
   "outputs": [
    {
     "data": {
      "text/plain": [
       "((71852, 26), (71852,), (8981, 26), (8981,), (8983, 26), (8983,))"
      ]
     },
     "execution_count": 30,
     "metadata": {},
     "output_type": "execute_result"
    }
   ],
   "source": [
    "from scripts.train_predict import *\n",
    "\n",
    "# standardise the values and selectKbest\n",
    "scaler = StandardScaler()\n",
    "pca = PCA(n_components = 0.95)\n",
    "\n",
    "# Fit the scaler on the training data and transform the training data\n",
    "X_train = scaler.fit_transform(X_train)\n",
    "X_train = pca.fit_transform(X_train)\n",
    "\n",
    "# Transform the validation data\n",
    "X_val = scaler.transform(X_val)\n",
    "X_val = pca.transform(X_val)\n",
    "\n",
    "# Transform the test data\n",
    "X_test = scaler.transform(X_test)\n",
    "X_test = pca.transform(X_test)\n",
    "\n",
    "X_train.shape,y_train.shape,X_val.shape,y_val.shape,X_test.shape,y_test.shape"
   ]
  },
  {
   "cell_type": "code",
   "execution_count": 31,
   "id": "2e37f036-a962-40de-9cda-c1dd0426b73e",
   "metadata": {},
   "outputs": [
    {
     "data": {
      "text/plain": [
       "(array([ 4.06437851, -0.93924102, -1.0004093 , -1.91308759,  0.31886125,\n",
       "        -0.78208201,  1.07155008,  0.96244934, -0.16812404, -1.03498993,\n",
       "         0.10637719, -0.11590096, -0.0431057 ,  0.03599223, -0.0062318 ,\n",
       "         0.66221725,  0.91197256,  0.45912129,  0.22149472, -0.6944986 ,\n",
       "        -0.06879946, -0.55169318,  0.14570435,  0.58660233,  0.11591452,\n",
       "        -0.43853753]),\n",
       " 1)"
      ]
     },
     "execution_count": 31,
     "metadata": {},
     "output_type": "execute_result"
    }
   ],
   "source": [
    "X_train[0],y_train[0]"
   ]
  },
  {
   "cell_type": "code",
   "execution_count": 32,
   "id": "986ca20d-1bb2-4f1b-a64f-03c65d69a901",
   "metadata": {},
   "outputs": [],
   "source": [
    "from sklearn.metrics import accuracy_score\n",
    "\n",
    "def train():\n",
    "    # initialise training params\n",
    "    best_score = float('inf')\n",
    "    best_params = None\n",
    "    best_model = None\n",
    "    \n",
    "\n",
    "    # Define the parameter grid\n",
    "    param_grid = {\n",
    "        # 'hidden_layer_sizes': [(8,), (16,), (32,), (64,), (64,8), (64,16,), (32,8), (16,8), (8,16,), (8,64,)], # Different architectures\n",
    "        # 'activation': ['relu', 'tanh'], # Different activation functions\n",
    "        # 'solver': ['adam', 'sgd'], # Different solvers\n",
    "        # 'alpha': [0.0001, 0.001], # Different regularization terms\n",
    "        # 'learning_rate': ['constant', 'adaptive'], # Different learning rates\n",
    "        # 'hidden_layer_sizes': [(8,64), (8,4), (8,2), (4,2),(2),(1),(4)], # Different architectures\n",
    "        'hidden_layer_sizes': [(32)], # Different architectures\n",
    "        # 'hidden_layer_sizes': [(6, 8, 64, 1), (64, 1)], # Different architectures\n",
    "        # 'hidden_layer_sizes': [(8,64), (16,64), (32,64), (32, 128)], # Different architectures\n",
    "        'activation': ['relu'], # Different activation functions\n",
    "        'solver': ['adam'], # Different solvers\n",
    "        'alpha': [0.0005], # Different regularization terms\n",
    "        'learning_rate': ['adaptive'], # Different learning rates\n",
    "    }\n",
    "\n",
    "    for params in alive_it(ParameterGrid(param_grid)):\n",
    "        model = MLPClassifier(max_iter=1000, **params) # initialise new model before each run\n",
    "        model.fit(X_train, y_train)\n",
    "        y_pred = model.predict(X_val)\n",
    "        # score = model.score(y_val, y_pred)\n",
    "        score,y_pred = predict(model,X_val,y_val)\n",
    "        \n",
    "        if score < best_score:\n",
    "            best_score = score\n",
    "            best_params = params\n",
    "            best_model = model\n",
    "            print(f\"score: {round(best_score,7)}\")\n",
    "            # print(f\"score: {round(best_score,7)}, params: {best_params}\")\n",
    "\n",
    "    print(f\"Best parameters found: {best_params}\")\n",
    "    print(f\"Best validation score: {round(best_score,5)}\")\n",
    "\n",
    "    return best_model, best_params, best_score, X_test, y_test\n",
    "\n",
    "def predict(best_model, X_test, y_test):\n",
    "    y_pred = best_model.predict(X_test)\n",
    "    acc = accuracy_score(y_test, y_pred)\n",
    "    \n",
    "    return acc,y_pred\n",
    "\n",
    "def train_predict():\n",
    "    best_model, best_params, best_score, X_test, y_test = train()\n",
    "    acc,y_pred = predict(best_model, X_test, y_test)\n",
    "    \n",
    "    return best_model, best_params, best_score, acc, y_pred"
   ]
  },
  {
   "cell_type": "code",
   "execution_count": 33,
   "id": "66de31bd-6ca8-47ea-96f2-4fbc45efeb60",
   "metadata": {},
   "outputs": [
    {
     "name": "stdout",
     "output_type": "stream",
     "text": [
      "on 0: score: 0.8101548\n",
      "|████████████████████████████████████████| 1/1 [100%] in 5.0s (0.20/s) \n",
      "Best parameters found: {'activation': 'relu', 'alpha': 0.0005, 'hidden_layer_sizes': 32, 'learning_rate': 'adaptive', 'solver': 'adam'}\n",
      "Best validation score: 0.81015\n"
     ]
    }
   ],
   "source": [
    "best_model, best_params, best_score, acc, y_pred = train_predict()"
   ]
  },
  {
   "cell_type": "code",
   "execution_count": 34,
   "id": "340be202-79c4-42ea-9be5-8596b76c8b47",
   "metadata": {},
   "outputs": [
    {
     "name": "stdout",
     "output_type": "stream",
     "text": [
      "accuracy: 79.56\n"
     ]
    },
    {
     "data": {
      "image/png": "[encoded data removed]",
      "text/plain": [
       "<Figure size 640x480 with 2 Axes>"
      ]
     },
     "metadata": {},
     "output_type": "display_data"
    }
   ],
   "source": [
    "from sklearn.metrics import confusion_matrix, ConfusionMatrixDisplay\n",
    "\n",
    "print(f\"accuracy: {round(acc*100,2)}\")\n",
    "labels = ['sell', 'hold', 'buy']\n",
    "cm = confusion_matrix(y_test, y_pred)\n",
    "disp = ConfusionMatrixDisplay(confusion_matrix=cm,\n",
    "                              display_labels=labels)\n",
    "disp.plot()\n",
    "plt.show()"
   ]
  },
  {
   "cell_type": "code",
   "execution_count": 75,
   "id": "f9ef2cb5-355f-412a-9cf3-fdc2d8e57f13",
   "metadata": {},
   "outputs": [
    {
     "data": {
      "text/plain": [
       "Target\n",
       "1    71824\n",
       "0     8996\n",
       "2     8996\n",
       "Name: count, dtype: int64"
      ]
     },
     "execution_count": 75,
     "metadata": {},
     "output_type": "execute_result"
    }
   ],
   "source": [
    "df.Target.value_counts()"
   ]
  },
  {
   "cell_type": "markdown",
   "id": "761ca42c-c7ca-47a2-b97f-938df58685c5",
   "metadata": {
    "jp-MarkdownHeadingCollapsed": true
   },
   "source": [
    "# use model to predict on individual stocks"
   ]
  },
  {
   "cell_type": "code",
   "execution_count": 36,
   "id": "10352a12-e8c0-4d6f-a3c4-68e9eaea21c8",
   "metadata": {},
   "outputs": [
    {
     "data": {
      "text/html": [
       "<style>#sk-container-id-1 {color: black;}#sk-container-id-1 pre{padding: 0;}#sk-container-id-1 div.sk-toggleable {background-color: white;}#sk-container-id-1 label.sk-toggleable__label {cursor: pointer;display: block;width: 100%;margin-bottom: 0;padding: 0.3em;box-sizing: border-box;text-align: center;}#sk-container-id-1 label.sk-toggleable__label-arrow:before {content: \"▸\";float: left;margin-right: 0.25em;color: #696969;}#sk-container-id-1 label.sk-toggleable__label-arrow:hover:before {color: black;}#sk-container-id-1 div.sk-estimator:hover label.sk-toggleable__label-arrow:before {color: black;}#sk-container-id-1 div.sk-toggleable__content {max-height: 0;max-width: 0;overflow: hidden;text-align: left;background-color: #f0f8ff;}#sk-container-id-1 div.sk-toggleable__content pre {margin: 0.2em;color: black;border-radius: 0.25em;background-color: #f0f8ff;}#sk-container-id-1 input.sk-toggleable__control:checked~div.sk-toggleable__content {max-height: 200px;max-width: 100%;overflow: auto;}#sk-container-id-1 input.sk-toggleable__control:checked~label.sk-toggleable__label-arrow:before {content: \"▾\";}#sk-container-id-1 div.sk-estimator input.sk-toggleable__control:checked~label.sk-toggleable__label {background-color: #d4ebff;}#sk-container-id-1 div.sk-label input.sk-toggleable__control:checked~label.sk-toggleable__label {background-color: #d4ebff;}#sk-container-id-1 input.sk-hidden--visually {border: 0;clip: rect(1px 1px 1px 1px);clip: rect(1px, 1px, 1px, 1px);height: 1px;margin: -1px;overflow: hidden;padding: 0;position: absolute;width: 1px;}#sk-container-id-1 div.sk-estimator {font-family: monospace;background-color: #f0f8ff;border: 1px dotted black;border-radius: 0.25em;box-sizing: border-box;margin-bottom: 0.5em;}#sk-container-id-1 div.sk-estimator:hover {background-color: #d4ebff;}#sk-container-id-1 div.sk-parallel-item::after {content: \"\";width: 100%;border-bottom: 1px solid gray;flex-grow: 1;}#sk-container-id-1 div.sk-label:hover label.sk-toggleable__label {background-color: #d4ebff;}#sk-container-id-1 div.sk-serial::before {content: \"\";position: absolute;border-left: 1px solid gray;box-sizing: border-box;top: 0;bottom: 0;left: 50%;z-index: 0;}#sk-container-id-1 div.sk-serial {display: flex;flex-direction: column;align-items: center;background-color: white;padding-right: 0.2em;padding-left: 0.2em;position: relative;}#sk-container-id-1 div.sk-item {position: relative;z-index: 1;}#sk-container-id-1 div.sk-parallel {display: flex;align-items: stretch;justify-content: center;background-color: white;position: relative;}#sk-container-id-1 div.sk-item::before, #sk-container-id-1 div.sk-parallel-item::before {content: \"\";position: absolute;border-left: 1px solid gray;box-sizing: border-box;top: 0;bottom: 0;left: 50%;z-index: -1;}#sk-container-id-1 div.sk-parallel-item {display: flex;flex-direction: column;z-index: 1;position: relative;background-color: white;}#sk-container-id-1 div.sk-parallel-item:first-child::after {align-self: flex-end;width: 50%;}#sk-container-id-1 div.sk-parallel-item:last-child::after {align-self: flex-start;width: 50%;}#sk-container-id-1 div.sk-parallel-item:only-child::after {width: 0;}#sk-container-id-1 div.sk-dashed-wrapped {border: 1px dashed gray;margin: 0 0.4em 0.5em 0.4em;box-sizing: border-box;padding-bottom: 0.4em;background-color: white;}#sk-container-id-1 div.sk-label label {font-family: monospace;font-weight: bold;display: inline-block;line-height: 1.2em;}#sk-container-id-1 div.sk-label-container {text-align: center;}#sk-container-id-1 div.sk-container {/* jupyter's `normalize.less` sets `[hidden] { display: none; }` but bootstrap.min.css set `[hidden] { display: none !important; }` so we also need the `!important` here to be able to override the default hidden behavior on the sphinx rendered scikit-learn.org. See: https://github.com/scikit-learn/scikit-learn/issues/21755 */display: inline-block !important;position: relative;}#sk-container-id-1 div.sk-text-repr-fallback {display: none;}</style><div id=\"sk-container-id-1\" class=\"sk-top-container\"><div class=\"sk-text-repr-fallback\"><pre>MLPClassifier(alpha=0.0005, hidden_layer_sizes=32, learning_rate=&#x27;adaptive&#x27;,\n",
       "              max_iter=1000)</pre><b>In a Jupyter environment, please rerun this cell to show the HTML representation or trust the notebook. <br />On GitHub, the HTML representation is unable to render, please try loading this page with nbviewer.org.</b></div><div class=\"sk-container\" hidden><div class=\"sk-item\"><div class=\"sk-estimator sk-toggleable\"><input class=\"sk-toggleable__control sk-hidden--visually\" id=\"sk-estimator-id-1\" type=\"checkbox\" checked><label for=\"sk-estimator-id-1\" class=\"sk-toggleable__label sk-toggleable__label-arrow\">MLPClassifier</label><div class=\"sk-toggleable__content\"><pre>MLPClassifier(alpha=0.0005, hidden_layer_sizes=32, learning_rate=&#x27;adaptive&#x27;,\n",
       "              max_iter=1000)</pre></div></div></div></div></div>"
      ],
      "text/plain": [
       "MLPClassifier(alpha=0.0005, hidden_layer_sizes=32, learning_rate='adaptive',\n",
       "              max_iter=1000)"
      ]
     },
     "execution_count": 36,
     "metadata": {},
     "output_type": "execute_result"
    }
   ],
   "source": [
    "best_model"
   ]
  },
  {
   "cell_type": "code",
   "execution_count": 37,
   "id": "041ba8b2-f29a-4ea1-9ba3-2a310f6d4848",
   "metadata": {},
   "outputs": [
    {
     "name": "stdout",
     "output_type": "stream",
     "text": [
      "META: 73.9\n",
      "MRVL: 75.5\n",
      "ABNB: 84.34\n",
      "TTD: 75.9\n",
      "AMAT: 67.47\n",
      "WDAY: 77.11\n",
      "SNPS: 68.67\n",
      "AMZN: 74.7\n",
      "AMD: 70.68\n",
      "PDD: 78.31\n",
      "DASH: 74.7\n",
      "MU: 62.25\n",
      "MDB: 75.9\n",
      "CPRT: 74.3\n",
      "PANW: 75.1\n",
      "DDOG: 75.9\n",
      "BKNG: 81.12\n",
      "AVGO: 63.45\n",
      "CRWD: 66.27\n",
      "TEAM: 80.32\n",
      "CDNS: 73.49\n",
      "ADBE: 73.49\n",
      "TSLA: 73.9\n",
      "ZS: 74.7\n",
      "SMCI: 73.79\n",
      "INTC: 81.85\n",
      "LRCX: 68.95\n",
      "INTU: 72.98\n",
      "MSFT: 73.39\n",
      "NVDA: 66.94\n",
      "MELI: 75.4\n",
      "MRNA: 70.56\n",
      "III.L: 75.66\n",
      "RR.L: 76.54\n",
      "MKS.L: 77.42\n"
     ]
    }
   ],
   "source": [
    "for stock_name in test_df.stock_name.unique():\n",
    "    stock_df = test_df[test_df['stock_name']==stock_name]\n",
    "    stock_X_test = stock_df[features].to_numpy()\n",
    "    stock_y_test = stock_df[target].to_numpy()\n",
    "    # print(stock_X_test.shape,stock_y_test.shape)\n",
    "\n",
    "    stock_X_test = pca.transform(stock_X_test)\n",
    "    # print(stock_X_test.shape,stock_y_test.shape)\n",
    "\n",
    "    stock_preds = best_model.predict(stock_X_test)\n",
    "    acc = accuracy_score(stock_y_test, stock_preds)\n",
    "\n",
    "    print(f\"{stock_name}: {round(acc*100,2)}\")"
   ]
  },
  {
   "cell_type": "code",
   "execution_count": null,
   "id": "8fd0034f-615f-40d1-8dfa-7a55e66394ae",
   "metadata": {},
   "outputs": [],
   "source": []
  }
 ],
 "metadata": {
  "kernelspec": {
   "display_name": "dsa5205-env",
   "language": "python",
   "name": "dsa5205-env"
  },
  "language_info": {
   "codemirror_mode": {
    "name": "ipython",
    "version": 3
   },
   "file_extension": ".py",
   "mimetype": "text/x-python",
   "name": "python",
   "nbconvert_exporter": "python",
   "pygments_lexer": "ipython3",
   "version": "3.9.6"
  }
 },
 "nbformat": 4,
 "nbformat_minor": 5
}
