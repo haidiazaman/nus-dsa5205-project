{
 "cells": [
  {
   "cell_type": "code",
   "execution_count": 6,
   "metadata": {},
   "outputs": [
    {
     "name": "stderr",
     "output_type": "stream",
     "text": [
      "/Users/I748920/Library/Python/3.9/lib/python/site-packages/urllib3/__init__.py:35: NotOpenSSLWarning: urllib3 v2 only supports OpenSSL 1.1.1+, currently the 'ssl' module is compiled with 'LibreSSL 2.8.3'. See: https://github.com/urllib3/urllib3/issues/3020\n",
      "  warnings.warn(\n"
     ]
    }
   ],
   "source": [
    "# Standard library imports\n",
    "from datetime import datetime, timedelta\n",
    "\n",
    "# Third-party library imports\n",
    "import numpy as np\n",
    "import pandas as pd\n",
    "import matplotlib.pyplot as plt\n",
    "import requests\n",
    "from bs4 import BeautifulSoup\n",
    "import yfinance as yf\n",
    "\n",
    "# Scikit-learn imports\n",
    "from sklearn.model_selection import train_test_split, cross_val_score\n",
    "from sklearn.decomposition import PCA, KernelPCA\n",
    "from sklearn.preprocessing import StandardScaler\n",
    "from sklearn.tree import DecisionTreeClassifier\n",
    "from sklearn.neural_network import MLPClassifier\n",
    "from sklearn.neighbors import KNeighborsClassifier\n",
    "\n",
    "import time\n",
    "\n",
    "from scripts.get_top_stocks import *\n",
    "from scripts.generate_dataset_features import *\n",
    "from scripts.utils import *\n",
    "from scripts.dataloader import *\n",
    "from scripts.train_predict import *\n",
    "from scripts.models import *"
   ]
  },
  {
   "cell_type": "markdown",
   "metadata": {
    "jp-MarkdownHeadingCollapsed": true
   },
   "source": [
    "# mnist dataset"
   ]
  },
  {
   "cell_type": "code",
   "execution_count": 8,
   "metadata": {
    "scrolled": true
   },
   "outputs": [],
   "source": [
    "import torch\n",
    "from torchvision import datasets, transforms\n",
    "from torch.utils.data import DataLoader,random_split\n",
    "\n",
    "# Define transformations for the training and testing sets\n",
    "transform = transforms.Compose([\n",
    "    transforms.ToTensor(),\n",
    "    transforms.Normalize((0.1307,), (0.3081,))  # Normalizing with mean and std of the MNIST dataset\n",
    "])\n",
    "\n",
    "# Load the training and test datasets\n",
    "train_dataset = datasets.MNIST(root='./data', train=True, download=True, transform=transform)\n",
    "test_dataset = datasets.MNIST(root='./data', train=False, download=True, transform=transform)"
   ]
  },
  {
   "cell_type": "code",
   "execution_count": 9,
   "metadata": {},
   "outputs": [
    {
     "data": {
      "text/plain": [
       "(48000, 12000, 10000)"
      ]
     },
     "execution_count": 9,
     "metadata": {},
     "output_type": "execute_result"
    }
   ],
   "source": [
    "train_size = int(0.8 * len(train_dataset))\n",
    "val_size = len(train_dataset) - train_size\n",
    "train_dataset, val_dataset = random_split(train_dataset, [train_size, val_size])\n",
    "\n",
    "train_dataset.__len__(),val_dataset.__len__(),test_dataset.__len__()"
   ]
  },
  {
   "cell_type": "code",
   "execution_count": 10,
   "metadata": {},
   "outputs": [
    {
     "name": "stdout",
     "output_type": "stream",
     "text": [
      "Batch 1\n",
      "Data shape: torch.Size([64, 1, 28, 28])\n",
      "Target shape: torch.Size([64])\n",
      "Number of training batches: 750\n",
      "Number of test batches: 10\n"
     ]
    }
   ],
   "source": [
    "# Create DataLoader objects\n",
    "train_loader = DataLoader(dataset=train_dataset, batch_size=64, shuffle=True)\n",
    "val_loader = DataLoader(dataset=val_dataset, batch_size=64, shuffle=False)\n",
    "test_loader = DataLoader(dataset=test_dataset, batch_size=1000, shuffle=False)\n",
    "\n",
    "# Example: Iterate through the DataLoader\n",
    "for batch_idx, (data, target) in enumerate(train_loader):\n",
    "    print(f\"Batch {batch_idx + 1}\")\n",
    "    print(f\"Data shape: {data.shape}\")\n",
    "    print(f\"Target shape: {target.shape}\")\n",
    "    break  # Just to demonstrate, breaking after the first batch\n",
    "\n",
    "# Check the number of batches\n",
    "print(f\"Number of training batches: {len(train_loader)}\")\n",
    "print(f\"Number of test batches: {len(test_loader)}\")"
   ]
  },
  {
   "cell_type": "markdown",
   "metadata": {
    "jp-MarkdownHeadingCollapsed": true
   },
   "source": [
    "# pytorch model"
   ]
  },
  {
   "cell_type": "code",
   "execution_count": 12,
   "metadata": {
    "scrolled": true
   },
   "outputs": [
    {
     "name": "stdout",
     "output_type": "stream",
     "text": [
      "epoch 0\n",
      "model epoch 0 saved as fcn.pt\n",
      "Epoch 1/100, train loss: 0.3531, val loss: 0.2038, time_taken: 5.1\n",
      "train acc: 89.58, val_acc: 93.86\n",
      "epoch 1\n",
      "model epoch 1 saved as fcn.pt\n",
      "Epoch 2/100, train loss: 0.2366, val loss: 0.1744, time_taken: 4.8\n",
      "train acc: 93.0, val_acc: 94.64\n",
      "epoch 2\n",
      "model epoch 2 saved as fcn.pt\n",
      "Epoch 3/100, train loss: 0.1985, val loss: 0.1364, time_taken: 4.8\n",
      "train acc: 94.03, val_acc: 95.89\n",
      "epoch 3\n",
      "model epoch 3 saved as fcn.pt\n",
      "Epoch 4/100, train loss: 0.1760, val loss: 0.1276, time_taken: 4.7\n",
      "train acc: 94.53, val_acc: 96.19\n",
      "epoch 4\n",
      "model epoch 4 saved as fcn.pt\n",
      "Epoch 5/100, train loss: 0.1563, val loss: 0.1130, time_taken: 4.5\n",
      "train acc: 95.25, val_acc: 96.49\n",
      "epoch 5\n",
      "model epoch 5 saved as fcn.pt\n",
      "Epoch 6/100, train loss: 0.1458, val loss: 0.1081, time_taken: 4.6\n",
      "train acc: 95.44, val_acc: 96.81\n",
      "epoch 6\n",
      "model epoch 6 saved as fcn.pt\n",
      "Epoch 7/100, train loss: 0.1303, val loss: 0.1014, time_taken: 5.1\n",
      "train acc: 95.94, val_acc: 97.07\n",
      "epoch 7\n",
      "model epoch 7 saved as fcn.pt\n",
      "Epoch 8/100, train loss: 0.1205, val loss: 0.0953, time_taken: 5.1\n",
      "train acc: 96.22, val_acc: 97.22\n",
      "epoch 8\n",
      "model epoch 8 saved as fcn.pt\n",
      "Epoch 9/100, train loss: 0.1131, val loss: 0.0923, time_taken: 4.9\n",
      "train acc: 96.36, val_acc: 97.32\n",
      "epoch 9\n",
      "model epoch 9 saved as fcn.pt\n",
      "Epoch 10/100, train loss: 0.1037, val loss: 0.0920, time_taken: 4.9\n",
      "train acc: 96.62, val_acc: 97.43\n",
      "epoch 10\n",
      "model epoch 10 saved as fcn.pt\n",
      "Epoch 11/100, train loss: 0.0983, val loss: 0.0907, time_taken: 4.9\n",
      "train acc: 96.82, val_acc: 97.41\n",
      "epoch 11\n",
      "model epoch 11 saved as fcn.pt\n",
      "Epoch 12/100, train loss: 0.0918, val loss: 0.0891, time_taken: 4.7\n",
      "train acc: 97.01, val_acc: 97.38\n",
      "epoch 12\n",
      "model epoch 12 saved as fcn.pt\n",
      "Epoch 13/100, train loss: 0.0876, val loss: 0.0856, time_taken: 5.2\n",
      "train acc: 97.13, val_acc: 97.5\n",
      "epoch 13\n",
      "Epoch 14/100, train loss: 0.0838, val loss: 0.0875, time_taken: 5.1\n",
      "train acc: 97.36, val_acc: 97.52\n",
      "epoch 14\n",
      "model epoch 14 saved as fcn.pt\n",
      "Epoch 15/100, train loss: 0.0780, val loss: 0.0835, time_taken: 5.0\n",
      "train acc: 97.49, val_acc: 97.67\n",
      "epoch 15\n",
      "Epoch 16/100, train loss: 0.0759, val loss: 0.0840, time_taken: 5.0\n",
      "train acc: 97.47, val_acc: 97.79\n",
      "epoch 16\n",
      "model epoch 16 saved as fcn.pt\n",
      "Epoch 17/100, train loss: 0.0722, val loss: 0.0796, time_taken: 4.9\n",
      "train acc: 97.59, val_acc: 97.68\n",
      "epoch 17\n",
      "Epoch 18/100, train loss: 0.0693, val loss: 0.0845, time_taken: 4.5\n",
      "train acc: 97.74, val_acc: 97.76\n",
      "epoch 18\n",
      "model epoch 18 saved as fcn.pt\n",
      "Epoch 19/100, train loss: 0.0662, val loss: 0.0788, time_taken: 4.9\n",
      "train acc: 97.8, val_acc: 97.81\n",
      "epoch 19\n",
      "Epoch 20/100, train loss: 0.0658, val loss: 0.0843, time_taken: 5.1\n",
      "train acc: 97.76, val_acc: 97.69\n",
      "epoch 20\n",
      "Epoch 21/100, train loss: 0.0639, val loss: 0.0843, time_taken: 4.7\n",
      "train acc: 97.81, val_acc: 97.7\n",
      "epoch 21\n",
      "model epoch 21 saved as fcn.pt\n",
      "Epoch 22/100, train loss: 0.0574, val loss: 0.0727, time_taken: 4.7\n",
      "train acc: 98.07, val_acc: 98.01\n",
      "epoch 22\n",
      "Epoch 23/100, train loss: 0.0557, val loss: 0.0760, time_taken: 4.8\n",
      "train acc: 98.16, val_acc: 98.14\n",
      "epoch 23\n",
      "Epoch 24/100, train loss: 0.0563, val loss: 0.0812, time_taken: 4.6\n",
      "train acc: 98.12, val_acc: 97.86\n",
      "epoch 24\n",
      "Epoch 25/100, train loss: 0.0557, val loss: 0.0822, time_taken: 4.6\n",
      "train acc: 98.14, val_acc: 97.91\n",
      "epoch 25\n",
      "Epoch 26/100, train loss: 0.0511, val loss: 0.0820, time_taken: 4.9\n",
      "train acc: 98.37, val_acc: 97.86\n",
      "epoch 26\n",
      "Epoch 27/100, train loss: 0.0402, val loss: 0.0744, time_taken: 4.8\n",
      "train acc: 98.56, val_acc: 98.16\n",
      "epoch 27\n",
      "Epoch 28/100, train loss: 0.0358, val loss: 0.0765, time_taken: 4.8\n",
      "train acc: 98.79, val_acc: 98.13\n",
      "epoch 28\n",
      "Epoch 29/100, train loss: 0.0328, val loss: 0.0789, time_taken: 5.0\n",
      "train acc: 98.9, val_acc: 97.97\n",
      "epoch 29\n",
      "Epoch 30/100, train loss: 0.0326, val loss: 0.0787, time_taken: 4.8\n",
      "train acc: 98.91, val_acc: 98.05\n",
      "epoch 30\n",
      "Epoch 31/100, train loss: 0.0297, val loss: 0.0762, time_taken: 4.6\n",
      "train acc: 98.98, val_acc: 98.15\n",
      "epoch 31\n",
      "Early stopping!\n"
     ]
    },
    {
     "data": {
      "image/png": "[encoded data removed]",
      "text/plain": [
       "<Figure size 1000x600 with 2 Axes>"
      ]
     },
     "metadata": {},
     "output_type": "display_data"
    }
   ],
   "source": [
    "# define model inputs\n",
    "\n",
    "device = torch.device('cpu')\n",
    "lr= 1e-3\n",
    "epochs = 100\n",
    "scheduler_factor=0.5\n",
    "scheduler_patience=3\n",
    "early_stopping_limit = 10\n",
    "class_weights = []\n",
    "criterion = 'cross'\n",
    "num_features = 784\n",
    "num_classes = 10\n",
    "\n",
    "model, train_losses, val_losses, train_accs, val_accs = train(\n",
    "    device=device,\n",
    "    lr=lr,\n",
    "    epochs=epochs,\n",
    "    scheduler_factor=scheduler_factor,\n",
    "    scheduler_patience=scheduler_patience,\n",
    "    early_stopping_limit=early_stopping_limit,\n",
    "    class_weights=class_weights,\n",
    "    criterion=criterion,\n",
    "    train_loader=train_loader,\n",
    "    val_loader=val_loader,\n",
    "    num_features=num_features,\n",
    "    num_classes=num_classes,\n",
    ")\n",
    "plot_loss_acc(train_losses, val_losses, train_accs, val_accs)"
   ]
  },
  {
   "cell_type": "code",
   "execution_count": 24,
   "metadata": {},
   "outputs": [
    {
     "data": {
      "text/plain": [
       "FCN(\n",
       "  (f): Flatten(start_dim=1, end_dim=-1)\n",
       "  (fcn): Sequential(\n",
       "    (0): Linear(in_features=784, out_features=1024, bias=True)\n",
       "    (1): BatchNorm1d(1024, eps=1e-05, momentum=0.1, affine=True, track_running_stats=True)\n",
       "    (2): Tanh()\n",
       "    (3): Dropout(p=0.5, inplace=False)\n",
       "    (4): Linear(in_features=1024, out_features=256, bias=True)\n",
       "    (5): BatchNorm1d(256, eps=1e-05, momentum=0.1, affine=True, track_running_stats=True)\n",
       "    (6): Tanh()\n",
       "    (7): Dropout(p=0.5, inplace=False)\n",
       "    (8): Linear(in_features=256, out_features=10, bias=True)\n",
       "  )\n",
       ")"
      ]
     },
     "execution_count": 24,
     "metadata": {},
     "output_type": "execute_result"
    }
   ],
   "source": [
    "model"
   ]
  },
  {
   "cell_type": "code",
   "execution_count": 26,
   "metadata": {},
   "outputs": [
    {
     "name": "stdout",
     "output_type": "stream",
     "text": [
      "0.9825\n"
     ]
    }
   ],
   "source": [
    "model.eval()\n",
    "\n",
    "# Initialize variables to store the number of correct predictions and the total number of predictions\n",
    "correct = 0\n",
    "total = 0\n",
    "\n",
    "# Disable gradient calculations for evaluation\n",
    "with torch.no_grad():\n",
    "    for data, target in test_loader:\n",
    "        data, target = data.to(device), target.to(device)\n",
    "        outputs = model(data)\n",
    "        _, predicted = torch.max(outputs.data, 1)\n",
    "        total += target.size(0)\n",
    "        correct += (predicted == target).sum().item()\n",
    "\n",
    "print(correct/total)"
   ]
  },
  {
   "cell_type": "code",
   "execution_count": null,
   "metadata": {},
   "outputs": [],
   "source": []
  }
 ],
 "metadata": {
  "kernelspec": {
   "display_name": "dsa5205-env",
   "language": "python",
   "name": "dsa5205-env"
  },
  "language_info": {
   "codemirror_mode": {
    "name": "ipython",
    "version": 3
   },
   "file_extension": ".py",
   "mimetype": "text/x-python",
   "name": "python",
   "nbconvert_exporter": "python",
   "pygments_lexer": "ipython3",
   "version": "3.9.6"
  }
 },
 "nbformat": 4,
 "nbformat_minor": 4
}
